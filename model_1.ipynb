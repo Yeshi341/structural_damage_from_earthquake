{
 "cells": [
  {
   "cell_type": "code",
   "execution_count": 1,
   "metadata": {},
   "outputs": [],
   "source": [
    "# Importing necessary libraries\n",
    "import pandas as pd\n",
    "import numpy as np\n",
    "import matplotlib.pyplot as plt\n",
    "%matplotlib inline\n",
    "import seaborn as sns\n",
    "\n",
    "from sklearn.model_selection import train_test_split\n",
    "from sklearn.linear_model import LogisticRegression\n",
    "from sklearn import metrics"
   ]
  },
  {
   "cell_type": "code",
   "execution_count": 2,
   "metadata": {},
   "outputs": [],
   "source": [
    "building_df = pd.read_pickle('data/pickles/building_df.pkl')"
   ]
  },
  {
   "cell_type": "code",
   "execution_count": 11,
   "metadata": {},
   "outputs": [
    {
     "name": "stdout",
     "output_type": "stream",
     "text": [
      "<class 'pandas.core.frame.DataFrame'>\n",
      "Int64Index: 762106 entries, 0 to 762105\n",
      "Data columns (total 55 columns):\n",
      "building_id                               762106 non-null int64\n",
      "district_id                               762106 non-null int64\n",
      "vdcmun_id                                 762106 non-null int64\n",
      "ward_id                                   762106 non-null int64\n",
      "count_floors_pre_eq                       762106 non-null int64\n",
      "age_building                              762106 non-null int64\n",
      "plinth_area_sq_ft                         762106 non-null int64\n",
      "height_ft_pre_eq                          762106 non-null int64\n",
      "land_surface_condition                    762106 non-null object\n",
      "foundation_type                           762106 non-null object\n",
      "roof_type                                 762106 non-null object\n",
      "ground_floor_type                         762106 non-null object\n",
      "other_floor_type                          762106 non-null object\n",
      "position                                  762106 non-null object\n",
      "plan_configuration                        762106 non-null object\n",
      "has_superstructure_adobe_mud              762106 non-null int64\n",
      "has_superstructure_mud_mortar_stone       762106 non-null int64\n",
      "has_superstructure_stone_flag             762106 non-null int64\n",
      "has_superstructure_cement_mortar_stone    762106 non-null int64\n",
      "has_superstructure_mud_mortar_brick       762106 non-null int64\n",
      "has_superstructure_cement_mortar_brick    762106 non-null int64\n",
      "has_superstructure_timber                 762106 non-null int64\n",
      "has_superstructure_bamboo                 762106 non-null int64\n",
      "has_superstructure_rc_non_engineered      762106 non-null int64\n",
      "has_superstructure_rc_engineered          762106 non-null int64\n",
      "has_superstructure_other                  762106 non-null int64\n",
      "damage_grade                              762106 non-null object\n",
      "land_surface_condition_num                762106 non-null int64\n",
      "foundation_type_num                       762106 non-null int64\n",
      "roof_type_num                             762106 non-null int64\n",
      "ground_floor_type_num                     762106 non-null int64\n",
      "other_floor_type_num                      762106 non-null int64\n",
      "condition_post_eq_num                     762106 non-null int64\n",
      "target                                    762106 non-null int64\n",
      "has_geotechnical_risk                     762106 non-null int64\n",
      "has_geotechnical_risk_land_settlement     762106 non-null int64\n",
      "has_geotechnical_risk_fault_crack         762106 non-null int64\n",
      "has_geotechnical_risk_liquefaction        762106 non-null int64\n",
      "has_geotechnical_risk_landslide           762106 non-null int64\n",
      "has_geotechnical_risk_rock_fall           762106 non-null int64\n",
      "has_geotechnical_risk_flood               762106 non-null int64\n",
      "has_geotechnical_risk_other               762106 non-null int64\n",
      "legal_ownership_status                    762106 non-null object\n",
      "has_secondary_use                         762106 non-null float64\n",
      "has_secondary_use_agriculture             762106 non-null int64\n",
      "has_secondary_use_hotel                   762106 non-null int64\n",
      "has_secondary_use_rental                  762106 non-null int64\n",
      "has_secondary_use_institution             762106 non-null int64\n",
      "has_secondary_use_school                  762106 non-null int64\n",
      "has_secondary_use_industry                762106 non-null int64\n",
      "has_secondary_use_health_post             762106 non-null int64\n",
      "has_secondary_use_gov_office              762106 non-null int64\n",
      "has_secondary_use_use_police              762106 non-null int64\n",
      "has_secondary_use_other                   762106 non-null int64\n",
      "legal_ownership_status_num                762106 non-null int64\n",
      "dtypes: float64(1), int64(45), object(9)\n",
      "memory usage: 345.6+ MB\n"
     ]
    }
   ],
   "source": [
    "building_df.info()"
   ]
  },
  {
   "cell_type": "code",
   "execution_count": 22,
   "metadata": {},
   "outputs": [],
   "source": [
    "# building_df.columns"
   ]
  },
  {
   "cell_type": "code",
   "execution_count": 4,
   "metadata": {},
   "outputs": [
    {
     "name": "stdout",
     "output_type": "stream",
     "text": [
      "3    60.31\n",
      "1    21.79\n",
      "2    17.90\n",
      "Name: target, dtype: float64\n"
     ]
    },
    {
     "data": {
      "image/png": "[encoded data removed]",
      "text/plain": [
       "<Figure size 360x360 with 1 Axes>"
      ]
     },
     "metadata": {
      "needs_background": "light"
     },
     "output_type": "display_data"
    }
   ],
   "source": [
    "print(round(building_df['target'].value_counts(normalize=True)*100,2))\n",
    "sns.catplot(x=\"target\", kind=\"count\", palette=\"ch:.25\", data=building_df);"
   ]
  },
  {
   "cell_type": "markdown",
   "metadata": {},
   "source": [
    "There is some level of class imbalance. 60% of the buildings in the dataset have severe or Grade 3 damage, while about 22% are buildings of Grade 1 with minor damages and 18% of buildings are of Grade 2 or major damages."
   ]
  },
  {
   "cell_type": "markdown",
   "metadata": {},
   "source": [
    "## Train Test Split for base line model"
   ]
  },
  {
   "cell_type": "code",
   "execution_count": 14,
   "metadata": {},
   "outputs": [
    {
     "name": "stdout",
     "output_type": "stream",
     "text": [
      "Training set - Features:  (609684, 45) Target:  (609684,)\n",
      "Test set - Features:  (152422, 45) Target:  (152422,)\n",
      "============================================ \n",
      "3    0.603185\n",
      "1    0.217613\n",
      "2    0.179203\n",
      "Name: target, dtype: float64\n",
      "3    0.602656\n",
      "1    0.219188\n",
      "2    0.178157\n",
      "Name: target, dtype: float64\n"
     ]
    }
   ],
   "source": [
    "X_droplist = ['target','legal_ownership_status', 'land_surface_condition', 'foundation_type',\n",
    "       'roof_type', 'ground_floor_type', 'other_floor_type', 'damage_grade', 'plan_configuration', 'position']\n",
    "\n",
    "X = building_df.drop(columns=X_droplist)\n",
    "y = building_df['target']\n",
    "\n",
    "#performing train-test split on main dataframe\n",
    "X_train, X_test, y_train, y_test = train_test_split(X, y, random_state=100, test_size=0.2)\n",
    "\n",
    "#checking the shape of the training set and test set\n",
    "print(\"Training set - Features: \", X_train.shape, \"Target: \", y_train.shape,)\n",
    "print(\"Test set - Features: \", X_test.shape, \"Target: \",y_test.shape,)\n",
    "print('============================================ ')\n",
    "print(y_train.value_counts(normalize = True))\n",
    "print(y_test.value_counts(normalize = True))"
   ]
  },
  {
   "cell_type": "code",
   "execution_count": 21,
   "metadata": {},
   "outputs": [
    {
     "name": "stdout",
     "output_type": "stream",
     "text": [
      "Test Accuracy score:  0.6027\n",
      "Train Accuracy score:  0.6032\n",
      "================================\n",
      "Test F1 score:  0.4532\n",
      "Train F1 score:  0.4539\n",
      "================================\n",
      "Test Recall score:  0.6027\n",
      "Train Recall score:  0.6032\n"
     ]
    }
   ],
   "source": [
    "lr1 = LogisticRegression(solver='lbfgs',multi_class='multinomial', random_state=100)\n",
    "\n",
    "lr1.fit(X_train, y_train)\n",
    "\n",
    "y_pred_test = lr1.predict(X_test)\n",
    "y_pred_train = lr1.predict(X_train)\n",
    "\n",
    "# checking accuracy score\n",
    "print('Test Accuracy score: ', round(metrics.accuracy_score(y_test, y_pred_test),4))\n",
    "print('Train Accuracy score: ', round(metrics.accuracy_score(y_train, y_pred_train),4))\n",
    "print('================================')\n",
    "# checking f1 score\n",
    "print('Test F1 score: ', round(metrics.f1_score(y_test, y_pred_test, average='weighted'),4))\n",
    "print('Train F1 score: ', round(metrics.f1_score(y_train, y_pred_train, average='weighted'),4))\n",
    "print('================================')\n",
    "# checking recall score\n",
    "print('Test Recall score: ', round(metrics.recall_score(y_test, y_pred_test, average='weighted'),4))\n",
    "print('Train Recall score: ', round(metrics.recall_score(y_train, y_pred_train, average='weighted'),4))"
   ]
  },
  {
   "cell_type": "code",
   "execution_count": null,
   "metadata": {},
   "outputs": [],
   "source": []
  }
 ],
 "metadata": {
  "kernelspec": {
   "display_name": "learn-env",
   "language": "python",
   "name": "learn-env"
  },
  "language_info": {
   "codemirror_mode": {
    "name": "ipython",
    "version": 3
   },
   "file_extension": ".py",
   "mimetype": "text/x-python",
   "name": "python",
   "nbconvert_exporter": "python",
   "pygments_lexer": "ipython3",
   "version": "3.6.9"
  }
 },
 "nbformat": 4,
 "nbformat_minor": 4
}
