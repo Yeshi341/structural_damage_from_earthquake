{
 "cells": [
  {
   "cell_type": "markdown",
   "metadata": {},
   "source": [
    "# Predicting Structural Damage from an Earthquake\n",
    "**-Lhamu Tsering**"
   ]
  },
  {
   "cell_type": "markdown",
   "metadata": {},
   "source": [
    "## Overview"
   ]
  },
  {
   "cell_type": "markdown",
   "metadata": {},
   "source": [
    "There is a common saying among geologists that earthquakes don’t kill people, buildings kill people. An earthquake occurs with the movement of the earth’s surface. The ground shaking is a result of the sudden release of energy in the earth’s lithosphere as the tectonic plates move against each other [source](https://www.usgs.gov/faqs/what-earthquake-and-what-causes-them-happen?qt-news_science_products=0#qt-news_science_products). The Nepal 2015 earthquake was of 7.8 mag, which caused a lot of destruction and damage. After the earthquake, a survey of the damage was taken, considering individuals affected, buildings damaged and the households affected. The raw [data](https://eq2015.npc.gov.np/#/download) from this survey is used to create machine learning models that will predict building damage severity. "
   ]
  },
  {
   "cell_type": "markdown",
   "metadata": {},
   "source": [
    "## Business Problem"
   ]
  },
  {
   "cell_type": "markdown",
   "metadata": {},
   "source": [
    "9000 people were killed in the 2015 7.8 mag earthquake in Nepal. Over 600,000 buildings were destroyed and the cost of building damages were estimated to be around $5 billion. More facts on the disaster can be found [here](https://www.britannica.com/topic/Nepal-earthquake-of-2015). If building damage can be correctly identified before a quake hits, we can minimize the cost of lives lost and the economic cost of rebuilding after the quake. Once, a building damage severity is predicted the building can be proposed for reinforcement additions. \n",
    "\n",
    "The models resulting here can be used by policy makers in Nepal to not only identify buildings but also tag vulnerable communities so that funds can be appropriated efficiently and the information can be used in crisis management planning, for an earthquake event .\n",
    "The results of this project may also be useful to developers in Nepal, in building appraisals."
   ]
  },
  {
   "cell_type": "markdown",
   "metadata": {},
   "source": [
    "## Data Understanding"
   ]
  },
  {
   "cell_type": "markdown",
   "metadata": {},
   "source": [
    "After the 2015 Nepal Earthquake, survey data was collected on the damaged buildings. The data loaded comes from the 2015 Nepal Earthquake Data [portal](https://eq2015.npc.gov.np/#/download). The data contains information on 762106 buildings. Three datasets are used where each row in the dataset informs about a building."
   ]
  },
  {
   "cell_type": "code",
   "execution_count": 1,
   "metadata": {},
   "outputs": [],
   "source": [
    "# Importing utility functions\n",
    "import pandas as pd\n",
    "import numpy as np\n",
    "import os\n",
    "import sys\n",
    "from sklearn.utils import resample\n",
    "\n",
    "# Importing visualization libraries\n",
    "import matplotlib.pyplot as plt\n",
    "%matplotlib inline\n",
    "# plt.style.use('ggplot')\n",
    "import matplotlib.ticker as ticker\n",
    "import seaborn as sns\n",
    "from sklearn.metrics import plot_confusion_matrix, classification_report\n",
    "\n",
    "#Ignore Warnings\n",
    "import warnings\n",
    "warnings.filterwarnings(\"ignore\")\n",
    "\n",
    "# Importing modeling tools\n",
    "from sklearn.preprocessing import StandardScaler\n",
    "from sklearn import metrics\n",
    "from sklearn.model_selection import train_test_split\n",
    "\n",
    "# Importing sklearn models\n",
    "from sklearn.linear_model import LogisticRegression\n",
    "from sklearn.model_selection import GridSearchCV\n",
    "from sklearn.tree import DecisionTreeClassifier\n",
    "from sklearn.ensemble import RandomForestClassifier\n",
    "\n",
    "# setting config to list all parameters when called\n",
    "from sklearn import set_config\n",
    "set_config(print_changed_only=False)\n",
    "\n",
    "%load_ext autoreload\n",
    "%autoreload 2\n",
    "\n",
    "module_path = os.path.abspath(os.path.join('src'))\n",
    "if module_path not in sys.path:\n",
    "    sys.path.append(module_path)\n",
    "    \n",
    "from nb_modules import model as mod\n",
    "from nb_modules import eda \n",
    "from nb_modules import viz\n",
    "from nb_modules import cleaning_mod as cl"
   ]
  },
  {
   "cell_type": "code",
   "execution_count": 2,
   "metadata": {},
   "outputs": [],
   "source": [
    "# setting options to display all rows and columns\n",
    "pd.set_option('display.max_rows', None)\n",
    "pd.set_option('display.max_columns', None)"
   ]
  },
  {
   "cell_type": "code",
   "execution_count": 18,
   "metadata": {},
   "outputs": [],
   "source": [
    "# Reading csv files to dataframes\n",
    "building_use_df= pd.read_csv('data/extracted/eq_data/csv_building_ownership_and_use.csv')\n",
    "building_structure_df=  pd.read_csv('data/extracted/eq_data/csv_building_structure.csv')\n",
    "building_damage_df= pd.read_csv('data/extracted/eq_data/csv_building_damage_assessment.csv', dtype='unicode')"
   ]
  },
  {
   "cell_type": "code",
   "execution_count": 19,
   "metadata": {},
   "outputs": [
    {
     "name": "stdout",
     "output_type": "stream",
     "text": [
      "building_use_df       : (762106, 17)\n",
      "building_structure_df : (762106, 31)\n",
      "building_damage_df    : (762106, 79)\n"
     ]
    }
   ],
   "source": [
    "print('building_use_df       :', building_use_df.shape)\n",
    "print('building_structure_df :', building_structure_df.shape)\n",
    "print('building_damage_df    :', building_damage_df.shape)"
   ]
  },
  {
   "cell_type": "markdown",
   "metadata": {},
   "source": [
    "The dataset covers information on 762106 damaged buildings. The building use dataset has 17 features, building structure dataset has 31 features and the building damage dataset has 79 features. Below is a preview of the datasets"
   ]
  },
  {
   "cell_type": "code",
   "execution_count": 20,
   "metadata": {},
   "outputs": [
    {
     "data": {
      "text/html": [
       "<div>\n",
       "<style scoped>\n",
       "    .dataframe tbody tr th:only-of-type {\n",
       "        vertical-align: middle;\n",
       "    }\n",
       "\n",
       "    .dataframe tbody tr th {\n",
       "        vertical-align: top;\n",
       "    }\n",
       "\n",
       "    .dataframe thead th {\n",
       "        text-align: right;\n",
       "    }\n",
       "</style>\n",
       "<table border=\"1\" class=\"dataframe\">\n",
       "  <thead>\n",
       "    <tr style=\"text-align: right;\">\n",
       "      <th></th>\n",
       "      <th>building_id</th>\n",
       "      <th>district_id</th>\n",
       "      <th>vdcmun_id</th>\n",
       "      <th>ward_id</th>\n",
       "      <th>legal_ownership_status</th>\n",
       "      <th>count_families</th>\n",
       "      <th>has_secondary_use</th>\n",
       "      <th>has_secondary_use_agriculture</th>\n",
       "      <th>has_secondary_use_hotel</th>\n",
       "      <th>has_secondary_use_rental</th>\n",
       "      <th>has_secondary_use_institution</th>\n",
       "      <th>has_secondary_use_school</th>\n",
       "      <th>has_secondary_use_industry</th>\n",
       "      <th>has_secondary_use_health_post</th>\n",
       "      <th>has_secondary_use_gov_office</th>\n",
       "      <th>has_secondary_use_use_police</th>\n",
       "      <th>has_secondary_use_other</th>\n",
       "    </tr>\n",
       "  </thead>\n",
       "  <tbody>\n",
       "    <tr>\n",
       "      <th>0</th>\n",
       "      <td>120101000011</td>\n",
       "      <td>12</td>\n",
       "      <td>1207</td>\n",
       "      <td>120703</td>\n",
       "      <td>Private</td>\n",
       "      <td>1.0</td>\n",
       "      <td>0.0</td>\n",
       "      <td>0</td>\n",
       "      <td>0</td>\n",
       "      <td>0</td>\n",
       "      <td>0</td>\n",
       "      <td>0</td>\n",
       "      <td>0</td>\n",
       "      <td>0</td>\n",
       "      <td>0</td>\n",
       "      <td>0</td>\n",
       "      <td>0</td>\n",
       "    </tr>\n",
       "    <tr>\n",
       "      <th>1</th>\n",
       "      <td>120101000021</td>\n",
       "      <td>12</td>\n",
       "      <td>1207</td>\n",
       "      <td>120703</td>\n",
       "      <td>Private</td>\n",
       "      <td>1.0</td>\n",
       "      <td>0.0</td>\n",
       "      <td>0</td>\n",
       "      <td>0</td>\n",
       "      <td>0</td>\n",
       "      <td>0</td>\n",
       "      <td>0</td>\n",
       "      <td>0</td>\n",
       "      <td>0</td>\n",
       "      <td>0</td>\n",
       "      <td>0</td>\n",
       "      <td>0</td>\n",
       "    </tr>\n",
       "    <tr>\n",
       "      <th>2</th>\n",
       "      <td>120101000031</td>\n",
       "      <td>12</td>\n",
       "      <td>1207</td>\n",
       "      <td>120703</td>\n",
       "      <td>Private</td>\n",
       "      <td>1.0</td>\n",
       "      <td>0.0</td>\n",
       "      <td>0</td>\n",
       "      <td>0</td>\n",
       "      <td>0</td>\n",
       "      <td>0</td>\n",
       "      <td>0</td>\n",
       "      <td>0</td>\n",
       "      <td>0</td>\n",
       "      <td>0</td>\n",
       "      <td>0</td>\n",
       "      <td>0</td>\n",
       "    </tr>\n",
       "  </tbody>\n",
       "</table>\n",
       "</div>"
      ],
      "text/plain": [
       "    building_id  district_id  vdcmun_id  ward_id legal_ownership_status  \\\n",
       "0  120101000011           12       1207   120703                Private   \n",
       "1  120101000021           12       1207   120703                Private   \n",
       "2  120101000031           12       1207   120703                Private   \n",
       "\n",
       "   count_families  has_secondary_use  has_secondary_use_agriculture  \\\n",
       "0             1.0                0.0                              0   \n",
       "1             1.0                0.0                              0   \n",
       "2             1.0                0.0                              0   \n",
       "\n",
       "   has_secondary_use_hotel  has_secondary_use_rental  \\\n",
       "0                        0                         0   \n",
       "1                        0                         0   \n",
       "2                        0                         0   \n",
       "\n",
       "   has_secondary_use_institution  has_secondary_use_school  \\\n",
       "0                              0                         0   \n",
       "1                              0                         0   \n",
       "2                              0                         0   \n",
       "\n",
       "   has_secondary_use_industry  has_secondary_use_health_post  \\\n",
       "0                           0                              0   \n",
       "1                           0                              0   \n",
       "2                           0                              0   \n",
       "\n",
       "   has_secondary_use_gov_office  has_secondary_use_use_police  \\\n",
       "0                             0                             0   \n",
       "1                             0                             0   \n",
       "2                             0                             0   \n",
       "\n",
       "   has_secondary_use_other  \n",
       "0                        0  \n",
       "1                        0  \n",
       "2                        0  "
      ]
     },
     "execution_count": 20,
     "metadata": {},
     "output_type": "execute_result"
    }
   ],
   "source": [
    "# Preview first three rows of dataset\n",
    "building_use_df.head(3)"
   ]
  },
  {
   "cell_type": "markdown",
   "metadata": {},
   "source": [
    "The building use dataset has features that inform where a building is located, the legal ownership status of the building, how many families lived in the building and whether the building had a secondary use aside ffrom this ownership status."
   ]
  },
  {
   "cell_type": "code",
   "execution_count": 21,
   "metadata": {},
   "outputs": [
    {
     "data": {
      "text/html": [
       "<div>\n",
       "<style scoped>\n",
       "    .dataframe tbody tr th:only-of-type {\n",
       "        vertical-align: middle;\n",
       "    }\n",
       "\n",
       "    .dataframe tbody tr th {\n",
       "        vertical-align: top;\n",
       "    }\n",
       "\n",
       "    .dataframe thead th {\n",
       "        text-align: right;\n",
       "    }\n",
       "</style>\n",
       "<table border=\"1\" class=\"dataframe\">\n",
       "  <thead>\n",
       "    <tr style=\"text-align: right;\">\n",
       "      <th></th>\n",
       "      <th>building_id</th>\n",
       "      <th>district_id</th>\n",
       "      <th>vdcmun_id</th>\n",
       "      <th>ward_id</th>\n",
       "      <th>count_floors_pre_eq</th>\n",
       "      <th>count_floors_post_eq</th>\n",
       "      <th>age_building</th>\n",
       "      <th>plinth_area_sq_ft</th>\n",
       "      <th>height_ft_pre_eq</th>\n",
       "      <th>height_ft_post_eq</th>\n",
       "      <th>land_surface_condition</th>\n",
       "      <th>foundation_type</th>\n",
       "      <th>roof_type</th>\n",
       "      <th>ground_floor_type</th>\n",
       "      <th>other_floor_type</th>\n",
       "      <th>position</th>\n",
       "      <th>plan_configuration</th>\n",
       "      <th>has_superstructure_adobe_mud</th>\n",
       "      <th>has_superstructure_mud_mortar_stone</th>\n",
       "      <th>has_superstructure_stone_flag</th>\n",
       "      <th>has_superstructure_cement_mortar_stone</th>\n",
       "      <th>has_superstructure_mud_mortar_brick</th>\n",
       "      <th>has_superstructure_cement_mortar_brick</th>\n",
       "      <th>has_superstructure_timber</th>\n",
       "      <th>has_superstructure_bamboo</th>\n",
       "      <th>has_superstructure_rc_non_engineered</th>\n",
       "      <th>has_superstructure_rc_engineered</th>\n",
       "      <th>has_superstructure_other</th>\n",
       "      <th>condition_post_eq</th>\n",
       "      <th>damage_grade</th>\n",
       "      <th>technical_solution_proposed</th>\n",
       "    </tr>\n",
       "  </thead>\n",
       "  <tbody>\n",
       "    <tr>\n",
       "      <th>0</th>\n",
       "      <td>120101000011</td>\n",
       "      <td>12</td>\n",
       "      <td>1207</td>\n",
       "      <td>120703</td>\n",
       "      <td>1</td>\n",
       "      <td>1</td>\n",
       "      <td>9</td>\n",
       "      <td>288</td>\n",
       "      <td>9</td>\n",
       "      <td>9</td>\n",
       "      <td>Flat</td>\n",
       "      <td>Other</td>\n",
       "      <td>Bamboo/Timber-Light roof</td>\n",
       "      <td>Mud</td>\n",
       "      <td>Not applicable</td>\n",
       "      <td>Not attached</td>\n",
       "      <td>Rectangular</td>\n",
       "      <td>0</td>\n",
       "      <td>1</td>\n",
       "      <td>0</td>\n",
       "      <td>0</td>\n",
       "      <td>0</td>\n",
       "      <td>0</td>\n",
       "      <td>0</td>\n",
       "      <td>1</td>\n",
       "      <td>0</td>\n",
       "      <td>0</td>\n",
       "      <td>0</td>\n",
       "      <td>Damaged-Used in risk</td>\n",
       "      <td>Grade 3</td>\n",
       "      <td>Major repair</td>\n",
       "    </tr>\n",
       "    <tr>\n",
       "      <th>1</th>\n",
       "      <td>120101000021</td>\n",
       "      <td>12</td>\n",
       "      <td>1207</td>\n",
       "      <td>120703</td>\n",
       "      <td>1</td>\n",
       "      <td>1</td>\n",
       "      <td>15</td>\n",
       "      <td>364</td>\n",
       "      <td>9</td>\n",
       "      <td>9</td>\n",
       "      <td>Flat</td>\n",
       "      <td>Other</td>\n",
       "      <td>Bamboo/Timber-Light roof</td>\n",
       "      <td>Mud</td>\n",
       "      <td>Not applicable</td>\n",
       "      <td>Not attached</td>\n",
       "      <td>Rectangular</td>\n",
       "      <td>0</td>\n",
       "      <td>1</td>\n",
       "      <td>0</td>\n",
       "      <td>0</td>\n",
       "      <td>0</td>\n",
       "      <td>0</td>\n",
       "      <td>0</td>\n",
       "      <td>1</td>\n",
       "      <td>0</td>\n",
       "      <td>0</td>\n",
       "      <td>0</td>\n",
       "      <td>Damaged-Repaired and used</td>\n",
       "      <td>Grade 5</td>\n",
       "      <td>Reconstruction</td>\n",
       "    </tr>\n",
       "    <tr>\n",
       "      <th>2</th>\n",
       "      <td>120101000031</td>\n",
       "      <td>12</td>\n",
       "      <td>1207</td>\n",
       "      <td>120703</td>\n",
       "      <td>1</td>\n",
       "      <td>1</td>\n",
       "      <td>20</td>\n",
       "      <td>384</td>\n",
       "      <td>9</td>\n",
       "      <td>9</td>\n",
       "      <td>Flat</td>\n",
       "      <td>Other</td>\n",
       "      <td>Bamboo/Timber-Light roof</td>\n",
       "      <td>Mud</td>\n",
       "      <td>Not applicable</td>\n",
       "      <td>Not attached</td>\n",
       "      <td>Rectangular</td>\n",
       "      <td>0</td>\n",
       "      <td>1</td>\n",
       "      <td>0</td>\n",
       "      <td>0</td>\n",
       "      <td>0</td>\n",
       "      <td>0</td>\n",
       "      <td>0</td>\n",
       "      <td>0</td>\n",
       "      <td>0</td>\n",
       "      <td>0</td>\n",
       "      <td>0</td>\n",
       "      <td>Damaged-Repaired and used</td>\n",
       "      <td>Grade 2</td>\n",
       "      <td>Minor repair</td>\n",
       "    </tr>\n",
       "  </tbody>\n",
       "</table>\n",
       "</div>"
      ],
      "text/plain": [
       "    building_id  district_id  vdcmun_id  ward_id  count_floors_pre_eq  \\\n",
       "0  120101000011           12       1207   120703                    1   \n",
       "1  120101000021           12       1207   120703                    1   \n",
       "2  120101000031           12       1207   120703                    1   \n",
       "\n",
       "   count_floors_post_eq  age_building  plinth_area_sq_ft  height_ft_pre_eq  \\\n",
       "0                     1             9                288                 9   \n",
       "1                     1            15                364                 9   \n",
       "2                     1            20                384                 9   \n",
       "\n",
       "   height_ft_post_eq land_surface_condition foundation_type  \\\n",
       "0                  9                   Flat           Other   \n",
       "1                  9                   Flat           Other   \n",
       "2                  9                   Flat           Other   \n",
       "\n",
       "                  roof_type ground_floor_type other_floor_type      position  \\\n",
       "0  Bamboo/Timber-Light roof               Mud   Not applicable  Not attached   \n",
       "1  Bamboo/Timber-Light roof               Mud   Not applicable  Not attached   \n",
       "2  Bamboo/Timber-Light roof               Mud   Not applicable  Not attached   \n",
       "\n",
       "  plan_configuration  has_superstructure_adobe_mud  \\\n",
       "0        Rectangular                             0   \n",
       "1        Rectangular                             0   \n",
       "2        Rectangular                             0   \n",
       "\n",
       "   has_superstructure_mud_mortar_stone  has_superstructure_stone_flag  \\\n",
       "0                                    1                              0   \n",
       "1                                    1                              0   \n",
       "2                                    1                              0   \n",
       "\n",
       "   has_superstructure_cement_mortar_stone  \\\n",
       "0                                       0   \n",
       "1                                       0   \n",
       "2                                       0   \n",
       "\n",
       "   has_superstructure_mud_mortar_brick  \\\n",
       "0                                    0   \n",
       "1                                    0   \n",
       "2                                    0   \n",
       "\n",
       "   has_superstructure_cement_mortar_brick  has_superstructure_timber  \\\n",
       "0                                       0                          0   \n",
       "1                                       0                          0   \n",
       "2                                       0                          0   \n",
       "\n",
       "   has_superstructure_bamboo  has_superstructure_rc_non_engineered  \\\n",
       "0                          1                                     0   \n",
       "1                          1                                     0   \n",
       "2                          0                                     0   \n",
       "\n",
       "   has_superstructure_rc_engineered  has_superstructure_other  \\\n",
       "0                                 0                         0   \n",
       "1                                 0                         0   \n",
       "2                                 0                         0   \n",
       "\n",
       "           condition_post_eq damage_grade technical_solution_proposed  \n",
       "0       Damaged-Used in risk      Grade 3                Major repair  \n",
       "1  Damaged-Repaired and used      Grade 5              Reconstruction  \n",
       "2  Damaged-Repaired and used      Grade 2                Minor repair  "
      ]
     },
     "execution_count": 21,
     "metadata": {},
     "output_type": "execute_result"
    }
   ],
   "source": [
    "# Preview first three rows of dataset\n",
    "building_structure_df.head(3)"
   ]
  },
  {
   "cell_type": "markdown",
   "metadata": {},
   "source": [
    "The building structure dataset has features that inform about the structural aspects of a building. The features include the age of a building, how high the building stands, the types of roofing, foundation, ground floor and also the land surface condition. Going forward this dataset forms the bulk of the main modeling dataframe."
   ]
  },
  {
   "cell_type": "code",
   "execution_count": 22,
   "metadata": {},
   "outputs": [
    {
     "data": {
      "text/html": [
       "<div>\n",
       "<style scoped>\n",
       "    .dataframe tbody tr th:only-of-type {\n",
       "        vertical-align: middle;\n",
       "    }\n",
       "\n",
       "    .dataframe tbody tr th {\n",
       "        vertical-align: top;\n",
       "    }\n",
       "\n",
       "    .dataframe thead th {\n",
       "        text-align: right;\n",
       "    }\n",
       "</style>\n",
       "<table border=\"1\" class=\"dataframe\">\n",
       "  <thead>\n",
       "    <tr style=\"text-align: right;\">\n",
       "      <th></th>\n",
       "      <th>building_id</th>\n",
       "      <th>district_id</th>\n",
       "      <th>vdcmun_id</th>\n",
       "      <th>ward_id</th>\n",
       "      <th>damage_overall_collapse</th>\n",
       "      <th>damage_overall_leaning</th>\n",
       "      <th>damage_overall_adjacent_building_risk</th>\n",
       "      <th>damage_foundation_severe</th>\n",
       "      <th>damage_foundation_moderate</th>\n",
       "      <th>damage_foundation_insignificant</th>\n",
       "      <th>damage_roof_severe</th>\n",
       "      <th>damage_roof_moderate</th>\n",
       "      <th>damage_roof_insignificant</th>\n",
       "      <th>damage_corner_separation_severe</th>\n",
       "      <th>damage_corner_separation_moderate</th>\n",
       "      <th>damage_corner_separation_insignificant</th>\n",
       "      <th>damage_diagonal_cracking_severe</th>\n",
       "      <th>damage_diagonal_cracking_moderate</th>\n",
       "      <th>damage_diagonal_cracking_insignificant</th>\n",
       "      <th>damage_in_plane_failure_severe</th>\n",
       "      <th>damage_in_plane_failure_moderate</th>\n",
       "      <th>damage_in_plane_failure_insignificant</th>\n",
       "      <th>damage_out_of_plane_failure_severe</th>\n",
       "      <th>damage_out_of_plane_failure_moderate</th>\n",
       "      <th>damage_out_of_plane_failure_insignificant</th>\n",
       "      <th>damage_out_of_plane_failure_walls_ncfr_severe</th>\n",
       "      <th>damage_out_of_plane_failure_walls_ncfr_moderate</th>\n",
       "      <th>damage_out_of_plane_failure_walls_ncfr_insignificant</th>\n",
       "      <th>damage_gable_failure_severe</th>\n",
       "      <th>damage_gable_failure_moderate</th>\n",
       "      <th>damage_gable_failure_insignificant</th>\n",
       "      <th>damage_delamination_failure_severe</th>\n",
       "      <th>damage_delamination_failure_moderate</th>\n",
       "      <th>damage_delamination_failure_insignificant</th>\n",
       "      <th>damage_column_failure_severe</th>\n",
       "      <th>damage_column_failure_moderate</th>\n",
       "      <th>damage_column_failure_insignificant</th>\n",
       "      <th>damage_beam_failure_severe</th>\n",
       "      <th>damage_beam_failure_moderate</th>\n",
       "      <th>damage_beam_failure_insignificant</th>\n",
       "      <th>damage_infill_partition_failure_severe</th>\n",
       "      <th>damage_infill_partition_failure_moderate</th>\n",
       "      <th>damage_infill_partition_failure_insignificant</th>\n",
       "      <th>damage_staircase_severe</th>\n",
       "      <th>damage_staircase_moderate</th>\n",
       "      <th>damage_staircase_insignificant</th>\n",
       "      <th>damage_parapet_severe</th>\n",
       "      <th>damage_parapet_moderate</th>\n",
       "      <th>damage_parapet_insignificant</th>\n",
       "      <th>damage_cladding_glazing_severe</th>\n",
       "      <th>damage_cladding_glazing_moderate</th>\n",
       "      <th>damage_cladding_glazing_insignificant</th>\n",
       "      <th>area_assesed</th>\n",
       "      <th>damage_grade</th>\n",
       "      <th>technical_solution_proposed</th>\n",
       "      <th>has_repair_started</th>\n",
       "      <th>has_damage_foundation</th>\n",
       "      <th>has_damage_roof</th>\n",
       "      <th>has_damage_corner_separation</th>\n",
       "      <th>has_damage_diagonal_cracking</th>\n",
       "      <th>has_damage_in_plane_failure</th>\n",
       "      <th>has_damage_out_of_plane_failure</th>\n",
       "      <th>has_damage_out_of_plane_walls_ncfr_failure</th>\n",
       "      <th>has_damage_gable_failure</th>\n",
       "      <th>has_damage_delamination_failure</th>\n",
       "      <th>has_damage_column_failure</th>\n",
       "      <th>has_damage_beam_failure</th>\n",
       "      <th>has_damage_infill_partition_failure</th>\n",
       "      <th>has_damage_staircase</th>\n",
       "      <th>has_damage_parapet</th>\n",
       "      <th>has_damage_cladding_glazing</th>\n",
       "      <th>has_geotechnical_risk</th>\n",
       "      <th>has_geotechnical_risk_land_settlement</th>\n",
       "      <th>has_geotechnical_risk_fault_crack</th>\n",
       "      <th>has_geotechnical_risk_liquefaction</th>\n",
       "      <th>has_geotechnical_risk_landslide</th>\n",
       "      <th>has_geotechnical_risk_rock_fall</th>\n",
       "      <th>has_geotechnical_risk_flood</th>\n",
       "      <th>has_geotechnical_risk_other</th>\n",
       "    </tr>\n",
       "  </thead>\n",
       "  <tbody>\n",
       "    <tr>\n",
       "      <th>0</th>\n",
       "      <td>120101000011</td>\n",
       "      <td>12</td>\n",
       "      <td>1207</td>\n",
       "      <td>120703</td>\n",
       "      <td>Moderate-Heavy</td>\n",
       "      <td>Insignificant/light</td>\n",
       "      <td>None</td>\n",
       "      <td>NaN</td>\n",
       "      <td>Moderate-Heavy-(&lt;1/3)</td>\n",
       "      <td>Insignificant/light-(&lt;1/3)</td>\n",
       "      <td>Severe-Extreme-(&lt;1/3)</td>\n",
       "      <td>NaN</td>\n",
       "      <td>Insignificant/light-(&gt;2/3)</td>\n",
       "      <td>Severe-Extreme-(&gt;2/3)</td>\n",
       "      <td>NaN</td>\n",
       "      <td>NaN</td>\n",
       "      <td>Severe-Extreme-(&lt;1/3)</td>\n",
       "      <td>NaN</td>\n",
       "      <td>NaN</td>\n",
       "      <td>Severe-Extreme-(&gt;2/3)</td>\n",
       "      <td>NaN</td>\n",
       "      <td>NaN</td>\n",
       "      <td>NaN</td>\n",
       "      <td>Moderate-Heavy-(&gt;2/3)</td>\n",
       "      <td>NaN</td>\n",
       "      <td>Severe-Extreme-(&gt;2/3)</td>\n",
       "      <td>NaN</td>\n",
       "      <td>NaN</td>\n",
       "      <td>None</td>\n",
       "      <td>NaN</td>\n",
       "      <td>NaN</td>\n",
       "      <td>None</td>\n",
       "      <td>NaN</td>\n",
       "      <td>NaN</td>\n",
       "      <td>NaN</td>\n",
       "      <td>NaN</td>\n",
       "      <td>NaN</td>\n",
       "      <td>NaN</td>\n",
       "      <td>NaN</td>\n",
       "      <td>NaN</td>\n",
       "      <td>NaN</td>\n",
       "      <td>NaN</td>\n",
       "      <td>NaN</td>\n",
       "      <td>None</td>\n",
       "      <td>NaN</td>\n",
       "      <td>NaN</td>\n",
       "      <td>None</td>\n",
       "      <td>NaN</td>\n",
       "      <td>NaN</td>\n",
       "      <td>None</td>\n",
       "      <td>NaN</td>\n",
       "      <td>NaN</td>\n",
       "      <td>Both</td>\n",
       "      <td>Grade 3</td>\n",
       "      <td>Major repair</td>\n",
       "      <td>0</td>\n",
       "      <td>NaN</td>\n",
       "      <td>1</td>\n",
       "      <td>1</td>\n",
       "      <td>1</td>\n",
       "      <td>1</td>\n",
       "      <td>NaN</td>\n",
       "      <td>1</td>\n",
       "      <td>0</td>\n",
       "      <td>0</td>\n",
       "      <td>NaN</td>\n",
       "      <td>NaN</td>\n",
       "      <td>NaN</td>\n",
       "      <td>0</td>\n",
       "      <td>0</td>\n",
       "      <td>0</td>\n",
       "      <td>0</td>\n",
       "      <td>0</td>\n",
       "      <td>0</td>\n",
       "      <td>0</td>\n",
       "      <td>0</td>\n",
       "      <td>0</td>\n",
       "      <td>0</td>\n",
       "      <td>0</td>\n",
       "    </tr>\n",
       "    <tr>\n",
       "      <th>1</th>\n",
       "      <td>120101000021</td>\n",
       "      <td>12</td>\n",
       "      <td>1207</td>\n",
       "      <td>120703</td>\n",
       "      <td>Severe-Extreme</td>\n",
       "      <td>Severe-Extreme</td>\n",
       "      <td>Insignificant/light</td>\n",
       "      <td>Severe-Extreme-(&gt;2/3)</td>\n",
       "      <td>NaN</td>\n",
       "      <td>NaN</td>\n",
       "      <td>Severe-Extreme-(&gt;2/3)</td>\n",
       "      <td>NaN</td>\n",
       "      <td>NaN</td>\n",
       "      <td>Severe-Extreme-(&gt;2/3)</td>\n",
       "      <td>NaN</td>\n",
       "      <td>NaN</td>\n",
       "      <td>Severe-Extreme-(&gt;2/3)</td>\n",
       "      <td>NaN</td>\n",
       "      <td>NaN</td>\n",
       "      <td>Severe-Extreme-(&gt;2/3)</td>\n",
       "      <td>NaN</td>\n",
       "      <td>NaN</td>\n",
       "      <td>Severe-Extreme-(&gt;2/3)</td>\n",
       "      <td>NaN</td>\n",
       "      <td>NaN</td>\n",
       "      <td>Severe-Extreme-(&gt;2/3)</td>\n",
       "      <td>NaN</td>\n",
       "      <td>NaN</td>\n",
       "      <td>None</td>\n",
       "      <td>NaN</td>\n",
       "      <td>NaN</td>\n",
       "      <td>Severe-Extreme-(&gt;2/3)</td>\n",
       "      <td>NaN</td>\n",
       "      <td>NaN</td>\n",
       "      <td>NaN</td>\n",
       "      <td>NaN</td>\n",
       "      <td>NaN</td>\n",
       "      <td>NaN</td>\n",
       "      <td>NaN</td>\n",
       "      <td>NaN</td>\n",
       "      <td>NaN</td>\n",
       "      <td>NaN</td>\n",
       "      <td>NaN</td>\n",
       "      <td>None</td>\n",
       "      <td>NaN</td>\n",
       "      <td>NaN</td>\n",
       "      <td>None</td>\n",
       "      <td>NaN</td>\n",
       "      <td>NaN</td>\n",
       "      <td>None</td>\n",
       "      <td>NaN</td>\n",
       "      <td>NaN</td>\n",
       "      <td>Exterior</td>\n",
       "      <td>Grade 5</td>\n",
       "      <td>Reconstruction</td>\n",
       "      <td>1</td>\n",
       "      <td>1</td>\n",
       "      <td>1</td>\n",
       "      <td>1</td>\n",
       "      <td>1</td>\n",
       "      <td>1</td>\n",
       "      <td>1</td>\n",
       "      <td>1</td>\n",
       "      <td>0</td>\n",
       "      <td>1</td>\n",
       "      <td>NaN</td>\n",
       "      <td>NaN</td>\n",
       "      <td>NaN</td>\n",
       "      <td>0</td>\n",
       "      <td>0</td>\n",
       "      <td>0</td>\n",
       "      <td>0</td>\n",
       "      <td>0</td>\n",
       "      <td>0</td>\n",
       "      <td>0</td>\n",
       "      <td>0</td>\n",
       "      <td>0</td>\n",
       "      <td>0</td>\n",
       "      <td>0</td>\n",
       "    </tr>\n",
       "    <tr>\n",
       "      <th>2</th>\n",
       "      <td>120101000031</td>\n",
       "      <td>12</td>\n",
       "      <td>1207</td>\n",
       "      <td>120703</td>\n",
       "      <td>Moderate-Heavy</td>\n",
       "      <td>Moderate-Heavy</td>\n",
       "      <td>Moderate-Heavy</td>\n",
       "      <td>NaN</td>\n",
       "      <td>Moderate-Heavy-(&gt;2/3)</td>\n",
       "      <td>NaN</td>\n",
       "      <td>NaN</td>\n",
       "      <td>Moderate-Heavy-(&gt;2/3)</td>\n",
       "      <td>NaN</td>\n",
       "      <td>NaN</td>\n",
       "      <td>Moderate-Heavy-(&gt;2/3)</td>\n",
       "      <td>NaN</td>\n",
       "      <td>NaN</td>\n",
       "      <td>Moderate-Heavy-(&gt;2/3)</td>\n",
       "      <td>NaN</td>\n",
       "      <td>NaN</td>\n",
       "      <td>Moderate-Heavy-(&gt;2/3)</td>\n",
       "      <td>NaN</td>\n",
       "      <td>NaN</td>\n",
       "      <td>Moderate-Heavy-(&gt;2/3)</td>\n",
       "      <td>NaN</td>\n",
       "      <td>NaN</td>\n",
       "      <td>Moderate-Heavy-(&gt;2/3)</td>\n",
       "      <td>NaN</td>\n",
       "      <td>NaN</td>\n",
       "      <td>Moderate-Heavy-(&gt;2/3)</td>\n",
       "      <td>NaN</td>\n",
       "      <td>NaN</td>\n",
       "      <td>NaN</td>\n",
       "      <td>Insignificant/light-(1/3-2/3)</td>\n",
       "      <td>NaN</td>\n",
       "      <td>NaN</td>\n",
       "      <td>NaN</td>\n",
       "      <td>NaN</td>\n",
       "      <td>NaN</td>\n",
       "      <td>NaN</td>\n",
       "      <td>NaN</td>\n",
       "      <td>NaN</td>\n",
       "      <td>NaN</td>\n",
       "      <td>NaN</td>\n",
       "      <td>NaN</td>\n",
       "      <td>NaN</td>\n",
       "      <td>None</td>\n",
       "      <td>NaN</td>\n",
       "      <td>NaN</td>\n",
       "      <td>None</td>\n",
       "      <td>NaN</td>\n",
       "      <td>NaN</td>\n",
       "      <td>Both</td>\n",
       "      <td>Grade 2</td>\n",
       "      <td>Minor repair</td>\n",
       "      <td>1</td>\n",
       "      <td>NaN</td>\n",
       "      <td>NaN</td>\n",
       "      <td>NaN</td>\n",
       "      <td>NaN</td>\n",
       "      <td>NaN</td>\n",
       "      <td>NaN</td>\n",
       "      <td>NaN</td>\n",
       "      <td>NaN</td>\n",
       "      <td>NaN</td>\n",
       "      <td>NaN</td>\n",
       "      <td>NaN</td>\n",
       "      <td>NaN</td>\n",
       "      <td>1</td>\n",
       "      <td>0</td>\n",
       "      <td>0</td>\n",
       "      <td>0</td>\n",
       "      <td>0</td>\n",
       "      <td>0</td>\n",
       "      <td>0</td>\n",
       "      <td>0</td>\n",
       "      <td>0</td>\n",
       "      <td>0</td>\n",
       "      <td>0</td>\n",
       "    </tr>\n",
       "  </tbody>\n",
       "</table>\n",
       "</div>"
      ],
      "text/plain": [
       "    building_id district_id vdcmun_id ward_id damage_overall_collapse  \\\n",
       "0  120101000011          12      1207  120703          Moderate-Heavy   \n",
       "1  120101000021          12      1207  120703          Severe-Extreme   \n",
       "2  120101000031          12      1207  120703          Moderate-Heavy   \n",
       "\n",
       "  damage_overall_leaning damage_overall_adjacent_building_risk  \\\n",
       "0    Insignificant/light                                  None   \n",
       "1         Severe-Extreme                   Insignificant/light   \n",
       "2         Moderate-Heavy                        Moderate-Heavy   \n",
       "\n",
       "  damage_foundation_severe damage_foundation_moderate  \\\n",
       "0                      NaN      Moderate-Heavy-(<1/3)   \n",
       "1    Severe-Extreme-(>2/3)                        NaN   \n",
       "2                      NaN      Moderate-Heavy-(>2/3)   \n",
       "\n",
       "  damage_foundation_insignificant     damage_roof_severe  \\\n",
       "0      Insignificant/light-(<1/3)  Severe-Extreme-(<1/3)   \n",
       "1                             NaN  Severe-Extreme-(>2/3)   \n",
       "2                             NaN                    NaN   \n",
       "\n",
       "    damage_roof_moderate   damage_roof_insignificant  \\\n",
       "0                    NaN  Insignificant/light-(>2/3)   \n",
       "1                    NaN                         NaN   \n",
       "2  Moderate-Heavy-(>2/3)                         NaN   \n",
       "\n",
       "  damage_corner_separation_severe damage_corner_separation_moderate  \\\n",
       "0           Severe-Extreme-(>2/3)                               NaN   \n",
       "1           Severe-Extreme-(>2/3)                               NaN   \n",
       "2                             NaN             Moderate-Heavy-(>2/3)   \n",
       "\n",
       "  damage_corner_separation_insignificant damage_diagonal_cracking_severe  \\\n",
       "0                                    NaN           Severe-Extreme-(<1/3)   \n",
       "1                                    NaN           Severe-Extreme-(>2/3)   \n",
       "2                                    NaN                             NaN   \n",
       "\n",
       "  damage_diagonal_cracking_moderate damage_diagonal_cracking_insignificant  \\\n",
       "0                               NaN                                    NaN   \n",
       "1                               NaN                                    NaN   \n",
       "2             Moderate-Heavy-(>2/3)                                    NaN   \n",
       "\n",
       "  damage_in_plane_failure_severe damage_in_plane_failure_moderate  \\\n",
       "0          Severe-Extreme-(>2/3)                              NaN   \n",
       "1          Severe-Extreme-(>2/3)                              NaN   \n",
       "2                            NaN            Moderate-Heavy-(>2/3)   \n",
       "\n",
       "  damage_in_plane_failure_insignificant damage_out_of_plane_failure_severe  \\\n",
       "0                                   NaN                                NaN   \n",
       "1                                   NaN              Severe-Extreme-(>2/3)   \n",
       "2                                   NaN                                NaN   \n",
       "\n",
       "  damage_out_of_plane_failure_moderate  \\\n",
       "0                Moderate-Heavy-(>2/3)   \n",
       "1                                  NaN   \n",
       "2                Moderate-Heavy-(>2/3)   \n",
       "\n",
       "  damage_out_of_plane_failure_insignificant  \\\n",
       "0                                       NaN   \n",
       "1                                       NaN   \n",
       "2                                       NaN   \n",
       "\n",
       "  damage_out_of_plane_failure_walls_ncfr_severe  \\\n",
       "0                         Severe-Extreme-(>2/3)   \n",
       "1                         Severe-Extreme-(>2/3)   \n",
       "2                                           NaN   \n",
       "\n",
       "  damage_out_of_plane_failure_walls_ncfr_moderate  \\\n",
       "0                                             NaN   \n",
       "1                                             NaN   \n",
       "2                           Moderate-Heavy-(>2/3)   \n",
       "\n",
       "  damage_out_of_plane_failure_walls_ncfr_insignificant  \\\n",
       "0                                                NaN     \n",
       "1                                                NaN     \n",
       "2                                                NaN     \n",
       "\n",
       "  damage_gable_failure_severe damage_gable_failure_moderate  \\\n",
       "0                        None                           NaN   \n",
       "1                        None                           NaN   \n",
       "2                         NaN         Moderate-Heavy-(>2/3)   \n",
       "\n",
       "  damage_gable_failure_insignificant damage_delamination_failure_severe  \\\n",
       "0                                NaN                               None   \n",
       "1                                NaN              Severe-Extreme-(>2/3)   \n",
       "2                                NaN                                NaN   \n",
       "\n",
       "  damage_delamination_failure_moderate  \\\n",
       "0                                  NaN   \n",
       "1                                  NaN   \n",
       "2                                  NaN   \n",
       "\n",
       "  damage_delamination_failure_insignificant damage_column_failure_severe  \\\n",
       "0                                       NaN                          NaN   \n",
       "1                                       NaN                          NaN   \n",
       "2             Insignificant/light-(1/3-2/3)                          NaN   \n",
       "\n",
       "  damage_column_failure_moderate damage_column_failure_insignificant  \\\n",
       "0                            NaN                                 NaN   \n",
       "1                            NaN                                 NaN   \n",
       "2                            NaN                                 NaN   \n",
       "\n",
       "  damage_beam_failure_severe damage_beam_failure_moderate  \\\n",
       "0                        NaN                          NaN   \n",
       "1                        NaN                          NaN   \n",
       "2                        NaN                          NaN   \n",
       "\n",
       "  damage_beam_failure_insignificant damage_infill_partition_failure_severe  \\\n",
       "0                               NaN                                    NaN   \n",
       "1                               NaN                                    NaN   \n",
       "2                               NaN                                    NaN   \n",
       "\n",
       "  damage_infill_partition_failure_moderate  \\\n",
       "0                                      NaN   \n",
       "1                                      NaN   \n",
       "2                                      NaN   \n",
       "\n",
       "  damage_infill_partition_failure_insignificant damage_staircase_severe  \\\n",
       "0                                           NaN                    None   \n",
       "1                                           NaN                    None   \n",
       "2                                           NaN                     NaN   \n",
       "\n",
       "  damage_staircase_moderate damage_staircase_insignificant  \\\n",
       "0                       NaN                            NaN   \n",
       "1                       NaN                            NaN   \n",
       "2                       NaN                            NaN   \n",
       "\n",
       "  damage_parapet_severe damage_parapet_moderate damage_parapet_insignificant  \\\n",
       "0                  None                     NaN                          NaN   \n",
       "1                  None                     NaN                          NaN   \n",
       "2                  None                     NaN                          NaN   \n",
       "\n",
       "  damage_cladding_glazing_severe damage_cladding_glazing_moderate  \\\n",
       "0                           None                              NaN   \n",
       "1                           None                              NaN   \n",
       "2                           None                              NaN   \n",
       "\n",
       "  damage_cladding_glazing_insignificant area_assesed damage_grade  \\\n",
       "0                                   NaN         Both      Grade 3   \n",
       "1                                   NaN     Exterior      Grade 5   \n",
       "2                                   NaN         Both      Grade 2   \n",
       "\n",
       "  technical_solution_proposed has_repair_started has_damage_foundation  \\\n",
       "0                Major repair                  0                   NaN   \n",
       "1              Reconstruction                  1                     1   \n",
       "2                Minor repair                  1                   NaN   \n",
       "\n",
       "  has_damage_roof has_damage_corner_separation has_damage_diagonal_cracking  \\\n",
       "0               1                            1                            1   \n",
       "1               1                            1                            1   \n",
       "2             NaN                          NaN                          NaN   \n",
       "\n",
       "  has_damage_in_plane_failure has_damage_out_of_plane_failure  \\\n",
       "0                           1                             NaN   \n",
       "1                           1                               1   \n",
       "2                         NaN                             NaN   \n",
       "\n",
       "  has_damage_out_of_plane_walls_ncfr_failure has_damage_gable_failure  \\\n",
       "0                                          1                        0   \n",
       "1                                          1                        0   \n",
       "2                                        NaN                      NaN   \n",
       "\n",
       "  has_damage_delamination_failure has_damage_column_failure  \\\n",
       "0                               0                       NaN   \n",
       "1                               1                       NaN   \n",
       "2                             NaN                       NaN   \n",
       "\n",
       "  has_damage_beam_failure has_damage_infill_partition_failure  \\\n",
       "0                     NaN                                 NaN   \n",
       "1                     NaN                                 NaN   \n",
       "2                     NaN                                 NaN   \n",
       "\n",
       "  has_damage_staircase has_damage_parapet has_damage_cladding_glazing  \\\n",
       "0                    0                  0                           0   \n",
       "1                    0                  0                           0   \n",
       "2                    1                  0                           0   \n",
       "\n",
       "  has_geotechnical_risk has_geotechnical_risk_land_settlement  \\\n",
       "0                     0                                     0   \n",
       "1                     0                                     0   \n",
       "2                     0                                     0   \n",
       "\n",
       "  has_geotechnical_risk_fault_crack has_geotechnical_risk_liquefaction  \\\n",
       "0                                 0                                  0   \n",
       "1                                 0                                  0   \n",
       "2                                 0                                  0   \n",
       "\n",
       "  has_geotechnical_risk_landslide has_geotechnical_risk_rock_fall  \\\n",
       "0                               0                               0   \n",
       "1                               0                               0   \n",
       "2                               0                               0   \n",
       "\n",
       "  has_geotechnical_risk_flood has_geotechnical_risk_other  \n",
       "0                           0                           0  \n",
       "1                           0                           0  \n",
       "2                           0                           0  "
      ]
     },
     "execution_count": 22,
     "metadata": {},
     "output_type": "execute_result"
    }
   ],
   "source": [
    "# Preview first three rows of dataset\n",
    "building_damage_df.head(3)"
   ]
  },
  {
   "cell_type": "markdown",
   "metadata": {},
   "source": [
    "The building damage dataset has features that inform about the damage faced by a building after ther 2015 earthquake. This dataset accounts the types of damage observed and a set of features that inform of any geotechnical risk the building faced in the damage."
   ]
  },
  {
   "cell_type": "markdown",
   "metadata": {},
   "source": [
    "## Data Cleaning"
   ]
  },
  {
   "cell_type": "markdown",
   "metadata": {},
   "source": [
    "Data cleaning for each of the datasets were tackled separately. The main issues cleared are imputation of missing values, conversion of nominal values to numeric, defining the target variable and dropping features irrelevant to data modeling. The separate cleaned datasets were then merged and passed through to data EDA.\n",
    "\n",
    "**Building Use Dataset**"
   ]
  },
  {
   "cell_type": "code",
   "execution_count": 23,
   "metadata": {},
   "outputs": [],
   "source": [
    "# # checking dataset info for feature dtype and missing values <-------- Uncomment cell to view\n",
    "# building_use_df.info()"
   ]
  },
  {
   "cell_type": "markdown",
   "metadata": {},
   "source": [
    "The building structure dataframe has 762106 observations and 17 features. There is 1 feature stored as a pandas object data type while the rest are of numeric dtype. The feature `has_secondary_use` is missing 10 values and is only recorded as *NaN*. "
   ]
  },
  {
   "cell_type": "code",
   "execution_count": 24,
   "metadata": {},
   "outputs": [
    {
     "data": {
      "text/html": [
       "<div>\n",
       "<style scoped>\n",
       "    .dataframe tbody tr th:only-of-type {\n",
       "        vertical-align: middle;\n",
       "    }\n",
       "\n",
       "    .dataframe tbody tr th {\n",
       "        vertical-align: top;\n",
       "    }\n",
       "\n",
       "    .dataframe thead th {\n",
       "        text-align: right;\n",
       "    }\n",
       "</style>\n",
       "<table border=\"1\" class=\"dataframe\">\n",
       "  <thead>\n",
       "    <tr style=\"text-align: right;\">\n",
       "      <th></th>\n",
       "      <th>building_id</th>\n",
       "      <th>district_id</th>\n",
       "      <th>vdcmun_id</th>\n",
       "      <th>ward_id</th>\n",
       "      <th>legal_ownership_status</th>\n",
       "      <th>count_families</th>\n",
       "      <th>has_secondary_use</th>\n",
       "      <th>has_secondary_use_agriculture</th>\n",
       "      <th>has_secondary_use_hotel</th>\n",
       "      <th>has_secondary_use_rental</th>\n",
       "      <th>has_secondary_use_institution</th>\n",
       "      <th>has_secondary_use_school</th>\n",
       "      <th>has_secondary_use_industry</th>\n",
       "      <th>has_secondary_use_health_post</th>\n",
       "      <th>has_secondary_use_gov_office</th>\n",
       "      <th>has_secondary_use_use_police</th>\n",
       "      <th>has_secondary_use_other</th>\n",
       "    </tr>\n",
       "  </thead>\n",
       "  <tbody>\n",
       "    <tr>\n",
       "      <th>83766</th>\n",
       "      <td>203202000521</td>\n",
       "      <td>20</td>\n",
       "      <td>2009</td>\n",
       "      <td>200910</td>\n",
       "      <td>Private</td>\n",
       "      <td>NaN</td>\n",
       "      <td>NaN</td>\n",
       "      <td>0</td>\n",
       "      <td>0</td>\n",
       "      <td>0</td>\n",
       "      <td>0</td>\n",
       "      <td>0</td>\n",
       "      <td>0</td>\n",
       "      <td>0</td>\n",
       "      <td>0</td>\n",
       "      <td>0</td>\n",
       "      <td>0</td>\n",
       "    </tr>\n",
       "    <tr>\n",
       "      <th>131558</th>\n",
       "      <td>212402000211</td>\n",
       "      <td>21</td>\n",
       "      <td>2107</td>\n",
       "      <td>210703</td>\n",
       "      <td>Private</td>\n",
       "      <td>1.0</td>\n",
       "      <td>NaN</td>\n",
       "      <td>0</td>\n",
       "      <td>0</td>\n",
       "      <td>0</td>\n",
       "      <td>0</td>\n",
       "      <td>0</td>\n",
       "      <td>0</td>\n",
       "      <td>0</td>\n",
       "      <td>0</td>\n",
       "      <td>0</td>\n",
       "      <td>0</td>\n",
       "    </tr>\n",
       "    <tr>\n",
       "      <th>131579</th>\n",
       "      <td>212402000221</td>\n",
       "      <td>21</td>\n",
       "      <td>2107</td>\n",
       "      <td>210703</td>\n",
       "      <td>Private</td>\n",
       "      <td>2.0</td>\n",
       "      <td>NaN</td>\n",
       "      <td>0</td>\n",
       "      <td>0</td>\n",
       "      <td>0</td>\n",
       "      <td>0</td>\n",
       "      <td>0</td>\n",
       "      <td>0</td>\n",
       "      <td>0</td>\n",
       "      <td>0</td>\n",
       "      <td>0</td>\n",
       "      <td>0</td>\n",
       "    </tr>\n",
       "    <tr>\n",
       "      <th>131627</th>\n",
       "      <td>212402000071</td>\n",
       "      <td>21</td>\n",
       "      <td>2107</td>\n",
       "      <td>210703</td>\n",
       "      <td>Private</td>\n",
       "      <td>1.0</td>\n",
       "      <td>NaN</td>\n",
       "      <td>0</td>\n",
       "      <td>0</td>\n",
       "      <td>0</td>\n",
       "      <td>0</td>\n",
       "      <td>0</td>\n",
       "      <td>0</td>\n",
       "      <td>0</td>\n",
       "      <td>0</td>\n",
       "      <td>0</td>\n",
       "      <td>0</td>\n",
       "    </tr>\n",
       "    <tr>\n",
       "      <th>131629</th>\n",
       "      <td>212402000091</td>\n",
       "      <td>21</td>\n",
       "      <td>2107</td>\n",
       "      <td>210703</td>\n",
       "      <td>Private</td>\n",
       "      <td>1.0</td>\n",
       "      <td>NaN</td>\n",
       "      <td>0</td>\n",
       "      <td>0</td>\n",
       "      <td>0</td>\n",
       "      <td>0</td>\n",
       "      <td>0</td>\n",
       "      <td>0</td>\n",
       "      <td>0</td>\n",
       "      <td>0</td>\n",
       "      <td>0</td>\n",
       "      <td>0</td>\n",
       "    </tr>\n",
       "    <tr>\n",
       "      <th>131640</th>\n",
       "      <td>212402000201</td>\n",
       "      <td>21</td>\n",
       "      <td>2107</td>\n",
       "      <td>210703</td>\n",
       "      <td>Private</td>\n",
       "      <td>1.0</td>\n",
       "      <td>NaN</td>\n",
       "      <td>0</td>\n",
       "      <td>0</td>\n",
       "      <td>0</td>\n",
       "      <td>0</td>\n",
       "      <td>0</td>\n",
       "      <td>0</td>\n",
       "      <td>0</td>\n",
       "      <td>0</td>\n",
       "      <td>0</td>\n",
       "      <td>0</td>\n",
       "    </tr>\n",
       "    <tr>\n",
       "      <th>131652</th>\n",
       "      <td>212402000341</td>\n",
       "      <td>21</td>\n",
       "      <td>2107</td>\n",
       "      <td>210703</td>\n",
       "      <td>Private</td>\n",
       "      <td>1.0</td>\n",
       "      <td>NaN</td>\n",
       "      <td>0</td>\n",
       "      <td>0</td>\n",
       "      <td>0</td>\n",
       "      <td>0</td>\n",
       "      <td>0</td>\n",
       "      <td>0</td>\n",
       "      <td>0</td>\n",
       "      <td>0</td>\n",
       "      <td>0</td>\n",
       "      <td>0</td>\n",
       "    </tr>\n",
       "    <tr>\n",
       "      <th>131654</th>\n",
       "      <td>212402000361</td>\n",
       "      <td>21</td>\n",
       "      <td>2107</td>\n",
       "      <td>210703</td>\n",
       "      <td>Private</td>\n",
       "      <td>2.0</td>\n",
       "      <td>NaN</td>\n",
       "      <td>0</td>\n",
       "      <td>0</td>\n",
       "      <td>0</td>\n",
       "      <td>0</td>\n",
       "      <td>0</td>\n",
       "      <td>0</td>\n",
       "      <td>0</td>\n",
       "      <td>0</td>\n",
       "      <td>0</td>\n",
       "      <td>0</td>\n",
       "    </tr>\n",
       "    <tr>\n",
       "      <th>131655</th>\n",
       "      <td>212402000371</td>\n",
       "      <td>21</td>\n",
       "      <td>2107</td>\n",
       "      <td>210703</td>\n",
       "      <td>Private</td>\n",
       "      <td>1.0</td>\n",
       "      <td>NaN</td>\n",
       "      <td>0</td>\n",
       "      <td>0</td>\n",
       "      <td>0</td>\n",
       "      <td>0</td>\n",
       "      <td>0</td>\n",
       "      <td>0</td>\n",
       "      <td>0</td>\n",
       "      <td>0</td>\n",
       "      <td>0</td>\n",
       "      <td>0</td>\n",
       "    </tr>\n",
       "    <tr>\n",
       "      <th>131929</th>\n",
       "      <td>212404000861</td>\n",
       "      <td>21</td>\n",
       "      <td>2107</td>\n",
       "      <td>210703</td>\n",
       "      <td>Private</td>\n",
       "      <td>1.0</td>\n",
       "      <td>NaN</td>\n",
       "      <td>0</td>\n",
       "      <td>0</td>\n",
       "      <td>0</td>\n",
       "      <td>0</td>\n",
       "      <td>0</td>\n",
       "      <td>0</td>\n",
       "      <td>0</td>\n",
       "      <td>0</td>\n",
       "      <td>0</td>\n",
       "      <td>0</td>\n",
       "    </tr>\n",
       "  </tbody>\n",
       "</table>\n",
       "</div>"
      ],
      "text/plain": [
       "         building_id  district_id  vdcmun_id  ward_id legal_ownership_status  \\\n",
       "83766   203202000521           20       2009   200910                Private   \n",
       "131558  212402000211           21       2107   210703                Private   \n",
       "131579  212402000221           21       2107   210703                Private   \n",
       "131627  212402000071           21       2107   210703                Private   \n",
       "131629  212402000091           21       2107   210703                Private   \n",
       "131640  212402000201           21       2107   210703                Private   \n",
       "131652  212402000341           21       2107   210703                Private   \n",
       "131654  212402000361           21       2107   210703                Private   \n",
       "131655  212402000371           21       2107   210703                Private   \n",
       "131929  212404000861           21       2107   210703                Private   \n",
       "\n",
       "        count_families  has_secondary_use  has_secondary_use_agriculture  \\\n",
       "83766              NaN                NaN                              0   \n",
       "131558             1.0                NaN                              0   \n",
       "131579             2.0                NaN                              0   \n",
       "131627             1.0                NaN                              0   \n",
       "131629             1.0                NaN                              0   \n",
       "131640             1.0                NaN                              0   \n",
       "131652             1.0                NaN                              0   \n",
       "131654             2.0                NaN                              0   \n",
       "131655             1.0                NaN                              0   \n",
       "131929             1.0                NaN                              0   \n",
       "\n",
       "        has_secondary_use_hotel  has_secondary_use_rental  \\\n",
       "83766                         0                         0   \n",
       "131558                        0                         0   \n",
       "131579                        0                         0   \n",
       "131627                        0                         0   \n",
       "131629                        0                         0   \n",
       "131640                        0                         0   \n",
       "131652                        0                         0   \n",
       "131654                        0                         0   \n",
       "131655                        0                         0   \n",
       "131929                        0                         0   \n",
       "\n",
       "        has_secondary_use_institution  has_secondary_use_school  \\\n",
       "83766                               0                         0   \n",
       "131558                              0                         0   \n",
       "131579                              0                         0   \n",
       "131627                              0                         0   \n",
       "131629                              0                         0   \n",
       "131640                              0                         0   \n",
       "131652                              0                         0   \n",
       "131654                              0                         0   \n",
       "131655                              0                         0   \n",
       "131929                              0                         0   \n",
       "\n",
       "        has_secondary_use_industry  has_secondary_use_health_post  \\\n",
       "83766                            0                              0   \n",
       "131558                           0                              0   \n",
       "131579                           0                              0   \n",
       "131627                           0                              0   \n",
       "131629                           0                              0   \n",
       "131640                           0                              0   \n",
       "131652                           0                              0   \n",
       "131654                           0                              0   \n",
       "131655                           0                              0   \n",
       "131929                           0                              0   \n",
       "\n",
       "        has_secondary_use_gov_office  has_secondary_use_use_police  \\\n",
       "83766                              0                             0   \n",
       "131558                             0                             0   \n",
       "131579                             0                             0   \n",
       "131627                             0                             0   \n",
       "131629                             0                             0   \n",
       "131640                             0                             0   \n",
       "131652                             0                             0   \n",
       "131654                             0                             0   \n",
       "131655                             0                             0   \n",
       "131929                             0                             0   \n",
       "\n",
       "        has_secondary_use_other  \n",
       "83766                         0  \n",
       "131558                        0  \n",
       "131579                        0  \n",
       "131627                        0  \n",
       "131629                        0  \n",
       "131640                        0  \n",
       "131652                        0  \n",
       "131654                        0  \n",
       "131655                        0  \n",
       "131929                        0  "
      ]
     },
     "execution_count": 24,
     "metadata": {},
     "output_type": "execute_result"
    }
   ],
   "source": [
    "building_use_df[building_use_df['has_secondary_use'].isna()]"
   ]
  },
  {
   "cell_type": "markdown",
   "metadata": {},
   "source": [
    "The *NaN* values here could mean that the building has no secondary use. All the other secondary use fields have a 0 value corresponding to the *Nan* value of interest here. Filling *Nan* here with 0 makes sense, like the existing 0 values in the column."
   ]
  },
  {
   "cell_type": "code",
   "execution_count": 25,
   "metadata": {},
   "outputs": [],
   "source": [
    "# Imputing missing value with 0 and saving in place\n",
    "building_use_df['has_secondary_use'].fillna(value=0, inplace=True)"
   ]
  },
  {
   "cell_type": "code",
   "execution_count": 26,
   "metadata": {},
   "outputs": [
    {
     "data": {
      "text/plain": [
       "Private          95.97\n",
       "Public            2.52\n",
       "Institutional     1.03\n",
       "Other             0.48\n",
       "Name: legal_ownership_status, dtype: float64"
      ]
     },
     "execution_count": 26,
     "metadata": {},
     "output_type": "execute_result"
    }
   ],
   "source": [
    "# Examining object dtype feature\n",
    "round(building_use_df['legal_ownership_status'].value_counts(normalize=True)*100,2)"
   ]
  },
  {
   "cell_type": "markdown",
   "metadata": {},
   "source": [
    "converting nominal feature `legal_ownership_status` to numeric in new feature `legal_ownership_status_num`"
   ]
  },
  {
   "cell_type": "code",
   "execution_count": 27,
   "metadata": {},
   "outputs": [
    {
     "data": {
      "text/plain": [
       "1    731387\n",
       "2     19232\n",
       "3      7823\n",
       "4      3664\n",
       "Name: legal_ownership_status_num, dtype: int64"
      ]
     },
     "execution_count": 27,
     "metadata": {},
     "output_type": "execute_result"
    }
   ],
   "source": [
    "cl.convert_to_num(building_use_df, 'legal_ownership_status', 'legal_ownership_status_num')"
   ]
  },
  {
   "cell_type": "markdown",
   "metadata": {},
   "source": [
    "Dropping feature `count_families` because they are irrelevant to modeling building damage from an earthquake disaster."
   ]
  },
  {
   "cell_type": "code",
   "execution_count": 28,
   "metadata": {},
   "outputs": [],
   "source": [
    "# dropping feature and saving dataframe in place\n",
    "building_use_df.drop(['count_families'], axis=1, inplace=True)"
   ]
  },
  {
   "cell_type": "markdown",
   "metadata": {},
   "source": [
    "**Building Structure Dataset**"
   ]
  },
  {
   "cell_type": "code",
   "execution_count": 29,
   "metadata": {},
   "outputs": [],
   "source": [
    "# # checking dataset info for feature dtype and missing values <-------- Uncomment cell to view\n",
    "# building_structure_df.info()"
   ]
  },
  {
   "cell_type": "markdown",
   "metadata": {},
   "source": [
    "The building structure dataframe has 762106 observations and 31 features. There are 10 features as pandas object data type while the rest are of numeric dtype. The next steps will be to look at the object type features and explore if they should and can be converted to numeric dtype, and to also check for missing values."
   ]
  },
  {
   "cell_type": "code",
   "execution_count": 30,
   "metadata": {},
   "outputs": [],
   "source": [
    "# # checking dataset for sum of feature missing values <-------- Uncomment cell to view\n",
    "# building_structure_df.isna().sum()"
   ]
  },
  {
   "cell_type": "markdown",
   "metadata": {},
   "source": [
    "There are 4 features in the dataset with missing values. `position` feature is missing 1 value, `plan_configuration` feature is also missing 1 value, `damage_grade` is missing 12 values and `technical_solution_proposed` is also missing 12 values.\n",
    "\n",
    "Based on similar buildings of around the same age, we can safely assign position Nan value as Not attached and plan_configuration Nan value as Rectangular."
   ]
  },
  {
   "cell_type": "code",
   "execution_count": 31,
   "metadata": {},
   "outputs": [],
   "source": [
    "# Imputing value with appropriate values and saving changes\n",
    "building_structure_df['position'].fillna('Not attached', inplace=True)\n",
    "building_structure_df['plan_configuration'].fillna('Rectangular', inplace= True)"
   ]
  },
  {
   "cell_type": "code",
   "execution_count": 32,
   "metadata": {},
   "outputs": [],
   "source": [
    "# # Investigating rows with missing values for damage_grade  <---- Uncomment cell to preview rows\n",
    "# building_structure_df[building_structure_df['damage_grade'].isna()]"
   ]
  },
  {
   "cell_type": "markdown",
   "metadata": {},
   "source": [
    "In investigating structure damage features in the damage assessment data, all the rows with *NaN* values for `damage_grade` showed no damage information for any of those buildings. It is safe to assign the *Nan* values as **Grade 1** to show minimal or no damage."
   ]
  },
  {
   "cell_type": "code",
   "execution_count": 33,
   "metadata": {},
   "outputs": [],
   "source": [
    "building_structure_df['damage_grade'].values[building_structure_df['damage_grade'].isna()] = 'Grade 1'"
   ]
  },
  {
   "cell_type": "markdown",
   "metadata": {},
   "source": [
    "Converting Nominal object type features to numeric form in new features with suffix '_num'"
   ]
  },
  {
   "cell_type": "code",
   "execution_count": 34,
   "metadata": {},
   "outputs": [
    {
     "data": {
      "text/plain": [
       "1    631675\n",
       "2    105640\n",
       "3     24791\n",
       "Name: land_surface_condition_num, dtype: int64"
      ]
     },
     "execution_count": 34,
     "metadata": {},
     "output_type": "execute_result"
    }
   ],
   "source": [
    "cl.convert_to_num(building_structure_df,'position', 'position_num')\n",
    "cl.convert_to_num(building_structure_df,'plan_configuration', 'plan_configuration_num')\n",
    "cl.convert_to_num(building_structure_df,'other_floor_type', 'other_floor_type_num')\n",
    "cl.convert_to_num(building_structure_df,'ground_floor_type', 'ground_floor_type_num')\n",
    "cl.convert_to_num(building_structure_df,'roof_type', 'roof_type_num')\n",
    "cl.convert_to_num(building_structure_df,'foundation_type', 'foundation_type_num')\n",
    "cl.convert_to_num(building_structure_df,'land_surface_condition', 'land_surface_condition_num')"
   ]
  },
  {
   "cell_type": "markdown",
   "metadata": {},
   "source": [
    "Defining the **Target Variable**"
   ]
  },
  {
   "cell_type": "code",
   "execution_count": 35,
   "metadata": {},
   "outputs": [],
   "source": [
    "target_df= building_structure_df[['damage_grade','technical_solution_proposed']]\n",
    "solution_list = building_structure_df['technical_solution_proposed'].value_counts().index"
   ]
  },
  {
   "cell_type": "code",
   "execution_count": 36,
   "metadata": {},
   "outputs": [
    {
     "name": "stdout",
     "output_type": "stream",
     "text": [
      "Grade proportion for Reconstruction\n",
      "Grade 5    58.61\n",
      "Grade 4    35.40\n",
      "Grade 3     5.44\n",
      "Grade 2     0.51\n",
      "Grade 1     0.04\n",
      "Name: damage_grade, dtype: float64\n",
      "Grade proportion for Major repair\n",
      "Grade 3    78.27\n",
      "Grade 4    13.30\n",
      "Grade 2     8.02\n",
      "Grade 1     0.30\n",
      "Grade 5     0.11\n",
      "Name: damage_grade, dtype: float64\n",
      "Grade proportion for Minor repair\n",
      "Grade 2    66.90\n",
      "Grade 1    24.36\n",
      "Grade 3     8.56\n",
      "Grade 4     0.16\n",
      "Grade 5     0.03\n",
      "Name: damage_grade, dtype: float64\n",
      "Grade proportion for No need\n",
      "Grade 1    98.90\n",
      "Grade 2     0.94\n",
      "Grade 3     0.11\n",
      "Grade 5     0.03\n",
      "Grade 4     0.02\n",
      "Name: damage_grade, dtype: float64\n"
     ]
    }
   ],
   "source": [
    "for sol in solution_list:\n",
    "    print('Grade proportion for {}'.format(sol))\n",
    "    print(round(target_df[target_df['technical_solution_proposed']== sol]['damage_grade'].value_counts(normalize=True)*100,2))"
   ]
  },
  {
   "cell_type": "markdown",
   "metadata": {},
   "source": [
    "On assesing the technical solution proposed for damage to the buildings, we can see that majority of buildings proposed for reconstruction (about 93%) fall in the damage grade of 4 and 5. 78% of the Grade 3 damage buildings have been proposed for major repairs consequently implying major damages. Building with Grade 1 and Grade 2 damage have been proposed for minor repairs or no repairs needed.\n",
    "\n",
    "In accordance to what is observed here, we can classify the buildings into 3 groups or bins, which will define our **Target Variable**. Grade 1 and Grade 2 damage buildings will be binned as **Minor Damages** in the value 1. Grade 3 damage buildings will be binned as **Major Damages** in the value 2. Grade 4 and Grade 5 damage buildings will be binned as **severe damages** in the value 3."
   ]
  },
  {
   "cell_type": "code",
   "execution_count": 37,
   "metadata": {},
   "outputs": [],
   "source": [
    "# Defining Target variable\n",
    "building_structure_df['target']= building_structure_df['damage_grade'].map({'Grade 1': 1,\n",
    "                                                                           'Grade 2': 1,\n",
    "                                                                           'Grade 3': 2,\n",
    "                                                                           'Grade 4': 3,\n",
    "                                                                           'Grade 5': 3})"
   ]
  },
  {
   "cell_type": "markdown",
   "metadata": {},
   "source": [
    "Dropping features irrelevant to modeling building damage from an earthquake disaster"
   ]
  },
  {
   "cell_type": "code",
   "execution_count": 38,
   "metadata": {},
   "outputs": [],
   "source": [
    "drop_list = ['damage_grade','count_floors_post_eq','condition_post_eq', 'height_ft_post_eq', 'technical_solution_proposed']"
   ]
  },
  {
   "cell_type": "code",
   "execution_count": 39,
   "metadata": {},
   "outputs": [],
   "source": [
    "building_structure_df.drop(drop_list, axis=1, inplace=True)"
   ]
  },
  {
   "cell_type": "code",
   "execution_count": 40,
   "metadata": {},
   "outputs": [
    {
     "data": {
      "text/html": [
       "<div>\n",
       "<style scoped>\n",
       "    .dataframe tbody tr th:only-of-type {\n",
       "        vertical-align: middle;\n",
       "    }\n",
       "\n",
       "    .dataframe tbody tr th {\n",
       "        vertical-align: top;\n",
       "    }\n",
       "\n",
       "    .dataframe thead th {\n",
       "        text-align: right;\n",
       "    }\n",
       "</style>\n",
       "<table border=\"1\" class=\"dataframe\">\n",
       "  <thead>\n",
       "    <tr style=\"text-align: right;\">\n",
       "      <th></th>\n",
       "      <th>building_id</th>\n",
       "      <th>district_id</th>\n",
       "      <th>vdcmun_id</th>\n",
       "      <th>ward_id</th>\n",
       "      <th>count_floors_pre_eq</th>\n",
       "      <th>age_building</th>\n",
       "      <th>plinth_area_sq_ft</th>\n",
       "      <th>height_ft_pre_eq</th>\n",
       "      <th>has_superstructure_adobe_mud</th>\n",
       "      <th>has_superstructure_mud_mortar_stone</th>\n",
       "      <th>has_superstructure_stone_flag</th>\n",
       "      <th>has_superstructure_cement_mortar_stone</th>\n",
       "      <th>has_superstructure_mud_mortar_brick</th>\n",
       "      <th>has_superstructure_cement_mortar_brick</th>\n",
       "      <th>has_superstructure_timber</th>\n",
       "      <th>has_superstructure_bamboo</th>\n",
       "      <th>has_superstructure_rc_non_engineered</th>\n",
       "      <th>has_superstructure_rc_engineered</th>\n",
       "      <th>has_superstructure_other</th>\n",
       "      <th>position_num</th>\n",
       "      <th>plan_configuration_num</th>\n",
       "      <th>other_floor_type_num</th>\n",
       "      <th>ground_floor_type_num</th>\n",
       "      <th>roof_type_num</th>\n",
       "      <th>foundation_type_num</th>\n",
       "      <th>land_surface_condition_num</th>\n",
       "      <th>target</th>\n",
       "    </tr>\n",
       "  </thead>\n",
       "  <tbody>\n",
       "    <tr>\n",
       "      <th>count</th>\n",
       "      <td>7.621060e+05</td>\n",
       "      <td>762106.000000</td>\n",
       "      <td>762106.000000</td>\n",
       "      <td>762106.000000</td>\n",
       "      <td>762106.000000</td>\n",
       "      <td>762106.000000</td>\n",
       "      <td>762106.000000</td>\n",
       "      <td>762106.000000</td>\n",
       "      <td>762106.000000</td>\n",
       "      <td>762106.000000</td>\n",
       "      <td>762106.000000</td>\n",
       "      <td>762106.000000</td>\n",
       "      <td>762106.000000</td>\n",
       "      <td>762106.000000</td>\n",
       "      <td>762106.000000</td>\n",
       "      <td>762106.000000</td>\n",
       "      <td>762106.000000</td>\n",
       "      <td>762106.000000</td>\n",
       "      <td>762106.000000</td>\n",
       "      <td>762106.000000</td>\n",
       "      <td>762106.000000</td>\n",
       "      <td>762106.000000</td>\n",
       "      <td>762106.000000</td>\n",
       "      <td>762106.000000</td>\n",
       "      <td>762106.000000</td>\n",
       "      <td>762106.000000</td>\n",
       "      <td>762106.000000</td>\n",
       "    </tr>\n",
       "    <tr>\n",
       "      <th>mean</th>\n",
       "      <td>2.607514e+11</td>\n",
       "      <td>25.767835</td>\n",
       "      <td>2582.688357</td>\n",
       "      <td>258274.277335</td>\n",
       "      <td>2.087783</td>\n",
       "      <td>24.326405</td>\n",
       "      <td>406.672576</td>\n",
       "      <td>16.049372</td>\n",
       "      <td>0.042401</td>\n",
       "      <td>0.800271</td>\n",
       "      <td>0.035121</td>\n",
       "      <td>0.015815</td>\n",
       "      <td>0.022961</td>\n",
       "      <td>0.071525</td>\n",
       "      <td>0.258766</td>\n",
       "      <td>0.080482</td>\n",
       "      <td>0.039794</td>\n",
       "      <td>0.016386</td>\n",
       "      <td>0.012026</td>\n",
       "      <td>1.245612</td>\n",
       "      <td>1.068446</td>\n",
       "      <td>1.602941</td>\n",
       "      <td>1.289105</td>\n",
       "      <td>1.397506</td>\n",
       "      <td>1.328735</td>\n",
       "      <td>1.203675</td>\n",
       "      <td>2.385151</td>\n",
       "    </tr>\n",
       "    <tr>\n",
       "      <th>std</th>\n",
       "      <td>5.801855e+10</td>\n",
       "      <td>5.807555</td>\n",
       "      <td>581.172767</td>\n",
       "      <td>58117.348412</td>\n",
       "      <td>0.655101</td>\n",
       "      <td>65.043704</td>\n",
       "      <td>226.779371</td>\n",
       "      <td>5.493878</td>\n",
       "      <td>0.201502</td>\n",
       "      <td>0.399797</td>\n",
       "      <td>0.184086</td>\n",
       "      <td>0.124761</td>\n",
       "      <td>0.149780</td>\n",
       "      <td>0.257701</td>\n",
       "      <td>0.437957</td>\n",
       "      <td>0.272039</td>\n",
       "      <td>0.195474</td>\n",
       "      <td>0.126955</td>\n",
       "      <td>0.109001</td>\n",
       "      <td>0.515966</td>\n",
       "      <td>0.407855</td>\n",
       "      <td>0.899447</td>\n",
       "      <td>0.651036</td>\n",
       "      <td>0.597074</td>\n",
       "      <td>0.805117</td>\n",
       "      <td>0.476709</td>\n",
       "      <td>0.820162</td>\n",
       "    </tr>\n",
       "    <tr>\n",
       "      <th>min</th>\n",
       "      <td>1.201010e+11</td>\n",
       "      <td>12.000000</td>\n",
       "      <td>1201.000000</td>\n",
       "      <td>120101.000000</td>\n",
       "      <td>1.000000</td>\n",
       "      <td>0.000000</td>\n",
       "      <td>70.000000</td>\n",
       "      <td>6.000000</td>\n",
       "      <td>0.000000</td>\n",
       "      <td>0.000000</td>\n",
       "      <td>0.000000</td>\n",
       "      <td>0.000000</td>\n",
       "      <td>0.000000</td>\n",
       "      <td>0.000000</td>\n",
       "      <td>0.000000</td>\n",
       "      <td>0.000000</td>\n",
       "      <td>0.000000</td>\n",
       "      <td>0.000000</td>\n",
       "      <td>0.000000</td>\n",
       "      <td>1.000000</td>\n",
       "      <td>1.000000</td>\n",
       "      <td>1.000000</td>\n",
       "      <td>1.000000</td>\n",
       "      <td>1.000000</td>\n",
       "      <td>1.000000</td>\n",
       "      <td>1.000000</td>\n",
       "      <td>1.000000</td>\n",
       "    </tr>\n",
       "    <tr>\n",
       "      <th>25%</th>\n",
       "      <td>2.219090e+11</td>\n",
       "      <td>22.000000</td>\n",
       "      <td>2204.000000</td>\n",
       "      <td>220402.000000</td>\n",
       "      <td>2.000000</td>\n",
       "      <td>9.000000</td>\n",
       "      <td>280.000000</td>\n",
       "      <td>12.000000</td>\n",
       "      <td>0.000000</td>\n",
       "      <td>1.000000</td>\n",
       "      <td>0.000000</td>\n",
       "      <td>0.000000</td>\n",
       "      <td>0.000000</td>\n",
       "      <td>0.000000</td>\n",
       "      <td>0.000000</td>\n",
       "      <td>0.000000</td>\n",
       "      <td>0.000000</td>\n",
       "      <td>0.000000</td>\n",
       "      <td>0.000000</td>\n",
       "      <td>1.000000</td>\n",
       "      <td>1.000000</td>\n",
       "      <td>1.000000</td>\n",
       "      <td>1.000000</td>\n",
       "      <td>1.000000</td>\n",
       "      <td>1.000000</td>\n",
       "      <td>1.000000</td>\n",
       "      <td>2.000000</td>\n",
       "    </tr>\n",
       "    <tr>\n",
       "      <th>50%</th>\n",
       "      <td>2.463020e+11</td>\n",
       "      <td>24.000000</td>\n",
       "      <td>2410.000000</td>\n",
       "      <td>241004.000000</td>\n",
       "      <td>2.000000</td>\n",
       "      <td>16.000000</td>\n",
       "      <td>358.000000</td>\n",
       "      <td>16.000000</td>\n",
       "      <td>0.000000</td>\n",
       "      <td>1.000000</td>\n",
       "      <td>0.000000</td>\n",
       "      <td>0.000000</td>\n",
       "      <td>0.000000</td>\n",
       "      <td>0.000000</td>\n",
       "      <td>0.000000</td>\n",
       "      <td>0.000000</td>\n",
       "      <td>0.000000</td>\n",
       "      <td>0.000000</td>\n",
       "      <td>0.000000</td>\n",
       "      <td>1.000000</td>\n",
       "      <td>1.000000</td>\n",
       "      <td>1.000000</td>\n",
       "      <td>1.000000</td>\n",
       "      <td>1.000000</td>\n",
       "      <td>1.000000</td>\n",
       "      <td>1.000000</td>\n",
       "      <td>3.000000</td>\n",
       "    </tr>\n",
       "    <tr>\n",
       "      <th>75%</th>\n",
       "      <td>3.036080e+11</td>\n",
       "      <td>30.000000</td>\n",
       "      <td>3010.000000</td>\n",
       "      <td>301006.000000</td>\n",
       "      <td>2.000000</td>\n",
       "      <td>27.000000</td>\n",
       "      <td>470.000000</td>\n",
       "      <td>18.000000</td>\n",
       "      <td>0.000000</td>\n",
       "      <td>1.000000</td>\n",
       "      <td>0.000000</td>\n",
       "      <td>0.000000</td>\n",
       "      <td>0.000000</td>\n",
       "      <td>0.000000</td>\n",
       "      <td>1.000000</td>\n",
       "      <td>0.000000</td>\n",
       "      <td>0.000000</td>\n",
       "      <td>0.000000</td>\n",
       "      <td>0.000000</td>\n",
       "      <td>1.000000</td>\n",
       "      <td>1.000000</td>\n",
       "      <td>2.000000</td>\n",
       "      <td>1.000000</td>\n",
       "      <td>2.000000</td>\n",
       "      <td>1.000000</td>\n",
       "      <td>1.000000</td>\n",
       "      <td>3.000000</td>\n",
       "    </tr>\n",
       "    <tr>\n",
       "      <th>max</th>\n",
       "      <td>3.667090e+11</td>\n",
       "      <td>36.000000</td>\n",
       "      <td>3611.000000</td>\n",
       "      <td>361108.000000</td>\n",
       "      <td>9.000000</td>\n",
       "      <td>999.000000</td>\n",
       "      <td>5000.000000</td>\n",
       "      <td>99.000000</td>\n",
       "      <td>1.000000</td>\n",
       "      <td>1.000000</td>\n",
       "      <td>1.000000</td>\n",
       "      <td>1.000000</td>\n",
       "      <td>1.000000</td>\n",
       "      <td>1.000000</td>\n",
       "      <td>1.000000</td>\n",
       "      <td>1.000000</td>\n",
       "      <td>1.000000</td>\n",
       "      <td>1.000000</td>\n",
       "      <td>1.000000</td>\n",
       "      <td>4.000000</td>\n",
       "      <td>10.000000</td>\n",
       "      <td>4.000000</td>\n",
       "      <td>5.000000</td>\n",
       "      <td>3.000000</td>\n",
       "      <td>5.000000</td>\n",
       "      <td>3.000000</td>\n",
       "      <td>3.000000</td>\n",
       "    </tr>\n",
       "  </tbody>\n",
       "</table>\n",
       "</div>"
      ],
      "text/plain": [
       "        building_id    district_id      vdcmun_id        ward_id  \\\n",
       "count  7.621060e+05  762106.000000  762106.000000  762106.000000   \n",
       "mean   2.607514e+11      25.767835    2582.688357  258274.277335   \n",
       "std    5.801855e+10       5.807555     581.172767   58117.348412   \n",
       "min    1.201010e+11      12.000000    1201.000000  120101.000000   \n",
       "25%    2.219090e+11      22.000000    2204.000000  220402.000000   \n",
       "50%    2.463020e+11      24.000000    2410.000000  241004.000000   \n",
       "75%    3.036080e+11      30.000000    3010.000000  301006.000000   \n",
       "max    3.667090e+11      36.000000    3611.000000  361108.000000   \n",
       "\n",
       "       count_floors_pre_eq   age_building  plinth_area_sq_ft  \\\n",
       "count        762106.000000  762106.000000      762106.000000   \n",
       "mean              2.087783      24.326405         406.672576   \n",
       "std               0.655101      65.043704         226.779371   \n",
       "min               1.000000       0.000000          70.000000   \n",
       "25%               2.000000       9.000000         280.000000   \n",
       "50%               2.000000      16.000000         358.000000   \n",
       "75%               2.000000      27.000000         470.000000   \n",
       "max               9.000000     999.000000        5000.000000   \n",
       "\n",
       "       height_ft_pre_eq  has_superstructure_adobe_mud  \\\n",
       "count     762106.000000                 762106.000000   \n",
       "mean          16.049372                      0.042401   \n",
       "std            5.493878                      0.201502   \n",
       "min            6.000000                      0.000000   \n",
       "25%           12.000000                      0.000000   \n",
       "50%           16.000000                      0.000000   \n",
       "75%           18.000000                      0.000000   \n",
       "max           99.000000                      1.000000   \n",
       "\n",
       "       has_superstructure_mud_mortar_stone  has_superstructure_stone_flag  \\\n",
       "count                        762106.000000                  762106.000000   \n",
       "mean                              0.800271                       0.035121   \n",
       "std                               0.399797                       0.184086   \n",
       "min                               0.000000                       0.000000   \n",
       "25%                               1.000000                       0.000000   \n",
       "50%                               1.000000                       0.000000   \n",
       "75%                               1.000000                       0.000000   \n",
       "max                               1.000000                       1.000000   \n",
       "\n",
       "       has_superstructure_cement_mortar_stone  \\\n",
       "count                           762106.000000   \n",
       "mean                                 0.015815   \n",
       "std                                  0.124761   \n",
       "min                                  0.000000   \n",
       "25%                                  0.000000   \n",
       "50%                                  0.000000   \n",
       "75%                                  0.000000   \n",
       "max                                  1.000000   \n",
       "\n",
       "       has_superstructure_mud_mortar_brick  \\\n",
       "count                        762106.000000   \n",
       "mean                              0.022961   \n",
       "std                               0.149780   \n",
       "min                               0.000000   \n",
       "25%                               0.000000   \n",
       "50%                               0.000000   \n",
       "75%                               0.000000   \n",
       "max                               1.000000   \n",
       "\n",
       "       has_superstructure_cement_mortar_brick  has_superstructure_timber  \\\n",
       "count                           762106.000000              762106.000000   \n",
       "mean                                 0.071525                   0.258766   \n",
       "std                                  0.257701                   0.437957   \n",
       "min                                  0.000000                   0.000000   \n",
       "25%                                  0.000000                   0.000000   \n",
       "50%                                  0.000000                   0.000000   \n",
       "75%                                  0.000000                   1.000000   \n",
       "max                                  1.000000                   1.000000   \n",
       "\n",
       "       has_superstructure_bamboo  has_superstructure_rc_non_engineered  \\\n",
       "count              762106.000000                         762106.000000   \n",
       "mean                    0.080482                              0.039794   \n",
       "std                     0.272039                              0.195474   \n",
       "min                     0.000000                              0.000000   \n",
       "25%                     0.000000                              0.000000   \n",
       "50%                     0.000000                              0.000000   \n",
       "75%                     0.000000                              0.000000   \n",
       "max                     1.000000                              1.000000   \n",
       "\n",
       "       has_superstructure_rc_engineered  has_superstructure_other  \\\n",
       "count                     762106.000000             762106.000000   \n",
       "mean                           0.016386                  0.012026   \n",
       "std                            0.126955                  0.109001   \n",
       "min                            0.000000                  0.000000   \n",
       "25%                            0.000000                  0.000000   \n",
       "50%                            0.000000                  0.000000   \n",
       "75%                            0.000000                  0.000000   \n",
       "max                            1.000000                  1.000000   \n",
       "\n",
       "        position_num  plan_configuration_num  other_floor_type_num  \\\n",
       "count  762106.000000           762106.000000         762106.000000   \n",
       "mean        1.245612                1.068446              1.602941   \n",
       "std         0.515966                0.407855              0.899447   \n",
       "min         1.000000                1.000000              1.000000   \n",
       "25%         1.000000                1.000000              1.000000   \n",
       "50%         1.000000                1.000000              1.000000   \n",
       "75%         1.000000                1.000000              2.000000   \n",
       "max         4.000000               10.000000              4.000000   \n",
       "\n",
       "       ground_floor_type_num  roof_type_num  foundation_type_num  \\\n",
       "count          762106.000000  762106.000000        762106.000000   \n",
       "mean                1.289105       1.397506             1.328735   \n",
       "std                 0.651036       0.597074             0.805117   \n",
       "min                 1.000000       1.000000             1.000000   \n",
       "25%                 1.000000       1.000000             1.000000   \n",
       "50%                 1.000000       1.000000             1.000000   \n",
       "75%                 1.000000       2.000000             1.000000   \n",
       "max                 5.000000       3.000000             5.000000   \n",
       "\n",
       "       land_surface_condition_num         target  \n",
       "count               762106.000000  762106.000000  \n",
       "mean                     1.203675       2.385151  \n",
       "std                      0.476709       0.820162  \n",
       "min                      1.000000       1.000000  \n",
       "25%                      1.000000       2.000000  \n",
       "50%                      1.000000       3.000000  \n",
       "75%                      1.000000       3.000000  \n",
       "max                      3.000000       3.000000  "
      ]
     },
     "execution_count": 40,
     "metadata": {},
     "output_type": "execute_result"
    }
   ],
   "source": [
    "building_structure_df.describe()"
   ]
  },
  {
   "cell_type": "markdown",
   "metadata": {},
   "source": [
    "According to the descriptive statistics, the oldest building is 999 years old and the newest is 0 years old. This will have to be checked."
   ]
  },
  {
   "cell_type": "code",
   "execution_count": 41,
   "metadata": {},
   "outputs": [
    {
     "name": "stdout",
     "output_type": "stream",
     "text": [
      "Number of 999 year old : 3145\n",
      "Number of 99 year old : 482\n"
     ]
    }
   ],
   "source": [
    "print('Number of 999 year old :',building_structure_df.loc[building_structure_df['age_building']== 999]['age_building'].count())\n",
    "print('Number of 99 year old :',building_structure_df.loc[building_structure_df['age_building']== 99]['age_building'].count())"
   ]
  },
  {
   "cell_type": "code",
   "execution_count": 42,
   "metadata": {},
   "outputs": [
    {
     "data": {
      "image/png": "[encoded data removed]",
      "text/plain": [
       "<Figure size 432x288 with 1 Axes>"
      ]
     },
     "metadata": {
      "needs_background": "light"
     },
     "output_type": "display_data"
    }
   ],
   "source": [
    "building_structure_df['age_building'].plot(kind='box');"
   ]
  },
  {
   "cell_type": "markdown",
   "metadata": {},
   "source": [
    "It seems that age 999 year might be an outlier. This may actually be 99 year old buildings."
   ]
  },
  {
   "cell_type": "code",
   "execution_count": 43,
   "metadata": {},
   "outputs": [],
   "source": [
    "building_structure_df.loc[(building_structure_df['age_building']== 999), 'age_building']=99"
   ]
  },
  {
   "cell_type": "markdown",
   "metadata": {},
   "source": [
    "**Building Damage Dataset**"
   ]
  },
  {
   "cell_type": "code",
   "execution_count": 44,
   "metadata": {},
   "outputs": [],
   "source": [
    "# # checking dataset info for feature dtype and missing values <-------- Uncomment cell to view\n",
    "# building_damage_df.info()"
   ]
  },
  {
   "cell_type": "markdown",
   "metadata": {},
   "source": [
    "The building damage dataframe has 762106 observations and 79 features. All the features are stored as a pandas object data type and several of the features are missing vlaues. Since most of the featues record post-earthquake information, I isolated the relevant features. The features I am interested in inform on any geotechnical risk a building faces where it stands."
   ]
  },
  {
   "cell_type": "code",
   "execution_count": 45,
   "metadata": {},
   "outputs": [],
   "source": [
    "geotech_risk_df=building_damage_df[['building_id', 'district_id', 'vdcmun_id', 'ward_id', 'has_geotechnical_risk_land_settlement',\n",
    "       'has_geotechnical_risk_fault_crack',\n",
    "       'has_geotechnical_risk_liquefaction', 'has_geotechnical_risk_landslide',\n",
    "       'has_geotechnical_risk_rock_fall', 'has_geotechnical_risk_flood',\n",
    "       'has_geotechnical_risk_other']]"
   ]
  },
  {
   "cell_type": "code",
   "execution_count": 46,
   "metadata": {},
   "outputs": [
    {
     "data": {
      "text/plain": [
       "building_id                              0\n",
       "district_id                              0\n",
       "vdcmun_id                                0\n",
       "ward_id                                  0\n",
       "has_geotechnical_risk_land_settlement    0\n",
       "has_geotechnical_risk_fault_crack        0\n",
       "has_geotechnical_risk_liquefaction       0\n",
       "has_geotechnical_risk_landslide          0\n",
       "has_geotechnical_risk_rock_fall          0\n",
       "has_geotechnical_risk_flood              0\n",
       "has_geotechnical_risk_other              0\n",
       "dtype: int64"
      ]
     },
     "execution_count": 46,
     "metadata": {},
     "output_type": "execute_result"
    }
   ],
   "source": [
    "geotech_risk_df.isna().sum()"
   ]
  },
  {
   "cell_type": "markdown",
   "metadata": {},
   "source": [
    "No missing values observed. However, the feature data types need to be converted to numeric."
   ]
  },
  {
   "cell_type": "code",
   "execution_count": 47,
   "metadata": {},
   "outputs": [],
   "source": [
    "for col in geotech_risk_df.columns:\n",
    "    geotech_risk_df[col]= pd.to_numeric(geotech_risk_df[col])"
   ]
  },
  {
   "cell_type": "markdown",
   "metadata": {},
   "source": [
    "**Merging all three datasets**\n",
    "Combining geotech_risk_df on id features with building_structure_df. Then, merging with building_use_df on id features."
   ]
  },
  {
   "cell_type": "code",
   "execution_count": 48,
   "metadata": {},
   "outputs": [],
   "source": [
    "new_df = pd.merge(building_structure_df, geotech_risk_df, how= 'left', \n",
    "                  on = ['building_id', 'district_id', 'vdcmun_id', 'ward_id'], validate= 'one_to_one')"
   ]
  },
  {
   "cell_type": "code",
   "execution_count": 49,
   "metadata": {},
   "outputs": [],
   "source": [
    "building_df = pd.merge(new_df,building_use_df, how= 'left', \n",
    "                  on = ['building_id', 'district_id', 'vdcmun_id', 'ward_id'], validate= 'one_to_one')"
   ]
  },
  {
   "cell_type": "markdown",
   "metadata": {},
   "source": [
    "Isolating ward id and vdcmun is"
   ]
  },
  {
   "cell_type": "code",
   "execution_count": 50,
   "metadata": {},
   "outputs": [],
   "source": [
    "building_df['ward_id'] = building_df['ward_id']-(building_df['vdcmun_id']*100)\n",
    "\n",
    "building_df['vdcmun_id'] = building_df['vdcmun_id']-(building_df['district_id']*100)"
   ]
  },
  {
   "cell_type": "code",
   "execution_count": 51,
   "metadata": {},
   "outputs": [],
   "source": [
    "# Dropping unique identifier from final dataset\n",
    "building_df.drop(['building_id'], axis=1, inplace=True)"
   ]
  },
  {
   "cell_type": "markdown",
   "metadata": {},
   "source": [
    "Our cleaned dataset `building_df` is now ready for data exploration"
   ]
  },
  {
   "cell_type": "code",
   "execution_count": 52,
   "metadata": {},
   "outputs": [],
   "source": [
    "# building_df = pd.read_pickle('./data/pickles/building_df.pkl')"
   ]
  },
  {
   "cell_type": "markdown",
   "metadata": {},
   "source": [
    "## Data EDA"
   ]
  },
  {
   "cell_type": "markdown",
   "metadata": {},
   "source": [
    "This section explores what type of building features make a building prone to damage from an earthquake. We will explore the various geotechnical risks, secondary use of a building, building superstrucure construction composition and also the damage comparative composition of foundation type, floor type and roof type of a building."
   ]
  },
  {
   "cell_type": "code",
   "execution_count": 53,
   "metadata": {},
   "outputs": [
    {
     "data": {
      "text/plain": [
       "(762106, 53)"
      ]
     },
     "execution_count": 53,
     "metadata": {},
     "output_type": "execute_result"
    }
   ],
   "source": [
    "building_df.shape"
   ]
  },
  {
   "cell_type": "code",
   "execution_count": 54,
   "metadata": {},
   "outputs": [
    {
     "data": {
      "text/html": [
       "<div>\n",
       "<style scoped>\n",
       "    .dataframe tbody tr th:only-of-type {\n",
       "        vertical-align: middle;\n",
       "    }\n",
       "\n",
       "    .dataframe tbody tr th {\n",
       "        vertical-align: top;\n",
       "    }\n",
       "\n",
       "    .dataframe thead th {\n",
       "        text-align: right;\n",
       "    }\n",
       "</style>\n",
       "<table border=\"1\" class=\"dataframe\">\n",
       "  <thead>\n",
       "    <tr style=\"text-align: right;\">\n",
       "      <th></th>\n",
       "      <th>district_id</th>\n",
       "      <th>vdcmun_id</th>\n",
       "      <th>ward_id</th>\n",
       "      <th>count_floors_pre_eq</th>\n",
       "      <th>age_building</th>\n",
       "      <th>plinth_area_sq_ft</th>\n",
       "      <th>height_ft_pre_eq</th>\n",
       "      <th>land_surface_condition</th>\n",
       "      <th>foundation_type</th>\n",
       "      <th>roof_type</th>\n",
       "      <th>ground_floor_type</th>\n",
       "      <th>other_floor_type</th>\n",
       "      <th>position</th>\n",
       "      <th>plan_configuration</th>\n",
       "      <th>has_superstructure_adobe_mud</th>\n",
       "      <th>has_superstructure_mud_mortar_stone</th>\n",
       "      <th>has_superstructure_stone_flag</th>\n",
       "      <th>has_superstructure_cement_mortar_stone</th>\n",
       "      <th>has_superstructure_mud_mortar_brick</th>\n",
       "      <th>has_superstructure_cement_mortar_brick</th>\n",
       "      <th>has_superstructure_timber</th>\n",
       "      <th>has_superstructure_bamboo</th>\n",
       "      <th>has_superstructure_rc_non_engineered</th>\n",
       "      <th>has_superstructure_rc_engineered</th>\n",
       "      <th>has_superstructure_other</th>\n",
       "      <th>position_num</th>\n",
       "      <th>plan_configuration_num</th>\n",
       "      <th>other_floor_type_num</th>\n",
       "      <th>ground_floor_type_num</th>\n",
       "      <th>roof_type_num</th>\n",
       "      <th>foundation_type_num</th>\n",
       "      <th>land_surface_condition_num</th>\n",
       "      <th>target</th>\n",
       "      <th>has_geotechnical_risk_land_settlement</th>\n",
       "      <th>has_geotechnical_risk_fault_crack</th>\n",
       "      <th>has_geotechnical_risk_liquefaction</th>\n",
       "      <th>has_geotechnical_risk_landslide</th>\n",
       "      <th>has_geotechnical_risk_rock_fall</th>\n",
       "      <th>has_geotechnical_risk_flood</th>\n",
       "      <th>has_geotechnical_risk_other</th>\n",
       "      <th>legal_ownership_status</th>\n",
       "      <th>has_secondary_use</th>\n",
       "      <th>has_secondary_use_agriculture</th>\n",
       "      <th>has_secondary_use_hotel</th>\n",
       "      <th>has_secondary_use_rental</th>\n",
       "      <th>has_secondary_use_institution</th>\n",
       "      <th>has_secondary_use_school</th>\n",
       "      <th>has_secondary_use_industry</th>\n",
       "      <th>has_secondary_use_health_post</th>\n",
       "      <th>has_secondary_use_gov_office</th>\n",
       "      <th>has_secondary_use_use_police</th>\n",
       "      <th>has_secondary_use_other</th>\n",
       "      <th>legal_ownership_status_num</th>\n",
       "    </tr>\n",
       "  </thead>\n",
       "  <tbody>\n",
       "    <tr>\n",
       "      <th>0</th>\n",
       "      <td>12</td>\n",
       "      <td>7</td>\n",
       "      <td>3</td>\n",
       "      <td>1</td>\n",
       "      <td>9</td>\n",
       "      <td>288</td>\n",
       "      <td>9</td>\n",
       "      <td>Flat</td>\n",
       "      <td>Other</td>\n",
       "      <td>Bamboo/Timber-Light roof</td>\n",
       "      <td>Mud</td>\n",
       "      <td>Not applicable</td>\n",
       "      <td>Not attached</td>\n",
       "      <td>Rectangular</td>\n",
       "      <td>0</td>\n",
       "      <td>1</td>\n",
       "      <td>0</td>\n",
       "      <td>0</td>\n",
       "      <td>0</td>\n",
       "      <td>0</td>\n",
       "      <td>0</td>\n",
       "      <td>1</td>\n",
       "      <td>0</td>\n",
       "      <td>0</td>\n",
       "      <td>0</td>\n",
       "      <td>1</td>\n",
       "      <td>1</td>\n",
       "      <td>3</td>\n",
       "      <td>1</td>\n",
       "      <td>1</td>\n",
       "      <td>5</td>\n",
       "      <td>1</td>\n",
       "      <td>2</td>\n",
       "      <td>0</td>\n",
       "      <td>0</td>\n",
       "      <td>0</td>\n",
       "      <td>0</td>\n",
       "      <td>0</td>\n",
       "      <td>0</td>\n",
       "      <td>0</td>\n",
       "      <td>Private</td>\n",
       "      <td>0.0</td>\n",
       "      <td>0</td>\n",
       "      <td>0</td>\n",
       "      <td>0</td>\n",
       "      <td>0</td>\n",
       "      <td>0</td>\n",
       "      <td>0</td>\n",
       "      <td>0</td>\n",
       "      <td>0</td>\n",
       "      <td>0</td>\n",
       "      <td>0</td>\n",
       "      <td>1</td>\n",
       "    </tr>\n",
       "    <tr>\n",
       "      <th>1</th>\n",
       "      <td>12</td>\n",
       "      <td>7</td>\n",
       "      <td>3</td>\n",
       "      <td>1</td>\n",
       "      <td>15</td>\n",
       "      <td>364</td>\n",
       "      <td>9</td>\n",
       "      <td>Flat</td>\n",
       "      <td>Other</td>\n",
       "      <td>Bamboo/Timber-Light roof</td>\n",
       "      <td>Mud</td>\n",
       "      <td>Not applicable</td>\n",
       "      <td>Not attached</td>\n",
       "      <td>Rectangular</td>\n",
       "      <td>0</td>\n",
       "      <td>1</td>\n",
       "      <td>0</td>\n",
       "      <td>0</td>\n",
       "      <td>0</td>\n",
       "      <td>0</td>\n",
       "      <td>0</td>\n",
       "      <td>1</td>\n",
       "      <td>0</td>\n",
       "      <td>0</td>\n",
       "      <td>0</td>\n",
       "      <td>1</td>\n",
       "      <td>1</td>\n",
       "      <td>3</td>\n",
       "      <td>1</td>\n",
       "      <td>1</td>\n",
       "      <td>5</td>\n",
       "      <td>1</td>\n",
       "      <td>3</td>\n",
       "      <td>0</td>\n",
       "      <td>0</td>\n",
       "      <td>0</td>\n",
       "      <td>0</td>\n",
       "      <td>0</td>\n",
       "      <td>0</td>\n",
       "      <td>0</td>\n",
       "      <td>Private</td>\n",
       "      <td>0.0</td>\n",
       "      <td>0</td>\n",
       "      <td>0</td>\n",
       "      <td>0</td>\n",
       "      <td>0</td>\n",
       "      <td>0</td>\n",
       "      <td>0</td>\n",
       "      <td>0</td>\n",
       "      <td>0</td>\n",
       "      <td>0</td>\n",
       "      <td>0</td>\n",
       "      <td>1</td>\n",
       "    </tr>\n",
       "    <tr>\n",
       "      <th>2</th>\n",
       "      <td>12</td>\n",
       "      <td>7</td>\n",
       "      <td>3</td>\n",
       "      <td>1</td>\n",
       "      <td>20</td>\n",
       "      <td>384</td>\n",
       "      <td>9</td>\n",
       "      <td>Flat</td>\n",
       "      <td>Other</td>\n",
       "      <td>Bamboo/Timber-Light roof</td>\n",
       "      <td>Mud</td>\n",
       "      <td>Not applicable</td>\n",
       "      <td>Not attached</td>\n",
       "      <td>Rectangular</td>\n",
       "      <td>0</td>\n",
       "      <td>1</td>\n",
       "      <td>0</td>\n",
       "      <td>0</td>\n",
       "      <td>0</td>\n",
       "      <td>0</td>\n",
       "      <td>0</td>\n",
       "      <td>0</td>\n",
       "      <td>0</td>\n",
       "      <td>0</td>\n",
       "      <td>0</td>\n",
       "      <td>1</td>\n",
       "      <td>1</td>\n",
       "      <td>3</td>\n",
       "      <td>1</td>\n",
       "      <td>1</td>\n",
       "      <td>5</td>\n",
       "      <td>1</td>\n",
       "      <td>1</td>\n",
       "      <td>0</td>\n",
       "      <td>0</td>\n",
       "      <td>0</td>\n",
       "      <td>0</td>\n",
       "      <td>0</td>\n",
       "      <td>0</td>\n",
       "      <td>0</td>\n",
       "      <td>Private</td>\n",
       "      <td>0.0</td>\n",
       "      <td>0</td>\n",
       "      <td>0</td>\n",
       "      <td>0</td>\n",
       "      <td>0</td>\n",
       "      <td>0</td>\n",
       "      <td>0</td>\n",
       "      <td>0</td>\n",
       "      <td>0</td>\n",
       "      <td>0</td>\n",
       "      <td>0</td>\n",
       "      <td>1</td>\n",
       "    </tr>\n",
       "  </tbody>\n",
       "</table>\n",
       "</div>"
      ],
      "text/plain": [
       "   district_id  vdcmun_id  ward_id  count_floors_pre_eq  age_building  \\\n",
       "0           12          7        3                    1             9   \n",
       "1           12          7        3                    1            15   \n",
       "2           12          7        3                    1            20   \n",
       "\n",
       "   plinth_area_sq_ft  height_ft_pre_eq land_surface_condition foundation_type  \\\n",
       "0                288                 9                   Flat           Other   \n",
       "1                364                 9                   Flat           Other   \n",
       "2                384                 9                   Flat           Other   \n",
       "\n",
       "                  roof_type ground_floor_type other_floor_type      position  \\\n",
       "0  Bamboo/Timber-Light roof               Mud   Not applicable  Not attached   \n",
       "1  Bamboo/Timber-Light roof               Mud   Not applicable  Not attached   \n",
       "2  Bamboo/Timber-Light roof               Mud   Not applicable  Not attached   \n",
       "\n",
       "  plan_configuration  has_superstructure_adobe_mud  \\\n",
       "0        Rectangular                             0   \n",
       "1        Rectangular                             0   \n",
       "2        Rectangular                             0   \n",
       "\n",
       "   has_superstructure_mud_mortar_stone  has_superstructure_stone_flag  \\\n",
       "0                                    1                              0   \n",
       "1                                    1                              0   \n",
       "2                                    1                              0   \n",
       "\n",
       "   has_superstructure_cement_mortar_stone  \\\n",
       "0                                       0   \n",
       "1                                       0   \n",
       "2                                       0   \n",
       "\n",
       "   has_superstructure_mud_mortar_brick  \\\n",
       "0                                    0   \n",
       "1                                    0   \n",
       "2                                    0   \n",
       "\n",
       "   has_superstructure_cement_mortar_brick  has_superstructure_timber  \\\n",
       "0                                       0                          0   \n",
       "1                                       0                          0   \n",
       "2                                       0                          0   \n",
       "\n",
       "   has_superstructure_bamboo  has_superstructure_rc_non_engineered  \\\n",
       "0                          1                                     0   \n",
       "1                          1                                     0   \n",
       "2                          0                                     0   \n",
       "\n",
       "   has_superstructure_rc_engineered  has_superstructure_other  position_num  \\\n",
       "0                                 0                         0             1   \n",
       "1                                 0                         0             1   \n",
       "2                                 0                         0             1   \n",
       "\n",
       "   plan_configuration_num  other_floor_type_num  ground_floor_type_num  \\\n",
       "0                       1                     3                      1   \n",
       "1                       1                     3                      1   \n",
       "2                       1                     3                      1   \n",
       "\n",
       "   roof_type_num  foundation_type_num  land_surface_condition_num  target  \\\n",
       "0              1                    5                           1       2   \n",
       "1              1                    5                           1       3   \n",
       "2              1                    5                           1       1   \n",
       "\n",
       "   has_geotechnical_risk_land_settlement  has_geotechnical_risk_fault_crack  \\\n",
       "0                                      0                                  0   \n",
       "1                                      0                                  0   \n",
       "2                                      0                                  0   \n",
       "\n",
       "   has_geotechnical_risk_liquefaction  has_geotechnical_risk_landslide  \\\n",
       "0                                   0                                0   \n",
       "1                                   0                                0   \n",
       "2                                   0                                0   \n",
       "\n",
       "   has_geotechnical_risk_rock_fall  has_geotechnical_risk_flood  \\\n",
       "0                                0                            0   \n",
       "1                                0                            0   \n",
       "2                                0                            0   \n",
       "\n",
       "   has_geotechnical_risk_other legal_ownership_status  has_secondary_use  \\\n",
       "0                            0                Private                0.0   \n",
       "1                            0                Private                0.0   \n",
       "2                            0                Private                0.0   \n",
       "\n",
       "   has_secondary_use_agriculture  has_secondary_use_hotel  \\\n",
       "0                              0                        0   \n",
       "1                              0                        0   \n",
       "2                              0                        0   \n",
       "\n",
       "   has_secondary_use_rental  has_secondary_use_institution  \\\n",
       "0                         0                              0   \n",
       "1                         0                              0   \n",
       "2                         0                              0   \n",
       "\n",
       "   has_secondary_use_school  has_secondary_use_industry  \\\n",
       "0                         0                           0   \n",
       "1                         0                           0   \n",
       "2                         0                           0   \n",
       "\n",
       "   has_secondary_use_health_post  has_secondary_use_gov_office  \\\n",
       "0                              0                             0   \n",
       "1                              0                             0   \n",
       "2                              0                             0   \n",
       "\n",
       "   has_secondary_use_use_police  has_secondary_use_other  \\\n",
       "0                             0                        0   \n",
       "1                             0                        0   \n",
       "2                             0                        0   \n",
       "\n",
       "   legal_ownership_status_num  \n",
       "0                           1  \n",
       "1                           1  \n",
       "2                           1  "
      ]
     },
     "execution_count": 54,
     "metadata": {},
     "output_type": "execute_result"
    }
   ],
   "source": [
    "building_df.head(3)"
   ]
  },
  {
   "cell_type": "code",
   "execution_count": 55,
   "metadata": {},
   "outputs": [],
   "source": [
    "geotech_risk_list = [\n",
    "       'has_geotechnical_risk_land_settlement',\n",
    "       'has_geotechnical_risk_fault_crack',\n",
    "       'has_geotechnical_risk_liquefaction', 'has_geotechnical_risk_landslide',\n",
    "       'has_geotechnical_risk_rock_fall', 'has_geotechnical_risk_flood',\n",
    "       'has_geotechnical_risk_other']"
   ]
  },
  {
   "cell_type": "code",
   "execution_count": 56,
   "metadata": {},
   "outputs": [
    {
     "data": {
      "image/png": "[encoded data removed]",
      "text/plain": [
       "<Figure size 792x504 with 1 Axes>"
      ]
     },
     "metadata": {
      "needs_background": "light"
     },
     "output_type": "display_data"
    }
   ],
   "source": [
    "title= 'Distribution of Geotechnical Risk'\n",
    "ylabel ='Type of Geotechnical Risk'\n",
    "figname = 'Distribution_of_Geotechnical_Risk.png'\n",
    "\n",
    "eda.dict_to_fig(geotech_risk_list, building_df, title, ylabel, figname )"
   ]
  },
  {
   "cell_type": "markdown",
   "metadata": {},
   "source": [
    "Geotechnical risk is risk faced by buildings and construction work due to various ground conditions. We can surmise that with some geotechnical risk, the risk of damage to a building from an earthquake goes up. There are 109647 buildings that have some form of geotechnical risk based on where the building stands. \n",
    "\n",
    "The majority of the geotechnical risk faced by the buildings in the dataset is risk from landslide. A landslide is defined as the movement of a mass of earth down a slope([source](https://www.usgs.gov/faqs/what-a-landslide-and-what-causes-one?qt-news_science_products=0#qt-news_science_products)). Earthquake shaking can induce landslides in already landslide prone land areas. To learn more about landslides visit the source link. \n",
    "\n",
    "Geotechnical risk of fault cracks in the land of the building is faced by 40548 buildings in the dataset. Rock fall is also a significant geological hazard faced by buildings. Another geotechnical hazard is land settlement. Land settlement is defined as the vertical movement of a mass of earth([source](https://www.cmwgeosciences.com/geotechnical-services/ground-settlement)) which is generally caused due to changes in stresses within the earth. Land areas prone so these risks cab be exacerbated by eaerthquake shaking increase the risk of damage to structures found on such land.\n",
    "\n",
    "Also here, The feature `has_geotechnical_risk` can be added to the drop list because it is a place holder for the count of buildings with any geotechnical risk. The nature of risk is covered by the individual geotechnical risk features."
   ]
  },
  {
   "cell_type": "code",
   "execution_count": 57,
   "metadata": {},
   "outputs": [],
   "source": [
    "secondary_use_list = ['has_secondary_use_agriculture',\n",
    "       'has_secondary_use_hotel', 'has_secondary_use_rental',\n",
    "       'has_secondary_use_institution', 'has_secondary_use_school',\n",
    "       'has_secondary_use_industry', 'has_secondary_use_health_post',\n",
    "       'has_secondary_use_gov_office', 'has_secondary_use_use_police',\n",
    "       'has_secondary_use_other']"
   ]
  },
  {
   "cell_type": "code",
   "execution_count": 58,
   "metadata": {},
   "outputs": [
    {
     "data": {
      "image/png": "[encoded data removed]",
      "text/plain": [
       "<Figure size 792x504 with 1 Axes>"
      ]
     },
     "metadata": {
      "needs_background": "light"
     },
     "output_type": "display_data"
    }
   ],
   "source": [
    "title= 'Distribution of Secondary use of building'\n",
    "ylabel ='Type of Secondary Use'\n",
    "figname = 'Distribution_of_Secondary_use_of_building.png'\n",
    "eda.dict_to_fig(secondary_use_list, building_df, title, ylabel, figname )"
   ]
  },
  {
   "cell_type": "markdown",
   "metadata": {},
   "source": [
    "There are 92364 buildings that also have a secondary use. The majority of the secondary usage of buildings is for agriculture, then as hotels and rentals. The feature `has_secondary_use` can be dropped because it is a place holder for the count of buildings with secondary use. The nature of use is covered by the individual usage features."
   ]
  },
  {
   "cell_type": "code",
   "execution_count": 59,
   "metadata": {},
   "outputs": [],
   "source": [
    "superstructure_list= ['has_superstructure_adobe_mud',\n",
    "       'has_superstructure_mud_mortar_stone', 'has_superstructure_stone_flag',\n",
    "       'has_superstructure_cement_mortar_stone',\n",
    "       'has_superstructure_mud_mortar_brick',\n",
    "       'has_superstructure_cement_mortar_brick', 'has_superstructure_timber',\n",
    "       'has_superstructure_bamboo', 'has_superstructure_rc_non_engineered',\n",
    "       'has_superstructure_rc_engineered', 'has_superstructure_other']"
   ]
  },
  {
   "cell_type": "code",
   "execution_count": 60,
   "metadata": {},
   "outputs": [
    {
     "data": {
      "image/png": "[encoded data removed]",
      "text/plain": [
       "<Figure size 792x504 with 1 Axes>"
      ]
     },
     "metadata": {
      "needs_background": "light"
     },
     "output_type": "display_data"
    }
   ],
   "source": [
    "title= 'Distribution of Building Superstructure Composition'\n",
    "ylabel = 'Type of Superstructure'\n",
    "figname = 'Distribution_of_building_superstructure_composition.png'\n",
    "eda.dict_to_fig(superstructure_list, building_df, title, ylabel, figname )"
   ]
  },
  {
   "cell_type": "markdown",
   "metadata": {},
   "source": [
    "Superstructure is the structual part of a building found above the foundation or basement. The type of materials used or found in the superstructure can be very telling about the kind of damage a building may have from an earthquake. \n",
    "\n",
    "In the dataset, we find that about 80% of the buildings have a build composition of mud, mortar and stone, with others. Timber is the next heavily used material in building superstructures.\n"
   ]
  },
  {
   "cell_type": "code",
   "execution_count": 61,
   "metadata": {},
   "outputs": [
    {
     "data": {
      "image/png": "[encoded data removed]",
      "text/plain": [
       "<Figure size 648x504 with 1 Axes>"
      ]
     },
     "metadata": {
      "needs_background": "light"
     },
     "output_type": "display_data"
    }
   ],
   "source": [
    "viz.floor_type(building_df)"
   ]
  },
  {
   "cell_type": "markdown",
   "metadata": {},
   "source": [
    "Building damage severity is highest for structures with a a floor type of timber/ bamboo mud. This group also had the most number of buildings with minor damages by a lot. The best fairing buildings had a floor type composition of RCC/RB/RBC, where damages were the least but with still some building that were severely compromised.\n",
    "\n",
    "RCC/RB/RBC all refer to **Reinforced Cement Concrete** where the composite materials are made of cement concrete and steet rebars. In construction, the steet rebars at tensile strength and ductility to conteract the rigidity of the concrete."
   ]
  },
  {
   "cell_type": "code",
   "execution_count": 62,
   "metadata": {},
   "outputs": [
    {
     "data": {
      "image/png": "[encoded data removed]",
      "text/plain": [
       "<Figure size 648x504 with 1 Axes>"
      ]
     },
     "metadata": {
      "needs_background": "light"
     },
     "output_type": "display_data"
    }
   ],
   "source": [
    "viz.foundation_type(building_df)"
   ]
  },
  {
   "cell_type": "markdown",
   "metadata": {},
   "source": [
    "Looking at the foundation type of the building, we can clearly see that some form of concrete material foundation type faced the least damages. Buildings with mud mortar-stone/Brick foundations were heavily damaged during the earthquake."
   ]
  },
  {
   "cell_type": "code",
   "execution_count": 63,
   "metadata": {},
   "outputs": [
    {
     "data": {
      "image/png": "[encoded data removed]",
      "text/plain": [
       "<Figure size 648x504 with 1 Axes>"
      ]
     },
     "metadata": {
      "needs_background": "light"
     },
     "output_type": "display_data"
    }
   ],
   "source": [
    "viz.roof_type(building_df)"
   ]
  },
  {
   "cell_type": "markdown",
   "metadata": {},
   "source": [
    "Similarly, here for bamboo/timber-light roofing buildings the damage was highest. RCC roofed buildings were either severly damaged or barly damaged at all. \n",
    "\n",
    "Understanding how earthquakes affect buildings is important in sensing the damage it may face from an earthquake event. Having a seismic design in mind during building construction, renovation or repair specially for areas that lie above a fault line is most important. Read more in this external [article](https://www.interiorsandsources.com/article-details/articleid/9383/title/how-earthquakes-affect-buildings)"
   ]
  },
  {
   "cell_type": "markdown",
   "metadata": {},
   "source": [
    "## Baseline Model\n",
    "As a base to compare all other following models. We first train test split and then fit a logistic regression multiclass classification model and save the scores to compare.\n",
    "\n",
    "### Train Test Split for baseline model"
   ]
  },
  {
   "cell_type": "code",
   "execution_count": 64,
   "metadata": {},
   "outputs": [
    {
     "name": "stdout",
     "output_type": "stream",
     "text": [
      "Training set - Features:  (609684, 43) Target:  (609684,)\n",
      "Test set - Features:  (152422, 43) Target:  (152422,)\n",
      "============================================ \n",
      "3    0.603185\n",
      "1    0.217613\n",
      "2    0.179203\n",
      "Name: target, dtype: float64\n",
      "3    0.602656\n",
      "1    0.219188\n",
      "2    0.178157\n",
      "Name: target, dtype: float64\n"
     ]
    }
   ],
   "source": [
    "X_droplist = ['target','legal_ownership_status', 'land_surface_condition', 'foundation_type',\n",
    "       'roof_type', 'ground_floor_type', 'other_floor_type', 'plan_configuration', 'position', 'has_secondary_use']\n",
    "\n",
    "X = building_df.drop(columns=X_droplist)\n",
    "y = building_df['target']\n",
    "\n",
    "#performing train-test split on main dataframe\n",
    "X_train, X_test, y_train, y_test = train_test_split(X, y, random_state=100, test_size=0.2)\n",
    "\n",
    "#checking the shape of the training set and test set\n",
    "print(\"Training set - Features: \", X_train.shape, \"Target: \", y_train.shape,)\n",
    "print(\"Test set - Features: \", X_test.shape, \"Target: \",y_test.shape,)\n",
    "print('============================================ ')\n",
    "print(y_train.value_counts(normalize = True))\n",
    "print(y_test.value_counts(normalize = True))"
   ]
  },
  {
   "cell_type": "code",
   "execution_count": 65,
   "metadata": {},
   "outputs": [
    {
     "name": "stdout",
     "output_type": "stream",
     "text": [
      "Test F1 score:  0.594\n",
      "Train F1 score:  0.5929\n",
      "================================\n",
      "Test Recall score:  0.6732\n",
      "Train Recall score:  0.6722\n"
     ]
    }
   ],
   "source": [
    "lr1 = LogisticRegression(solver='lbfgs',multi_class='multinomial', random_state=100)\n",
    "\n",
    "lr1.fit(X_train, y_train)\n",
    "\n",
    "y_pred_test = lr1.predict(X_test)\n",
    "y_pred_train = lr1.predict(X_train)\n",
    "\n",
    "# checking f1 score\n",
    "print('Test F1 score: ', round(metrics.f1_score(y_test, y_pred_test, average='weighted'),4))\n",
    "print('Train F1 score: ', round(metrics.f1_score(y_train, y_pred_train, average='weighted'),4))\n",
    "print('================================')\n",
    "# checking recall score\n",
    "print('Test Recall score: ', round(metrics.recall_score(y_test, y_pred_test, average='weighted'),4))\n",
    "print('Train Recall score: ', round(metrics.recall_score(y_train, y_pred_train, average='weighted'),4))"
   ]
  },
  {
   "cell_type": "code",
   "execution_count": 66,
   "metadata": {},
   "outputs": [],
   "source": [
    "mod_eval= {}\n",
    "mod_eval['baseline_lr1']={'f1':round(metrics.f1_score(y_test, y_pred_test, average='weighted'),4),\n",
    "                  'recall': round(metrics.recall_score(y_test, y_pred_test, average='weighted'),4)}"
   ]
  },
  {
   "cell_type": "markdown",
   "metadata": {},
   "source": [
    "Based on the model evaluation metric, the test f1 score is 0.594 which is slightly higher than the train f1 score of 0.5929. The model is slightly underfitting. Similarly the train recall scores also give evidence of slight underfitting. \n",
    "\n",
    "The baseline model is predicting on a heavily class imbalanced data and may be predicting on the majority, with high numbers of false positive and/or false negatives. "
   ]
  },
  {
   "cell_type": "code",
   "execution_count": 67,
   "metadata": {},
   "outputs": [
    {
     "data": {
      "image/png": "[encoded data removed]",
      "text/plain": [
       "<Figure size 432x288 with 2 Axes>"
      ]
     },
     "metadata": {
      "needs_background": "light"
     },
     "output_type": "display_data"
    }
   ],
   "source": [
    "plot_confusion_matrix(lr1, X_train, y_train, normalize='true')\n",
    "plt.grid(False)"
   ]
  },
  {
   "cell_type": "markdown",
   "metadata": {},
   "source": [
    "In the confusion matrix we can see the predicted distribution. The model does a phenomenal job of predicting the severe damage class, class 3 but completely fails to predict other classes appropriately."
   ]
  },
  {
   "cell_type": "markdown",
   "metadata": {},
   "source": [
    "## Feature Engineering"
   ]
  },
  {
   "cell_type": "markdown",
   "metadata": {},
   "source": [
    "We have a lot of nominal variables that may best be turned to dummy variables. The corresponding *'num'* features will be added to the drop list to be removed from the main dataset to be used in modeling. The building location identifications can also be turned to dummy variables."
   ]
  },
  {
   "cell_type": "code",
   "execution_count": 68,
   "metadata": {},
   "outputs": [],
   "source": [
    "dummy_1 = mod.dummify(building_df, 'ward_id')\n",
    "dummy_2 = mod.dummify(building_df, 'land_surface_condition')\n",
    "dummy_3 = mod.dummify(building_df, 'foundation_type')\n",
    "dummy_4 = mod.dummify(building_df, 'roof_type')\n",
    "dummy_5 = mod.dummify(building_df, 'ground_floor_type')\n",
    "dummy_6 = mod.dummify(building_df, 'other_floor_type')\n",
    "dummy_7 = mod.dummify(building_df, 'position')\n",
    "dummy_8 = mod.dummify(building_df, 'plan_configuration')\n",
    "dummy_9 = mod.dummify(building_df, 'legal_ownership_status')\n",
    "dummy_10 = mod.dummify(building_df, 'district_id')\n",
    "dummy_11 = mod.dummify(building_df, 'vdcmun_id')"
   ]
  },
  {
   "cell_type": "markdown",
   "metadata": {},
   "source": [
    "Next, we drop all the features that converted to dummies as the other features from EDA: `has_secondary_use` and `has_geotechnical_risk`."
   ]
  },
  {
   "cell_type": "code",
   "execution_count": 69,
   "metadata": {},
   "outputs": [
    {
     "data": {
      "text/plain": [
       "20"
      ]
     },
     "execution_count": 69,
     "metadata": {},
     "output_type": "execute_result"
    }
   ],
   "source": [
    "# defining the list of features to drop\n",
    "drop_list= ['ward_id', 'land_surface_condition', 'foundation_type',\n",
    "       'roof_type', 'ground_floor_type', 'other_floor_type', 'position',\n",
    "       'plan_configuration','legal_ownership_status', 'land_surface_condition_num', \n",
    "            'foundation_type_num', 'roof_type_num',\n",
    "       'ground_floor_type_num', 'other_floor_type_num', 'position_num', \n",
    "            'plan_configuration_num', 'legal_ownership_status_num', \n",
    "            'has_secondary_use', 'district_id', 'vdcmun_id']\n",
    "len(drop_list)"
   ]
  },
  {
   "cell_type": "code",
   "execution_count": 70,
   "metadata": {},
   "outputs": [],
   "source": [
    "building_df.drop(columns=drop_list, axis = 1, inplace=True)"
   ]
  },
  {
   "cell_type": "code",
   "execution_count": 71,
   "metadata": {},
   "outputs": [
    {
     "name": "stdout",
     "output_type": "stream",
     "text": [
      "(762106, 33)\n",
      "(762106, 18)\n",
      "(762106, 2)\n",
      "(762106, 4)\n",
      "(762106, 2)\n",
      "(762106, 4)\n",
      "(762106, 3)\n",
      "(762106, 3)\n",
      "(762106, 9)\n",
      "(762106, 3)\n",
      "(762106, 10)\n",
      "(762106, 12)\n"
     ]
    }
   ],
   "source": [
    "#defining the dataframes to be concatenated and confirming appropriate shape\n",
    "df_list= [building_df, dummy_1 , dummy_2 , dummy_3 , dummy_4 , dummy_5 , \n",
    "          dummy_6 , dummy_7 , dummy_8 , dummy_9, dummy_10, dummy_11]\n",
    "for df in df_list:\n",
    "    print(df.shape)"
   ]
  },
  {
   "cell_type": "code",
   "execution_count": 72,
   "metadata": {},
   "outputs": [
    {
     "name": "stdout",
     "output_type": "stream",
     "text": [
      "(762106, 102)\n",
      "(762106,)\n"
     ]
    }
   ],
   "source": [
    "# Concatenating all the dfs\n",
    "X = pd.concat(df_list, axis=1)\n",
    "\n",
    "# Defining the target variable\n",
    "y = X['target']\n",
    "\n",
    "# Defining the features or independent variables by removing the target\n",
    "X.drop(['target'], axis=1, inplace=True)\n",
    "\n",
    "#previewing shapes\n",
    "print(X.shape)\n",
    "print(y.shape)"
   ]
  },
  {
   "cell_type": "markdown",
   "metadata": {},
   "source": [
    "## Train Test Split\n",
    "As part of preprocessing for models, the data needs to be split into a train set and a test set. All models will be trained on the train set and tested on the test set to observe how well the model performs as well as to lookout for any overfitting or underfitting."
   ]
  },
  {
   "cell_type": "code",
   "execution_count": 73,
   "metadata": {},
   "outputs": [
    {
     "name": "stdout",
     "output_type": "stream",
     "text": [
      "Training set - Features:  (457263, 102) Target:  (457263,)\n",
      "Test set - Features:  (304843, 102) Target:  (304843,)\n",
      "============================================ \n",
      "3    0.603718\n",
      "1    0.217566\n",
      "2    0.178716\n",
      "Name: target, dtype: float64\n",
      "3    0.60212\n",
      "1    0.21847\n",
      "2    0.17941\n",
      "Name: target, dtype: float64\n"
     ]
    }
   ],
   "source": [
    "#performing train-test split on main dataframe\n",
    "X_train, X_test, y_train, y_test = train_test_split(X, y, random_state=100, test_size=0.4)\n",
    "\n",
    "#checking the shape of the training set and test set\n",
    "print(\"Training set - Features: \", X_train.shape, \"Target: \", y_train.shape,)\n",
    "print(\"Test set - Features: \", X_test.shape, \"Target: \",y_test.shape,)\n",
    "print('============================================ ')\n",
    "print(y_train.value_counts(normalize = True))\n",
    "print(y_test.value_counts(normalize = True))"
   ]
  },
  {
   "cell_type": "markdown",
   "metadata": {},
   "source": [
    "## Class Imbalance\n",
    "Going forward to tackle the class imbalance problem in the data, we will use a class weight dictionary to defince the class weight to be used in the models"
   ]
  },
  {
   "cell_type": "code",
   "execution_count": 74,
   "metadata": {},
   "outputs": [
    {
     "name": "stdout",
     "output_type": "stream",
     "text": [
      "Proportion of type of Building damage\n",
      "3    60.31\n",
      "1    21.79\n",
      "2    17.90\n",
      "Name: target, dtype: float64\n"
     ]
    },
    {
     "data": {
      "image/png": "[encoded data removed]",
      "text/plain": [
       "<Figure size 576x432 with 1 Axes>"
      ]
     },
     "metadata": {
      "needs_background": "light"
     },
     "output_type": "display_data"
    }
   ],
   "source": [
    "title = 'Target variable distribution showing Class Imbalance'\n",
    "figname = 'target_variable_class_imbalance'\n",
    "\n",
    "viz.target_var(building_df, title, figname, xmax = 762106)"
   ]
  },
  {
   "cell_type": "markdown",
   "metadata": {},
   "source": [
    "There is some level of class imbalance. 60% of the buildings in the dataset have severe or Grade 3 damage, while about 22% are buildings of Grade 1 with minor damages and 18% of buildings are of Grade 2 or major damages.\n",
    "\n",
    "To deal with this we will use a composition of downsampling the majority class which is class 3 and upsampling the minority class which is class 2."
   ]
  },
  {
   "cell_type": "code",
   "execution_count": 75,
   "metadata": {},
   "outputs": [
    {
     "data": {
      "text/plain": [
       "3    276058\n",
       "1     99485\n",
       "2     81720\n",
       "Name: target, dtype: int64"
      ]
     },
     "execution_count": 75,
     "metadata": {},
     "output_type": "execute_result"
    }
   ],
   "source": [
    "#concatenate our training data back together\n",
    "training = pd.concat([X_train, y_train], axis=1)\n",
    "\n",
    "# Separating the classes\n",
    "grade1 = training[training['target']==1]\n",
    "grade2 = training[training['target']==2]\n",
    "grade3 = training[training['target']==3]\n",
    "training['target'].value_counts()"
   ]
  },
  {
   "cell_type": "code",
   "execution_count": 76,
   "metadata": {},
   "outputs": [
    {
     "data": {
      "text/plain": [
       "(129485, 103)"
      ]
     },
     "execution_count": 76,
     "metadata": {},
     "output_type": "execute_result"
    }
   ],
   "source": [
    "# Downsampling class 3 in reference to length of class 1\n",
    "downsampled_grade3 = resample(grade3,\n",
    "                      replace=False,\n",
    "                      n_samples = len(grade1)+30000,\n",
    "                      random_state = 100)\n",
    "\n",
    "downsampled_grade3.shape"
   ]
  },
  {
   "cell_type": "markdown",
   "metadata": {},
   "source": [
    "In order to not lose too much information in reducing the size of class label 3 of the target variable as well as to manage the class imbalance the n_smaples chosen here is the length of class label 1 with a padding of 30000. "
   ]
  },
  {
   "cell_type": "code",
   "execution_count": 77,
   "metadata": {},
   "outputs": [
    {
     "data": {
      "text/plain": [
       "(99485, 103)"
      ]
     },
     "execution_count": 77,
     "metadata": {},
     "output_type": "execute_result"
    }
   ],
   "source": [
    "upsample_grade2 = resample(grade2,\n",
    "                          replace= True,\n",
    "                          n_samples = len(grade1),\n",
    "                          random_state = 100)\n",
    "\n",
    "upsample_grade2.shape"
   ]
  },
  {
   "cell_type": "code",
   "execution_count": 78,
   "metadata": {},
   "outputs": [
    {
     "data": {
      "text/plain": [
       "(328455, 103)"
      ]
     },
     "execution_count": 78,
     "metadata": {},
     "output_type": "execute_result"
    }
   ],
   "source": [
    "resampled = pd.concat([downsampled_grade3, grade1, upsample_grade2])\n",
    "resampled.shape"
   ]
  },
  {
   "cell_type": "code",
   "execution_count": 79,
   "metadata": {},
   "outputs": [
    {
     "name": "stdout",
     "output_type": "stream",
     "text": [
      "Proportion of type of Building damage\n",
      "3    39.42\n",
      "2    30.29\n",
      "1    30.29\n",
      "Name: target, dtype: float64\n"
     ]
    },
    {
     "data": {
      "image/png": "[encoded data removed]",
      "text/plain": [
       "<Figure size 576x432 with 1 Axes>"
      ]
     },
     "metadata": {
      "needs_background": "light"
     },
     "output_type": "display_data"
    }
   ],
   "source": [
    "title = 'Target Variable Distribution after Resampling'\n",
    "figname = 'target_variable_Resampled'\n",
    "viz.target_var(resampled, title, figname, xmax = 328455)"
   ]
  },
  {
   "cell_type": "markdown",
   "metadata": {},
   "source": [
    "The differences between the classes are much more stable than before."
   ]
  },
  {
   "cell_type": "code",
   "execution_count": 80,
   "metadata": {},
   "outputs": [
    {
     "data": {
      "text/plain": [
       "(328455, 102)"
      ]
     },
     "execution_count": 80,
     "metadata": {},
     "output_type": "execute_result"
    }
   ],
   "source": [
    "y_train_resampled = resampled['target']\n",
    "X_train_resampled = resampled.drop(columns = ['target'], axis= 1)\n",
    "X_train_resampled.shape"
   ]
  },
  {
   "cell_type": "markdown",
   "metadata": {},
   "source": [
    "The final `X_train_resampled` has 102 features and 328455 observations for training models to."
   ]
  },
  {
   "cell_type": "markdown",
   "metadata": {},
   "source": [
    "## Standardizing the train and test sets\n",
    "Here I used the Standard scaler to standardize the datasets."
   ]
  },
  {
   "cell_type": "code",
   "execution_count": 81,
   "metadata": {},
   "outputs": [],
   "source": [
    "columns = X_train_resampled.columns\n",
    "\n",
    "scaler = StandardScaler()  \n",
    "scaler.fit(X_train_resampled)\n",
    "\n",
    "X_train_scaled_values = scaler.transform(X_train_resampled.values)  \n",
    "X_test_scaled_values = scaler.transform(X_test.values)\n",
    "\n",
    "X_train_scaled = X_train_resampled.copy()\n",
    "X_test_scaled = X_test.copy()\n",
    "\n",
    "X_train_scaled[columns]= X_train_scaled_values\n",
    "X_test_scaled[columns] = X_test_scaled_values"
   ]
  },
  {
   "cell_type": "markdown",
   "metadata": {},
   "source": [
    "## Model Iterations\n",
    "To evaluate the various models, I will rely on the model recall score, while also calculating and comparing the model f1 score. The model recall score measures how well the model predicts actual positives, in the hopes of minimizing any False Negatives over False Positives. The model f1 score is interpreted here as the weighted average of precision and recall score for each class predicted.\n",
    "\n",
    "In reference to the business case, if a building is predicted to not face severe damage when it actually could become severely damaged then such a building may not get the needed reinforcement solutions that it needs to be made safe.\n",
    "\n",
    "### Logistic Regression Model"
   ]
  },
  {
   "cell_type": "code",
   "execution_count": 68,
   "metadata": {},
   "outputs": [],
   "source": [
    "scoring = {'recall': mod.scorer_recall()}"
   ]
  },
  {
   "cell_type": "code",
   "execution_count": 69,
   "metadata": {},
   "outputs": [],
   "source": [
    "# Staging the Logistic Regression model object\n",
    "lr = LogisticRegression(random_state=100, multi_class='multinomial', solver= 'saga' )\n",
    "\n",
    "#Defining the parameters to use in the gridsearch\n",
    "params = {'C':[0.1, 1, 5, 10], 'max_iter': [1000, 10000]}\n",
    "\n",
    "#Staging the gridsearch \n",
    "gs_lr = GridSearchCV(lr, param_grid=params, scoring=scoring, cv=3, verbose=2, refit='recall', n_jobs=-1)"
   ]
  },
  {
   "cell_type": "code",
   "execution_count": 70,
   "metadata": {},
   "outputs": [
    {
     "name": "stdout",
     "output_type": "stream",
     "text": [
      "Fitting 3 folds for each of 8 candidates, totalling 24 fits\n"
     ]
    },
    {
     "name": "stderr",
     "output_type": "stream",
     "text": [
      "[Parallel(n_jobs=-1)]: Using backend LokyBackend with 4 concurrent workers.\n",
      "[Parallel(n_jobs=-1)]: Done  24 out of  24 | elapsed: 32.1min finished\n"
     ]
    },
    {
     "data": {
      "text/plain": [
       "GridSearchCV(cv=3,\n",
       "             estimator=LogisticRegression(multi_class='multinomial',\n",
       "                                          random_state=100, solver='saga'),\n",
       "             n_jobs=-1,\n",
       "             param_grid={'C': [0.1, 1, 5, 10], 'max_iter': [1000, 10000]},\n",
       "             refit='recall',\n",
       "             scoring={'recall': make_scorer(recall_score_class)}, verbose=2)"
      ]
     },
     "execution_count": 70,
     "metadata": {},
     "output_type": "execute_result"
    }
   ],
   "source": [
    "# fitting the grid search to the train sets\n",
    "gs_lr.fit(X_train_scaled, y_train_resampled)"
   ]
  },
  {
   "cell_type": "code",
   "execution_count": 71,
   "metadata": {},
   "outputs": [
    {
     "data": {
      "text/plain": [
       "{'C': 10, 'max_iter': 1000}"
      ]
     },
     "execution_count": 71,
     "metadata": {},
     "output_type": "execute_result"
    }
   ],
   "source": [
    "gs_lr.best_params_"
   ]
  },
  {
   "cell_type": "code",
   "execution_count": 82,
   "metadata": {},
   "outputs": [
    {
     "name": "stderr",
     "output_type": "stream",
     "text": [
      "[Parallel(n_jobs=-1)]: Using backend ThreadingBackend with 4 concurrent workers.\n"
     ]
    },
    {
     "name": "stdout",
     "output_type": "stream",
     "text": [
      "convergence after 193 epochs took 140 seconds\n"
     ]
    },
    {
     "name": "stderr",
     "output_type": "stream",
     "text": [
      "[Parallel(n_jobs=-1)]: Done   1 out of   1 | elapsed:  2.3min finished\n"
     ]
    },
    {
     "name": "stdout",
     "output_type": "stream",
     "text": [
      "Test F1 score:  0.6734\n",
      "Train F1 score:  0.6076\n",
      "================================\n",
      "Test Recall score:  0.6622\n",
      "Train Recall score:  0.6147\n"
     ]
    }
   ],
   "source": [
    "lr2 = LogisticRegression(solver='saga',multi_class='multinomial', \n",
    "                                random_state=100, max_iter=1000, C=1,\n",
    "                                verbose=2, n_jobs=-1)\n",
    "\n",
    "lr2.fit(X_train_scaled, y_train_resampled) \n",
    "\n",
    "# class predictions (not predicted probabilities)\n",
    "y_pred_test = lr2.predict(X_test_scaled)\n",
    "y_pred_train = lr2.predict(X_train_scaled)\n",
    "\n",
    "# checking f1 score\n",
    "print('Test F1 score: ', round(metrics.f1_score(y_test, y_pred_test, average='weighted'),4))\n",
    "print('Train F1 score: ', round(metrics.f1_score(y_train_resampled, y_pred_train, average='weighted'),4))\n",
    "print('================================')\n",
    "# checking recall score\n",
    "print('Test Recall score: ', round(metrics.recall_score(y_test, y_pred_test, average='weighted'),4))\n",
    "print('Train Recall score: ', round(metrics.recall_score(y_train_resampled, y_pred_train, average='weighted'),4))"
   ]
  },
  {
   "cell_type": "code",
   "execution_count": 83,
   "metadata": {},
   "outputs": [
    {
     "data": {
      "text/plain": [
       "{'baseline_lr1': {'f1': 0.594, 'recall': 0.6732},\n",
       " 'lr2': {'f1': 0.6734, 'recall': 0.6622}}"
      ]
     },
     "execution_count": 83,
     "metadata": {},
     "output_type": "execute_result"
    }
   ],
   "source": [
    "mod_eval['lr2']={'f1':round(metrics.f1_score(y_test, y_pred_test, average='weighted'),4),\n",
    "                  'recall': round(metrics.recall_score(y_test, y_pred_test, average='weighted'),4)}\n",
    "mod_eval\n",
    "                 "
   ]
  },
  {
   "cell_type": "markdown",
   "metadata": {},
   "source": [
    "This model did better than the baseline logistic regression model. All the scores for the test set are better numbers. There is significant improvement in the F1 score for data after correcting the class imbalance and standardizing, as well as the recall score.\n",
    "\n",
    "There is however, signs of underfitting. The scores for the train set did worse than for the test set. This could mean that the model is unable to capture all the information in the features to make predictions about the target variables. To remedy this, I may have to increase the number of features and/or try more complex models."
   ]
  },
  {
   "cell_type": "code",
   "execution_count": 84,
   "metadata": {},
   "outputs": [
    {
     "data": {
      "image/png": "[encoded data removed]",
      "text/plain": [
       "<Figure size 432x288 with 2 Axes>"
      ]
     },
     "metadata": {
      "needs_background": "light"
     },
     "output_type": "display_data"
    }
   ],
   "source": [
    "plot_confusion_matrix(lr2, X_train_scaled, y_train_resampled, normalize='true')\n",
    "plt.grid(False);"
   ]
  },
  {
   "cell_type": "markdown",
   "metadata": {},
   "source": [
    "The confusion matrix plot for the lr1 model shows that the model was very good at predicting class 3, performed about average in predicting class 1 and did very poorly in predicting class 2."
   ]
  },
  {
   "cell_type": "markdown",
   "metadata": {},
   "source": [
    "### Decision Tree Classifier"
   ]
  },
  {
   "cell_type": "code",
   "execution_count": 85,
   "metadata": {},
   "outputs": [],
   "source": [
    "dtc = DecisionTreeClassifier(random_state=100, max_depth= 17)"
   ]
  },
  {
   "cell_type": "code",
   "execution_count": 86,
   "metadata": {},
   "outputs": [
    {
     "name": "stdout",
     "output_type": "stream",
     "text": [
      "Test F1 score:  0.6932\n",
      "Train F1 score:  0.7095\n",
      "================================\n",
      "Test Recall score:  0.6799\n",
      "Train Recall score:  0.7106\n"
     ]
    }
   ],
   "source": [
    "dtc.fit(X_train_scaled, y_train_resampled)\n",
    "\n",
    "y_pred_test= dtc.predict(X_test_scaled)\n",
    "y_pred_train = dtc.predict(X_train_scaled)\n",
    "\n",
    "# checking f1 score\n",
    "print('Test F1 score: ', round(metrics.f1_score(y_test, y_pred_test, average='weighted'),4))\n",
    "print('Train F1 score: ', round(metrics.f1_score(y_train_resampled, y_pred_train, average='weighted'),4))\n",
    "print('================================')\n",
    "# checking recall score\n",
    "print('Test Recall score: ', round(metrics.recall_score(y_test, y_pred_test, average='weighted'),4))\n",
    "print('Train Recall score: ', round(metrics.recall_score(y_train_resampled, y_pred_train, average='weighted'),4))"
   ]
  },
  {
   "cell_type": "code",
   "execution_count": 87,
   "metadata": {},
   "outputs": [
    {
     "data": {
      "text/plain": [
       "{'baseline_lr1': {'f1': 0.594, 'recall': 0.6732},\n",
       " 'lr2': {'f1': 0.6734, 'recall': 0.6622},\n",
       " 'dtc': {'f1': 0.6932, 'recall': 0.6799}}"
      ]
     },
     "execution_count": 87,
     "metadata": {},
     "output_type": "execute_result"
    }
   ],
   "source": [
    "mod_eval['dtc']={'f1':round(metrics.f1_score(y_test, y_pred_test, average='weighted'),4),\n",
    "                  'recall': round(metrics.recall_score(y_test, y_pred_test, average='weighted'),4)}\n",
    "mod_eval"
   ]
  },
  {
   "cell_type": "code",
   "execution_count": 88,
   "metadata": {},
   "outputs": [
    {
     "data": {
      "text/plain": [
       "<bound method BaseEstimator.get_params of DecisionTreeClassifier(ccp_alpha=0.0, class_weight=None, criterion='gini',\n",
       "                       max_depth=17, max_features=None, max_leaf_nodes=None,\n",
       "                       min_impurity_decrease=0.0, min_impurity_split=None,\n",
       "                       min_samples_leaf=1, min_samples_split=2,\n",
       "                       min_weight_fraction_leaf=0.0, presort='deprecated',\n",
       "                       random_state=100, splitter='best')>"
      ]
     },
     "execution_count": 88,
     "metadata": {},
     "output_type": "execute_result"
    }
   ],
   "source": [
    "dtc.get_params"
   ]
  },
  {
   "cell_type": "markdown",
   "metadata": {},
   "source": [
    "The decision tree classifier model performed better than the logistic regression models. The F1 and Recall scores between the train set and the test set are more stable and higher. There are no signs of bias in the model for these parameters as listed above."
   ]
  },
  {
   "cell_type": "code",
   "execution_count": 89,
   "metadata": {},
   "outputs": [
    {
     "data": {
      "image/png": "[encoded data removed]",
      "text/plain": [
       "<Figure size 432x288 with 2 Axes>"
      ]
     },
     "metadata": {
      "needs_background": "light"
     },
     "output_type": "display_data"
    }
   ],
   "source": [
    "plot_confusion_matrix(dtc, X_train_scaled, y_train_resampled, normalize='true')\n",
    "plt.grid(False)\n",
    "plt.savefig('./images/confusion_matrix_dtc.png');"
   ]
  },
  {
   "cell_type": "markdown",
   "metadata": {},
   "source": [
    "From the confusion matrix too, we see that the model did a better job at predictions overall than the logistic regression model."
   ]
  },
  {
   "cell_type": "code",
   "execution_count": 90,
   "metadata": {
    "scrolled": false
   },
   "outputs": [
    {
     "data": {
      "image/png": "[encoded data removed]",
      "text/plain": [
       "<Figure size 792x504 with 1 Axes>"
      ]
     },
     "metadata": {
      "needs_background": "light"
     },
     "output_type": "display_data"
    }
   ],
   "source": [
    "feat_imp = pd.DataFrame({'importance':dtc.feature_importances_})    \n",
    "feat_imp['feature'] = X_train_resampled.columns\n",
    "feat_imp.sort_values(by='importance', ascending=False, inplace=True)\n",
    "feat_imp = feat_imp.iloc[0:15]\n",
    "    \n",
    "feat_imp.sort_values(by='importance', inplace=True)\n",
    "feat_imp = feat_imp.set_index('feature', drop=True)\n",
    "\n",
    "# Sets up figure , axes and draws bar plot\n",
    "fig, ax = plt.subplots(figsize=(11,7))\n",
    "ax.barh(feat_imp.index, feat_imp['importance'])\n",
    "\n",
    "# Formats axis ticks as percentages\n",
    "ax.tick_params(axis='both', labelsize=15);\n",
    "\n",
    "# Set axes labels and title\n",
    "ax.set_xlabel('Feature Importance', size = 15)\n",
    "ax.set_title('Top 15 Important Features', size= 17, pad=17)\n",
    "\n",
    "fig.savefig('./images/Decision_tree_important_features.png', bbox_inches = \"tight\")"
   ]
  },
  {
   "cell_type": "markdown",
   "metadata": {},
   "source": [
    "Looking at which features the decision tree favored, it is interesting to find that the model favored a lot of the location feature `ward_id` and `vdvmun_id`. Whether a building superstructure had mud/mortar/stone also chosen as an important feature. `ground_floor_type_RC`,  `foundation_type_Mud mortar-Stone/Brick` and `roof_type_Bamboo/Timber-Light roof` also fall in the top 15 important features for the model as expected."
   ]
  },
  {
   "cell_type": "markdown",
   "metadata": {},
   "source": [
    "### Random Forest"
   ]
  },
  {
   "cell_type": "code",
   "execution_count": 91,
   "metadata": {},
   "outputs": [
    {
     "name": "stderr",
     "output_type": "stream",
     "text": [
      "[Parallel(n_jobs=-1)]: Using backend ThreadingBackend with 4 concurrent workers.\n",
      "[Parallel(n_jobs=-1)]: Done  42 tasks      | elapsed:   11.8s\n",
      "[Parallel(n_jobs=-1)]: Done 192 tasks      | elapsed:   52.4s\n",
      "[Parallel(n_jobs=-1)]: Done 442 tasks      | elapsed:  2.2min\n",
      "[Parallel(n_jobs=-1)]: Done 792 tasks      | elapsed:  3.9min\n",
      "[Parallel(n_jobs=-1)]: Done 1000 out of 1000 | elapsed:  4.8min finished\n"
     ]
    },
    {
     "data": {
      "text/plain": [
       "RandomForestClassifier(bootstrap=True, ccp_alpha=0.0, class_weight=None,\n",
       "                       criterion='gini', max_depth=20, max_features='auto',\n",
       "                       max_leaf_nodes=None, max_samples=None,\n",
       "                       min_impurity_decrease=0.0, min_impurity_split=None,\n",
       "                       min_samples_leaf=1, min_samples_split=2,\n",
       "                       min_weight_fraction_leaf=0.0, n_estimators=1000,\n",
       "                       n_jobs=-1, oob_score=False, random_state=100, verbose=1,\n",
       "                       warm_start=False)"
      ]
     },
     "execution_count": 91,
     "metadata": {},
     "output_type": "execute_result"
    }
   ],
   "source": [
    "rfc = RandomForestClassifier(random_state = 100, n_estimators=1000, max_depth=20, verbose=1, n_jobs=-1)\n",
    "\n",
    "rfc.fit(X_train_scaled, y_train_resampled)"
   ]
  },
  {
   "cell_type": "code",
   "execution_count": 92,
   "metadata": {},
   "outputs": [
    {
     "name": "stderr",
     "output_type": "stream",
     "text": [
      "[Parallel(n_jobs=4)]: Using backend ThreadingBackend with 4 concurrent workers.\n",
      "[Parallel(n_jobs=4)]: Done  42 tasks      | elapsed:    1.4s\n",
      "[Parallel(n_jobs=4)]: Done 192 tasks      | elapsed:    6.0s\n",
      "[Parallel(n_jobs=4)]: Done 442 tasks      | elapsed:   12.8s\n",
      "[Parallel(n_jobs=4)]: Done 792 tasks      | elapsed:   22.6s\n",
      "[Parallel(n_jobs=4)]: Done 1000 out of 1000 | elapsed:   30.0s finished\n",
      "[Parallel(n_jobs=4)]: Using backend ThreadingBackend with 4 concurrent workers.\n",
      "[Parallel(n_jobs=4)]: Done  42 tasks      | elapsed:    1.9s\n",
      "[Parallel(n_jobs=4)]: Done 192 tasks      | elapsed:    6.8s\n",
      "[Parallel(n_jobs=4)]: Done 442 tasks      | elapsed:   14.5s\n",
      "[Parallel(n_jobs=4)]: Done 792 tasks      | elapsed:   25.1s\n",
      "[Parallel(n_jobs=4)]: Done 1000 out of 1000 | elapsed:   31.5s finished\n"
     ]
    },
    {
     "name": "stdout",
     "output_type": "stream",
     "text": [
      "Test F1 score:  0.7263\n",
      "Train F1 score:  0.7603\n",
      "================================\n",
      "Test Recall score:  0.724\n",
      "Train Recall score:  0.7628\n"
     ]
    }
   ],
   "source": [
    "#use the fitted model to predict on the test data\n",
    "y_pred_test= rfc.predict(X_test_scaled)\n",
    "y_pred_train = rfc.predict(X_train_scaled)\n",
    "\n",
    "# checking f1 score\n",
    "print('Test F1 score: ', round(metrics.f1_score(y_test, y_pred_test, average='weighted'),4))\n",
    "print('Train F1 score: ', round(metrics.f1_score(y_train_resampled, y_pred_train, average='weighted'),4))\n",
    "print('================================')\n",
    "# checking recall score\n",
    "print('Test Recall score: ', round(metrics.recall_score(y_test, y_pred_test, average='weighted'),4))\n",
    "print('Train Recall score: ', round(metrics.recall_score(y_train_resampled, y_pred_train, average='weighted'),4))"
   ]
  },
  {
   "cell_type": "code",
   "execution_count": 93,
   "metadata": {},
   "outputs": [
    {
     "data": {
      "text/plain": [
       "{'baseline_lr1': {'f1': 0.594, 'recall': 0.6732},\n",
       " 'lr2': {'f1': 0.6734, 'recall': 0.6622},\n",
       " 'dtc': {'f1': 0.6932, 'recall': 0.6799},\n",
       " 'rfc': {'f1': 0.7263, 'recall': 0.724}}"
      ]
     },
     "execution_count": 93,
     "metadata": {},
     "output_type": "execute_result"
    }
   ],
   "source": [
    "mod_eval['rfc']={'f1':round(metrics.f1_score(y_test, y_pred_test, average='weighted'),4),\n",
    "                  'recall': round(metrics.recall_score(y_test, y_pred_test, average='weighted'),4)}\n",
    "mod_eval"
   ]
  },
  {
   "cell_type": "code",
   "execution_count": 94,
   "metadata": {},
   "outputs": [
    {
     "data": {
      "image/png": "[encoded data removed]",
      "text/plain": [
       "<Figure size 792x504 with 1 Axes>"
      ]
     },
     "metadata": {
      "needs_background": "light"
     },
     "output_type": "display_data"
    }
   ],
   "source": [
    "feat_imp = pd.DataFrame({'importance':rfc.feature_importances_})    \n",
    "feat_imp['feature'] = X_train.columns\n",
    "feat_imp.sort_values(by='importance', ascending=False, inplace=True)\n",
    "feat_imp = feat_imp.iloc[0:15]\n",
    "    \n",
    "feat_imp.sort_values(by='importance', inplace=True)\n",
    "feat_imp = feat_imp.set_index('feature', drop=True)\n",
    "\n",
    "# Sets up figure , axes and draws bar plot\n",
    "fig, ax = plt.subplots(figsize=(11,7))\n",
    "ax.barh(feat_imp.index, feat_imp['importance'])\n",
    "\n",
    "# Formats axis ticks as percentages\n",
    "ax.tick_params(axis='both', labelsize=15);\n",
    "\n",
    "# Set axes labels and title\n",
    "ax.set_xlabel('Feature Importance', size = 15)\n",
    "ax.set_title('Top 15 Important Features', size= 17, pad=17)\n",
    "fig.savefig('./images/random_forest_important_features.png', bbox_inches = \"tight\")"
   ]
  },
  {
   "cell_type": "code",
   "execution_count": 95,
   "metadata": {},
   "outputs": [
    {
     "name": "stderr",
     "output_type": "stream",
     "text": [
      "[Parallel(n_jobs=4)]: Using backend ThreadingBackend with 4 concurrent workers.\n",
      "[Parallel(n_jobs=4)]: Done  42 tasks      | elapsed:    1.4s\n",
      "[Parallel(n_jobs=4)]: Done 192 tasks      | elapsed:    6.4s\n",
      "[Parallel(n_jobs=4)]: Done 442 tasks      | elapsed:   16.2s\n",
      "[Parallel(n_jobs=4)]: Done 792 tasks      | elapsed:   27.0s\n",
      "[Parallel(n_jobs=4)]: Done 1000 out of 1000 | elapsed:   34.2s finished\n"
     ]
    },
    {
     "data": {
      "image/png": "[encoded data removed]",
      "text/plain": [
       "<Figure size 432x288 with 2 Axes>"
      ]
     },
     "metadata": {
      "needs_background": "light"
     },
     "output_type": "display_data"
    }
   ],
   "source": [
    "plot_confusion_matrix(rfc, X_train_scaled, y_train_resampled, normalize='true')\n",
    "plt.grid(False)\n",
    "plt.savefig('./images/confusion_matrix_rfc.png');"
   ]
  },
  {
   "cell_type": "code",
   "execution_count": 96,
   "metadata": {},
   "outputs": [
    {
     "data": {
      "text/plain": [
       "<bound method BaseEstimator.get_params of RandomForestClassifier(bootstrap=True, ccp_alpha=0.0, class_weight=None,\n",
       "                       criterion='gini', max_depth=20, max_features='auto',\n",
       "                       max_leaf_nodes=None, max_samples=None,\n",
       "                       min_impurity_decrease=0.0, min_impurity_split=None,\n",
       "                       min_samples_leaf=1, min_samples_split=2,\n",
       "                       min_weight_fraction_leaf=0.0, n_estimators=1000,\n",
       "                       n_jobs=-1, oob_score=False, random_state=100, verbose=1,\n",
       "                       warm_start=False)>"
      ]
     },
     "execution_count": 96,
     "metadata": {},
     "output_type": "execute_result"
    }
   ],
   "source": [
    "rfc.get_params"
   ]
  },
  {
   "cell_type": "code",
   "execution_count": 101,
   "metadata": {},
   "outputs": [],
   "source": [
    "# from sklearn.inspection import permutation_importance\n",
    "\n",
    "# result = permutation_importance(rfc, X_test_scaled, y_test, n_repeats=10,\n",
    "#                                 random_state=100, n_jobs=2)\n",
    "# sorted_idx = result.importances_mean.argsort()\n",
    "\n",
    "# fig, ax = plt.subplots()\n",
    "# ax.boxplot(result.importances[sorted_idx].T,\n",
    "#            vert=False, labels=X_test.columns[sorted_idx])\n",
    "# ax.set_title(\"Permutation Importances (test set)\")\n",
    "# fig.tight_layout()\n",
    "# plt.show();"
   ]
  },
  {
   "cell_type": "markdown",
   "metadata": {},
   "source": [
    "## Recommendations"
   ]
  },
  {
   "cell_type": "markdown",
   "metadata": {},
   "source": [
    "Based on the Analysis, a strong building that may not face much damage from an earthquake, in one that is built using construction materials that consist of metal and concrete compositions. It is recommended that houses that are made of mud/mortar/stone, mud/stone/brick and older building be upgraded, to prevent loss of life from building damage during an earthquake disaster.\n",
    "\n",
    "The vulnerable buildings may be built the way they are, because they belong to lower income households. In order to assist these households financially, the government may also have to provide financial support.\n",
    "\n",
    "The model is only 72% accurate. Investigators may use these models in addition to other tools they already have, or they may have to add an additional confirmation step in their assessment of a building vulnerability to earthquake damage."
   ]
  },
  {
   "cell_type": "markdown",
   "metadata": {},
   "source": [
    "## Next Steps"
   ]
  },
  {
   "cell_type": "markdown",
   "metadata": {},
   "source": [
    "Since, each incident of an earthquake may be vastly different from the other, how they affect infrastructure may also differ. The next steps would be to work with data on earthquake infrastructure damage from other events. \n",
    "\n",
    "Also according to the Berkeley [Lab](https://newscenter.lbl.gov/2019/10/18/better-predicting-earthquake-damage-to-infrastructure-with-faster-computing/) understanding the ground motions of an earthquake is important to modeling the structural response of the building. Such data from an earthquake event of the ground motions may have to be considered when trying to predict structural damage from an earthquake."
   ]
  },
  {
   "cell_type": "code",
   "execution_count": null,
   "metadata": {},
   "outputs": [],
   "source": []
  }
 ],
 "metadata": {
  "kernelspec": {
   "display_name": "learn-env",
   "language": "python",
   "name": "learn-env"
  },
  "language_info": {
   "codemirror_mode": {
    "name": "ipython",
    "version": 3
   },
   "file_extension": ".py",
   "mimetype": "text/x-python",
   "name": "python",
   "nbconvert_exporter": "python",
   "pygments_lexer": "ipython3",
   "version": "3.6.9"
  }
 },
 "nbformat": 4,
 "nbformat_minor": 4
}
