{
 "cells": [
  {
   "cell_type": "markdown",
   "metadata": {},
   "source": [
    "# Predicting Structural Damage from an Earthquake\n",
    "**-Lhamu Tsering**"
   ]
  },
  {
   "cell_type": "markdown",
   "metadata": {},
   "source": [
    "## Overview"
   ]
  },
  {
   "cell_type": "markdown",
   "metadata": {},
   "source": [
    "There is a common saying among geologists that earthquakes don’t kill people, buildings kill people. An earthquake occurs with the movement of the earth’s surface. The ground shaking is a result of the sudden release of energy in the earth’s lithosphere as the tectonic plates move against each other [source](https://www.usgs.gov/faqs/what-earthquake-and-what-causes-them-happen?qt-news_science_products=0#qt-news_science_products). The Nepal 2015 earthquake was of 7.8 mag, which caused a lot of destruction and damage. After the earthquake, a survey of the damage was taken, considering individuals affected, buildings damaged and the households affected. The raw [data](https://eq2015.npc.gov.np/#/download) from this survey is used to create machine learning models that will predict building damage severity. "
   ]
  },
  {
   "cell_type": "markdown",
   "metadata": {},
   "source": [
    "## Business Problem"
   ]
  },
  {
   "cell_type": "markdown",
   "metadata": {},
   "source": [
    "9000 people were killed in the 2015 7.8 mag earthquake in Nepal. Over 600,000 buildings were destroyed and the cost of building damages were estimated to be around $5 billion. More facts on the disaster can be found [here](https://www.britannica.com/topic/Nepal-earthquake-of-2015). If building damage can be correctly identified before a quake hits, we can minimize the cost of lives lost and the economic cost of rebuilding after the quake. Once, a building damage severity is predicted the building can be proposed for reinforcement additions. \n",
    "\n",
    "The models resulting here can be used by policy makers in Nepal to not only identify buildings but also tag vulnerable communities so that funds can be appropriated efficiently and the information can be used in crisis management planning, for an earthquake event .\n",
    "The results of this project may also be useful to developers in Nepal, in building appraisals."
   ]
  },
  {
   "cell_type": "markdown",
   "metadata": {},
   "source": [
    "## Data Understanding"
   ]
  },
  {
   "cell_type": "markdown",
   "metadata": {},
   "source": [
    "After the 2015 Nepal Earthquake, survey data was collected on the damaged buildings. The data loaded comes from the 2015 Nepal Earthquake Data [portal](https://eq2015.npc.gov.np/#/download). The data contains information on 762106 buildings. Three datasets are used where each row in the dataset informs about a building."
   ]
  },
  {
   "cell_type": "code",
   "execution_count": 1,
   "metadata": {},
   "outputs": [],
   "source": [
    "# Importing utility functions\n",
    "import pandas as pd\n",
    "import numpy as np\n",
    "import os\n",
    "import sys\n",
    "from sklearn.utils import resample\n",
    "\n",
    "# Importing visualization libraries\n",
    "import matplotlib.pyplot as plt\n",
    "%matplotlib inline\n",
    "# plt.style.use('ggplot')\n",
    "import seaborn as sns\n",
    "from sklearn.metrics import plot_confusion_matrix, classification_report\n",
    "\n",
    "#Ignore Warnings\n",
    "import warnings\n",
    "warnings.filterwarnings(\"ignore\")\n",
    "\n",
    "# Importing modeling tools\n",
    "from sklearn.preprocessing import MinMaxScaler\n",
    "from sklearn import metrics\n",
    "from sklearn.model_selection import train_test_split\n",
    "\n",
    "# Importing sklearn models\n",
    "from sklearn.linear_model import LogisticRegression\n",
    "from sklearn.model_selection import GridSearchCV\n",
    "from sklearn.tree import DecisionTreeClassifier\n",
    "\n",
    "\n",
    "# %load_ext autoreload\n",
    "# %autoreload 2\n",
    "\n",
    "module_path = os.path.abspath(os.path.join('src'))\n",
    "if module_path not in sys.path:\n",
    "    sys.path.append(module_path)\n",
    "    \n",
    "from nb_modules import model as mod\n",
    "from nb_modules import eda \n",
    "from nb_modules import viz"
   ]
  },
  {
   "cell_type": "code",
   "execution_count": 2,
   "metadata": {},
   "outputs": [],
   "source": [
    "# Reading csv files to dataframes\n",
    "building_use_df= pd.read_csv('data/extracted/eq_data/csv_building_ownership_and_use.csv')\n",
    "building_structure_df=  pd.read_csv('data/extracted/eq_data/csv_building_structure.csv')\n",
    "building_damage_df= pd.read_csv('data/extracted/eq_data/csv_building_damage_assessment.csv', dtype='unicode')"
   ]
  },
  {
   "cell_type": "code",
   "execution_count": 3,
   "metadata": {},
   "outputs": [
    {
     "name": "stdout",
     "output_type": "stream",
     "text": [
      "building_use_df       : (762106, 17)\n",
      "building_structure_df : (762106, 31)\n",
      "building_damage_df    : (762106, 79)\n"
     ]
    }
   ],
   "source": [
    "print('building_use_df       :', building_use_df.shape)\n",
    "print('building_structure_df :', building_structure_df.shape)\n",
    "print('building_damage_df    :', building_damage_df.shape)"
   ]
  },
  {
   "cell_type": "markdown",
   "metadata": {},
   "source": [
    "The dataset covers information on 762106 damaged buildings. The building use dataset has 17 features, building structure dataset has 31 features and the building damage dataset has 79 features. Below is a preview of the datasets"
   ]
  },
  {
   "cell_type": "code",
   "execution_count": 4,
   "metadata": {},
   "outputs": [],
   "source": [
    "# # Uncomment to preview first three rows of dataset\n",
    "# building_use_df.head(3)"
   ]
  },
  {
   "cell_type": "markdown",
   "metadata": {},
   "source": [
    "The building use dataset has features that inform where a building is located, the legal ownership status of the building, how many families lived in the building and whether the building had a secondary use aside ffrom this ownership status."
   ]
  },
  {
   "cell_type": "code",
   "execution_count": 5,
   "metadata": {},
   "outputs": [],
   "source": [
    "# # Uncomment to preview first three rows of dataset\n",
    "# building_structure_df.head(3)"
   ]
  },
  {
   "cell_type": "markdown",
   "metadata": {},
   "source": [
    "The building structure dataset has features that inform about the structural aspects of a building. The features include the age of a building, how high the building stands, the types of roofing, foundation, ground floor and also the land surface condition. Going forward this dataset forms the bulk of the main modeling dataframe."
   ]
  },
  {
   "cell_type": "code",
   "execution_count": 6,
   "metadata": {},
   "outputs": [],
   "source": [
    "# # Uncomment to preview first three rows of dataset\n",
    "# building_damage_df.head(3)"
   ]
  },
  {
   "cell_type": "markdown",
   "metadata": {},
   "source": [
    "The building damage dataset has features that inform about the damage faced by a building after ther 2015 earthquake. This dataset accounts the types of damage observed and a set of features that inform of any geotechnical risk the building faced in the damage."
   ]
  },
  {
   "cell_type": "markdown",
   "metadata": {},
   "source": [
    "## Data Cleaning"
   ]
  },
  {
   "cell_type": "markdown",
   "metadata": {},
   "source": [
    "Data cleaning for each of the datasets were tackled separately and then merged after only selecting the relevant features from the three datasets. \n",
    "\n",
    "Detailed, informed and reproducible data cleaning steps for the building use and data structure datasets can be found in the [data cleaning notebook](./pre_model/data_cleaning.ipynb) and the cleaning and isolation of the relevant geotechnical risk features can be found in the [damage assessment data notebook](./pre_model/damage_assessment_data.ipynb). \n",
    "\n",
    "The [data cleaning notebook](./pre_model/data_cleaning.ipynb) also shows the merging of features from the three datasets to a final modeling dataframe called `building_df`.\n",
    "\n",
    "Here, we load the pickled cleaned dataset and move forward with the data eda and models."
   ]
  },
  {
   "cell_type": "code",
   "execution_count": 53,
   "metadata": {},
   "outputs": [],
   "source": [
    "building_df = pd.read_pickle('./data/pickles/building_df.pkl')"
   ]
  },
  {
   "cell_type": "markdown",
   "metadata": {},
   "source": [
    "## Data EDA"
   ]
  },
  {
   "cell_type": "markdown",
   "metadata": {},
   "source": [
    "This section explores what type of building features make a building prone to damage from an earthquake. We will explore the various geotechnical risks, secondary use of a building, building superstrucure construction composition and also the damage comparative composition of foundation type, floor type and roof type of a building."
   ]
  },
  {
   "cell_type": "code",
   "execution_count": 54,
   "metadata": {},
   "outputs": [
    {
     "data": {
      "text/plain": [
       "(762106, 55)"
      ]
     },
     "execution_count": 54,
     "metadata": {},
     "output_type": "execute_result"
    }
   ],
   "source": [
    "building_df.shape"
   ]
  },
  {
   "cell_type": "code",
   "execution_count": 55,
   "metadata": {},
   "outputs": [
    {
     "data": {
      "text/html": [
       "<div>\n",
       "<style scoped>\n",
       "    .dataframe tbody tr th:only-of-type {\n",
       "        vertical-align: middle;\n",
       "    }\n",
       "\n",
       "    .dataframe tbody tr th {\n",
       "        vertical-align: top;\n",
       "    }\n",
       "\n",
       "    .dataframe thead th {\n",
       "        text-align: right;\n",
       "    }\n",
       "</style>\n",
       "<table border=\"1\" class=\"dataframe\">\n",
       "  <thead>\n",
       "    <tr style=\"text-align: right;\">\n",
       "      <th></th>\n",
       "      <th>building_id</th>\n",
       "      <th>district_id</th>\n",
       "      <th>vdcmun_id</th>\n",
       "      <th>ward_id</th>\n",
       "      <th>count_floors_pre_eq</th>\n",
       "      <th>age_building</th>\n",
       "      <th>plinth_area_sq_ft</th>\n",
       "      <th>height_ft_pre_eq</th>\n",
       "      <th>land_surface_condition</th>\n",
       "      <th>foundation_type</th>\n",
       "      <th>...</th>\n",
       "      <th>has_secondary_use_hotel</th>\n",
       "      <th>has_secondary_use_rental</th>\n",
       "      <th>has_secondary_use_institution</th>\n",
       "      <th>has_secondary_use_school</th>\n",
       "      <th>has_secondary_use_industry</th>\n",
       "      <th>has_secondary_use_health_post</th>\n",
       "      <th>has_secondary_use_gov_office</th>\n",
       "      <th>has_secondary_use_use_police</th>\n",
       "      <th>has_secondary_use_other</th>\n",
       "      <th>legal_ownership_status_num</th>\n",
       "    </tr>\n",
       "  </thead>\n",
       "  <tbody>\n",
       "    <tr>\n",
       "      <th>0</th>\n",
       "      <td>120101000011</td>\n",
       "      <td>12</td>\n",
       "      <td>7</td>\n",
       "      <td>3</td>\n",
       "      <td>1</td>\n",
       "      <td>9</td>\n",
       "      <td>288</td>\n",
       "      <td>9</td>\n",
       "      <td>Flat</td>\n",
       "      <td>Other</td>\n",
       "      <td>...</td>\n",
       "      <td>0</td>\n",
       "      <td>0</td>\n",
       "      <td>0</td>\n",
       "      <td>0</td>\n",
       "      <td>0</td>\n",
       "      <td>0</td>\n",
       "      <td>0</td>\n",
       "      <td>0</td>\n",
       "      <td>0</td>\n",
       "      <td>1</td>\n",
       "    </tr>\n",
       "    <tr>\n",
       "      <th>1</th>\n",
       "      <td>120101000021</td>\n",
       "      <td>12</td>\n",
       "      <td>7</td>\n",
       "      <td>3</td>\n",
       "      <td>1</td>\n",
       "      <td>15</td>\n",
       "      <td>364</td>\n",
       "      <td>9</td>\n",
       "      <td>Flat</td>\n",
       "      <td>Other</td>\n",
       "      <td>...</td>\n",
       "      <td>0</td>\n",
       "      <td>0</td>\n",
       "      <td>0</td>\n",
       "      <td>0</td>\n",
       "      <td>0</td>\n",
       "      <td>0</td>\n",
       "      <td>0</td>\n",
       "      <td>0</td>\n",
       "      <td>0</td>\n",
       "      <td>1</td>\n",
       "    </tr>\n",
       "    <tr>\n",
       "      <th>2</th>\n",
       "      <td>120101000031</td>\n",
       "      <td>12</td>\n",
       "      <td>7</td>\n",
       "      <td>3</td>\n",
       "      <td>1</td>\n",
       "      <td>20</td>\n",
       "      <td>384</td>\n",
       "      <td>9</td>\n",
       "      <td>Flat</td>\n",
       "      <td>Other</td>\n",
       "      <td>...</td>\n",
       "      <td>0</td>\n",
       "      <td>0</td>\n",
       "      <td>0</td>\n",
       "      <td>0</td>\n",
       "      <td>0</td>\n",
       "      <td>0</td>\n",
       "      <td>0</td>\n",
       "      <td>0</td>\n",
       "      <td>0</td>\n",
       "      <td>1</td>\n",
       "    </tr>\n",
       "  </tbody>\n",
       "</table>\n",
       "<p>3 rows × 55 columns</p>\n",
       "</div>"
      ],
      "text/plain": [
       "    building_id  district_id  vdcmun_id  ward_id  count_floors_pre_eq  \\\n",
       "0  120101000011           12          7        3                    1   \n",
       "1  120101000021           12          7        3                    1   \n",
       "2  120101000031           12          7        3                    1   \n",
       "\n",
       "   age_building  plinth_area_sq_ft  height_ft_pre_eq land_surface_condition  \\\n",
       "0             9                288                 9                   Flat   \n",
       "1            15                364                 9                   Flat   \n",
       "2            20                384                 9                   Flat   \n",
       "\n",
       "  foundation_type  ... has_secondary_use_hotel has_secondary_use_rental  \\\n",
       "0           Other  ...                       0                        0   \n",
       "1           Other  ...                       0                        0   \n",
       "2           Other  ...                       0                        0   \n",
       "\n",
       "  has_secondary_use_institution has_secondary_use_school  \\\n",
       "0                             0                        0   \n",
       "1                             0                        0   \n",
       "2                             0                        0   \n",
       "\n",
       "  has_secondary_use_industry  has_secondary_use_health_post  \\\n",
       "0                          0                              0   \n",
       "1                          0                              0   \n",
       "2                          0                              0   \n",
       "\n",
       "   has_secondary_use_gov_office  has_secondary_use_use_police  \\\n",
       "0                             0                             0   \n",
       "1                             0                             0   \n",
       "2                             0                             0   \n",
       "\n",
       "   has_secondary_use_other  legal_ownership_status_num  \n",
       "0                        0                           1  \n",
       "1                        0                           1  \n",
       "2                        0                           1  \n",
       "\n",
       "[3 rows x 55 columns]"
      ]
     },
     "execution_count": 55,
     "metadata": {},
     "output_type": "execute_result"
    }
   ],
   "source": [
    "building_df.head(3)"
   ]
  },
  {
   "cell_type": "code",
   "execution_count": 56,
   "metadata": {},
   "outputs": [],
   "source": [
    "geotech_risk_list = [\n",
    "       'has_geotechnical_risk_land_settlement',\n",
    "       'has_geotechnical_risk_fault_crack',\n",
    "       'has_geotechnical_risk_liquefaction', 'has_geotechnical_risk_landslide',\n",
    "       'has_geotechnical_risk_rock_fall', 'has_geotechnical_risk_flood',\n",
    "       'has_geotechnical_risk_other']"
   ]
  },
  {
   "cell_type": "code",
   "execution_count": 57,
   "metadata": {},
   "outputs": [
    {
     "data": {
      "text/plain": [
       "109647"
      ]
     },
     "execution_count": 57,
     "metadata": {},
     "output_type": "execute_result"
    }
   ],
   "source": [
    "building_df['has_geotechnical_risk'].sum()"
   ]
  },
  {
   "cell_type": "code",
   "execution_count": 58,
   "metadata": {},
   "outputs": [
    {
     "name": "stdout",
     "output_type": "stream",
     "text": [
      "{'has_geotechnical_risk_land_settlement': 29051, 'has_geotechnical_risk_fault_crack': 40548, 'has_geotechnical_risk_liquefaction': 2130, 'has_geotechnical_risk_landslide': 61074, 'has_geotechnical_risk_rock_fall': 31993, 'has_geotechnical_risk_flood': 8931, 'has_geotechnical_risk_other': 815}\n"
     ]
    },
    {
     "data": {
      "image/png": "[encoded data removed]",
      "text/plain": [
       "<Figure size 576x360 with 1 Axes>"
      ]
     },
     "metadata": {
      "needs_background": "light"
     },
     "output_type": "display_data"
    }
   ],
   "source": [
    "eda.dict_maker(geotech_risk_list, building_df)\n",
    "plt.title('Distribution of Geotechnical Risk')\n",
    "plt.xlabel('Number of Buildings')\n",
    "plt.ylabel('Type of Geotechnical Risk')\n",
    "plt.savefig('./images/Distribution of Geotechnical Risk.png');"
   ]
  },
  {
   "cell_type": "markdown",
   "metadata": {},
   "source": [
    "Geotechnical risk is risk faced by buildings and construction work due to various ground conditions. We can surmise that with some geotechnical risk, the risk of damage to a building from an earthquake goes up. There are 109647 buildings that have some form of geotechnical risk based on where the building stands. \n",
    "\n",
    "The majority of the geotechnical risk faced by the buildings in the dataset is risk from landslide. A landslide is defined as the movement of a mass of earth down a slope([source](https://www.usgs.gov/faqs/what-a-landslide-and-what-causes-one?qt-news_science_products=0#qt-news_science_products)). Earthquake shaking can induce landslides in already landslide prone land areas. To learn more about landslides visit the source link. \n",
    "\n",
    "Geotechnical risk of fault cracks in the land of the building is faced by 40548 buildings in the dataset. Rock fall is also a significant geological hazard faced by buildings. Another geotechnical hazard is land settlement. Land settlement is defined as the vertical movement of a mass of earth([source](https://www.cmwgeosciences.com/geotechnical-services/ground-settlement)) which is generally caused due to changes in stresses within the earth. Land areas prone so these risks cab be exacerbated by eaerthquake shaking increase the risk of damage to structures found on such land.\n",
    "\n",
    "Also here, The feature `has_geotechnical_risk` can be added to the drop list because it is a place holder for the count of buildings with any geotechnical risk. The nature of risk is covered by the individual geotechnical risk features."
   ]
  },
  {
   "cell_type": "code",
   "execution_count": 59,
   "metadata": {},
   "outputs": [],
   "source": [
    "secondary_use_list = ['has_secondary_use_agriculture',\n",
    "       'has_secondary_use_hotel', 'has_secondary_use_rental',\n",
    "       'has_secondary_use_institution', 'has_secondary_use_school',\n",
    "       'has_secondary_use_industry', 'has_secondary_use_health_post',\n",
    "       'has_secondary_use_gov_office', 'has_secondary_use_use_police',\n",
    "       'has_secondary_use_other']"
   ]
  },
  {
   "cell_type": "code",
   "execution_count": 60,
   "metadata": {},
   "outputs": [
    {
     "data": {
      "text/plain": [
       "92364.0"
      ]
     },
     "execution_count": 60,
     "metadata": {},
     "output_type": "execute_result"
    }
   ],
   "source": [
    "building_df['has_secondary_use'].sum()"
   ]
  },
  {
   "cell_type": "code",
   "execution_count": 61,
   "metadata": {},
   "outputs": [
    {
     "name": "stdout",
     "output_type": "stream",
     "text": [
      "{'has_secondary_use_agriculture': 54764, 'has_secondary_use_hotel': 26742, 'has_secondary_use_rental': 6298, 'has_secondary_use_institution': 885, 'has_secondary_use_school': 323, 'has_secondary_use_industry': 887, 'has_secondary_use_health_post': 173, 'has_secondary_use_gov_office': 142, 'has_secondary_use_use_police': 74, 'has_secondary_use_other': 3422}\n"
     ]
    },
    {
     "data": {
      "image/png": "[encoded data removed]",
      "text/plain": [
       "<Figure size 576x360 with 1 Axes>"
      ]
     },
     "metadata": {
      "needs_background": "light"
     },
     "output_type": "display_data"
    }
   ],
   "source": [
    "eda.dict_maker(secondary_use_list, building_df)\n",
    "plt.title('Distribution of Secondary use of building')\n",
    "plt.xlabel('Number of Buildings')\n",
    "plt.ylabel('Type of Secondary Use')\n",
    "plt.savefig('./images/Distribution of Secondary use of building.png');"
   ]
  },
  {
   "cell_type": "markdown",
   "metadata": {},
   "source": [
    "There are 92364 buildings that also have a secondary use. The majority of the secondary usage of buildings is for agriculture, then as hotels and rentals. The feature `has_secondary_use` can be dropped because it is a place holder for the count of buildings with secondary use. The nature of use is covered by the individual usage features."
   ]
  },
  {
   "cell_type": "code",
   "execution_count": 62,
   "metadata": {},
   "outputs": [],
   "source": [
    "superstructure_list= ['has_superstructure_adobe_mud',\n",
    "       'has_superstructure_mud_mortar_stone', 'has_superstructure_stone_flag',\n",
    "       'has_superstructure_cement_mortar_stone',\n",
    "       'has_superstructure_mud_mortar_brick',\n",
    "       'has_superstructure_cement_mortar_brick', 'has_superstructure_timber',\n",
    "       'has_superstructure_bamboo', 'has_superstructure_rc_non_engineered',\n",
    "       'has_superstructure_rc_engineered', 'has_superstructure_other']"
   ]
  },
  {
   "cell_type": "code",
   "execution_count": 63,
   "metadata": {},
   "outputs": [
    {
     "name": "stdout",
     "output_type": "stream",
     "text": [
      "{'has_superstructure_adobe_mud': 32314, 'has_superstructure_mud_mortar_stone': 609891, 'has_superstructure_stone_flag': 26766, 'has_superstructure_cement_mortar_stone': 12053, 'has_superstructure_mud_mortar_brick': 17499, 'has_superstructure_cement_mortar_brick': 54510, 'has_superstructure_timber': 197207, 'has_superstructure_bamboo': 61336, 'has_superstructure_rc_non_engineered': 30327, 'has_superstructure_rc_engineered': 12488, 'has_superstructure_other': 9165}\n"
     ]
    },
    {
     "data": {
      "image/png": "[encoded data removed]",
      "text/plain": [
       "<Figure size 576x360 with 1 Axes>"
      ]
     },
     "metadata": {
      "needs_background": "light"
     },
     "output_type": "display_data"
    }
   ],
   "source": [
    "eda.dict_maker(superstructure_list, building_df)\n",
    "plt.title('Distribution of Building Superstructure Composition')\n",
    "plt.xlabel('Number of Buildings')\n",
    "plt.ylabel('Type of Superstructure')\n",
    "plt.savefig('./images/Distribution of building superstructure composition.png');"
   ]
  },
  {
   "cell_type": "code",
   "execution_count": 64,
   "metadata": {},
   "outputs": [
    {
     "name": "stdout",
     "output_type": "stream",
     "text": [
      "1    0.800271\n",
      "0    0.199729\n",
      "Name: has_superstructure_mud_mortar_stone, dtype: float64 \n",
      "\n",
      "0    0.741234\n",
      "1    0.258766\n",
      "Name: has_superstructure_timber, dtype: float64\n"
     ]
    }
   ],
   "source": [
    "# checking the number of building with mud_mortar_stone and timber superstructures\n",
    "print(building_df['has_superstructure_mud_mortar_stone'].value_counts(normalize=True), '\\n')\n",
    "print(building_df['has_superstructure_timber'].value_counts(normalize=True))"
   ]
  },
  {
   "cell_type": "markdown",
   "metadata": {},
   "source": [
    "Superstructure is the structual part of a building found above the foundation or basement. The type of materials used or found in the superstructure can be very telling about the kind of damage a building may have from an earthquake. \n",
    "\n",
    "In the dataset, we find that about 80% of the buildings have a build composition of mud, mortar and stone, with others. Timber is the next heavily used material in building superstructures.\n"
   ]
  },
  {
   "cell_type": "code",
   "execution_count": 65,
   "metadata": {},
   "outputs": [
    {
     "data": {
      "image/png": "[encoded data removed]",
      "text/plain": [
       "<Figure size 450x360 with 1 Axes>"
      ]
     },
     "metadata": {
      "needs_background": "light"
     },
     "output_type": "display_data"
    }
   ],
   "source": [
    "viz.floor_type(building_df)"
   ]
  },
  {
   "cell_type": "markdown",
   "metadata": {},
   "source": [
    "Building damage severity is highest for structures with a a floor type of timber/ bamboo mud. This group also had the most number of buildings with minor damages by a lot. The best fairing buildings had a floor type composition of RCC/RB/RBC, where damages were the least but with still some building that were severely compromised.\n",
    "\n",
    "RCC/RB/RBC all refer to **Reinforced Cement Concrete** where the composite materials are made of cement concrete and steet rebars. In construction, the steet rebars at tensile strength and ductility to conteract the rigidity of the concrete."
   ]
  },
  {
   "cell_type": "code",
   "execution_count": 66,
   "metadata": {},
   "outputs": [
    {
     "data": {
      "image/png": "[encoded data removed]",
      "text/plain": [
       "<Figure size 450x360 with 1 Axes>"
      ]
     },
     "metadata": {
      "needs_background": "light"
     },
     "output_type": "display_data"
    }
   ],
   "source": [
    "viz.foundation_type(building_df)"
   ]
  },
  {
   "cell_type": "markdown",
   "metadata": {},
   "source": [
    "Looking at the foundation type of the building, we can clearly see that some form of concrete material foundation type faced the least damages. Buildings with mud mortar-stone/Brick foundations were heavily damaged during the earthquake."
   ]
  },
  {
   "cell_type": "code",
   "execution_count": 67,
   "metadata": {},
   "outputs": [
    {
     "data": {
      "image/png": "[encoded data removed]",
      "text/plain": [
       "<Figure size 486x360 with 1 Axes>"
      ]
     },
     "metadata": {
      "needs_background": "light"
     },
     "output_type": "display_data"
    }
   ],
   "source": [
    "viz.roof_type(building_df)"
   ]
  },
  {
   "cell_type": "markdown",
   "metadata": {},
   "source": [
    "Similarly, here for bamboo/timber-light roofing buildings the damage was highest. RCC roofed buildings were either severly damaged or barly damaged at all. "
   ]
  },
  {
   "cell_type": "markdown",
   "metadata": {},
   "source": [
    "## Baseline Model\n",
    "As a base to compare all other following models. We first train test split and then fit a logistic regression multiclass classification model and save the scores to compare.\n",
    "\n",
    "### Train Test Split for baseline model"
   ]
  },
  {
   "cell_type": "code",
   "execution_count": 22,
   "metadata": {},
   "outputs": [
    {
     "name": "stdout",
     "output_type": "stream",
     "text": [
      "Training set - Features:  (609684, 46) Target:  (609684,)\n",
      "Test set - Features:  (152422, 46) Target:  (152422,)\n",
      "============================================ \n",
      "3    0.603185\n",
      "1    0.217613\n",
      "2    0.179203\n",
      "Name: target, dtype: float64\n",
      "3    0.602656\n",
      "1    0.219188\n",
      "2    0.178157\n",
      "Name: target, dtype: float64\n"
     ]
    }
   ],
   "source": [
    "X_droplist = ['target','legal_ownership_status', 'land_surface_condition', 'foundation_type',\n",
    "       'roof_type', 'ground_floor_type', 'other_floor_type', 'plan_configuration', 'position']\n",
    "\n",
    "X = building_df.drop(columns=X_droplist)\n",
    "y = building_df['target']\n",
    "\n",
    "#performing train-test split on main dataframe\n",
    "X_train, X_test, y_train, y_test = train_test_split(X, y, random_state=100, test_size=0.2)\n",
    "\n",
    "#checking the shape of the training set and test set\n",
    "print(\"Training set - Features: \", X_train.shape, \"Target: \", y_train.shape,)\n",
    "print(\"Test set - Features: \", X_test.shape, \"Target: \",y_test.shape,)\n",
    "print('============================================ ')\n",
    "print(y_train.value_counts(normalize = True))\n",
    "print(y_test.value_counts(normalize = True))"
   ]
  },
  {
   "cell_type": "code",
   "execution_count": 23,
   "metadata": {},
   "outputs": [
    {
     "name": "stdout",
     "output_type": "stream",
     "text": [
      "Test F1 score:  0.4532\n",
      "Train F1 score:  0.4539\n",
      "================================\n",
      "Test Recall score:  0.6027\n",
      "Train Recall score:  0.6032\n"
     ]
    }
   ],
   "source": [
    "lr1 = LogisticRegression(solver='lbfgs',multi_class='multinomial', random_state=100)\n",
    "\n",
    "lr1.fit(X_train, y_train)\n",
    "\n",
    "y_pred_test = lr1.predict(X_test)\n",
    "y_pred_train = lr1.predict(X_train)\n",
    "\n",
    "# checking f1 score\n",
    "print('Test F1 score: ', round(metrics.f1_score(y_test, y_pred_test, average='weighted'),4))\n",
    "print('Train F1 score: ', round(metrics.f1_score(y_train, y_pred_train, average='weighted'),4))\n",
    "print('================================')\n",
    "# checking recall score\n",
    "print('Test Recall score: ', round(metrics.recall_score(y_test, y_pred_test, average='weighted'),4))\n",
    "print('Train Recall score: ', round(metrics.recall_score(y_train, y_pred_train, average='weighted'),4))"
   ]
  },
  {
   "cell_type": "code",
   "execution_count": 24,
   "metadata": {},
   "outputs": [],
   "source": [
    "mod_eval= {}\n",
    "mod_eval['baseline_lr1']={'accuracy': .6027, 'f1':0.4532, 'recall': 0.6032}"
   ]
  },
  {
   "cell_type": "markdown",
   "metadata": {},
   "source": [
    "The model test has a lower f1 score of .4532 than the recall score of .6027. The baseline model is predicting on a heavily class imbalanced data and may be predicting on the majority, with high numbers of false positive and/or false negatives. In the confusion matrix below we can see the predicted distribution. The only true positive predicted class is class label 3. The model completely fails to predict other classes."
   ]
  },
  {
   "cell_type": "code",
   "execution_count": 25,
   "metadata": {},
   "outputs": [
    {
     "data": {
      "text/plain": [
       "<sklearn.metrics._plot.confusion_matrix.ConfusionMatrixDisplay at 0x7fd57444bf60>"
      ]
     },
     "execution_count": 25,
     "metadata": {},
     "output_type": "execute_result"
    },
    {
     "data": {
      "image/png": "[encoded data removed]",
      "text/plain": [
       "<Figure size 432x288 with 2 Axes>"
      ]
     },
     "metadata": {
      "needs_background": "light"
     },
     "output_type": "display_data"
    }
   ],
   "source": [
    "plot_confusion_matrix(lr1, X_train, y_train)"
   ]
  },
  {
   "cell_type": "markdown",
   "metadata": {},
   "source": [
    "## Feature Engineering"
   ]
  },
  {
   "cell_type": "markdown",
   "metadata": {},
   "source": [
    "We have a lot of nominal variables that may best be turned to dummies. The corresponding *'num'* features will be added to the drop list to be removed from the main dataset to be used in modeling"
   ]
  },
  {
   "cell_type": "code",
   "execution_count": 26,
   "metadata": {},
   "outputs": [],
   "source": [
    "dummy_1 = mod.dummify(building_df, 'ward_id')\n",
    "dummy_2 = mod.dummify(building_df, 'land_surface_condition')\n",
    "dummy_3 = mod.dummify(building_df, 'foundation_type')\n",
    "dummy_4 = mod.dummify(building_df, 'roof_type')\n",
    "dummy_5 = mod.dummify(building_df, 'ground_floor_type')\n",
    "dummy_6 = mod.dummify(building_df, 'other_floor_type')\n",
    "dummy_7 = mod.dummify(building_df, 'position')\n",
    "dummy_8 = mod.dummify(building_df, 'plan_configuration')\n",
    "dummy_9 = mod.dummify(building_df, 'legal_ownership_status')"
   ]
  },
  {
   "cell_type": "markdown",
   "metadata": {},
   "source": [
    "Next, we drop all the features that converted to dummies as the other features from EDA: `has_secondary_use` and `has_geotechnical_risk`."
   ]
  },
  {
   "cell_type": "code",
   "execution_count": 27,
   "metadata": {},
   "outputs": [],
   "source": [
    "# defining the list of features to drop\n",
    "drop_list= ['ward_id', 'land_surface_condition', 'foundation_type',\n",
    "       'roof_type', 'ground_floor_type', 'other_floor_type', 'position',\n",
    "       'plan_configuration','legal_ownership_status', 'land_surface_condition_num', \n",
    "            'foundation_type_num', 'roof_type_num',\n",
    "       'ground_floor_type_num', 'other_floor_type_num', 'position_num', \n",
    "            'plan_configuration_num', 'legal_ownership_status_num', \n",
    "            'has_secondary_use', 'has_geotechnical_risk']"
   ]
  },
  {
   "cell_type": "code",
   "execution_count": 28,
   "metadata": {},
   "outputs": [],
   "source": [
    "# dropping the drop_list features\n",
    "building_df.drop(columns= drop_list, inplace=True)"
   ]
  },
  {
   "cell_type": "code",
   "execution_count": 29,
   "metadata": {},
   "outputs": [
    {
     "name": "stdout",
     "output_type": "stream",
     "text": [
      "(762106, 36)\n",
      "(762106, 18)\n",
      "(762106, 2)\n",
      "(762106, 4)\n",
      "(762106, 2)\n",
      "(762106, 4)\n",
      "(762106, 3)\n",
      "(762106, 3)\n",
      "(762106, 9)\n",
      "(762106, 3)\n"
     ]
    }
   ],
   "source": [
    "#defining the dataframes to be concatenated and confirming appropriate shape\n",
    "df_list= [building_df, dummy_1 , dummy_2 , dummy_3 , dummy_4 , dummy_5 , dummy_6 , dummy_7 , dummy_8 , dummy_9]\n",
    "for df in df_list:\n",
    "    print(df.shape)"
   ]
  },
  {
   "cell_type": "code",
   "execution_count": 30,
   "metadata": {},
   "outputs": [
    {
     "name": "stdout",
     "output_type": "stream",
     "text": [
      "(762106, 83)\n",
      "(762106,)\n"
     ]
    }
   ],
   "source": [
    "# Concatenating all the dfs\n",
    "X = pd.concat(df_list, axis=1)\n",
    "\n",
    "# Defining the target variable\n",
    "y = X['target']\n",
    "\n",
    "# Defining the features or independent variables by removing the target\n",
    "X.drop(['target'], axis=1, inplace=True)\n",
    "\n",
    "#previewing shapes\n",
    "print(X.shape)\n",
    "print(y.shape)"
   ]
  },
  {
   "cell_type": "code",
   "execution_count": null,
   "metadata": {},
   "outputs": [],
   "source": []
  },
  {
   "cell_type": "markdown",
   "metadata": {},
   "source": [
    "## Train Test Split\n",
    "As part of preprocessing for models, the data needs to be split into a train set and a test set. All models will be trained on the train set and tested on the test set to observe how well the model performs as well as to lookout for any overfitting or underfitting."
   ]
  },
  {
   "cell_type": "code",
   "execution_count": 31,
   "metadata": {},
   "outputs": [
    {
     "name": "stdout",
     "output_type": "stream",
     "text": [
      "Training set - Features:  (457263, 83) Target:  (457263,)\n",
      "Test set - Features:  (304843, 83) Target:  (304843,)\n",
      "============================================ \n",
      "3    0.603718\n",
      "1    0.217566\n",
      "2    0.178716\n",
      "Name: target, dtype: float64\n",
      "3    0.60212\n",
      "1    0.21847\n",
      "2    0.17941\n",
      "Name: target, dtype: float64\n"
     ]
    }
   ],
   "source": [
    "#performing train-test split on main dataframe\n",
    "X_train, X_test, y_train, y_test = train_test_split(X, y, random_state=100, test_size=0.4)\n",
    "\n",
    "#checking the shape of the training set and test set\n",
    "print(\"Training set - Features: \", X_train.shape, \"Target: \", y_train.shape,)\n",
    "print(\"Test set - Features: \", X_test.shape, \"Target: \",y_test.shape,)\n",
    "print('============================================ ')\n",
    "print(y_train.value_counts(normalize = True))\n",
    "print(y_test.value_counts(normalize = True))"
   ]
  },
  {
   "cell_type": "markdown",
   "metadata": {},
   "source": [
    "## Class Imbalance\n",
    "Going forward to tackle the class imbalance problem in the data, we will use a class weight dictionary to defince the class weight to be used in the models"
   ]
  },
  {
   "cell_type": "code",
   "execution_count": 32,
   "metadata": {},
   "outputs": [
    {
     "name": "stdout",
     "output_type": "stream",
     "text": [
      "Proportion of type of Building damage\n",
      "3    60.31\n",
      "1    21.79\n",
      "2    17.90\n",
      "Name: target, dtype: float64\n"
     ]
    },
    {
     "data": {
      "image/png": "[encoded data removed]",
      "text/plain": [
       "<Figure size 360x360 with 1 Axes>"
      ]
     },
     "metadata": {
      "needs_background": "light"
     },
     "output_type": "display_data"
    }
   ],
   "source": [
    "viz.target_var(building_df)"
   ]
  },
  {
   "cell_type": "markdown",
   "metadata": {},
   "source": [
    "There is some level of class imbalance. 60% of the buildings in the dataset have severe or Grade 3 damage, while about 22% are buildings of Grade 1 with minor damages and 18% of buildings are of Grade 2 or major damages.\n",
    "\n",
    "To deal with this we will use a composition of downsampling the majority class which is class 3 and upsampling the minority class which is class 2."
   ]
  },
  {
   "cell_type": "code",
   "execution_count": 33,
   "metadata": {},
   "outputs": [
    {
     "data": {
      "text/plain": [
       "3    276058\n",
       "1     99485\n",
       "2     81720\n",
       "Name: target, dtype: int64"
      ]
     },
     "execution_count": 33,
     "metadata": {},
     "output_type": "execute_result"
    }
   ],
   "source": [
    "#concatenate our training data back together\n",
    "training = pd.concat([X_train, y_train], axis=1)\n",
    "\n",
    "# Separating the classes\n",
    "grade1 = training[training['target']==1]\n",
    "grade2 = training[training['target']==2]\n",
    "grade3 = training[training['target']==3]\n",
    "training['target'].value_counts()"
   ]
  },
  {
   "cell_type": "code",
   "execution_count": 34,
   "metadata": {},
   "outputs": [
    {
     "data": {
      "text/plain": [
       "(129485, 84)"
      ]
     },
     "execution_count": 34,
     "metadata": {},
     "output_type": "execute_result"
    }
   ],
   "source": [
    "# Downsampling class 3 in reference to length of class 1\n",
    "downsampled_grade3 = resample(grade3,\n",
    "                      replace=False,\n",
    "                      n_samples = len(grade1)+30000,\n",
    "                      random_state = 100)\n",
    "\n",
    "downsampled_grade3.shape"
   ]
  },
  {
   "cell_type": "markdown",
   "metadata": {},
   "source": [
    "In order to not lose too much information in reducing the size of class label 3 of the target variable as well as to manage the class imbalance the n_smaples chosen here is the length of class label 1 with a padding of 30000. "
   ]
  },
  {
   "cell_type": "code",
   "execution_count": 35,
   "metadata": {},
   "outputs": [
    {
     "data": {
      "text/plain": [
       "(99485, 84)"
      ]
     },
     "execution_count": 35,
     "metadata": {},
     "output_type": "execute_result"
    }
   ],
   "source": [
    "upsample_grade2 = resample(grade2,\n",
    "                          replace= True,\n",
    "                          n_samples = len(grade1),\n",
    "                          random_state = 100)\n",
    "\n",
    "upsample_grade2.shape"
   ]
  },
  {
   "cell_type": "code",
   "execution_count": 36,
   "metadata": {},
   "outputs": [
    {
     "name": "stdout",
     "output_type": "stream",
     "text": [
      "Proportion of type of Building damage\n",
      "3    39.42\n",
      "2    30.29\n",
      "1    30.29\n",
      "Name: target, dtype: float64\n"
     ]
    },
    {
     "data": {
      "image/png": "[encoded data removed]",
      "text/plain": [
       "<Figure size 360x360 with 1 Axes>"
      ]
     },
     "metadata": {
      "needs_background": "light"
     },
     "output_type": "display_data"
    }
   ],
   "source": [
    "resampled = pd.concat([downsampled_grade3, grade1, upsample_grade2])\n",
    "\n",
    "viz.target_var_resample(resampled)"
   ]
  },
  {
   "cell_type": "markdown",
   "metadata": {},
   "source": [
    "The differences between the classes are much more stable than before."
   ]
  },
  {
   "cell_type": "code",
   "execution_count": 37,
   "metadata": {},
   "outputs": [
    {
     "data": {
      "text/plain": [
       "(328455, 83)"
      ]
     },
     "execution_count": 37,
     "metadata": {},
     "output_type": "execute_result"
    }
   ],
   "source": [
    "y_train_resampled = resampled['target']\n",
    "X_train_resampled = resampled.drop(columns = ['target'], axis= 1)\n",
    "X_train_resampled.shape"
   ]
  },
  {
   "cell_type": "markdown",
   "metadata": {},
   "source": [
    "The final `X_train_resampled` has 83 features and 328455 observations for training models to."
   ]
  },
  {
   "cell_type": "markdown",
   "metadata": {},
   "source": [
    "## Standardizing the train and test sets\n",
    "Here I used the minmax scaler to standardize the datasets."
   ]
  },
  {
   "cell_type": "code",
   "execution_count": 38,
   "metadata": {},
   "outputs": [],
   "source": [
    "columns = X_train_resampled.columns\n",
    "\n",
    "scaler = MinMaxScaler()  \n",
    "scaler.fit(X_train_resampled)\n",
    "\n",
    "X_train_scaled_values = scaler.transform(X_train_resampled.values)  \n",
    "X_test_scaled_values = scaler.transform(X_test.values)\n",
    "\n",
    "X_train_scaled = X_train_resampled.copy()\n",
    "X_test_scaled = X_test.copy()\n",
    "\n",
    "X_train_scaled[columns]= X_train_scaled_values\n",
    "X_test_scaled[columns] = X_test_scaled_values"
   ]
  },
  {
   "cell_type": "markdown",
   "metadata": {},
   "source": [
    "## Model Iterations\n",
    "To evaluate the various models, I will rely on the model recall score. The model recall score measures how well the model predicts actual positives, in the hopes of minimizing any False Negatives over False Positives. In reference to the business case, if a building is predicted to not face severe damage when it actually could become severely damaged then such a building may not get the needed reinforcement solutions that it needs to be made safe.\n",
    "\n",
    "### Logistic Regression Model"
   ]
  },
  {
   "cell_type": "code",
   "execution_count": 39,
   "metadata": {},
   "outputs": [],
   "source": [
    "scoring = {'recall': mod.scorer_recall()}"
   ]
  },
  {
   "cell_type": "code",
   "execution_count": 40,
   "metadata": {},
   "outputs": [],
   "source": [
    "# Staging the Logistic Regression model object\n",
    "lr = LogisticRegression(random_state=100, multi_class='multinomial', solver= 'saga' )\n",
    "\n",
    "#Defining the parameters to use in the gridsearch\n",
    "params = {'C':[0.1, 1, 5, 10], 'max_iter': [1000, 10000]}\n",
    "\n",
    "#Staging the gridsearch \n",
    "gs_lr = GridSearchCV(lr, param_grid=params, scoring=scoring, cv=3, verbose=2, refit='recall', n_jobs=-1)"
   ]
  },
  {
   "cell_type": "code",
   "execution_count": 41,
   "metadata": {},
   "outputs": [
    {
     "name": "stdout",
     "output_type": "stream",
     "text": [
      "Fitting 3 folds for each of 8 candidates, totalling 24 fits\n"
     ]
    },
    {
     "name": "stderr",
     "output_type": "stream",
     "text": [
      "[Parallel(n_jobs=-1)]: Using backend LokyBackend with 4 concurrent workers.\n",
      "[Parallel(n_jobs=-1)]: Done  24 out of  24 | elapsed:  5.2min finished\n"
     ]
    },
    {
     "data": {
      "text/plain": [
       "GridSearchCV(cv=3,\n",
       "             estimator=LogisticRegression(multi_class='multinomial',\n",
       "                                          random_state=100, solver='saga'),\n",
       "             n_jobs=-1,\n",
       "             param_grid={'C': [0.1, 1, 5, 10], 'max_iter': [1000, 10000]},\n",
       "             refit='recall',\n",
       "             scoring={'recall': make_scorer(recall_score_class)}, verbose=2)"
      ]
     },
     "execution_count": 41,
     "metadata": {},
     "output_type": "execute_result"
    }
   ],
   "source": [
    "# fitting the grid search to the train sets\n",
    "gs_lr.fit(X_train_scaled, y_train_resampled)"
   ]
  },
  {
   "cell_type": "code",
   "execution_count": 42,
   "metadata": {},
   "outputs": [
    {
     "data": {
      "text/plain": [
       "{'C': 0.1, 'max_iter': 1000}"
      ]
     },
     "execution_count": 42,
     "metadata": {},
     "output_type": "execute_result"
    }
   ],
   "source": [
    "gs_lr.best_params_"
   ]
  },
  {
   "cell_type": "code",
   "execution_count": 43,
   "metadata": {},
   "outputs": [
    {
     "name": "stderr",
     "output_type": "stream",
     "text": [
      "[Parallel(n_jobs=-1)]: Using backend ThreadingBackend with 4 concurrent workers.\n"
     ]
    },
    {
     "name": "stdout",
     "output_type": "stream",
     "text": [
      "convergence after 36 epochs took 27 seconds\n"
     ]
    },
    {
     "name": "stderr",
     "output_type": "stream",
     "text": [
      "[Parallel(n_jobs=-1)]: Done   1 out of   1 | elapsed:   26.4s finished\n"
     ]
    },
    {
     "name": "stdout",
     "output_type": "stream",
     "text": [
      "Test Accuracy score:  0.6674\n",
      "Train Accuracy score:  0.5657\n",
      "================================\n",
      "Test F1 score:  0.6493\n",
      "Train F1 score:  0.5315\n",
      "================================\n",
      "Test Recall score:  0.6674\n",
      "Train Recall score:  0.5657\n"
     ]
    }
   ],
   "source": [
    "lr2 = LogisticRegression(solver='saga',multi_class='multinomial', \n",
    "                                random_state=100, max_iter=1000, C=1,\n",
    "                                verbose=2, n_jobs=-1)\n",
    "\n",
    "lr2.fit(X_train_scaled, y_train_resampled) \n",
    "\n",
    "# class predictions (not predicted probabilities)\n",
    "y_pred_test = lr2.predict(X_test_scaled)\n",
    "y_pred_train = lr2.predict(X_train_scaled)\n",
    "\n",
    "# checking accuracy score\n",
    "print('Test Accuracy score: ', round(metrics.accuracy_score(y_test, y_pred_test),4))\n",
    "print('Train Accuracy score: ', round(metrics.accuracy_score(y_train_resampled, y_pred_train),4))\n",
    "print('================================')\n",
    "# checking f1 score\n",
    "print('Test F1 score: ', round(metrics.f1_score(y_test, y_pred_test, average='weighted'),4))\n",
    "print('Train F1 score: ', round(metrics.f1_score(y_train_resampled, y_pred_train, average='weighted'),4))\n",
    "print('================================')\n",
    "# checking recall score\n",
    "print('Test Recall score: ', round(metrics.recall_score(y_test, y_pred_test, average='weighted'),4))\n",
    "print('Train Recall score: ', round(metrics.recall_score(y_train_resampled, y_pred_train, average='weighted'),4))"
   ]
  },
  {
   "cell_type": "code",
   "execution_count": 44,
   "metadata": {},
   "outputs": [
    {
     "data": {
      "image/png": "[encoded data removed]",
      "text/plain": [
       "<Figure size 432x288 with 2 Axes>"
      ]
     },
     "metadata": {
      "needs_background": "light"
     },
     "output_type": "display_data"
    }
   ],
   "source": [
    "plot_confusion_matrix(lr2, X_train_scaled, y_train_resampled, normalize='true');"
   ]
  },
  {
   "cell_type": "code",
   "execution_count": null,
   "metadata": {},
   "outputs": [],
   "source": []
  },
  {
   "cell_type": "code",
   "execution_count": 45,
   "metadata": {},
   "outputs": [],
   "source": [
    "dtc4 = DecisionTreeClassifier(random_state=100, max_depth= 15)"
   ]
  },
  {
   "cell_type": "code",
   "execution_count": 46,
   "metadata": {},
   "outputs": [
    {
     "name": "stdout",
     "output_type": "stream",
     "text": [
      "Test Accuracy score:  0.7001\n",
      "Train Accuracy score:  0.7372\n",
      "================================\n",
      "Test F1 score:  0.714\n",
      "Train F1 score:  0.7376\n",
      "================================\n",
      "Test Recall score:  0.7001\n",
      "Train Recall score:  0.7372\n"
     ]
    }
   ],
   "source": [
    "dtc4.fit(X_train_scaled, y_train_resampled)\n",
    "\n",
    "y_pred_test= dtc4.predict(X_test_scaled)\n",
    "y_pred_train = dtc4.predict(X_train_scaled)\n",
    "\n",
    "# checking accuracy score\n",
    "print('Test Accuracy score: ', round(metrics.accuracy_score(y_test, y_pred_test),4))\n",
    "print('Train Accuracy score: ', round(metrics.accuracy_score(y_train_resampled, y_pred_train),4))\n",
    "print('================================')\n",
    "# checking f1 score\n",
    "print('Test F1 score: ', round(metrics.f1_score(y_test, y_pred_test, average='weighted'),4))\n",
    "print('Train F1 score: ', round(metrics.f1_score(y_train_resampled, y_pred_train, average='weighted'),4))\n",
    "print('================================')\n",
    "# checking recall score\n",
    "print('Test Recall score: ', round(metrics.recall_score(y_test, y_pred_test, average='weighted'),4))\n",
    "print('Train Recall score: ', round(metrics.recall_score(y_train_resampled, y_pred_train, average='weighted'),4))"
   ]
  },
  {
   "cell_type": "code",
   "execution_count": 82,
   "metadata": {},
   "outputs": [
    {
     "data": {
      "image/png": "[encoded data removed]",
      "text/plain": [
       "<Figure size 432x288 with 2 Axes>"
      ]
     },
     "metadata": {
      "needs_background": "light"
     },
     "output_type": "display_data"
    }
   ],
   "source": [
    "plot_confusion_matrix(dtc4, X_train_scaled, y_train_resampled, normalize='true')\n",
    "plt.savefig('./images/confusion_matrix_final.png');"
   ]
  },
  {
   "cell_type": "code",
   "execution_count": 71,
   "metadata": {},
   "outputs": [],
   "source": [
    "importances=dtc4.feature_importances_\n",
    "dtc4."
   ]
  },
  {
   "cell_type": "code",
   "execution_count": 83,
   "metadata": {
    "scrolled": false
   },
   "outputs": [
    {
     "data": {
      "image/png": "[encoded data removed]",
      "text/plain": [
       "<Figure size 720x504 with 1 Axes>"
      ]
     },
     "metadata": {
      "needs_background": "light"
     },
     "output_type": "display_data"
    }
   ],
   "source": [
    "feat_imp = pd.DataFrame({'importance':dtc4.feature_importances_})    \n",
    "feat_imp['feature'] = X_train_resampled.columns\n",
    "feat_imp.sort_values(by='importance', ascending=False, inplace=True)\n",
    "feat_imp = feat_imp.iloc[0:15]\n",
    "    \n",
    "feat_imp.sort_values(by='importance', inplace=True)\n",
    "feat_imp = feat_imp.set_index('feature', drop=True)\n",
    "feat_imp.plot.barh(title = 'Top 15 Important Features', figsize=(10,7))\n",
    "plt.savefig('./images/Decision_tree_important_features.png')"
   ]
  },
  {
   "cell_type": "markdown",
   "metadata": {},
   "source": [
    "## Next Steps"
   ]
  },
  {
   "cell_type": "markdown",
   "metadata": {},
   "source": [
    "Going forward I would like to try out some more complex models such as SVM, Random Forrest and other Ensemble methods. \n",
    "Although the location of the building is important, I want to see how the models behave if the building locations were removed."
   ]
  },
  {
   "cell_type": "code",
   "execution_count": null,
   "metadata": {},
   "outputs": [],
   "source": []
  }
 ],
 "metadata": {
  "kernelspec": {
   "display_name": "learn-env",
   "language": "python",
   "name": "learn-env"
  },
  "language_info": {
   "codemirror_mode": {
    "name": "ipython",
    "version": 3
   },
   "file_extension": ".py",
   "mimetype": "text/x-python",
   "name": "python",
   "nbconvert_exporter": "python",
   "pygments_lexer": "ipython3",
   "version": "3.6.9"
  }
 },
 "nbformat": 4,
 "nbformat_minor": 4
}
