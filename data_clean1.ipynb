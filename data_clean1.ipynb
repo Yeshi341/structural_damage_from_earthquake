{
 "cells": [
  {
   "cell_type": "code",
   "execution_count": 1,
   "metadata": {},
   "outputs": [],
   "source": [
    "# importing utility functions\n",
    "import pandas as pd\n",
    "import numpy as np\n",
    "import os\n",
    "import sys\n",
    "\n",
    "\n",
    "%load_ext autoreload\n",
    "%autoreload 2\n",
    "\n",
    "module_path = os.path.abspath(os.path.join( 'src'))\n",
    "if module_path not in sys.path:\n",
    "    sys.path.append(module_path)\n",
    "    \n",
    "from nb_modules import cleaning_mod as cl"
   ]
  },
  {
   "cell_type": "code",
   "execution_count": 2,
   "metadata": {},
   "outputs": [],
   "source": [
    "# # setting options to display all rows and columns\n",
    "pd.set_option('display.max_rows', None)\n",
    "pd.set_option('display.max_columns', None)"
   ]
  },
  {
   "cell_type": "code",
   "execution_count": 3,
   "metadata": {},
   "outputs": [],
   "source": [
    "# Reading csv files to dataframes\n",
    "building_use_df= pd.read_csv('data/extracted/eq_data/csv_building_ownership_and_use.csv')\n",
    "building_structure_df=  pd.read_csv('data/extracted/eq_data/csv_building_structure.csv')"
   ]
  },
  {
   "cell_type": "markdown",
   "metadata": {},
   "source": [
    "## Building Ownership and Use data"
   ]
  },
  {
   "cell_type": "code",
   "execution_count": 4,
   "metadata": {},
   "outputs": [],
   "source": [
    "# # Uncomment to preview data\n",
    "# building_use_df.head()"
   ]
  },
  {
   "cell_type": "code",
   "execution_count": null,
   "metadata": {},
   "outputs": [],
   "source": [
    "# # Uncomment to preview data columns\n",
    "# building_use_df.columns"
   ]
  },
  {
   "cell_type": "code",
   "execution_count": 6,
   "metadata": {},
   "outputs": [],
   "source": [
    "# # Uncomment to see df info\n",
    "# building_use_df.info()"
   ]
  },
  {
   "cell_type": "markdown",
   "metadata": {},
   "source": [
    "The dataframe has 762106 obs with 17 features. There are few features with missing values. All the features are of numeric dtype except for `lega_ownership_status`. Need to look into this feature and possibly convert to numeric dtype"
   ]
  },
  {
   "cell_type": "code",
   "execution_count": 7,
   "metadata": {},
   "outputs": [
    {
     "data": {
      "text/plain": [
       "Private          95.97\n",
       "Public            2.52\n",
       "Institutional     1.03\n",
       "Other             0.48\n",
       "Name: legal_ownership_status, dtype: float64"
      ]
     },
     "execution_count": 7,
     "metadata": {},
     "output_type": "execute_result"
    }
   ],
   "source": [
    "round(building_use_df['legal_ownership_status'].value_counts(normalize=True)*100,2)"
   ]
  },
  {
   "cell_type": "markdown",
   "metadata": {},
   "source": [
    "About 96% of the building structures in the data are of private ownership with 2.5% of public ownership and 1% belonging to institutions. On converting to numeric datatype, we will assign the labels in order as a range from 1 to 4."
   ]
  },
  {
   "cell_type": "code",
   "execution_count": 4,
   "metadata": {},
   "outputs": [
    {
     "data": {
      "text/plain": [
       "1    731387\n",
       "2     19232\n",
       "3      7823\n",
       "4      3664\n",
       "Name: legal_ownership_status_num, dtype: int64"
      ]
     },
     "execution_count": 4,
     "metadata": {},
     "output_type": "execute_result"
    }
   ],
   "source": [
    "cl.convert_to_num(building_use_df, 'legal_ownership_status', 'legal_ownership_status_num')"
   ]
  },
  {
   "cell_type": "code",
   "execution_count": 9,
   "metadata": {},
   "outputs": [],
   "source": [
    "# # Uncomment to to check for null values in columns\n",
    "# building_use_df.isna().sum()"
   ]
  },
  {
   "cell_type": "markdown",
   "metadata": {},
   "source": [
    "There are two features with missing values. `count_families` missing 2 values and `has_secondary_use` missing 10. The column `count_families` is a record of the number of families in a building. The column `has_secondary_use` is a flag variable that indicates if the building is used for any secondary purpose, according to the table information on the data source [site](https://eq2015.npc.gov.np/#/download)"
   ]
  },
  {
   "cell_type": "code",
   "execution_count": 10,
   "metadata": {},
   "outputs": [],
   "source": [
    "# # Uncomment to check the rows of the column with NaN values\n",
    "# building_use_df[building_use_df['count_families'].isna()]"
   ]
  },
  {
   "cell_type": "code",
   "execution_count": 11,
   "metadata": {},
   "outputs": [
    {
     "data": {
      "text/plain": [
       "1.0     643418\n",
       "0.0      71576\n",
       "2.0      39753\n",
       "3.0       5685\n",
       "4.0       1215\n",
       "5.0        302\n",
       "6.0        104\n",
       "7.0         27\n",
       "8.0         15\n",
       "9.0          8\n",
       "11.0         1\n",
       "Name: count_families, dtype: int64"
      ]
     },
     "execution_count": 11,
     "metadata": {},
     "output_type": "execute_result"
    }
   ],
   "source": [
    "building_use_df['count_families'].value_counts()"
   ]
  },
  {
   "cell_type": "markdown",
   "metadata": {},
   "source": [
    "The `Nan` values here could mean that no families live there like the 0 values that already exist in the data. Filling `Nan` here with 0 makes sense."
   ]
  },
  {
   "cell_type": "code",
   "execution_count": 12,
   "metadata": {},
   "outputs": [],
   "source": [
    "# # Uncomment to check the rows of the column with NaN values \n",
    "# building_use_df[building_use_df['has_secondary_use'].isna()]"
   ]
  },
  {
   "cell_type": "code",
   "execution_count": 13,
   "metadata": {},
   "outputs": [
    {
     "data": {
      "text/plain": [
       "0.0    669732\n",
       "1.0     92364\n",
       "Name: has_secondary_use, dtype: int64"
      ]
     },
     "execution_count": 13,
     "metadata": {},
     "output_type": "execute_result"
    }
   ],
   "source": [
    "building_use_df['has_secondary_use'].value_counts()"
   ]
  },
  {
   "cell_type": "markdown",
   "metadata": {},
   "source": [
    "The `Nan` values here could mean that no the building has no secondary use. All the other secondary use fields have a 0 values corresponding to the Nan values of interest here. Filling `Nan` here with 0 makes sense, like the existing 0 values in the `has_secondary_use` column."
   ]
  },
  {
   "cell_type": "code",
   "execution_count": 5,
   "metadata": {},
   "outputs": [],
   "source": [
    "building_use_df['count_families'].fillna(value=0, inplace=True)\n",
    "building_use_df['has_secondary_use'].fillna(value=0, inplace=True)"
   ]
  },
  {
   "cell_type": "code",
   "execution_count": 15,
   "metadata": {},
   "outputs": [],
   "source": [
    "# # Uncomment to check for null values\n",
    "# building_use_df.isnull().any()"
   ]
  },
  {
   "cell_type": "markdown",
   "metadata": {},
   "source": [
    "All missing values and data type issues in the `building_use_df` have been taken care of."
   ]
  },
  {
   "cell_type": "code",
   "execution_count": 16,
   "metadata": {},
   "outputs": [],
   "source": [
    "# # Uncomment to check for descriptive statistics\n",
    "# building_use_df.describe()"
   ]
  },
  {
   "cell_type": "markdown",
   "metadata": {},
   "source": [
    "## Building Structure data"
   ]
  },
  {
   "cell_type": "code",
   "execution_count": 17,
   "metadata": {},
   "outputs": [],
   "source": [
    "# # Uncomment to preview Building Structure data\n",
    "# building_structure_df.head()"
   ]
  },
  {
   "cell_type": "code",
   "execution_count": 18,
   "metadata": {},
   "outputs": [],
   "source": [
    "# # Uncomment and run to see column labels in data\n",
    "# building_structure_df.columns"
   ]
  },
  {
   "cell_type": "code",
   "execution_count": 19,
   "metadata": {},
   "outputs": [],
   "source": [
    "# # Uncomment and run to check for null\n",
    "# building_structure_df.isna().sum()"
   ]
  },
  {
   "cell_type": "markdown",
   "metadata": {},
   "source": [
    "There are 4 features in the dataset with missing values. `position` feature is missing 1 value, `plan_configuration` feature is also missing 1 value, `damage_grade` is missing 12 values and `technical_solution_proposed` is also missing 12 values."
   ]
  },
  {
   "cell_type": "code",
   "execution_count": 20,
   "metadata": {},
   "outputs": [
    {
     "name": "stdout",
     "output_type": "stream",
     "text": [
      "<class 'pandas.core.frame.DataFrame'>\n",
      "RangeIndex: 762106 entries, 0 to 762105\n",
      "Data columns (total 31 columns):\n",
      "building_id                               762106 non-null int64\n",
      "district_id                               762106 non-null int64\n",
      "vdcmun_id                                 762106 non-null int64\n",
      "ward_id                                   762106 non-null int64\n",
      "count_floors_pre_eq                       762106 non-null int64\n",
      "count_floors_post_eq                      762106 non-null int64\n",
      "age_building                              762106 non-null int64\n",
      "plinth_area_sq_ft                         762106 non-null int64\n",
      "height_ft_pre_eq                          762106 non-null int64\n",
      "height_ft_post_eq                         762106 non-null int64\n",
      "land_surface_condition                    762106 non-null object\n",
      "foundation_type                           762106 non-null object\n",
      "roof_type                                 762106 non-null object\n",
      "ground_floor_type                         762106 non-null object\n",
      "other_floor_type                          762106 non-null object\n",
      "position                                  762105 non-null object\n",
      "plan_configuration                        762105 non-null object\n",
      "has_superstructure_adobe_mud              762106 non-null int64\n",
      "has_superstructure_mud_mortar_stone       762106 non-null int64\n",
      "has_superstructure_stone_flag             762106 non-null int64\n",
      "has_superstructure_cement_mortar_stone    762106 non-null int64\n",
      "has_superstructure_mud_mortar_brick       762106 non-null int64\n",
      "has_superstructure_cement_mortar_brick    762106 non-null int64\n",
      "has_superstructure_timber                 762106 non-null int64\n",
      "has_superstructure_bamboo                 762106 non-null int64\n",
      "has_superstructure_rc_non_engineered      762106 non-null int64\n",
      "has_superstructure_rc_engineered          762106 non-null int64\n",
      "has_superstructure_other                  762106 non-null int64\n",
      "condition_post_eq                         762106 non-null object\n",
      "damage_grade                              762094 non-null object\n",
      "technical_solution_proposed               762094 non-null object\n",
      "dtypes: int64(21), object(10)\n",
      "memory usage: 180.2+ MB\n"
     ]
    }
   ],
   "source": [
    "# # Uncomment and run to check data info\n",
    "building_structure_df.info()"
   ]
  },
  {
   "cell_type": "markdown",
   "metadata": {},
   "source": [
    "The building structure dataframe has 762106 observations and 31 features. There are 10 features as pandas object data type while the rest are of numeric dtype. The next steps will be to look at the object type features and explore if they should and can be converted to numeric dtype."
   ]
  },
  {
   "cell_type": "code",
   "execution_count": 21,
   "metadata": {},
   "outputs": [
    {
     "data": {
      "text/plain": [
       "Flat              82.89\n",
       "Moderate slope    13.86\n",
       "Steep slope        3.25\n",
       "Name: land_surface_condition, dtype: float64"
      ]
     },
     "execution_count": 21,
     "metadata": {},
     "output_type": "execute_result"
    }
   ],
   "source": [
    "round(building_structure_df['land_surface_condition'].value_counts(normalize=True)*100,2)"
   ]
  },
  {
   "cell_type": "markdown",
   "metadata": {},
   "source": [
    "About 83% of the buildings in the dataset are on a flat land surface, while 14% of buildings sit on a moderate sloping land surface and about 3% buildings are on a steep sloping land surface. To convert to numeric datatype, we will assign the labels in order as a range from 1 to 3."
   ]
  },
  {
   "cell_type": "code",
   "execution_count": 6,
   "metadata": {},
   "outputs": [
    {
     "data": {
      "text/plain": [
       "1    631675\n",
       "2    105640\n",
       "3     24791\n",
       "Name: land_surface_condition_num, dtype: int64"
      ]
     },
     "execution_count": 6,
     "metadata": {},
     "output_type": "execute_result"
    }
   ],
   "source": [
    "cl.convert_to_num(building_structure_df,'land_surface_condition', 'land_surface_condition_num')"
   ]
  },
  {
   "cell_type": "code",
   "execution_count": 23,
   "metadata": {},
   "outputs": [
    {
     "data": {
      "text/plain": [
       "Mud mortar-Stone/Brick    628716\n",
       "Bamboo/Timber              57473\n",
       "Cement-Stone/Brick         39245\n",
       "RC                         32120\n",
       "Other                       4552\n",
       "Name: foundation_type, dtype: int64"
      ]
     },
     "execution_count": 23,
     "metadata": {},
     "output_type": "execute_result"
    }
   ],
   "source": [
    "building_structure_df['foundation_type'].value_counts()"
   ]
  },
  {
   "cell_type": "code",
   "execution_count": 24,
   "metadata": {},
   "outputs": [
    {
     "data": {
      "text/plain": [
       "1    628716\n",
       "2     57473\n",
       "3     39245\n",
       "4     32120\n",
       "5      4552\n",
       "Name: foundation_type_num, dtype: int64"
      ]
     },
     "execution_count": 24,
     "metadata": {},
     "output_type": "execute_result"
    }
   ],
   "source": [
    "cl.convert_to_num(building_structure_df,'foundation_type', 'foundation_type_num')"
   ]
  },
  {
   "cell_type": "code",
   "execution_count": 25,
   "metadata": {},
   "outputs": [
    {
     "data": {
      "text/plain": [
       "Bamboo/Timber-Light roof    66.10\n",
       "Bamboo/Timber-Heavy roof    28.05\n",
       "RCC/RB/RBC                   5.85\n",
       "Name: roof_type, dtype: float64"
      ]
     },
     "execution_count": 25,
     "metadata": {},
     "output_type": "execute_result"
    }
   ],
   "source": [
    "round(building_structure_df['roof_type'].value_counts(normalize=True)*100,2)"
   ]
  },
  {
   "cell_type": "markdown",
   "metadata": {},
   "source": [
    "About 66% of the buildings in the dataset have a bamboo or light timber roofing, while 28% have a bamboo or heavy timber roofing and only about 6% have a modern structural designed roof type with RCC (Reinforced Cement Concrete or RBC (Reinforced Brick Concrete) or RB (Reinforced Brick)."
   ]
  },
  {
   "cell_type": "code",
   "execution_count": 7,
   "metadata": {},
   "outputs": [
    {
     "data": {
      "text/plain": [
       "1    503748\n",
       "2    213774\n",
       "3     44584\n",
       "Name: roof_type_num, dtype: int64"
      ]
     },
     "execution_count": 7,
     "metadata": {},
     "output_type": "execute_result"
    }
   ],
   "source": [
    "cl.convert_to_num(building_structure_df,'roof_type', 'roof_type_num')"
   ]
  },
  {
   "cell_type": "code",
   "execution_count": 27,
   "metadata": {},
   "outputs": [
    {
     "data": {
      "text/plain": [
       "Mud            618217\n",
       "RC              73149\n",
       "Brick/Stone     66093\n",
       "Timber           3594\n",
       "Other            1053\n",
       "Name: ground_floor_type, dtype: int64"
      ]
     },
     "execution_count": 27,
     "metadata": {},
     "output_type": "execute_result"
    }
   ],
   "source": [
    "building_structure_df['ground_floor_type'].value_counts()"
   ]
  },
  {
   "cell_type": "code",
   "execution_count": 8,
   "metadata": {},
   "outputs": [
    {
     "data": {
      "text/plain": [
       "1    618217\n",
       "2     73149\n",
       "3     66093\n",
       "4      3594\n",
       "5      1053\n",
       "Name: ground_floor_type_num, dtype: int64"
      ]
     },
     "execution_count": 8,
     "metadata": {},
     "output_type": "execute_result"
    }
   ],
   "source": [
    "cl.convert_to_num(building_structure_df,'ground_floor_type', 'ground_floor_type_num')"
   ]
  },
  {
   "cell_type": "code",
   "execution_count": 29,
   "metadata": {},
   "outputs": [
    {
     "data": {
      "text/plain": [
       "TImber/Bamboo-Mud    486907\n",
       "Timber-Planck        123635\n",
       "Not applicable       118822\n",
       "RCC/RB/RBC            32742\n",
       "Name: other_floor_type, dtype: int64"
      ]
     },
     "execution_count": 29,
     "metadata": {},
     "output_type": "execute_result"
    }
   ],
   "source": [
    "building_structure_df['other_floor_type'].value_counts()"
   ]
  },
  {
   "cell_type": "code",
   "execution_count": 30,
   "metadata": {},
   "outputs": [
    {
     "data": {
      "text/plain": [
       "1    486907\n",
       "2    123635\n",
       "3    118822\n",
       "4     32742\n",
       "Name: other_floor_type_num, dtype: int64"
      ]
     },
     "execution_count": 30,
     "metadata": {},
     "output_type": "execute_result"
    }
   ],
   "source": [
    "cl.convert_to_num(building_structure_df,'other_floor_type', 'other_floor_type_num')"
   ]
  },
  {
   "cell_type": "code",
   "execution_count": 31,
   "metadata": {},
   "outputs": [
    {
     "data": {
      "text/plain": [
       "Damaged-Not used                           207968\n",
       "Damaged-Rubble unclear                     125650\n",
       "Damaged-Used in risk                       123849\n",
       "Damaged-Repaired and used                  107797\n",
       "Damaged-Rubble clear                       102191\n",
       "Not damaged                                 61139\n",
       "Damaged-Rubble Clear-New building built     33130\n",
       "Covered by landslide                          382\n",
       "Name: condition_post_eq, dtype: int64"
      ]
     },
     "execution_count": 31,
     "metadata": {},
     "output_type": "execute_result"
    }
   ],
   "source": [
    "building_structure_df['condition_post_eq'].value_counts()"
   ]
  },
  {
   "cell_type": "code",
   "execution_count": 9,
   "metadata": {},
   "outputs": [
    {
     "data": {
      "text/plain": [
       "1    207968\n",
       "2    125650\n",
       "3    123849\n",
       "4    107797\n",
       "5    102191\n",
       "6     61139\n",
       "7     33130\n",
       "8       382\n",
       "Name: condition_post_eq_num, dtype: int64"
      ]
     },
     "execution_count": 9,
     "metadata": {},
     "output_type": "execute_result"
    }
   ],
   "source": [
    "cl.convert_to_num(building_structure_df, 'condition_post_eq', 'condition_post_eq_num')"
   ]
  },
  {
   "cell_type": "code",
   "execution_count": 33,
   "metadata": {},
   "outputs": [
    {
     "data": {
      "text/html": [
       "<div>\n",
       "<style scoped>\n",
       "    .dataframe tbody tr th:only-of-type {\n",
       "        vertical-align: middle;\n",
       "    }\n",
       "\n",
       "    .dataframe tbody tr th {\n",
       "        vertical-align: top;\n",
       "    }\n",
       "\n",
       "    .dataframe thead th {\n",
       "        text-align: right;\n",
       "    }\n",
       "</style>\n",
       "<table border=\"1\" class=\"dataframe\">\n",
       "  <thead>\n",
       "    <tr style=\"text-align: right;\">\n",
       "      <th></th>\n",
       "      <th>building_id</th>\n",
       "      <th>district_id</th>\n",
       "      <th>vdcmun_id</th>\n",
       "      <th>ward_id</th>\n",
       "      <th>count_floors_pre_eq</th>\n",
       "      <th>count_floors_post_eq</th>\n",
       "      <th>age_building</th>\n",
       "      <th>plinth_area_sq_ft</th>\n",
       "      <th>height_ft_pre_eq</th>\n",
       "      <th>height_ft_post_eq</th>\n",
       "      <th>land_surface_condition</th>\n",
       "      <th>foundation_type</th>\n",
       "      <th>roof_type</th>\n",
       "      <th>ground_floor_type</th>\n",
       "      <th>other_floor_type</th>\n",
       "      <th>position</th>\n",
       "      <th>plan_configuration</th>\n",
       "      <th>has_superstructure_adobe_mud</th>\n",
       "      <th>has_superstructure_mud_mortar_stone</th>\n",
       "      <th>has_superstructure_stone_flag</th>\n",
       "      <th>has_superstructure_cement_mortar_stone</th>\n",
       "      <th>has_superstructure_mud_mortar_brick</th>\n",
       "      <th>has_superstructure_cement_mortar_brick</th>\n",
       "      <th>has_superstructure_timber</th>\n",
       "      <th>has_superstructure_bamboo</th>\n",
       "      <th>has_superstructure_rc_non_engineered</th>\n",
       "      <th>has_superstructure_rc_engineered</th>\n",
       "      <th>has_superstructure_other</th>\n",
       "      <th>condition_post_eq</th>\n",
       "      <th>damage_grade</th>\n",
       "      <th>technical_solution_proposed</th>\n",
       "      <th>land_surface_condition_num</th>\n",
       "      <th>foundation_type_num</th>\n",
       "      <th>roof_type_num</th>\n",
       "      <th>ground_floor_type_num</th>\n",
       "      <th>other_floor_type_num</th>\n",
       "      <th>condition_post_eq_num</th>\n",
       "    </tr>\n",
       "  </thead>\n",
       "  <tbody>\n",
       "    <tr>\n",
       "      <th>131652</th>\n",
       "      <td>212402000341</td>\n",
       "      <td>21</td>\n",
       "      <td>2107</td>\n",
       "      <td>210703</td>\n",
       "      <td>2</td>\n",
       "      <td>2</td>\n",
       "      <td>84</td>\n",
       "      <td>324</td>\n",
       "      <td>13</td>\n",
       "      <td>13</td>\n",
       "      <td>Flat</td>\n",
       "      <td>Mud mortar-Stone/Brick</td>\n",
       "      <td>Bamboo/Timber-Light roof</td>\n",
       "      <td>Mud</td>\n",
       "      <td>Timber-Planck</td>\n",
       "      <td>NaN</td>\n",
       "      <td>NaN</td>\n",
       "      <td>0</td>\n",
       "      <td>1</td>\n",
       "      <td>0</td>\n",
       "      <td>0</td>\n",
       "      <td>0</td>\n",
       "      <td>0</td>\n",
       "      <td>0</td>\n",
       "      <td>0</td>\n",
       "      <td>0</td>\n",
       "      <td>0</td>\n",
       "      <td>0</td>\n",
       "      <td>Damaged-Repaired and used</td>\n",
       "      <td>NaN</td>\n",
       "      <td>NaN</td>\n",
       "      <td>1</td>\n",
       "      <td>1</td>\n",
       "      <td>1</td>\n",
       "      <td>1</td>\n",
       "      <td>2</td>\n",
       "      <td>4</td>\n",
       "    </tr>\n",
       "  </tbody>\n",
       "</table>\n",
       "</div>"
      ],
      "text/plain": [
       "         building_id  district_id  vdcmun_id  ward_id  count_floors_pre_eq  \\\n",
       "131652  212402000341           21       2107   210703                    2   \n",
       "\n",
       "        count_floors_post_eq  age_building  plinth_area_sq_ft  \\\n",
       "131652                     2            84                324   \n",
       "\n",
       "        height_ft_pre_eq  height_ft_post_eq land_surface_condition  \\\n",
       "131652                13                 13                   Flat   \n",
       "\n",
       "               foundation_type                 roof_type ground_floor_type  \\\n",
       "131652  Mud mortar-Stone/Brick  Bamboo/Timber-Light roof               Mud   \n",
       "\n",
       "       other_floor_type position plan_configuration  \\\n",
       "131652    Timber-Planck      NaN                NaN   \n",
       "\n",
       "        has_superstructure_adobe_mud  has_superstructure_mud_mortar_stone  \\\n",
       "131652                             0                                    1   \n",
       "\n",
       "        has_superstructure_stone_flag  has_superstructure_cement_mortar_stone  \\\n",
       "131652                              0                                       0   \n",
       "\n",
       "        has_superstructure_mud_mortar_brick  \\\n",
       "131652                                    0   \n",
       "\n",
       "        has_superstructure_cement_mortar_brick  has_superstructure_timber  \\\n",
       "131652                                       0                          0   \n",
       "\n",
       "        has_superstructure_bamboo  has_superstructure_rc_non_engineered  \\\n",
       "131652                          0                                     0   \n",
       "\n",
       "        has_superstructure_rc_engineered  has_superstructure_other  \\\n",
       "131652                                 0                         0   \n",
       "\n",
       "                condition_post_eq damage_grade technical_solution_proposed  \\\n",
       "131652  Damaged-Repaired and used          NaN                         NaN   \n",
       "\n",
       "        land_surface_condition_num  foundation_type_num  roof_type_num  \\\n",
       "131652                           1                    1              1   \n",
       "\n",
       "        ground_floor_type_num  other_floor_type_num  condition_post_eq_num  \n",
       "131652                      1                     2                      4  "
      ]
     },
     "execution_count": 33,
     "metadata": {},
     "output_type": "execute_result"
    }
   ],
   "source": [
    "building_structure_df[building_structure_df['position'].isna()]"
   ]
  },
  {
   "cell_type": "code",
   "execution_count": 34,
   "metadata": {},
   "outputs": [
    {
     "data": {
      "text/plain": [
       "Not attached       604453\n",
       "Attached-1 side    129432\n",
       "Attached-2 side     26910\n",
       "Attached-3 side      1310\n",
       "Name: position, dtype: int64"
      ]
     },
     "execution_count": 34,
     "metadata": {},
     "output_type": "execute_result"
    }
   ],
   "source": [
    "building_structure_df['position'].value_counts()"
   ]
  },
  {
   "cell_type": "markdown",
   "metadata": {},
   "source": [
    "`position` gives the position of the building and `plan_configuration` gives the building plan configuration. For the null values in these columns, will look for rows with similar rows with similar values."
   ]
  },
  {
   "cell_type": "code",
   "execution_count": 35,
   "metadata": {},
   "outputs": [
    {
     "data": {
      "text/plain": [
       "Rectangular                        731257\n",
       "Square                              17576\n",
       "L-shape                             10079\n",
       "T-shape                               969\n",
       "Multi-projected                       940\n",
       "Others                                518\n",
       "U-shape                               448\n",
       "E-shape                               140\n",
       "Building with Central Courtyard        98\n",
       "H-shape                                80\n",
       "Name: plan_configuration, dtype: int64"
      ]
     },
     "execution_count": 35,
     "metadata": {},
     "output_type": "execute_result"
    }
   ],
   "source": [
    "building_structure_df['plan_configuration'].value_counts()"
   ]
  },
  {
   "cell_type": "code",
   "execution_count": 36,
   "metadata": {},
   "outputs": [],
   "source": [
    "# # Uncomment to preview data with condition\n",
    "# building_structure_df[building_structure_df['position']=='Not attached'].head(2)"
   ]
  },
  {
   "cell_type": "code",
   "execution_count": 37,
   "metadata": {},
   "outputs": [],
   "source": [
    "# # Uncomment to preview data with condition\n",
    "# building_structure_df[building_structure_df['position']=='Attached-1 side'].head()"
   ]
  },
  {
   "cell_type": "code",
   "execution_count": 38,
   "metadata": {},
   "outputs": [],
   "source": [
    "# # Uncomment to preview data with condition\n",
    "# building_structure_df[building_structure_df['position']=='Attached-2 side'].head()"
   ]
  },
  {
   "cell_type": "code",
   "execution_count": 39,
   "metadata": {},
   "outputs": [],
   "source": [
    "# # Uncomment to preview data with condition\n",
    "# building_structure_df[building_structure_df['position']=='Attached-3 side'].head()"
   ]
  },
  {
   "cell_type": "code",
   "execution_count": 40,
   "metadata": {},
   "outputs": [],
   "source": [
    "# # Uncomment to preview data with condition\n",
    "# building_structure_df[building_structure_df['age_building'] >= 80].tail(10)"
   ]
  },
  {
   "cell_type": "markdown",
   "metadata": {},
   "source": [
    "Based on similar buildings of around the same age, we can safely assign `position` Nan value as *Not attached* and `plan_configuration` Nan value as *Rectangular*."
   ]
  },
  {
   "cell_type": "code",
   "execution_count": 10,
   "metadata": {},
   "outputs": [],
   "source": [
    "# Assigning value to null and saving\n",
    "building_structure_df['position'].fillna('Not attached', inplace=True)\n",
    "building_structure_df['plan_configuration'].fillna('Rectangular', inplace= True)"
   ]
  },
  {
   "cell_type": "code",
   "execution_count": 42,
   "metadata": {},
   "outputs": [
    {
     "data": {
      "text/plain": [
       "Grade 5    275766\n",
       "Grade 4    183844\n",
       "Grade 3    136412\n",
       "Grade 2     87257\n",
       "Grade 1     78815\n",
       "Name: damage_grade, dtype: int64"
      ]
     },
     "execution_count": 42,
     "metadata": {},
     "output_type": "execute_result"
    }
   ],
   "source": [
    "building_structure_df['damage_grade'].value_counts()"
   ]
  },
  {
   "cell_type": "markdown",
   "metadata": {},
   "source": [
    "To get a better understanding of the scale direction, need to preview row information for each grade"
   ]
  },
  {
   "cell_type": "code",
   "execution_count": 43,
   "metadata": {},
   "outputs": [
    {
     "data": {
      "text/plain": [
       "Damaged-Rubble unclear                     125650\n",
       "Damaged-Rubble clear                       102191\n",
       "Damaged-Rubble Clear-New building built     33130\n",
       "Damaged-Not used                             9947\n",
       "Damaged-Repaired and used                    2468\n",
       "Damaged-Used in risk                         1998\n",
       "Covered by landslide                          382\n",
       "Name: condition_post_eq, dtype: int64"
      ]
     },
     "execution_count": 43,
     "metadata": {},
     "output_type": "execute_result"
    }
   ],
   "source": [
    "building_structure_df[building_structure_df['damage_grade']== 'Grade 5']['condition_post_eq'].value_counts()"
   ]
  },
  {
   "cell_type": "code",
   "execution_count": 44,
   "metadata": {},
   "outputs": [
    {
     "data": {
      "text/plain": [
       "Damaged-Not used             122032\n",
       "Damaged-Used in risk          38899\n",
       "Damaged-Repaired and used     22913\n",
       "Name: condition_post_eq, dtype: int64"
      ]
     },
     "execution_count": 44,
     "metadata": {},
     "output_type": "execute_result"
    }
   ],
   "source": [
    "building_structure_df[building_structure_df['damage_grade']== 'Grade 4']['condition_post_eq'].value_counts()"
   ]
  },
  {
   "cell_type": "code",
   "execution_count": 45,
   "metadata": {},
   "outputs": [
    {
     "data": {
      "text/plain": [
       "Damaged-Not used             58318\n",
       "Damaged-Used in risk         46227\n",
       "Damaged-Repaired and used    31867\n",
       "Name: condition_post_eq, dtype: int64"
      ]
     },
     "execution_count": 45,
     "metadata": {},
     "output_type": "execute_result"
    }
   ],
   "source": [
    "building_structure_df[building_structure_df['damage_grade']== 'Grade 3']['condition_post_eq'].value_counts()"
   ]
  },
  {
   "cell_type": "code",
   "execution_count": 46,
   "metadata": {},
   "outputs": [
    {
     "data": {
      "text/plain": [
       "Damaged-Used in risk         36719\n",
       "Damaged-Repaired and used    32778\n",
       "Damaged-Not used             17671\n",
       "Not damaged                     89\n",
       "Name: condition_post_eq, dtype: int64"
      ]
     },
     "execution_count": 46,
     "metadata": {},
     "output_type": "execute_result"
    }
   ],
   "source": [
    "building_structure_df[building_structure_df['damage_grade']== 'Grade 2']['condition_post_eq'].value_counts()"
   ]
  },
  {
   "cell_type": "code",
   "execution_count": 47,
   "metadata": {},
   "outputs": [
    {
     "data": {
      "text/plain": [
       "Not damaged                  61050\n",
       "Damaged-Repaired and used    17765\n",
       "Name: condition_post_eq, dtype: int64"
      ]
     },
     "execution_count": 47,
     "metadata": {},
     "output_type": "execute_result"
    }
   ],
   "source": [
    "building_structure_df[building_structure_df['damage_grade']== 'Grade 1']['condition_post_eq'].value_counts()"
   ]
  },
  {
   "cell_type": "markdown",
   "metadata": {},
   "source": [
    "Based on the conditional data analysis above, the grade increase with the severity of the damage."
   ]
  },
  {
   "cell_type": "code",
   "execution_count": 48,
   "metadata": {},
   "outputs": [
    {
     "data": {
      "text/plain": [
       "Damaged-Not used                           207968\n",
       "Damaged-Rubble unclear                     125650\n",
       "Damaged-Used in risk                       123849\n",
       "Damaged-Repaired and used                  107797\n",
       "Damaged-Rubble clear                       102191\n",
       "Not damaged                                 61139\n",
       "Damaged-Rubble Clear-New building built     33130\n",
       "Covered by landslide                          382\n",
       "Name: condition_post_eq, dtype: int64"
      ]
     },
     "execution_count": 48,
     "metadata": {},
     "output_type": "execute_result"
    }
   ],
   "source": [
    "building_structure_df['condition_post_eq'].value_counts()"
   ]
  },
  {
   "cell_type": "code",
   "execution_count": 50,
   "metadata": {},
   "outputs": [],
   "source": [
    "# building_structure_df[building_structure_df['damage_grade'].isna()]"
   ]
  },
  {
   "cell_type": "markdown",
   "metadata": {},
   "source": [
    "In investigating structure damage features in the damage assessment data, all the rows with *NaN* values for `damage_grade` showed no damage information for any of those buildings. It is safe to assign the *Nan* values as **Grade 1** to show minimal or no damage."
   ]
  },
  {
   "cell_type": "code",
   "execution_count": 13,
   "metadata": {},
   "outputs": [
    {
     "data": {
      "text/plain": [
       "array(['Grade 3', 'Grade 5', 'Grade 2', ..., 'Grade 5', 'Grade 5',\n",
       "       'Grade 5'], dtype=object)"
      ]
     },
     "execution_count": 13,
     "metadata": {},
     "output_type": "execute_result"
    }
   ],
   "source": [
    "building_structure_df['damage_grade'].values"
   ]
  },
  {
   "cell_type": "code",
   "execution_count": 14,
   "metadata": {},
   "outputs": [],
   "source": [
    "building_structure_df['damage_grade'].values[building_structure_df['damage_grade'].isna()] = 'Grade 1'"
   ]
  },
  {
   "cell_type": "code",
   "execution_count": 18,
   "metadata": {},
   "outputs": [],
   "source": [
    "building_structure_df['technical_solution_proposed'].values[building_structure_df['technical_solution_proposed'].isna()] = 'Minor repair'"
   ]
  },
  {
   "cell_type": "code",
   "execution_count": 19,
   "metadata": {},
   "outputs": [
    {
     "data": {
      "text/plain": [
       "building_id                               0\n",
       "district_id                               0\n",
       "vdcmun_id                                 0\n",
       "ward_id                                   0\n",
       "count_floors_pre_eq                       0\n",
       "count_floors_post_eq                      0\n",
       "age_building                              0\n",
       "plinth_area_sq_ft                         0\n",
       "height_ft_pre_eq                          0\n",
       "height_ft_post_eq                         0\n",
       "land_surface_condition                    0\n",
       "foundation_type                           0\n",
       "roof_type                                 0\n",
       "ground_floor_type                         0\n",
       "other_floor_type                          0\n",
       "position                                  0\n",
       "plan_configuration                        0\n",
       "has_superstructure_adobe_mud              0\n",
       "has_superstructure_mud_mortar_stone       0\n",
       "has_superstructure_stone_flag             0\n",
       "has_superstructure_cement_mortar_stone    0\n",
       "has_superstructure_mud_mortar_brick       0\n",
       "has_superstructure_cement_mortar_brick    0\n",
       "has_superstructure_timber                 0\n",
       "has_superstructure_bamboo                 0\n",
       "has_superstructure_rc_non_engineered      0\n",
       "has_superstructure_rc_engineered          0\n",
       "has_superstructure_other                  0\n",
       "condition_post_eq                         0\n",
       "damage_grade                              0\n",
       "technical_solution_proposed               0\n",
       "land_surface_condition_num                0\n",
       "roof_type_num                             0\n",
       "ground_floor_type_num                     0\n",
       "condition_post_eq_num                     0\n",
       "dtype: int64"
      ]
     },
     "execution_count": 19,
     "metadata": {},
     "output_type": "execute_result"
    }
   ],
   "source": [
    "building_structure_df.isna().sum()"
   ]
  },
  {
   "cell_type": "code",
   "execution_count": 22,
   "metadata": {},
   "outputs": [
    {
     "data": {
      "text/plain": [
       "Reconstruction    470219\n",
       "Major repair      129415\n",
       "Minor repair      110617\n",
       "No need            51855\n",
       "Name: technical_solution_proposed, dtype: int64"
      ]
     },
     "execution_count": 22,
     "metadata": {},
     "output_type": "execute_result"
    }
   ],
   "source": [
    "building_structure_df['technical_solution_proposed'].value_counts()"
   ]
  },
  {
   "cell_type": "code",
   "execution_count": 31,
   "metadata": {},
   "outputs": [],
   "source": [
    "target_df= building_structure_df[['damage_grade','technical_solution_proposed']]\n",
    "solution_list = building_structure_df['technical_solution_proposed'].value_counts().index"
   ]
  },
  {
   "cell_type": "code",
   "execution_count": 38,
   "metadata": {},
   "outputs": [
    {
     "name": "stdout",
     "output_type": "stream",
     "text": [
      "Grade proportion for Reconstruction\n",
      "Grade 5    0.586067\n",
      "Grade 4    0.353975\n",
      "Grade 3    0.054438\n",
      "Grade 2    0.005093\n",
      "Grade 1    0.000425\n",
      "Name: damage_grade, dtype: float64\n",
      "Grade proportion for Major repair\n",
      "Grade 3    0.782691\n",
      "Grade 4    0.133006\n",
      "Grade 2    0.080230\n",
      "Grade 1    0.002967\n",
      "Grade 5    0.001105\n",
      "Name: damage_grade, dtype: float64\n",
      "Grade proportion for Minor repair\n",
      "Grade 2    0.668894\n",
      "Grade 1    0.243706\n",
      "Grade 3    0.085575\n",
      "Grade 4    0.001564\n",
      "Grade 5    0.000262\n",
      "Name: damage_grade, dtype: float64\n",
      "Grade proportion for No need\n",
      "Grade 1    0.989008\n",
      "Grade 2    0.009411\n",
      "Grade 3    0.001080\n",
      "Grade 5    0.000270\n",
      "Grade 4    0.000231\n",
      "Name: damage_grade, dtype: float64\n"
     ]
    }
   ],
   "source": [
    "for sol in solution_list:\n",
    "    print('Grade proportion for {}'.format(sol))\n",
    "    print(target_df[target_df['technical_solution_proposed']== sol]['damage_grade'].value_counts(normalize=True))"
   ]
  },
  {
   "cell_type": "code",
   "execution_count": null,
   "metadata": {},
   "outputs": [],
   "source": [
    "target_df[target_df['technical_solution_proposed']== 'Major']['damage_grade'].value_counts()"
   ]
  }
 ],
 "metadata": {
  "kernelspec": {
   "display_name": "Python 3",
   "language": "python",
   "name": "python3"
  },
  "language_info": {
   "codemirror_mode": {
    "name": "ipython",
    "version": 3
   },
   "file_extension": ".py",
   "mimetype": "text/x-python",
   "name": "python",
   "nbconvert_exporter": "python",
   "pygments_lexer": "ipython3",
   "version": "3.6.9"
  }
 },
 "nbformat": 4,
 "nbformat_minor": 4
}
