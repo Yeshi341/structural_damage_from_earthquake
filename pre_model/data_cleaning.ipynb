{
 "cells": [
  {
   "cell_type": "code",
   "execution_count": 1,
   "metadata": {},
   "outputs": [],
   "source": [
    "# importing utility functions\n",
    "import pandas as pd\n",
    "import numpy as np\n",
    "import os\n",
    "import sys\n",
    "\n",
    "\n",
    "%load_ext autoreload\n",
    "%autoreload 2\n",
    "\n",
    "module_path = os.path.abspath(os.path.join(os.pardir,'src'))\n",
    "if module_path not in sys.path:\n",
    "    sys.path.append(module_path)\n",
    "    \n",
    "from nb_modules import cleaning_mod as cl"
   ]
  },
  {
   "cell_type": "code",
   "execution_count": 2,
   "metadata": {},
   "outputs": [],
   "source": [
    "# # setting options to display all rows and columns\n",
    "pd.set_option('display.max_rows', None)\n",
    "pd.set_option('display.max_columns', None)"
   ]
  },
  {
   "cell_type": "code",
   "execution_count": 3,
   "metadata": {},
   "outputs": [],
   "source": [
    "# Reading csv files to dataframes\n",
    "building_use_df= pd.read_csv('../data/extracted/eq_data/csv_building_ownership_and_use.csv')\n",
    "building_structure_df=  pd.read_csv('../data/extracted/eq_data/csv_building_structure.csv')"
   ]
  },
  {
   "cell_type": "markdown",
   "metadata": {},
   "source": [
    "## Building Ownership and Use data"
   ]
  },
  {
   "cell_type": "code",
   "execution_count": 4,
   "metadata": {},
   "outputs": [
    {
     "data": {
      "text/plain": [
       "(762106, 17)"
      ]
     },
     "execution_count": 4,
     "metadata": {},
     "output_type": "execute_result"
    }
   ],
   "source": [
    "building_use_df.shape"
   ]
  },
  {
   "cell_type": "markdown",
   "metadata": {},
   "source": [
    "The building structure dataset has 762106 observations and 18 features. Each row in the dataset represents a building that was surveyed, and gives information on the building type of ownership, number of families housed in the building and any secondary use status. "
   ]
  },
  {
   "cell_type": "code",
   "execution_count": 5,
   "metadata": {},
   "outputs": [],
   "source": [
    "# # Uncomment to preview data\n",
    "# building_use_df.head()"
   ]
  },
  {
   "cell_type": "code",
   "execution_count": 6,
   "metadata": {},
   "outputs": [],
   "source": [
    "# # Uncomment to preview data columns\n",
    "# building_use_df.columns"
   ]
  },
  {
   "cell_type": "code",
   "execution_count": 7,
   "metadata": {},
   "outputs": [
    {
     "name": "stdout",
     "output_type": "stream",
     "text": [
      "<class 'pandas.core.frame.DataFrame'>\n",
      "RangeIndex: 762106 entries, 0 to 762105\n",
      "Data columns (total 17 columns):\n",
      "building_id                      762106 non-null int64\n",
      "district_id                      762106 non-null int64\n",
      "vdcmun_id                        762106 non-null int64\n",
      "ward_id                          762106 non-null int64\n",
      "legal_ownership_status           762106 non-null object\n",
      "count_families                   762104 non-null float64\n",
      "has_secondary_use                762096 non-null float64\n",
      "has_secondary_use_agriculture    762106 non-null int64\n",
      "has_secondary_use_hotel          762106 non-null int64\n",
      "has_secondary_use_rental         762106 non-null int64\n",
      "has_secondary_use_institution    762106 non-null int64\n",
      "has_secondary_use_school         762106 non-null int64\n",
      "has_secondary_use_industry       762106 non-null int64\n",
      "has_secondary_use_health_post    762106 non-null int64\n",
      "has_secondary_use_gov_office     762106 non-null int64\n",
      "has_secondary_use_use_police     762106 non-null int64\n",
      "has_secondary_use_other          762106 non-null int64\n",
      "dtypes: float64(2), int64(14), object(1)\n",
      "memory usage: 98.8+ MB\n"
     ]
    }
   ],
   "source": [
    "# # Uncomment to see df info\n",
    "building_use_df.info()"
   ]
  },
  {
   "cell_type": "markdown",
   "metadata": {},
   "source": [
    "The dataframe has 762106 obs with 17 features. There are few features with missing values. All the features are of numeric dtype except for `lega_ownership_status`. Need to look into this feature and possibly convert to numeric dtype"
   ]
  },
  {
   "cell_type": "code",
   "execution_count": 8,
   "metadata": {},
   "outputs": [
    {
     "data": {
      "text/plain": [
       "Private          95.97\n",
       "Public            2.52\n",
       "Institutional     1.03\n",
       "Other             0.48\n",
       "Name: legal_ownership_status, dtype: float64"
      ]
     },
     "execution_count": 8,
     "metadata": {},
     "output_type": "execute_result"
    }
   ],
   "source": [
    "round(building_use_df['legal_ownership_status'].value_counts(normalize=True)*100,2)"
   ]
  },
  {
   "cell_type": "markdown",
   "metadata": {},
   "source": [
    "About 96% of the building structures in the data are of private ownership with 2.5% of public ownership and 1% belonging to institutions. On converting to numeric datatype, we will assign the labels in order as a range from 1 to 4."
   ]
  },
  {
   "cell_type": "code",
   "execution_count": 9,
   "metadata": {},
   "outputs": [
    {
     "data": {
      "text/plain": [
       "1    731387\n",
       "2     19232\n",
       "3      7823\n",
       "4      3664\n",
       "Name: legal_ownership_status_num, dtype: int64"
      ]
     },
     "execution_count": 9,
     "metadata": {},
     "output_type": "execute_result"
    }
   ],
   "source": [
    "cl.convert_to_num(building_use_df, 'legal_ownership_status', 'legal_ownership_status_num')"
   ]
  },
  {
   "cell_type": "code",
   "execution_count": 10,
   "metadata": {},
   "outputs": [],
   "source": [
    "# # Uncomment to to check for null values in columns\n",
    "# building_use_df.isna().sum()"
   ]
  },
  {
   "cell_type": "markdown",
   "metadata": {},
   "source": [
    "There are two features with missing values. `count_families` missing 2 values and `has_secondary_use` missing 10. The column `count_families` is a record of the number of families in a building. The column `has_secondary_use` is a flag variable that indicates if the building is used for any secondary purpose, according to the table information on the data source [site](https://eq2015.npc.gov.np/#/download)"
   ]
  },
  {
   "cell_type": "code",
   "execution_count": 11,
   "metadata": {},
   "outputs": [],
   "source": [
    "# # Uncomment to check the rows of the column with NaN values\n",
    "# building_use_df[building_use_df['count_families'].isna()]"
   ]
  },
  {
   "cell_type": "code",
   "execution_count": 12,
   "metadata": {},
   "outputs": [
    {
     "data": {
      "text/plain": [
       "1.0     643418\n",
       "0.0      71576\n",
       "2.0      39753\n",
       "3.0       5685\n",
       "4.0       1215\n",
       "5.0        302\n",
       "6.0        104\n",
       "7.0         27\n",
       "8.0         15\n",
       "9.0          8\n",
       "11.0         1\n",
       "Name: count_families, dtype: int64"
      ]
     },
     "execution_count": 12,
     "metadata": {},
     "output_type": "execute_result"
    }
   ],
   "source": [
    "building_use_df['count_families'].value_counts()"
   ]
  },
  {
   "cell_type": "markdown",
   "metadata": {},
   "source": [
    "The `Nan` values here could mean that no families live there like the 0 values that already exist in the data. Filling `Nan` here with 0 makes sense."
   ]
  },
  {
   "cell_type": "code",
   "execution_count": 13,
   "metadata": {},
   "outputs": [],
   "source": [
    "# # Uncomment to check the rows of the column with NaN values \n",
    "# building_use_df[building_use_df['has_secondary_use'].isna()]"
   ]
  },
  {
   "cell_type": "code",
   "execution_count": 14,
   "metadata": {},
   "outputs": [
    {
     "data": {
      "text/plain": [
       "0.0    669732\n",
       "1.0     92364\n",
       "Name: has_secondary_use, dtype: int64"
      ]
     },
     "execution_count": 14,
     "metadata": {},
     "output_type": "execute_result"
    }
   ],
   "source": [
    "building_use_df['has_secondary_use'].value_counts()"
   ]
  },
  {
   "cell_type": "markdown",
   "metadata": {},
   "source": [
    "The `Nan` values here could mean that no the building has no secondary use. All the other secondary use fields have a 0 values corresponding to the Nan values of interest here. Filling `Nan` here with 0 makes sense, like the existing 0 values in the `has_secondary_use` column."
   ]
  },
  {
   "cell_type": "code",
   "execution_count": 15,
   "metadata": {},
   "outputs": [],
   "source": [
    "building_use_df['count_families'].fillna(value=0, inplace=True)\n",
    "building_use_df['has_secondary_use'].fillna(value=0, inplace=True)"
   ]
  },
  {
   "cell_type": "code",
   "execution_count": 16,
   "metadata": {},
   "outputs": [],
   "source": [
    "# # Uncomment to check for null values\n",
    "# building_use_df.isnull().any()"
   ]
  },
  {
   "cell_type": "markdown",
   "metadata": {},
   "source": [
    "All missing values and data type issues in the `building_use_df` have been taken care of."
   ]
  },
  {
   "cell_type": "code",
   "execution_count": 17,
   "metadata": {},
   "outputs": [],
   "source": [
    "# # Uncomment to check for descriptive statistics\n",
    "# building_use_df.describe()"
   ]
  },
  {
   "cell_type": "code",
   "execution_count": 18,
   "metadata": {},
   "outputs": [],
   "source": [
    "drop_list=['count_families']"
   ]
  },
  {
   "cell_type": "code",
   "execution_count": 19,
   "metadata": {},
   "outputs": [],
   "source": [
    "building_use_df.drop(drop_list, axis=1, inplace=True)"
   ]
  },
  {
   "cell_type": "code",
   "execution_count": 20,
   "metadata": {},
   "outputs": [
    {
     "data": {
      "text/html": [
       "<div>\n",
       "<style scoped>\n",
       "    .dataframe tbody tr th:only-of-type {\n",
       "        vertical-align: middle;\n",
       "    }\n",
       "\n",
       "    .dataframe tbody tr th {\n",
       "        vertical-align: top;\n",
       "    }\n",
       "\n",
       "    .dataframe thead th {\n",
       "        text-align: right;\n",
       "    }\n",
       "</style>\n",
       "<table border=\"1\" class=\"dataframe\">\n",
       "  <thead>\n",
       "    <tr style=\"text-align: right;\">\n",
       "      <th></th>\n",
       "      <th>building_id</th>\n",
       "      <th>district_id</th>\n",
       "      <th>vdcmun_id</th>\n",
       "      <th>ward_id</th>\n",
       "      <th>has_secondary_use</th>\n",
       "      <th>has_secondary_use_agriculture</th>\n",
       "      <th>has_secondary_use_hotel</th>\n",
       "      <th>has_secondary_use_rental</th>\n",
       "      <th>has_secondary_use_institution</th>\n",
       "      <th>has_secondary_use_school</th>\n",
       "      <th>has_secondary_use_industry</th>\n",
       "      <th>has_secondary_use_health_post</th>\n",
       "      <th>has_secondary_use_gov_office</th>\n",
       "      <th>has_secondary_use_use_police</th>\n",
       "      <th>has_secondary_use_other</th>\n",
       "      <th>legal_ownership_status_num</th>\n",
       "    </tr>\n",
       "  </thead>\n",
       "  <tbody>\n",
       "    <tr>\n",
       "      <th>count</th>\n",
       "      <td>7.621060e+05</td>\n",
       "      <td>762106.000000</td>\n",
       "      <td>762106.000000</td>\n",
       "      <td>762106.000000</td>\n",
       "      <td>762106.000000</td>\n",
       "      <td>762106.000000</td>\n",
       "      <td>762106.000000</td>\n",
       "      <td>762106.000000</td>\n",
       "      <td>762106.000000</td>\n",
       "      <td>762106.000000</td>\n",
       "      <td>762106.000000</td>\n",
       "      <td>762106.000000</td>\n",
       "      <td>762106.000000</td>\n",
       "      <td>762106.000000</td>\n",
       "      <td>762106.000000</td>\n",
       "      <td>762106.000000</td>\n",
       "    </tr>\n",
       "    <tr>\n",
       "      <th>mean</th>\n",
       "      <td>2.607514e+11</td>\n",
       "      <td>25.767835</td>\n",
       "      <td>2582.688357</td>\n",
       "      <td>258274.277335</td>\n",
       "      <td>0.121196</td>\n",
       "      <td>0.071859</td>\n",
       "      <td>0.035090</td>\n",
       "      <td>0.008264</td>\n",
       "      <td>0.001161</td>\n",
       "      <td>0.000424</td>\n",
       "      <td>0.001164</td>\n",
       "      <td>0.000227</td>\n",
       "      <td>0.000186</td>\n",
       "      <td>0.000097</td>\n",
       "      <td>0.004490</td>\n",
       "      <td>1.060188</td>\n",
       "    </tr>\n",
       "    <tr>\n",
       "      <th>std</th>\n",
       "      <td>5.801855e+10</td>\n",
       "      <td>5.807555</td>\n",
       "      <td>581.172767</td>\n",
       "      <td>58117.348412</td>\n",
       "      <td>0.326355</td>\n",
       "      <td>0.258254</td>\n",
       "      <td>0.184006</td>\n",
       "      <td>0.090530</td>\n",
       "      <td>0.034057</td>\n",
       "      <td>0.020583</td>\n",
       "      <td>0.034096</td>\n",
       "      <td>0.015065</td>\n",
       "      <td>0.013649</td>\n",
       "      <td>0.009853</td>\n",
       "      <td>0.066858</td>\n",
       "      <td>0.325488</td>\n",
       "    </tr>\n",
       "    <tr>\n",
       "      <th>min</th>\n",
       "      <td>1.201010e+11</td>\n",
       "      <td>12.000000</td>\n",
       "      <td>1201.000000</td>\n",
       "      <td>120101.000000</td>\n",
       "      <td>0.000000</td>\n",
       "      <td>0.000000</td>\n",
       "      <td>0.000000</td>\n",
       "      <td>0.000000</td>\n",
       "      <td>0.000000</td>\n",
       "      <td>0.000000</td>\n",
       "      <td>0.000000</td>\n",
       "      <td>0.000000</td>\n",
       "      <td>0.000000</td>\n",
       "      <td>0.000000</td>\n",
       "      <td>0.000000</td>\n",
       "      <td>1.000000</td>\n",
       "    </tr>\n",
       "    <tr>\n",
       "      <th>25%</th>\n",
       "      <td>2.219090e+11</td>\n",
       "      <td>22.000000</td>\n",
       "      <td>2204.000000</td>\n",
       "      <td>220402.000000</td>\n",
       "      <td>0.000000</td>\n",
       "      <td>0.000000</td>\n",
       "      <td>0.000000</td>\n",
       "      <td>0.000000</td>\n",
       "      <td>0.000000</td>\n",
       "      <td>0.000000</td>\n",
       "      <td>0.000000</td>\n",
       "      <td>0.000000</td>\n",
       "      <td>0.000000</td>\n",
       "      <td>0.000000</td>\n",
       "      <td>0.000000</td>\n",
       "      <td>1.000000</td>\n",
       "    </tr>\n",
       "    <tr>\n",
       "      <th>50%</th>\n",
       "      <td>2.463020e+11</td>\n",
       "      <td>24.000000</td>\n",
       "      <td>2410.000000</td>\n",
       "      <td>241004.000000</td>\n",
       "      <td>0.000000</td>\n",
       "      <td>0.000000</td>\n",
       "      <td>0.000000</td>\n",
       "      <td>0.000000</td>\n",
       "      <td>0.000000</td>\n",
       "      <td>0.000000</td>\n",
       "      <td>0.000000</td>\n",
       "      <td>0.000000</td>\n",
       "      <td>0.000000</td>\n",
       "      <td>0.000000</td>\n",
       "      <td>0.000000</td>\n",
       "      <td>1.000000</td>\n",
       "    </tr>\n",
       "    <tr>\n",
       "      <th>75%</th>\n",
       "      <td>3.036080e+11</td>\n",
       "      <td>30.000000</td>\n",
       "      <td>3010.000000</td>\n",
       "      <td>301006.000000</td>\n",
       "      <td>0.000000</td>\n",
       "      <td>0.000000</td>\n",
       "      <td>0.000000</td>\n",
       "      <td>0.000000</td>\n",
       "      <td>0.000000</td>\n",
       "      <td>0.000000</td>\n",
       "      <td>0.000000</td>\n",
       "      <td>0.000000</td>\n",
       "      <td>0.000000</td>\n",
       "      <td>0.000000</td>\n",
       "      <td>0.000000</td>\n",
       "      <td>1.000000</td>\n",
       "    </tr>\n",
       "    <tr>\n",
       "      <th>max</th>\n",
       "      <td>3.667090e+11</td>\n",
       "      <td>36.000000</td>\n",
       "      <td>3611.000000</td>\n",
       "      <td>361108.000000</td>\n",
       "      <td>1.000000</td>\n",
       "      <td>1.000000</td>\n",
       "      <td>1.000000</td>\n",
       "      <td>1.000000</td>\n",
       "      <td>1.000000</td>\n",
       "      <td>1.000000</td>\n",
       "      <td>1.000000</td>\n",
       "      <td>1.000000</td>\n",
       "      <td>1.000000</td>\n",
       "      <td>1.000000</td>\n",
       "      <td>1.000000</td>\n",
       "      <td>4.000000</td>\n",
       "    </tr>\n",
       "  </tbody>\n",
       "</table>\n",
       "</div>"
      ],
      "text/plain": [
       "        building_id    district_id      vdcmun_id        ward_id  \\\n",
       "count  7.621060e+05  762106.000000  762106.000000  762106.000000   \n",
       "mean   2.607514e+11      25.767835    2582.688357  258274.277335   \n",
       "std    5.801855e+10       5.807555     581.172767   58117.348412   \n",
       "min    1.201010e+11      12.000000    1201.000000  120101.000000   \n",
       "25%    2.219090e+11      22.000000    2204.000000  220402.000000   \n",
       "50%    2.463020e+11      24.000000    2410.000000  241004.000000   \n",
       "75%    3.036080e+11      30.000000    3010.000000  301006.000000   \n",
       "max    3.667090e+11      36.000000    3611.000000  361108.000000   \n",
       "\n",
       "       has_secondary_use  has_secondary_use_agriculture  \\\n",
       "count      762106.000000                  762106.000000   \n",
       "mean            0.121196                       0.071859   \n",
       "std             0.326355                       0.258254   \n",
       "min             0.000000                       0.000000   \n",
       "25%             0.000000                       0.000000   \n",
       "50%             0.000000                       0.000000   \n",
       "75%             0.000000                       0.000000   \n",
       "max             1.000000                       1.000000   \n",
       "\n",
       "       has_secondary_use_hotel  has_secondary_use_rental  \\\n",
       "count            762106.000000             762106.000000   \n",
       "mean                  0.035090                  0.008264   \n",
       "std                   0.184006                  0.090530   \n",
       "min                   0.000000                  0.000000   \n",
       "25%                   0.000000                  0.000000   \n",
       "50%                   0.000000                  0.000000   \n",
       "75%                   0.000000                  0.000000   \n",
       "max                   1.000000                  1.000000   \n",
       "\n",
       "       has_secondary_use_institution  has_secondary_use_school  \\\n",
       "count                  762106.000000             762106.000000   \n",
       "mean                        0.001161                  0.000424   \n",
       "std                         0.034057                  0.020583   \n",
       "min                         0.000000                  0.000000   \n",
       "25%                         0.000000                  0.000000   \n",
       "50%                         0.000000                  0.000000   \n",
       "75%                         0.000000                  0.000000   \n",
       "max                         1.000000                  1.000000   \n",
       "\n",
       "       has_secondary_use_industry  has_secondary_use_health_post  \\\n",
       "count               762106.000000                  762106.000000   \n",
       "mean                     0.001164                       0.000227   \n",
       "std                      0.034096                       0.015065   \n",
       "min                      0.000000                       0.000000   \n",
       "25%                      0.000000                       0.000000   \n",
       "50%                      0.000000                       0.000000   \n",
       "75%                      0.000000                       0.000000   \n",
       "max                      1.000000                       1.000000   \n",
       "\n",
       "       has_secondary_use_gov_office  has_secondary_use_use_police  \\\n",
       "count                 762106.000000                 762106.000000   \n",
       "mean                       0.000186                      0.000097   \n",
       "std                        0.013649                      0.009853   \n",
       "min                        0.000000                      0.000000   \n",
       "25%                        0.000000                      0.000000   \n",
       "50%                        0.000000                      0.000000   \n",
       "75%                        0.000000                      0.000000   \n",
       "max                        1.000000                      1.000000   \n",
       "\n",
       "       has_secondary_use_other  legal_ownership_status_num  \n",
       "count            762106.000000               762106.000000  \n",
       "mean                  0.004490                    1.060188  \n",
       "std                   0.066858                    0.325488  \n",
       "min                   0.000000                    1.000000  \n",
       "25%                   0.000000                    1.000000  \n",
       "50%                   0.000000                    1.000000  \n",
       "75%                   0.000000                    1.000000  \n",
       "max                   1.000000                    4.000000  "
      ]
     },
     "execution_count": 20,
     "metadata": {},
     "output_type": "execute_result"
    }
   ],
   "source": [
    "building_use_df.describe()"
   ]
  },
  {
   "cell_type": "markdown",
   "metadata": {},
   "source": [
    "Based in the descriptive statistics, there doesn't seem there is any problem in the range, main or standard deviations. The count is even across all variables i.e., no missing values"
   ]
  },
  {
   "cell_type": "markdown",
   "metadata": {},
   "source": [
    "## Building Structure data"
   ]
  },
  {
   "cell_type": "code",
   "execution_count": 21,
   "metadata": {},
   "outputs": [
    {
     "data": {
      "text/plain": [
       "(762106, 31)"
      ]
     },
     "execution_count": 21,
     "metadata": {},
     "output_type": "execute_result"
    }
   ],
   "source": [
    "building_structure_df.shape"
   ]
  },
  {
   "cell_type": "markdown",
   "metadata": {},
   "source": [
    "The building structure dataset has 762106 observations and 37 features. Each row in the dataset represents a building that was surveyed, and gives information on the building construction structure. "
   ]
  },
  {
   "cell_type": "code",
   "execution_count": 22,
   "metadata": {},
   "outputs": [],
   "source": [
    "# # Uncomment to preview Building Structure data\n",
    "# building_structure_df.head()"
   ]
  },
  {
   "cell_type": "code",
   "execution_count": 23,
   "metadata": {},
   "outputs": [
    {
     "data": {
      "text/plain": [
       "Index(['building_id', 'district_id', 'vdcmun_id', 'ward_id',\n",
       "       'count_floors_pre_eq', 'count_floors_post_eq', 'age_building',\n",
       "       'plinth_area_sq_ft', 'height_ft_pre_eq', 'height_ft_post_eq',\n",
       "       'land_surface_condition', 'foundation_type', 'roof_type',\n",
       "       'ground_floor_type', 'other_floor_type', 'position',\n",
       "       'plan_configuration', 'has_superstructure_adobe_mud',\n",
       "       'has_superstructure_mud_mortar_stone', 'has_superstructure_stone_flag',\n",
       "       'has_superstructure_cement_mortar_stone',\n",
       "       'has_superstructure_mud_mortar_brick',\n",
       "       'has_superstructure_cement_mortar_brick', 'has_superstructure_timber',\n",
       "       'has_superstructure_bamboo', 'has_superstructure_rc_non_engineered',\n",
       "       'has_superstructure_rc_engineered', 'has_superstructure_other',\n",
       "       'condition_post_eq', 'damage_grade', 'technical_solution_proposed'],\n",
       "      dtype='object')"
      ]
     },
     "execution_count": 23,
     "metadata": {},
     "output_type": "execute_result"
    }
   ],
   "source": [
    "# # Uncomment and run to see column labels in data\n",
    "building_structure_df.columns"
   ]
  },
  {
   "cell_type": "code",
   "execution_count": 24,
   "metadata": {},
   "outputs": [],
   "source": [
    "# # Uncomment and run to check for null\n",
    "# building_structure_df.isna().sum()"
   ]
  },
  {
   "cell_type": "markdown",
   "metadata": {},
   "source": [
    "There are 4 features in the dataset with missing values. `position` feature is missing 1 value, `plan_configuration` feature is also missing 1 value, `damage_grade` is missing 12 values and `technical_solution_proposed` is also missing 12 values."
   ]
  },
  {
   "cell_type": "code",
   "execution_count": 25,
   "metadata": {},
   "outputs": [],
   "source": [
    "# # Uncomment and run to check data info\n",
    "# building_structure_df.info()"
   ]
  },
  {
   "cell_type": "markdown",
   "metadata": {},
   "source": [
    "The building structure dataframe has 762106 observations and 31 features. There are 10 features as pandas object data type while the rest are of numeric dtype. The next steps will be to look at the object type features and explore if they should and can be converted to numeric dtype."
   ]
  },
  {
   "cell_type": "code",
   "execution_count": 26,
   "metadata": {},
   "outputs": [
    {
     "data": {
      "text/plain": [
       "Flat              82.89\n",
       "Moderate slope    13.86\n",
       "Steep slope        3.25\n",
       "Name: land_surface_condition, dtype: float64"
      ]
     },
     "execution_count": 26,
     "metadata": {},
     "output_type": "execute_result"
    }
   ],
   "source": [
    "round(building_structure_df['land_surface_condition'].value_counts(normalize=True)*100,2)"
   ]
  },
  {
   "cell_type": "markdown",
   "metadata": {},
   "source": [
    "About 83% of the buildings in the dataset are on a flat land surface, while 14% of buildings sit on a moderate sloping land surface and about 3% buildings are on a steep sloping land surface. To convert to numeric datatype, we will assign the labels in order as a range from 1 to 3."
   ]
  },
  {
   "cell_type": "code",
   "execution_count": 27,
   "metadata": {},
   "outputs": [
    {
     "data": {
      "text/plain": [
       "1    631675\n",
       "2    105640\n",
       "3     24791\n",
       "Name: land_surface_condition_num, dtype: int64"
      ]
     },
     "execution_count": 27,
     "metadata": {},
     "output_type": "execute_result"
    }
   ],
   "source": [
    "cl.convert_to_num(building_structure_df,'land_surface_condition', 'land_surface_condition_num')"
   ]
  },
  {
   "cell_type": "code",
   "execution_count": 28,
   "metadata": {},
   "outputs": [
    {
     "data": {
      "text/plain": [
       "Mud mortar-Stone/Brick    628716\n",
       "Bamboo/Timber              57473\n",
       "Cement-Stone/Brick         39245\n",
       "RC                         32120\n",
       "Other                       4552\n",
       "Name: foundation_type, dtype: int64"
      ]
     },
     "execution_count": 28,
     "metadata": {},
     "output_type": "execute_result"
    }
   ],
   "source": [
    "building_structure_df['foundation_type'].value_counts()"
   ]
  },
  {
   "cell_type": "code",
   "execution_count": 29,
   "metadata": {},
   "outputs": [
    {
     "data": {
      "text/plain": [
       "1    628716\n",
       "2     57473\n",
       "3     39245\n",
       "4     32120\n",
       "5      4552\n",
       "Name: foundation_type_num, dtype: int64"
      ]
     },
     "execution_count": 29,
     "metadata": {},
     "output_type": "execute_result"
    }
   ],
   "source": [
    "cl.convert_to_num(building_structure_df,'foundation_type', 'foundation_type_num')"
   ]
  },
  {
   "cell_type": "code",
   "execution_count": 30,
   "metadata": {},
   "outputs": [
    {
     "data": {
      "text/plain": [
       "Bamboo/Timber-Light roof    66.10\n",
       "Bamboo/Timber-Heavy roof    28.05\n",
       "RCC/RB/RBC                   5.85\n",
       "Name: roof_type, dtype: float64"
      ]
     },
     "execution_count": 30,
     "metadata": {},
     "output_type": "execute_result"
    }
   ],
   "source": [
    "round(building_structure_df['roof_type'].value_counts(normalize=True)*100,2)"
   ]
  },
  {
   "cell_type": "markdown",
   "metadata": {},
   "source": [
    "About 66% of the buildings in the dataset have a bamboo or light timber roofing, while 28% have a bamboo or heavy timber roofing and only about 6% have a modern structural designed roof type with RCC (Reinforced Cement Concrete or RBC (Reinforced Brick Concrete) or RB (Reinforced Brick)."
   ]
  },
  {
   "cell_type": "code",
   "execution_count": 31,
   "metadata": {},
   "outputs": [
    {
     "data": {
      "text/plain": [
       "1    503748\n",
       "2    213774\n",
       "3     44584\n",
       "Name: roof_type_num, dtype: int64"
      ]
     },
     "execution_count": 31,
     "metadata": {},
     "output_type": "execute_result"
    }
   ],
   "source": [
    "cl.convert_to_num(building_structure_df,'roof_type', 'roof_type_num')"
   ]
  },
  {
   "cell_type": "code",
   "execution_count": 32,
   "metadata": {},
   "outputs": [
    {
     "data": {
      "text/plain": [
       "Mud            618217\n",
       "RC              73149\n",
       "Brick/Stone     66093\n",
       "Timber           3594\n",
       "Other            1053\n",
       "Name: ground_floor_type, dtype: int64"
      ]
     },
     "execution_count": 32,
     "metadata": {},
     "output_type": "execute_result"
    }
   ],
   "source": [
    "building_structure_df['ground_floor_type'].value_counts()"
   ]
  },
  {
   "cell_type": "code",
   "execution_count": 33,
   "metadata": {},
   "outputs": [
    {
     "data": {
      "text/plain": [
       "1    618217\n",
       "2     73149\n",
       "3     66093\n",
       "4      3594\n",
       "5      1053\n",
       "Name: ground_floor_type_num, dtype: int64"
      ]
     },
     "execution_count": 33,
     "metadata": {},
     "output_type": "execute_result"
    }
   ],
   "source": [
    "cl.convert_to_num(building_structure_df,'ground_floor_type', 'ground_floor_type_num')"
   ]
  },
  {
   "cell_type": "code",
   "execution_count": 34,
   "metadata": {},
   "outputs": [
    {
     "data": {
      "text/plain": [
       "TImber/Bamboo-Mud    486907\n",
       "Timber-Planck        123635\n",
       "Not applicable       118822\n",
       "RCC/RB/RBC            32742\n",
       "Name: other_floor_type, dtype: int64"
      ]
     },
     "execution_count": 34,
     "metadata": {},
     "output_type": "execute_result"
    }
   ],
   "source": [
    "building_structure_df['other_floor_type'].value_counts()"
   ]
  },
  {
   "cell_type": "code",
   "execution_count": 35,
   "metadata": {},
   "outputs": [
    {
     "data": {
      "text/plain": [
       "1    486907\n",
       "2    123635\n",
       "3    118822\n",
       "4     32742\n",
       "Name: other_floor_type_num, dtype: int64"
      ]
     },
     "execution_count": 35,
     "metadata": {},
     "output_type": "execute_result"
    }
   ],
   "source": [
    "cl.convert_to_num(building_structure_df,'other_floor_type', 'other_floor_type_num')"
   ]
  },
  {
   "cell_type": "code",
   "execution_count": 36,
   "metadata": {},
   "outputs": [],
   "source": [
    "# building_structure_df['condition_post_eq'].value_counts()\n",
    "#removing this because-- cannot use post event data"
   ]
  },
  {
   "cell_type": "code",
   "execution_count": 37,
   "metadata": {},
   "outputs": [],
   "source": [
    "# cl.convert_to_num(building_structure_df, 'condition_post_eq', 'condition_post_eq_num')\n",
    "# #removing this because-- cannot use post event data"
   ]
  },
  {
   "cell_type": "code",
   "execution_count": 38,
   "metadata": {},
   "outputs": [
    {
     "data": {
      "text/html": [
       "<div>\n",
       "<style scoped>\n",
       "    .dataframe tbody tr th:only-of-type {\n",
       "        vertical-align: middle;\n",
       "    }\n",
       "\n",
       "    .dataframe tbody tr th {\n",
       "        vertical-align: top;\n",
       "    }\n",
       "\n",
       "    .dataframe thead th {\n",
       "        text-align: right;\n",
       "    }\n",
       "</style>\n",
       "<table border=\"1\" class=\"dataframe\">\n",
       "  <thead>\n",
       "    <tr style=\"text-align: right;\">\n",
       "      <th></th>\n",
       "      <th>building_id</th>\n",
       "      <th>district_id</th>\n",
       "      <th>vdcmun_id</th>\n",
       "      <th>ward_id</th>\n",
       "      <th>count_floors_pre_eq</th>\n",
       "      <th>count_floors_post_eq</th>\n",
       "      <th>age_building</th>\n",
       "      <th>plinth_area_sq_ft</th>\n",
       "      <th>height_ft_pre_eq</th>\n",
       "      <th>height_ft_post_eq</th>\n",
       "      <th>land_surface_condition</th>\n",
       "      <th>foundation_type</th>\n",
       "      <th>roof_type</th>\n",
       "      <th>ground_floor_type</th>\n",
       "      <th>other_floor_type</th>\n",
       "      <th>position</th>\n",
       "      <th>plan_configuration</th>\n",
       "      <th>has_superstructure_adobe_mud</th>\n",
       "      <th>has_superstructure_mud_mortar_stone</th>\n",
       "      <th>has_superstructure_stone_flag</th>\n",
       "      <th>has_superstructure_cement_mortar_stone</th>\n",
       "      <th>has_superstructure_mud_mortar_brick</th>\n",
       "      <th>has_superstructure_cement_mortar_brick</th>\n",
       "      <th>has_superstructure_timber</th>\n",
       "      <th>has_superstructure_bamboo</th>\n",
       "      <th>has_superstructure_rc_non_engineered</th>\n",
       "      <th>has_superstructure_rc_engineered</th>\n",
       "      <th>has_superstructure_other</th>\n",
       "      <th>condition_post_eq</th>\n",
       "      <th>damage_grade</th>\n",
       "      <th>technical_solution_proposed</th>\n",
       "      <th>land_surface_condition_num</th>\n",
       "      <th>foundation_type_num</th>\n",
       "      <th>roof_type_num</th>\n",
       "      <th>ground_floor_type_num</th>\n",
       "      <th>other_floor_type_num</th>\n",
       "    </tr>\n",
       "  </thead>\n",
       "  <tbody>\n",
       "    <tr>\n",
       "      <th>131652</th>\n",
       "      <td>212402000341</td>\n",
       "      <td>21</td>\n",
       "      <td>2107</td>\n",
       "      <td>210703</td>\n",
       "      <td>2</td>\n",
       "      <td>2</td>\n",
       "      <td>84</td>\n",
       "      <td>324</td>\n",
       "      <td>13</td>\n",
       "      <td>13</td>\n",
       "      <td>Flat</td>\n",
       "      <td>Mud mortar-Stone/Brick</td>\n",
       "      <td>Bamboo/Timber-Light roof</td>\n",
       "      <td>Mud</td>\n",
       "      <td>Timber-Planck</td>\n",
       "      <td>NaN</td>\n",
       "      <td>NaN</td>\n",
       "      <td>0</td>\n",
       "      <td>1</td>\n",
       "      <td>0</td>\n",
       "      <td>0</td>\n",
       "      <td>0</td>\n",
       "      <td>0</td>\n",
       "      <td>0</td>\n",
       "      <td>0</td>\n",
       "      <td>0</td>\n",
       "      <td>0</td>\n",
       "      <td>0</td>\n",
       "      <td>Damaged-Repaired and used</td>\n",
       "      <td>NaN</td>\n",
       "      <td>NaN</td>\n",
       "      <td>1</td>\n",
       "      <td>1</td>\n",
       "      <td>1</td>\n",
       "      <td>1</td>\n",
       "      <td>2</td>\n",
       "    </tr>\n",
       "  </tbody>\n",
       "</table>\n",
       "</div>"
      ],
      "text/plain": [
       "         building_id  district_id  vdcmun_id  ward_id  count_floors_pre_eq  \\\n",
       "131652  212402000341           21       2107   210703                    2   \n",
       "\n",
       "        count_floors_post_eq  age_building  plinth_area_sq_ft  \\\n",
       "131652                     2            84                324   \n",
       "\n",
       "        height_ft_pre_eq  height_ft_post_eq land_surface_condition  \\\n",
       "131652                13                 13                   Flat   \n",
       "\n",
       "               foundation_type                 roof_type ground_floor_type  \\\n",
       "131652  Mud mortar-Stone/Brick  Bamboo/Timber-Light roof               Mud   \n",
       "\n",
       "       other_floor_type position plan_configuration  \\\n",
       "131652    Timber-Planck      NaN                NaN   \n",
       "\n",
       "        has_superstructure_adobe_mud  has_superstructure_mud_mortar_stone  \\\n",
       "131652                             0                                    1   \n",
       "\n",
       "        has_superstructure_stone_flag  has_superstructure_cement_mortar_stone  \\\n",
       "131652                              0                                       0   \n",
       "\n",
       "        has_superstructure_mud_mortar_brick  \\\n",
       "131652                                    0   \n",
       "\n",
       "        has_superstructure_cement_mortar_brick  has_superstructure_timber  \\\n",
       "131652                                       0                          0   \n",
       "\n",
       "        has_superstructure_bamboo  has_superstructure_rc_non_engineered  \\\n",
       "131652                          0                                     0   \n",
       "\n",
       "        has_superstructure_rc_engineered  has_superstructure_other  \\\n",
       "131652                                 0                         0   \n",
       "\n",
       "                condition_post_eq damage_grade technical_solution_proposed  \\\n",
       "131652  Damaged-Repaired and used          NaN                         NaN   \n",
       "\n",
       "        land_surface_condition_num  foundation_type_num  roof_type_num  \\\n",
       "131652                           1                    1              1   \n",
       "\n",
       "        ground_floor_type_num  other_floor_type_num  \n",
       "131652                      1                     2  "
      ]
     },
     "execution_count": 38,
     "metadata": {},
     "output_type": "execute_result"
    }
   ],
   "source": [
    "building_structure_df[building_structure_df['position'].isna()]"
   ]
  },
  {
   "cell_type": "code",
   "execution_count": 39,
   "metadata": {},
   "outputs": [
    {
     "data": {
      "text/plain": [
       "Not attached       604453\n",
       "Attached-1 side    129432\n",
       "Attached-2 side     26910\n",
       "Attached-3 side      1310\n",
       "Name: position, dtype: int64"
      ]
     },
     "execution_count": 39,
     "metadata": {},
     "output_type": "execute_result"
    }
   ],
   "source": [
    "building_structure_df['position'].value_counts()"
   ]
  },
  {
   "cell_type": "markdown",
   "metadata": {},
   "source": [
    "`position` gives the position of the building and `plan_configuration` gives the building plan configuration. For the null values in these columns, will look for rows with similar rows with similar values."
   ]
  },
  {
   "cell_type": "code",
   "execution_count": 40,
   "metadata": {},
   "outputs": [
    {
     "data": {
      "text/plain": [
       "Rectangular                        731257\n",
       "Square                              17576\n",
       "L-shape                             10079\n",
       "T-shape                               969\n",
       "Multi-projected                       940\n",
       "Others                                518\n",
       "U-shape                               448\n",
       "E-shape                               140\n",
       "Building with Central Courtyard        98\n",
       "H-shape                                80\n",
       "Name: plan_configuration, dtype: int64"
      ]
     },
     "execution_count": 40,
     "metadata": {},
     "output_type": "execute_result"
    }
   ],
   "source": [
    "building_structure_df['plan_configuration'].value_counts()"
   ]
  },
  {
   "cell_type": "code",
   "execution_count": 41,
   "metadata": {},
   "outputs": [],
   "source": [
    "# # Uncomment to preview data with condition\n",
    "# building_structure_df[building_structure_df['position']=='Not attached'].head(2)"
   ]
  },
  {
   "cell_type": "code",
   "execution_count": 42,
   "metadata": {},
   "outputs": [],
   "source": [
    "# # Uncomment to preview data with condition\n",
    "# building_structure_df[building_structure_df['position']=='Attached-1 side'].head()"
   ]
  },
  {
   "cell_type": "code",
   "execution_count": 43,
   "metadata": {},
   "outputs": [],
   "source": [
    "# # Uncomment to preview data with condition\n",
    "# building_structure_df[building_structure_df['position']=='Attached-2 side'].head()"
   ]
  },
  {
   "cell_type": "code",
   "execution_count": 44,
   "metadata": {},
   "outputs": [],
   "source": [
    "# # Uncomment to preview data with condition\n",
    "# building_structure_df[building_structure_df['position']=='Attached-3 side'].head()"
   ]
  },
  {
   "cell_type": "code",
   "execution_count": 45,
   "metadata": {},
   "outputs": [],
   "source": [
    "# # Uncomment to preview data with condition\n",
    "# building_structure_df[building_structure_df['age_building'] >= 80].tail(10)"
   ]
  },
  {
   "cell_type": "markdown",
   "metadata": {},
   "source": [
    "Based on similar buildings of around the same age, we can safely assign `position` Nan value as *Not attached* and `plan_configuration` Nan value as *Rectangular*."
   ]
  },
  {
   "cell_type": "code",
   "execution_count": 46,
   "metadata": {},
   "outputs": [],
   "source": [
    "# Assigning value to null and saving\n",
    "building_structure_df['position'].fillna('Not attached', inplace=True)\n",
    "building_structure_df['plan_configuration'].fillna('Rectangular', inplace= True)"
   ]
  },
  {
   "cell_type": "code",
   "execution_count": 47,
   "metadata": {},
   "outputs": [
    {
     "data": {
      "text/plain": [
       "1     731258\n",
       "2      17576\n",
       "3      10079\n",
       "4        969\n",
       "5        940\n",
       "6        518\n",
       "7        448\n",
       "8        140\n",
       "9         98\n",
       "10        80\n",
       "Name: plan_configuration_num, dtype: int64"
      ]
     },
     "execution_count": 47,
     "metadata": {},
     "output_type": "execute_result"
    }
   ],
   "source": [
    "cl.convert_to_num(building_structure_df,'position', 'position_num')\n",
    "cl.convert_to_num(building_structure_df,'plan_configuration', 'plan_configuration_num')"
   ]
  },
  {
   "cell_type": "code",
   "execution_count": 48,
   "metadata": {},
   "outputs": [
    {
     "data": {
      "text/plain": [
       "Grade 5    275766\n",
       "Grade 4    183844\n",
       "Grade 3    136412\n",
       "Grade 2     87257\n",
       "Grade 1     78815\n",
       "Name: damage_grade, dtype: int64"
      ]
     },
     "execution_count": 48,
     "metadata": {},
     "output_type": "execute_result"
    }
   ],
   "source": [
    "building_structure_df['damage_grade'].value_counts()"
   ]
  },
  {
   "cell_type": "markdown",
   "metadata": {},
   "source": [
    "To get a better understanding of the scale direction, need to preview row information for each grade"
   ]
  },
  {
   "cell_type": "markdown",
   "metadata": {},
   "source": [
    "Based on the conditional data analysis above, the grade increase with the severity of the damage."
   ]
  },
  {
   "cell_type": "code",
   "execution_count": 49,
   "metadata": {},
   "outputs": [],
   "source": [
    "# building_structure_df['condition_post_eq'].value_counts()"
   ]
  },
  {
   "cell_type": "code",
   "execution_count": 50,
   "metadata": {},
   "outputs": [],
   "source": [
    "# building_structure_df[building_structure_df['damage_grade'].isna()]"
   ]
  },
  {
   "cell_type": "markdown",
   "metadata": {},
   "source": [
    "In investigating structure damage features in the damage assessment data, all the rows with *NaN* values for `damage_grade` showed no damage information for any of those buildings. It is safe to assign the *Nan* values as **Grade 1** to show minimal or no damage."
   ]
  },
  {
   "cell_type": "code",
   "execution_count": 51,
   "metadata": {},
   "outputs": [
    {
     "data": {
      "text/plain": [
       "array(['Grade 3', 'Grade 5', 'Grade 2', ..., 'Grade 5', 'Grade 5',\n",
       "       'Grade 5'], dtype=object)"
      ]
     },
     "execution_count": 51,
     "metadata": {},
     "output_type": "execute_result"
    }
   ],
   "source": [
    "building_structure_df['damage_grade'].values"
   ]
  },
  {
   "cell_type": "code",
   "execution_count": 52,
   "metadata": {},
   "outputs": [],
   "source": [
    "building_structure_df['damage_grade'].values[building_structure_df['damage_grade'].isna()] = 'Grade 1'"
   ]
  },
  {
   "cell_type": "code",
   "execution_count": 53,
   "metadata": {},
   "outputs": [],
   "source": [
    "building_structure_df['technical_solution_proposed'].values[building_structure_df['technical_solution_proposed'].isna()] = 'Minor repair'"
   ]
  },
  {
   "cell_type": "code",
   "execution_count": 54,
   "metadata": {},
   "outputs": [
    {
     "data": {
      "text/plain": [
       "building_id                               0\n",
       "district_id                               0\n",
       "vdcmun_id                                 0\n",
       "ward_id                                   0\n",
       "count_floors_pre_eq                       0\n",
       "count_floors_post_eq                      0\n",
       "age_building                              0\n",
       "plinth_area_sq_ft                         0\n",
       "height_ft_pre_eq                          0\n",
       "height_ft_post_eq                         0\n",
       "land_surface_condition                    0\n",
       "foundation_type                           0\n",
       "roof_type                                 0\n",
       "ground_floor_type                         0\n",
       "other_floor_type                          0\n",
       "position                                  0\n",
       "plan_configuration                        0\n",
       "has_superstructure_adobe_mud              0\n",
       "has_superstructure_mud_mortar_stone       0\n",
       "has_superstructure_stone_flag             0\n",
       "has_superstructure_cement_mortar_stone    0\n",
       "has_superstructure_mud_mortar_brick       0\n",
       "has_superstructure_cement_mortar_brick    0\n",
       "has_superstructure_timber                 0\n",
       "has_superstructure_bamboo                 0\n",
       "has_superstructure_rc_non_engineered      0\n",
       "has_superstructure_rc_engineered          0\n",
       "has_superstructure_other                  0\n",
       "condition_post_eq                         0\n",
       "damage_grade                              0\n",
       "technical_solution_proposed               0\n",
       "land_surface_condition_num                0\n",
       "foundation_type_num                       0\n",
       "roof_type_num                             0\n",
       "ground_floor_type_num                     0\n",
       "other_floor_type_num                      0\n",
       "position_num                              0\n",
       "plan_configuration_num                    0\n",
       "dtype: int64"
      ]
     },
     "execution_count": 54,
     "metadata": {},
     "output_type": "execute_result"
    }
   ],
   "source": [
    "building_structure_df.isna().sum()"
   ]
  },
  {
   "cell_type": "code",
   "execution_count": 55,
   "metadata": {},
   "outputs": [
    {
     "data": {
      "text/plain": [
       "Reconstruction    470219\n",
       "Major repair      129415\n",
       "Minor repair      110617\n",
       "No need            51855\n",
       "Name: technical_solution_proposed, dtype: int64"
      ]
     },
     "execution_count": 55,
     "metadata": {},
     "output_type": "execute_result"
    }
   ],
   "source": [
    "building_structure_df['technical_solution_proposed'].value_counts()"
   ]
  },
  {
   "cell_type": "code",
   "execution_count": 56,
   "metadata": {},
   "outputs": [],
   "source": [
    "target_df= building_structure_df[['damage_grade','technical_solution_proposed']]\n",
    "solution_list = building_structure_df['technical_solution_proposed'].value_counts().index"
   ]
  },
  {
   "cell_type": "code",
   "execution_count": 57,
   "metadata": {},
   "outputs": [
    {
     "name": "stdout",
     "output_type": "stream",
     "text": [
      "Grade proportion for Reconstruction\n",
      "Grade 5    275580\n",
      "Grade 4    166446\n",
      "Grade 3     25598\n",
      "Grade 2      2395\n",
      "Grade 1       200\n",
      "Name: damage_grade, dtype: int64\n",
      "Grade proportion for Major repair\n",
      "Grade 3    101292\n",
      "Grade 4     17213\n",
      "Grade 2     10383\n",
      "Grade 1       384\n",
      "Grade 5       143\n",
      "Name: damage_grade, dtype: int64\n",
      "Grade proportion for Minor repair\n",
      "Grade 2    73991\n",
      "Grade 1    26958\n",
      "Grade 3     9466\n",
      "Grade 4      173\n",
      "Grade 5       29\n",
      "Name: damage_grade, dtype: int64\n",
      "Grade proportion for No need\n",
      "Grade 1    51285\n",
      "Grade 2      488\n",
      "Grade 3       56\n",
      "Grade 5       14\n",
      "Grade 4       12\n",
      "Name: damage_grade, dtype: int64\n"
     ]
    }
   ],
   "source": [
    "for sol in solution_list:\n",
    "    print('Grade proportion for {}'.format(sol))\n",
    "    print(target_df[target_df['technical_solution_proposed']== sol]['damage_grade'].value_counts())"
   ]
  },
  {
   "cell_type": "markdown",
   "metadata": {},
   "source": [
    "The source [site](http://eq2015.npc.gov.np/docs/#/faqs/faqs?id=what-would-be-the-best-general-proxy-for-overall-building-damage) FAQs section on , *\"What would be the best general proxy for “overall building damage”?* states that the suveyors were given the following general guidance to use to grade a building damage.\n",
    "\n",
    "1. Grade 1 : Hairline to thin cracks in plaster on few walls, falling of plaster bits in limited parts, fall of loose stone from upper part of the building in a few cases, only architectural repairs needed.\n",
    "\n",
    "2. Grade 2 : Cracks in many walls, falling of plaster in last bits over large area, damage to non structural parts like chimney, projecting cornices. The load carrying capacity of the building is not reduced appreciably.\n",
    "\n",
    "3. Grade 3 : Large and extensive cracks in most walls, collapse of small portion of non load-bearing walls, roof tile detachment, tilting or failing of chimneys, failure of individual non-structural elements such as partition/gable walls, delamination of stone/adobe walls, load carrying capacity of structure is partially reduced and significant structural repair is required.\n",
    "\n",
    "4. Grade 4 : Large gaps occur in walls, walls collapse, partial structural failure of floor/roof, building takes a dangerous state.\n",
    "\n",
    "5. Grade 5 : Total or near collapse of the building\n",
    "\n",
    "So if **Grade 5** is a building of total or near collapse it would make sense for the technical solution to be a proposition of `Reconstruction` or at the least `Major Repairs`. However, in the data we see that there are several buildings (41 in total) that are given a proposition of either Minor Repairs or No repairs needed at all even. \n",
    "\n",
    "Similarly if a **Grade 1** building is one with hairline cracks, falling plaster bits, one that is suggestive of only architectual repairs needed. Then, you could expect the technical solution proposed to be of Minor repairs. However, some **Grade 1** graded buildings  have been proposed to be reconstructed or go through major repairs.\n",
    "\n",
    "So, each proposition of `Reconstruction` or, `Major repairs` or, `Minor repairs` or, `No need` have varying degrees but some composition of building damage grades. One reason for the variations in the observed data could be because of many perceptions (multiple suveyors) being involved in the decisions to how damaged and what repair across survey regions. Also, since the surveyors had to eyeball their damage grades and also the proposed technical solutions it makes sense that their grading is so varied across what solution was proposed.\n",
    "\n",
    "There is more to explore here."
   ]
  },
  {
   "cell_type": "code",
   "execution_count": 58,
   "metadata": {},
   "outputs": [],
   "source": [
    "building_structure_df['target']= building_structure_df['damage_grade'].map({'Grade 1': 1,\n",
    "                                                                           'Grade 2': 1,\n",
    "                                                                           'Grade 3': 2,\n",
    "                                                                           'Grade 4': 3,\n",
    "                                                                           'Grade 5': 3})"
   ]
  },
  {
   "cell_type": "markdown",
   "metadata": {},
   "source": [
    "Reducing the number of classes that a model will have to classify between, helps build more efficient models. With having created a three class target variable, we will drop the feature `damage_grade` from the featues set."
   ]
  },
  {
   "cell_type": "code",
   "execution_count": 59,
   "metadata": {},
   "outputs": [
    {
     "data": {
      "text/plain": [
       "dtype('int64')"
      ]
     },
     "execution_count": 59,
     "metadata": {},
     "output_type": "execute_result"
    }
   ],
   "source": [
    "building_structure_df['target'].dtype"
   ]
  },
  {
   "cell_type": "code",
   "execution_count": 60,
   "metadata": {},
   "outputs": [],
   "source": [
    "drop_list = ['damage_grade','count_floors_post_eq','condition_post_eq', 'height_ft_post_eq', 'technical_solution_proposed']"
   ]
  },
  {
   "cell_type": "code",
   "execution_count": 61,
   "metadata": {},
   "outputs": [],
   "source": [
    "building_structure_df.drop(drop_list, axis=1, inplace=True)"
   ]
  },
  {
   "cell_type": "code",
   "execution_count": 62,
   "metadata": {},
   "outputs": [
    {
     "data": {
      "text/html": [
       "<div>\n",
       "<style scoped>\n",
       "    .dataframe tbody tr th:only-of-type {\n",
       "        vertical-align: middle;\n",
       "    }\n",
       "\n",
       "    .dataframe tbody tr th {\n",
       "        vertical-align: top;\n",
       "    }\n",
       "\n",
       "    .dataframe thead th {\n",
       "        text-align: right;\n",
       "    }\n",
       "</style>\n",
       "<table border=\"1\" class=\"dataframe\">\n",
       "  <thead>\n",
       "    <tr style=\"text-align: right;\">\n",
       "      <th></th>\n",
       "      <th>building_id</th>\n",
       "      <th>district_id</th>\n",
       "      <th>vdcmun_id</th>\n",
       "      <th>ward_id</th>\n",
       "      <th>count_floors_pre_eq</th>\n",
       "      <th>age_building</th>\n",
       "      <th>plinth_area_sq_ft</th>\n",
       "      <th>height_ft_pre_eq</th>\n",
       "      <th>has_superstructure_adobe_mud</th>\n",
       "      <th>has_superstructure_mud_mortar_stone</th>\n",
       "      <th>has_superstructure_stone_flag</th>\n",
       "      <th>has_superstructure_cement_mortar_stone</th>\n",
       "      <th>has_superstructure_mud_mortar_brick</th>\n",
       "      <th>has_superstructure_cement_mortar_brick</th>\n",
       "      <th>has_superstructure_timber</th>\n",
       "      <th>has_superstructure_bamboo</th>\n",
       "      <th>has_superstructure_rc_non_engineered</th>\n",
       "      <th>has_superstructure_rc_engineered</th>\n",
       "      <th>has_superstructure_other</th>\n",
       "      <th>land_surface_condition_num</th>\n",
       "      <th>foundation_type_num</th>\n",
       "      <th>roof_type_num</th>\n",
       "      <th>ground_floor_type_num</th>\n",
       "      <th>other_floor_type_num</th>\n",
       "      <th>position_num</th>\n",
       "      <th>plan_configuration_num</th>\n",
       "      <th>target</th>\n",
       "    </tr>\n",
       "  </thead>\n",
       "  <tbody>\n",
       "    <tr>\n",
       "      <th>count</th>\n",
       "      <td>7.621060e+05</td>\n",
       "      <td>762106.000000</td>\n",
       "      <td>762106.000000</td>\n",
       "      <td>762106.000000</td>\n",
       "      <td>762106.000000</td>\n",
       "      <td>762106.000000</td>\n",
       "      <td>762106.000000</td>\n",
       "      <td>762106.000000</td>\n",
       "      <td>762106.000000</td>\n",
       "      <td>762106.000000</td>\n",
       "      <td>762106.000000</td>\n",
       "      <td>762106.000000</td>\n",
       "      <td>762106.000000</td>\n",
       "      <td>762106.000000</td>\n",
       "      <td>762106.000000</td>\n",
       "      <td>762106.000000</td>\n",
       "      <td>762106.000000</td>\n",
       "      <td>762106.000000</td>\n",
       "      <td>762106.000000</td>\n",
       "      <td>762106.000000</td>\n",
       "      <td>762106.000000</td>\n",
       "      <td>762106.000000</td>\n",
       "      <td>762106.000000</td>\n",
       "      <td>762106.000000</td>\n",
       "      <td>762106.000000</td>\n",
       "      <td>762106.000000</td>\n",
       "      <td>762106.000000</td>\n",
       "    </tr>\n",
       "    <tr>\n",
       "      <th>mean</th>\n",
       "      <td>2.607514e+11</td>\n",
       "      <td>25.767835</td>\n",
       "      <td>2582.688357</td>\n",
       "      <td>258274.277335</td>\n",
       "      <td>2.087783</td>\n",
       "      <td>24.326405</td>\n",
       "      <td>406.672576</td>\n",
       "      <td>16.049372</td>\n",
       "      <td>0.042401</td>\n",
       "      <td>0.800271</td>\n",
       "      <td>0.035121</td>\n",
       "      <td>0.015815</td>\n",
       "      <td>0.022961</td>\n",
       "      <td>0.071525</td>\n",
       "      <td>0.258766</td>\n",
       "      <td>0.080482</td>\n",
       "      <td>0.039794</td>\n",
       "      <td>0.016386</td>\n",
       "      <td>0.012026</td>\n",
       "      <td>1.203675</td>\n",
       "      <td>1.328735</td>\n",
       "      <td>1.397506</td>\n",
       "      <td>1.289105</td>\n",
       "      <td>1.602941</td>\n",
       "      <td>1.245612</td>\n",
       "      <td>1.068446</td>\n",
       "      <td>2.385151</td>\n",
       "    </tr>\n",
       "    <tr>\n",
       "      <th>std</th>\n",
       "      <td>5.801855e+10</td>\n",
       "      <td>5.807555</td>\n",
       "      <td>581.172767</td>\n",
       "      <td>58117.348412</td>\n",
       "      <td>0.655101</td>\n",
       "      <td>65.043704</td>\n",
       "      <td>226.779371</td>\n",
       "      <td>5.493878</td>\n",
       "      <td>0.201502</td>\n",
       "      <td>0.399797</td>\n",
       "      <td>0.184086</td>\n",
       "      <td>0.124761</td>\n",
       "      <td>0.149780</td>\n",
       "      <td>0.257701</td>\n",
       "      <td>0.437957</td>\n",
       "      <td>0.272039</td>\n",
       "      <td>0.195474</td>\n",
       "      <td>0.126955</td>\n",
       "      <td>0.109001</td>\n",
       "      <td>0.476709</td>\n",
       "      <td>0.805117</td>\n",
       "      <td>0.597074</td>\n",
       "      <td>0.651036</td>\n",
       "      <td>0.899447</td>\n",
       "      <td>0.515966</td>\n",
       "      <td>0.407855</td>\n",
       "      <td>0.820162</td>\n",
       "    </tr>\n",
       "    <tr>\n",
       "      <th>min</th>\n",
       "      <td>1.201010e+11</td>\n",
       "      <td>12.000000</td>\n",
       "      <td>1201.000000</td>\n",
       "      <td>120101.000000</td>\n",
       "      <td>1.000000</td>\n",
       "      <td>0.000000</td>\n",
       "      <td>70.000000</td>\n",
       "      <td>6.000000</td>\n",
       "      <td>0.000000</td>\n",
       "      <td>0.000000</td>\n",
       "      <td>0.000000</td>\n",
       "      <td>0.000000</td>\n",
       "      <td>0.000000</td>\n",
       "      <td>0.000000</td>\n",
       "      <td>0.000000</td>\n",
       "      <td>0.000000</td>\n",
       "      <td>0.000000</td>\n",
       "      <td>0.000000</td>\n",
       "      <td>0.000000</td>\n",
       "      <td>1.000000</td>\n",
       "      <td>1.000000</td>\n",
       "      <td>1.000000</td>\n",
       "      <td>1.000000</td>\n",
       "      <td>1.000000</td>\n",
       "      <td>1.000000</td>\n",
       "      <td>1.000000</td>\n",
       "      <td>1.000000</td>\n",
       "    </tr>\n",
       "    <tr>\n",
       "      <th>25%</th>\n",
       "      <td>2.219090e+11</td>\n",
       "      <td>22.000000</td>\n",
       "      <td>2204.000000</td>\n",
       "      <td>220402.000000</td>\n",
       "      <td>2.000000</td>\n",
       "      <td>9.000000</td>\n",
       "      <td>280.000000</td>\n",
       "      <td>12.000000</td>\n",
       "      <td>0.000000</td>\n",
       "      <td>1.000000</td>\n",
       "      <td>0.000000</td>\n",
       "      <td>0.000000</td>\n",
       "      <td>0.000000</td>\n",
       "      <td>0.000000</td>\n",
       "      <td>0.000000</td>\n",
       "      <td>0.000000</td>\n",
       "      <td>0.000000</td>\n",
       "      <td>0.000000</td>\n",
       "      <td>0.000000</td>\n",
       "      <td>1.000000</td>\n",
       "      <td>1.000000</td>\n",
       "      <td>1.000000</td>\n",
       "      <td>1.000000</td>\n",
       "      <td>1.000000</td>\n",
       "      <td>1.000000</td>\n",
       "      <td>1.000000</td>\n",
       "      <td>2.000000</td>\n",
       "    </tr>\n",
       "    <tr>\n",
       "      <th>50%</th>\n",
       "      <td>2.463020e+11</td>\n",
       "      <td>24.000000</td>\n",
       "      <td>2410.000000</td>\n",
       "      <td>241004.000000</td>\n",
       "      <td>2.000000</td>\n",
       "      <td>16.000000</td>\n",
       "      <td>358.000000</td>\n",
       "      <td>16.000000</td>\n",
       "      <td>0.000000</td>\n",
       "      <td>1.000000</td>\n",
       "      <td>0.000000</td>\n",
       "      <td>0.000000</td>\n",
       "      <td>0.000000</td>\n",
       "      <td>0.000000</td>\n",
       "      <td>0.000000</td>\n",
       "      <td>0.000000</td>\n",
       "      <td>0.000000</td>\n",
       "      <td>0.000000</td>\n",
       "      <td>0.000000</td>\n",
       "      <td>1.000000</td>\n",
       "      <td>1.000000</td>\n",
       "      <td>1.000000</td>\n",
       "      <td>1.000000</td>\n",
       "      <td>1.000000</td>\n",
       "      <td>1.000000</td>\n",
       "      <td>1.000000</td>\n",
       "      <td>3.000000</td>\n",
       "    </tr>\n",
       "    <tr>\n",
       "      <th>75%</th>\n",
       "      <td>3.036080e+11</td>\n",
       "      <td>30.000000</td>\n",
       "      <td>3010.000000</td>\n",
       "      <td>301006.000000</td>\n",
       "      <td>2.000000</td>\n",
       "      <td>27.000000</td>\n",
       "      <td>470.000000</td>\n",
       "      <td>18.000000</td>\n",
       "      <td>0.000000</td>\n",
       "      <td>1.000000</td>\n",
       "      <td>0.000000</td>\n",
       "      <td>0.000000</td>\n",
       "      <td>0.000000</td>\n",
       "      <td>0.000000</td>\n",
       "      <td>1.000000</td>\n",
       "      <td>0.000000</td>\n",
       "      <td>0.000000</td>\n",
       "      <td>0.000000</td>\n",
       "      <td>0.000000</td>\n",
       "      <td>1.000000</td>\n",
       "      <td>1.000000</td>\n",
       "      <td>2.000000</td>\n",
       "      <td>1.000000</td>\n",
       "      <td>2.000000</td>\n",
       "      <td>1.000000</td>\n",
       "      <td>1.000000</td>\n",
       "      <td>3.000000</td>\n",
       "    </tr>\n",
       "    <tr>\n",
       "      <th>max</th>\n",
       "      <td>3.667090e+11</td>\n",
       "      <td>36.000000</td>\n",
       "      <td>3611.000000</td>\n",
       "      <td>361108.000000</td>\n",
       "      <td>9.000000</td>\n",
       "      <td>999.000000</td>\n",
       "      <td>5000.000000</td>\n",
       "      <td>99.000000</td>\n",
       "      <td>1.000000</td>\n",
       "      <td>1.000000</td>\n",
       "      <td>1.000000</td>\n",
       "      <td>1.000000</td>\n",
       "      <td>1.000000</td>\n",
       "      <td>1.000000</td>\n",
       "      <td>1.000000</td>\n",
       "      <td>1.000000</td>\n",
       "      <td>1.000000</td>\n",
       "      <td>1.000000</td>\n",
       "      <td>1.000000</td>\n",
       "      <td>3.000000</td>\n",
       "      <td>5.000000</td>\n",
       "      <td>3.000000</td>\n",
       "      <td>5.000000</td>\n",
       "      <td>4.000000</td>\n",
       "      <td>4.000000</td>\n",
       "      <td>10.000000</td>\n",
       "      <td>3.000000</td>\n",
       "    </tr>\n",
       "  </tbody>\n",
       "</table>\n",
       "</div>"
      ],
      "text/plain": [
       "        building_id    district_id      vdcmun_id        ward_id  \\\n",
       "count  7.621060e+05  762106.000000  762106.000000  762106.000000   \n",
       "mean   2.607514e+11      25.767835    2582.688357  258274.277335   \n",
       "std    5.801855e+10       5.807555     581.172767   58117.348412   \n",
       "min    1.201010e+11      12.000000    1201.000000  120101.000000   \n",
       "25%    2.219090e+11      22.000000    2204.000000  220402.000000   \n",
       "50%    2.463020e+11      24.000000    2410.000000  241004.000000   \n",
       "75%    3.036080e+11      30.000000    3010.000000  301006.000000   \n",
       "max    3.667090e+11      36.000000    3611.000000  361108.000000   \n",
       "\n",
       "       count_floors_pre_eq   age_building  plinth_area_sq_ft  \\\n",
       "count        762106.000000  762106.000000      762106.000000   \n",
       "mean              2.087783      24.326405         406.672576   \n",
       "std               0.655101      65.043704         226.779371   \n",
       "min               1.000000       0.000000          70.000000   \n",
       "25%               2.000000       9.000000         280.000000   \n",
       "50%               2.000000      16.000000         358.000000   \n",
       "75%               2.000000      27.000000         470.000000   \n",
       "max               9.000000     999.000000        5000.000000   \n",
       "\n",
       "       height_ft_pre_eq  has_superstructure_adobe_mud  \\\n",
       "count     762106.000000                 762106.000000   \n",
       "mean          16.049372                      0.042401   \n",
       "std            5.493878                      0.201502   \n",
       "min            6.000000                      0.000000   \n",
       "25%           12.000000                      0.000000   \n",
       "50%           16.000000                      0.000000   \n",
       "75%           18.000000                      0.000000   \n",
       "max           99.000000                      1.000000   \n",
       "\n",
       "       has_superstructure_mud_mortar_stone  has_superstructure_stone_flag  \\\n",
       "count                        762106.000000                  762106.000000   \n",
       "mean                              0.800271                       0.035121   \n",
       "std                               0.399797                       0.184086   \n",
       "min                               0.000000                       0.000000   \n",
       "25%                               1.000000                       0.000000   \n",
       "50%                               1.000000                       0.000000   \n",
       "75%                               1.000000                       0.000000   \n",
       "max                               1.000000                       1.000000   \n",
       "\n",
       "       has_superstructure_cement_mortar_stone  \\\n",
       "count                           762106.000000   \n",
       "mean                                 0.015815   \n",
       "std                                  0.124761   \n",
       "min                                  0.000000   \n",
       "25%                                  0.000000   \n",
       "50%                                  0.000000   \n",
       "75%                                  0.000000   \n",
       "max                                  1.000000   \n",
       "\n",
       "       has_superstructure_mud_mortar_brick  \\\n",
       "count                        762106.000000   \n",
       "mean                              0.022961   \n",
       "std                               0.149780   \n",
       "min                               0.000000   \n",
       "25%                               0.000000   \n",
       "50%                               0.000000   \n",
       "75%                               0.000000   \n",
       "max                               1.000000   \n",
       "\n",
       "       has_superstructure_cement_mortar_brick  has_superstructure_timber  \\\n",
       "count                           762106.000000              762106.000000   \n",
       "mean                                 0.071525                   0.258766   \n",
       "std                                  0.257701                   0.437957   \n",
       "min                                  0.000000                   0.000000   \n",
       "25%                                  0.000000                   0.000000   \n",
       "50%                                  0.000000                   0.000000   \n",
       "75%                                  0.000000                   1.000000   \n",
       "max                                  1.000000                   1.000000   \n",
       "\n",
       "       has_superstructure_bamboo  has_superstructure_rc_non_engineered  \\\n",
       "count              762106.000000                         762106.000000   \n",
       "mean                    0.080482                              0.039794   \n",
       "std                     0.272039                              0.195474   \n",
       "min                     0.000000                              0.000000   \n",
       "25%                     0.000000                              0.000000   \n",
       "50%                     0.000000                              0.000000   \n",
       "75%                     0.000000                              0.000000   \n",
       "max                     1.000000                              1.000000   \n",
       "\n",
       "       has_superstructure_rc_engineered  has_superstructure_other  \\\n",
       "count                     762106.000000             762106.000000   \n",
       "mean                           0.016386                  0.012026   \n",
       "std                            0.126955                  0.109001   \n",
       "min                            0.000000                  0.000000   \n",
       "25%                            0.000000                  0.000000   \n",
       "50%                            0.000000                  0.000000   \n",
       "75%                            0.000000                  0.000000   \n",
       "max                            1.000000                  1.000000   \n",
       "\n",
       "       land_surface_condition_num  foundation_type_num  roof_type_num  \\\n",
       "count               762106.000000        762106.000000  762106.000000   \n",
       "mean                     1.203675             1.328735       1.397506   \n",
       "std                      0.476709             0.805117       0.597074   \n",
       "min                      1.000000             1.000000       1.000000   \n",
       "25%                      1.000000             1.000000       1.000000   \n",
       "50%                      1.000000             1.000000       1.000000   \n",
       "75%                      1.000000             1.000000       2.000000   \n",
       "max                      3.000000             5.000000       3.000000   \n",
       "\n",
       "       ground_floor_type_num  other_floor_type_num   position_num  \\\n",
       "count          762106.000000         762106.000000  762106.000000   \n",
       "mean                1.289105              1.602941       1.245612   \n",
       "std                 0.651036              0.899447       0.515966   \n",
       "min                 1.000000              1.000000       1.000000   \n",
       "25%                 1.000000              1.000000       1.000000   \n",
       "50%                 1.000000              1.000000       1.000000   \n",
       "75%                 1.000000              2.000000       1.000000   \n",
       "max                 5.000000              4.000000       4.000000   \n",
       "\n",
       "       plan_configuration_num         target  \n",
       "count           762106.000000  762106.000000  \n",
       "mean                 1.068446       2.385151  \n",
       "std                  0.407855       0.820162  \n",
       "min                  1.000000       1.000000  \n",
       "25%                  1.000000       2.000000  \n",
       "50%                  1.000000       3.000000  \n",
       "75%                  1.000000       3.000000  \n",
       "max                 10.000000       3.000000  "
      ]
     },
     "execution_count": 62,
     "metadata": {},
     "output_type": "execute_result"
    }
   ],
   "source": [
    "building_structure_df.describe()"
   ]
  },
  {
   "cell_type": "markdown",
   "metadata": {},
   "source": [
    "According to the descriptive statistics, the oldest building is 999 years old and the newest is 0 years old. This will have to be checked."
   ]
  },
  {
   "cell_type": "code",
   "execution_count": 63,
   "metadata": {},
   "outputs": [
    {
     "name": "stdout",
     "output_type": "stream",
     "text": [
      "Number of 999 year old : 3145\n",
      "Number of 99 year old : 482\n"
     ]
    }
   ],
   "source": [
    "print('Number of 999 year old :',building_structure_df.loc[building_structure_df['age_building']== 999]['age_building'].count())\n",
    "print('Number of 99 year old :',building_structure_df.loc[building_structure_df['age_building']== 99]['age_building'].count())"
   ]
  },
  {
   "cell_type": "code",
   "execution_count": 64,
   "metadata": {},
   "outputs": [
    {
     "data": {
      "text/plain": [
       "<matplotlib.axes._subplots.AxesSubplot at 0x7f95f69d5470>"
      ]
     },
     "execution_count": 64,
     "metadata": {},
     "output_type": "execute_result"
    },
    {
     "data": {
      "image/png": "[encoded data removed]",
      "text/plain": [
       "<Figure size 432x288 with 1 Axes>"
      ]
     },
     "metadata": {
      "needs_background": "light"
     },
     "output_type": "display_data"
    }
   ],
   "source": [
    "building_structure_df['age_building'].plot(kind='box')"
   ]
  },
  {
   "cell_type": "markdown",
   "metadata": {},
   "source": [
    "It seems that age 999 year might be an outlier. This may actually be 99 year old buildings."
   ]
  },
  {
   "cell_type": "code",
   "execution_count": 65,
   "metadata": {},
   "outputs": [],
   "source": [
    "building_structure_df.loc[(building_structure_df['age_building']== 999), 'age_building']=99"
   ]
  },
  {
   "cell_type": "markdown",
   "metadata": {},
   "source": [
    "### Reading pickled geotechnical risk data\n",
    "Whether a building faces any geotechnical risk speaks on the severity of damage a building faces from an earthquake. This set of features may be important in informing on the damage grade of the building and this will be included in the final working dataframe."
   ]
  },
  {
   "cell_type": "code",
   "execution_count": 66,
   "metadata": {},
   "outputs": [],
   "source": [
    "geotech_risk_df = pd.read_pickle('../data/pickles/geotech_risk_df.pkl')"
   ]
  },
  {
   "cell_type": "markdown",
   "metadata": {},
   "source": [
    "Combining geotech_risk_df on 'id' with building_structure_df."
   ]
  },
  {
   "cell_type": "code",
   "execution_count": 67,
   "metadata": {},
   "outputs": [],
   "source": [
    "new_df = pd.merge(building_structure_df, geotech_risk_df, how= 'left', \n",
    "                  on = ['building_id', 'district_id', 'vdcmun_id', 'ward_id'], validate= 'one_to_one')\n"
   ]
  },
  {
   "cell_type": "code",
   "execution_count": 68,
   "metadata": {},
   "outputs": [
    {
     "data": {
      "text/plain": [
       "Index(['building_id', 'district_id', 'vdcmun_id', 'ward_id',\n",
       "       'count_floors_pre_eq', 'age_building', 'plinth_area_sq_ft',\n",
       "       'height_ft_pre_eq', 'land_surface_condition', 'foundation_type',\n",
       "       'roof_type', 'ground_floor_type', 'other_floor_type', 'position',\n",
       "       'plan_configuration', 'has_superstructure_adobe_mud',\n",
       "       'has_superstructure_mud_mortar_stone', 'has_superstructure_stone_flag',\n",
       "       'has_superstructure_cement_mortar_stone',\n",
       "       'has_superstructure_mud_mortar_brick',\n",
       "       'has_superstructure_cement_mortar_brick', 'has_superstructure_timber',\n",
       "       'has_superstructure_bamboo', 'has_superstructure_rc_non_engineered',\n",
       "       'has_superstructure_rc_engineered', 'has_superstructure_other',\n",
       "       'land_surface_condition_num', 'foundation_type_num', 'roof_type_num',\n",
       "       'ground_floor_type_num', 'other_floor_type_num', 'position_num',\n",
       "       'plan_configuration_num', 'target', 'has_geotechnical_risk',\n",
       "       'has_geotechnical_risk_land_settlement',\n",
       "       'has_geotechnical_risk_fault_crack',\n",
       "       'has_geotechnical_risk_liquefaction', 'has_geotechnical_risk_landslide',\n",
       "       'has_geotechnical_risk_rock_fall', 'has_geotechnical_risk_flood',\n",
       "       'has_geotechnical_risk_other'],\n",
       "      dtype='object')"
      ]
     },
     "execution_count": 68,
     "metadata": {},
     "output_type": "execute_result"
    }
   ],
   "source": [
    "new_df.columns"
   ]
  },
  {
   "cell_type": "code",
   "execution_count": 69,
   "metadata": {},
   "outputs": [],
   "source": [
    "building_df = pd.merge(new_df,building_use_df, how= 'left', \n",
    "                  on = ['building_id', 'district_id', 'vdcmun_id', 'ward_id'], validate= 'one_to_one')"
   ]
  },
  {
   "cell_type": "markdown",
   "metadata": {},
   "source": [
    "Below I am isolating the true ward ids and the municipality ids."
   ]
  },
  {
   "cell_type": "code",
   "execution_count": 70,
   "metadata": {},
   "outputs": [],
   "source": [
    "building_df['ward_id'] = building_df['ward_id']-(building_df['vdcmun_id']*100)\n",
    "\n",
    "building_df['vdcmun_id'] = building_df['vdcmun_id']-(building_df['district_id']*100)"
   ]
  },
  {
   "cell_type": "markdown",
   "metadata": {},
   "source": [
    "## Pickle the final cleaned data set"
   ]
  },
  {
   "cell_type": "code",
   "execution_count": 71,
   "metadata": {},
   "outputs": [],
   "source": [
    "building_df.to_pickle(\"../data/pickles/building_df.pkl\")"
   ]
  },
  {
   "cell_type": "code",
   "execution_count": null,
   "metadata": {},
   "outputs": [],
   "source": []
  }
 ],
 "metadata": {
  "kernelspec": {
   "display_name": "Python 3",
   "language": "python",
   "name": "python3"
  },
  "language_info": {
   "codemirror_mode": {
    "name": "ipython",
    "version": 3
   },
   "file_extension": ".py",
   "mimetype": "text/x-python",
   "name": "python",
   "nbconvert_exporter": "python",
   "pygments_lexer": "ipython3",
   "version": "3.6.9"
  }
 },
 "nbformat": 4,
 "nbformat_minor": 4
}
