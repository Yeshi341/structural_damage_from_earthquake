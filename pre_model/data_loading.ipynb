{
 "cells": [
  {
   "cell_type": "code",
   "execution_count": 26,
   "metadata": {},
   "outputs": [],
   "source": [
    "import wget\n",
    "import os\n",
    "import zipfile\n",
    "\n",
    "def pulldatazip(targetdir='data/extracted/'):\n",
    "    \"\"\"Pulls data zip files: \n",
    "    \n",
    "            Parameters:\n",
    "                targetdir (str): Where files are to be saved.\n",
    "            Returns:\n",
    "                file_locs (list of str): Returns locations for all the extracted files.\n",
    "                \n",
    "        Dependencies: wget, os, zipfile\n",
    "    \"\"\"\n",
    "    # Append slash if not at end of targetdir\n",
    "    if targetdir[-1] != '/':\n",
    "        targetdir += '/'\n",
    "    \n",
    "    # Make targetdir if doesn't exist\n",
    "    if not os.path.isdir(targetdir):\n",
    "        os.mkdir(targetdir)\n",
    "    \n",
    "    # create target zip location \n",
    "    targetzip = targetdir + 'data.zip'\n",
    "    \n",
    "    # if target zip exists do nothing, else download\n",
    "    if os.path.isfile(targetzip):\n",
    "        pass\n",
    "    else:\n",
    "        url = 'https://eq2015.npc.gov.np/statics/v2/building_damage_assessment_building_ownership_and_use_building_structure_household_demographics_household_earthquake_impact_household_resources_individual_demographics_individual_social_security.zip'\n",
    "        # Parameters- url and target directory\n",
    "        wget.download(url, targetzip)\n",
    "    \n",
    "    # Unzip files and save locations of same \n",
    "    file_locs = Unzip(targetzip)\n",
    "\n",
    "    return file_locs\n",
    "\n",
    "def Unzip(targetzip):\n",
    "    \"\"\"Unzip a file.\n",
    "    \n",
    "            Parameters:\n",
    "                targetzip (str): String of path to target zip file.\n",
    "            Returns:\n",
    "                file_locs (list of str): Returns locations for all the extracted files.\n",
    "                \n",
    "        Dependencies: os, zipfile\n",
    "    \"\"\"\n",
    "\n",
    "    # Set and/or create sub-folder\n",
    "    sub_folder = targetzip.rsplit('/',1)[0] + '/'\n",
    "    try:\n",
    "        os.mkdir(sub_folder)\n",
    "    except:\n",
    "        pass\n",
    "    \n",
    "    # Unzipping file        \n",
    "    try:\n",
    "        \n",
    "        with zipfile.ZipFile(targetzip, 'r') as zip_ref:\n",
    "            zip_ref.extractall(sub_folder)\n",
    "            \n",
    "            # Get list of files names in zip\n",
    "            files = zip_ref.namelist()\n",
    "    except:\n",
    "        raise\n",
    "        \n",
    "    # Return list of locations of extracted files   \n",
    "    file_locs = [] \n",
    "    for file in files:\n",
    "        file_locs.append(sub_folder + file)\n",
    "        \n",
    "    \n",
    "    return file_locs\n",
    "\n"
   ]
  },
  {
   "cell_type": "code",
   "execution_count": 27,
   "metadata": {},
   "outputs": [
    {
     "data": {
      "text/plain": [
       "['data/extracted/building_damage_assessment_building_ownership_and_use_building_structure_household_demographics_household_earthquake_impact_household_resources_individual_demographics_individual_social_security/csv_building_damage_assessment.csv',\n",
       " 'data/extracted/building_damage_assessment_building_ownership_and_use_building_structure_household_demographics_household_earthquake_impact_household_resources_individual_demographics_individual_social_security/csv_building_ownership_and_use.csv',\n",
       " 'data/extracted/building_damage_assessment_building_ownership_and_use_building_structure_household_demographics_household_earthquake_impact_household_resources_individual_demographics_individual_social_security/csv_building_structure.csv',\n",
       " 'data/extracted/building_damage_assessment_building_ownership_and_use_building_structure_household_demographics_household_earthquake_impact_household_resources_individual_demographics_individual_social_security/csv_household_demographics.csv',\n",
       " 'data/extracted/building_damage_assessment_building_ownership_and_use_building_structure_household_demographics_household_earthquake_impact_household_resources_individual_demographics_individual_social_security/csv_household_earthquake_impact.csv',\n",
       " 'data/extracted/building_damage_assessment_building_ownership_and_use_building_structure_household_demographics_household_earthquake_impact_household_resources_individual_demographics_individual_social_security/csv_household_resources.csv',\n",
       " 'data/extracted/building_damage_assessment_building_ownership_and_use_building_structure_household_demographics_household_earthquake_impact_household_resources_individual_demographics_individual_social_security/csv_individual_demographics.csv',\n",
       " 'data/extracted/building_damage_assessment_building_ownership_and_use_building_structure_household_demographics_household_earthquake_impact_household_resources_individual_demographics_individual_social_security/csv_individual_social_security.csv',\n",
       " 'data/extracted/building_damage_assessment_building_ownership_and_use_building_structure_household_demographics_household_earthquake_impact_household_resources_individual_demographics_individual_social_security/mapping.csv',\n",
       " 'data/extracted/building_damage_assessment_building_ownership_and_use_building_structure_household_demographics_household_earthquake_impact_household_resources_individual_demographics_individual_social_security/ward_vdcmun_district_name_mapping.csv']"
      ]
     },
     "execution_count": 27,
     "metadata": {},
     "output_type": "execute_result"
    }
   ],
   "source": [
    "pulldatazip()"
   ]
  },
  {
   "cell_type": "code",
   "execution_count": 32,
   "metadata": {},
   "outputs": [
    {
     "data": {
      "text/plain": [
       "'/Users/lhams/Documents/Flatiron/Capstone/structural_damage_from_earthquake/structural_damage_from_earthquake/data/extracted/building_damage_assessment_building_ownership_and_use_building_structure_household_demographics_household_earthquake_impact_household_resources_individual_demographics_individual_social_security'"
      ]
     },
     "execution_count": 32,
     "metadata": {},
     "output_type": "execute_result"
    }
   ],
   "source": [
    "os.path.abspath(\"structural_damage_from_earthquake/data/extracted/building_damage_assessment_building_ownership_and_use_building_structure_household_demographics_household_earthquake_impact_household_resources_individual_demographics_individual_social_security\")"
   ]
  },
  {
   "cell_type": "code",
   "execution_count": 34,
   "metadata": {},
   "outputs": [],
   "source": [
    "old_filename = '/Users/lhams/Documents/Flatiron/Capstone/structural_damage_from_earthquake/data/extracted/building_damage_assessment_building_ownership_and_use_building_structure_household_demographics_household_earthquake_impact_household_resources_individual_demographics_individual_social_security'\n",
    "new_filename= '/Users/lhams/Documents/Flatiron/Capstone/structural_damage_from_earthquake/data/extracted/eq_data'\n",
    "\n",
    "os.rename(old_filename, new_filename)"
   ]
  },
  {
   "cell_type": "code",
   "execution_count": 35,
   "metadata": {},
   "outputs": [
    {
     "data": {
      "text/plain": [
       "'/Users/lhams/Documents/Flatiron/Capstone/structural_damage_from_earthquake/data.zip'"
      ]
     },
     "execution_count": 35,
     "metadata": {},
     "output_type": "execute_result"
    }
   ],
   "source": [
    "os.path.abspath(\"data.zip\")"
   ]
  },
  {
   "cell_type": "code",
   "execution_count": 37,
   "metadata": {},
   "outputs": [],
   "source": [
    "os.remove('/Users/lhams/Documents/Flatiron/Capstone/structural_damage_from_earthquake/data/extracted/data.zip')"
   ]
  },
  {
   "cell_type": "code",
   "execution_count": null,
   "metadata": {},
   "outputs": [],
   "source": []
  }
 ],
 "metadata": {
  "kernelspec": {
   "display_name": "Python 3",
   "language": "python",
   "name": "python3"
  },
  "language_info": {
   "codemirror_mode": {
    "name": "ipython",
    "version": 3
   },
   "file_extension": ".py",
   "mimetype": "text/x-python",
   "name": "python",
   "nbconvert_exporter": "python",
   "pygments_lexer": "ipython3",
   "version": "3.6.9"
  }
 },
 "nbformat": 4,
 "nbformat_minor": 4
}
