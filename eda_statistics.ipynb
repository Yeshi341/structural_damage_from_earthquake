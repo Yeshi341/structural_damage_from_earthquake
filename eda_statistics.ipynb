{
 "cells": [
  {
   "cell_type": "code",
   "execution_count": 1,
   "metadata": {},
   "outputs": [],
   "source": [
    "# importing utility functions\n",
    "import pandas as pd\n",
    "import numpy as np\n",
    "import os\n",
    "import sys\n",
    "import matplotlib.pyplot as plt\n",
    "%matplotlib inline\n",
    "\n",
    "plt.style.use('ggplot')\n",
    "\n",
    "%load_ext autoreload\n",
    "%autoreload 2\n",
    "\n",
    "module_path = os.path.abspath(os.path.join( 'src'))\n",
    "if module_path not in sys.path:\n",
    "    sys.path.append(module_path)\n",
    "    \n",
    "from nb_modules import eda "
   ]
  },
  {
   "cell_type": "code",
   "execution_count": 2,
   "metadata": {},
   "outputs": [],
   "source": [
    "building_df = pd.read_pickle('data/pickles/building_df.pkl')"
   ]
  },
  {
   "cell_type": "code",
   "execution_count": 3,
   "metadata": {},
   "outputs": [
    {
     "data": {
      "text/plain": [
       "(762106, 54)"
      ]
     },
     "execution_count": 3,
     "metadata": {},
     "output_type": "execute_result"
    }
   ],
   "source": [
    "building_df.shape"
   ]
  },
  {
   "cell_type": "code",
   "execution_count": 4,
   "metadata": {},
   "outputs": [
    {
     "data": {
      "text/html": [
       "<div>\n",
       "<style scoped>\n",
       "    .dataframe tbody tr th:only-of-type {\n",
       "        vertical-align: middle;\n",
       "    }\n",
       "\n",
       "    .dataframe tbody tr th {\n",
       "        vertical-align: top;\n",
       "    }\n",
       "\n",
       "    .dataframe thead th {\n",
       "        text-align: right;\n",
       "    }\n",
       "</style>\n",
       "<table border=\"1\" class=\"dataframe\">\n",
       "  <thead>\n",
       "    <tr style=\"text-align: right;\">\n",
       "      <th></th>\n",
       "      <th>building_id</th>\n",
       "      <th>district_id</th>\n",
       "      <th>vdcmun_id</th>\n",
       "      <th>ward_id</th>\n",
       "      <th>count_floors_pre_eq</th>\n",
       "      <th>age_building</th>\n",
       "      <th>plinth_area_sq_ft</th>\n",
       "      <th>height_ft_pre_eq</th>\n",
       "      <th>land_surface_condition</th>\n",
       "      <th>foundation_type</th>\n",
       "      <th>...</th>\n",
       "      <th>has_secondary_use_hotel</th>\n",
       "      <th>has_secondary_use_rental</th>\n",
       "      <th>has_secondary_use_institution</th>\n",
       "      <th>has_secondary_use_school</th>\n",
       "      <th>has_secondary_use_industry</th>\n",
       "      <th>has_secondary_use_health_post</th>\n",
       "      <th>has_secondary_use_gov_office</th>\n",
       "      <th>has_secondary_use_use_police</th>\n",
       "      <th>has_secondary_use_other</th>\n",
       "      <th>legal_ownership_status_num</th>\n",
       "    </tr>\n",
       "  </thead>\n",
       "  <tbody>\n",
       "    <tr>\n",
       "      <th>762101</th>\n",
       "      <td>366709001241</td>\n",
       "      <td>36</td>\n",
       "      <td>3</td>\n",
       "      <td>2</td>\n",
       "      <td>2</td>\n",
       "      <td>60</td>\n",
       "      <td>165</td>\n",
       "      <td>18</td>\n",
       "      <td>Flat</td>\n",
       "      <td>Mud mortar-Stone/Brick</td>\n",
       "      <td>...</td>\n",
       "      <td>0</td>\n",
       "      <td>0</td>\n",
       "      <td>0</td>\n",
       "      <td>0</td>\n",
       "      <td>0</td>\n",
       "      <td>0</td>\n",
       "      <td>0</td>\n",
       "      <td>0</td>\n",
       "      <td>0</td>\n",
       "      <td>1</td>\n",
       "    </tr>\n",
       "    <tr>\n",
       "      <th>762102</th>\n",
       "      <td>366709001251</td>\n",
       "      <td>36</td>\n",
       "      <td>3</td>\n",
       "      <td>2</td>\n",
       "      <td>2</td>\n",
       "      <td>35</td>\n",
       "      <td>342</td>\n",
       "      <td>18</td>\n",
       "      <td>Flat</td>\n",
       "      <td>Mud mortar-Stone/Brick</td>\n",
       "      <td>...</td>\n",
       "      <td>0</td>\n",
       "      <td>0</td>\n",
       "      <td>0</td>\n",
       "      <td>0</td>\n",
       "      <td>0</td>\n",
       "      <td>0</td>\n",
       "      <td>0</td>\n",
       "      <td>0</td>\n",
       "      <td>0</td>\n",
       "      <td>1</td>\n",
       "    </tr>\n",
       "    <tr>\n",
       "      <th>762103</th>\n",
       "      <td>366709001261</td>\n",
       "      <td>36</td>\n",
       "      <td>3</td>\n",
       "      <td>2</td>\n",
       "      <td>2</td>\n",
       "      <td>35</td>\n",
       "      <td>342</td>\n",
       "      <td>18</td>\n",
       "      <td>Flat</td>\n",
       "      <td>Mud mortar-Stone/Brick</td>\n",
       "      <td>...</td>\n",
       "      <td>0</td>\n",
       "      <td>0</td>\n",
       "      <td>0</td>\n",
       "      <td>0</td>\n",
       "      <td>0</td>\n",
       "      <td>0</td>\n",
       "      <td>0</td>\n",
       "      <td>0</td>\n",
       "      <td>0</td>\n",
       "      <td>1</td>\n",
       "    </tr>\n",
       "    <tr>\n",
       "      <th>762104</th>\n",
       "      <td>366709001271</td>\n",
       "      <td>36</td>\n",
       "      <td>3</td>\n",
       "      <td>2</td>\n",
       "      <td>2</td>\n",
       "      <td>19</td>\n",
       "      <td>306</td>\n",
       "      <td>18</td>\n",
       "      <td>Flat</td>\n",
       "      <td>Mud mortar-Stone/Brick</td>\n",
       "      <td>...</td>\n",
       "      <td>0</td>\n",
       "      <td>0</td>\n",
       "      <td>0</td>\n",
       "      <td>0</td>\n",
       "      <td>0</td>\n",
       "      <td>0</td>\n",
       "      <td>0</td>\n",
       "      <td>0</td>\n",
       "      <td>0</td>\n",
       "      <td>1</td>\n",
       "    </tr>\n",
       "    <tr>\n",
       "      <th>762105</th>\n",
       "      <td>366709001281</td>\n",
       "      <td>36</td>\n",
       "      <td>3</td>\n",
       "      <td>2</td>\n",
       "      <td>2</td>\n",
       "      <td>12</td>\n",
       "      <td>840</td>\n",
       "      <td>18</td>\n",
       "      <td>Flat</td>\n",
       "      <td>Mud mortar-Stone/Brick</td>\n",
       "      <td>...</td>\n",
       "      <td>0</td>\n",
       "      <td>0</td>\n",
       "      <td>0</td>\n",
       "      <td>0</td>\n",
       "      <td>0</td>\n",
       "      <td>0</td>\n",
       "      <td>0</td>\n",
       "      <td>0</td>\n",
       "      <td>0</td>\n",
       "      <td>1</td>\n",
       "    </tr>\n",
       "  </tbody>\n",
       "</table>\n",
       "<p>5 rows × 54 columns</p>\n",
       "</div>"
      ],
      "text/plain": [
       "         building_id  district_id  vdcmun_id  ward_id  count_floors_pre_eq  \\\n",
       "762101  366709001241           36          3        2                    2   \n",
       "762102  366709001251           36          3        2                    2   \n",
       "762103  366709001261           36          3        2                    2   \n",
       "762104  366709001271           36          3        2                    2   \n",
       "762105  366709001281           36          3        2                    2   \n",
       "\n",
       "        age_building  plinth_area_sq_ft  height_ft_pre_eq  \\\n",
       "762101            60                165                18   \n",
       "762102            35                342                18   \n",
       "762103            35                342                18   \n",
       "762104            19                306                18   \n",
       "762105            12                840                18   \n",
       "\n",
       "       land_surface_condition         foundation_type  ...  \\\n",
       "762101                   Flat  Mud mortar-Stone/Brick  ...   \n",
       "762102                   Flat  Mud mortar-Stone/Brick  ...   \n",
       "762103                   Flat  Mud mortar-Stone/Brick  ...   \n",
       "762104                   Flat  Mud mortar-Stone/Brick  ...   \n",
       "762105                   Flat  Mud mortar-Stone/Brick  ...   \n",
       "\n",
       "       has_secondary_use_hotel has_secondary_use_rental  \\\n",
       "762101                       0                        0   \n",
       "762102                       0                        0   \n",
       "762103                       0                        0   \n",
       "762104                       0                        0   \n",
       "762105                       0                        0   \n",
       "\n",
       "       has_secondary_use_institution has_secondary_use_school  \\\n",
       "762101                             0                        0   \n",
       "762102                             0                        0   \n",
       "762103                             0                        0   \n",
       "762104                             0                        0   \n",
       "762105                             0                        0   \n",
       "\n",
       "        has_secondary_use_industry  has_secondary_use_health_post  \\\n",
       "762101                           0                              0   \n",
       "762102                           0                              0   \n",
       "762103                           0                              0   \n",
       "762104                           0                              0   \n",
       "762105                           0                              0   \n",
       "\n",
       "        has_secondary_use_gov_office  has_secondary_use_use_police  \\\n",
       "762101                             0                             0   \n",
       "762102                             0                             0   \n",
       "762103                             0                             0   \n",
       "762104                             0                             0   \n",
       "762105                             0                             0   \n",
       "\n",
       "        has_secondary_use_other  legal_ownership_status_num  \n",
       "762101                        0                           1  \n",
       "762102                        0                           1  \n",
       "762103                        0                           1  \n",
       "762104                        0                           1  \n",
       "762105                        0                           1  \n",
       "\n",
       "[5 rows x 54 columns]"
      ]
     },
     "execution_count": 4,
     "metadata": {},
     "output_type": "execute_result"
    }
   ],
   "source": [
    "building_df.tail()"
   ]
  },
  {
   "cell_type": "code",
   "execution_count": 5,
   "metadata": {},
   "outputs": [],
   "source": [
    "y = building_df['target']"
   ]
  },
  {
   "cell_type": "code",
   "execution_count": 6,
   "metadata": {},
   "outputs": [
    {
     "data": {
      "text/plain": [
       "Index(['building_id', 'district_id', 'vdcmun_id', 'ward_id',\n",
       "       'count_floors_pre_eq', 'age_building', 'plinth_area_sq_ft',\n",
       "       'height_ft_pre_eq', 'land_surface_condition', 'foundation_type',\n",
       "       'roof_type', 'ground_floor_type', 'other_floor_type', 'position',\n",
       "       'plan_configuration', 'has_superstructure_adobe_mud',\n",
       "       'has_superstructure_mud_mortar_stone', 'has_superstructure_stone_flag',\n",
       "       'has_superstructure_cement_mortar_stone',\n",
       "       'has_superstructure_mud_mortar_brick',\n",
       "       'has_superstructure_cement_mortar_brick', 'has_superstructure_timber',\n",
       "       'has_superstructure_bamboo', 'has_superstructure_rc_non_engineered',\n",
       "       'has_superstructure_rc_engineered', 'has_superstructure_other',\n",
       "       'land_surface_condition_num', 'foundation_type_num', 'roof_type_num',\n",
       "       'ground_floor_type_num', 'other_floor_type_num', 'position_num',\n",
       "       'target', 'has_geotechnical_risk',\n",
       "       'has_geotechnical_risk_land_settlement',\n",
       "       'has_geotechnical_risk_fault_crack',\n",
       "       'has_geotechnical_risk_liquefaction', 'has_geotechnical_risk_landslide',\n",
       "       'has_geotechnical_risk_rock_fall', 'has_geotechnical_risk_flood',\n",
       "       'has_geotechnical_risk_other', 'legal_ownership_status',\n",
       "       'has_secondary_use', 'has_secondary_use_agriculture',\n",
       "       'has_secondary_use_hotel', 'has_secondary_use_rental',\n",
       "       'has_secondary_use_institution', 'has_secondary_use_school',\n",
       "       'has_secondary_use_industry', 'has_secondary_use_health_post',\n",
       "       'has_secondary_use_gov_office', 'has_secondary_use_use_police',\n",
       "       'has_secondary_use_other', 'legal_ownership_status_num'],\n",
       "      dtype='object')"
      ]
     },
     "execution_count": 6,
     "metadata": {},
     "output_type": "execute_result"
    }
   ],
   "source": [
    "building_df.columns"
   ]
  },
  {
   "cell_type": "code",
   "execution_count": 7,
   "metadata": {},
   "outputs": [
    {
     "data": {
      "text/html": [
       "<div>\n",
       "<style scoped>\n",
       "    .dataframe tbody tr th:only-of-type {\n",
       "        vertical-align: middle;\n",
       "    }\n",
       "\n",
       "    .dataframe tbody tr th {\n",
       "        vertical-align: top;\n",
       "    }\n",
       "\n",
       "    .dataframe thead th {\n",
       "        text-align: right;\n",
       "    }\n",
       "</style>\n",
       "<table border=\"1\" class=\"dataframe\">\n",
       "  <thead>\n",
       "    <tr style=\"text-align: right;\">\n",
       "      <th></th>\n",
       "      <th>building_id</th>\n",
       "      <th>district_id</th>\n",
       "      <th>vdcmun_id</th>\n",
       "      <th>ward_id</th>\n",
       "      <th>count_floors_pre_eq</th>\n",
       "      <th>age_building</th>\n",
       "      <th>plinth_area_sq_ft</th>\n",
       "      <th>height_ft_pre_eq</th>\n",
       "      <th>plan_configuration</th>\n",
       "      <th>has_superstructure_adobe_mud</th>\n",
       "      <th>...</th>\n",
       "      <th>has_secondary_use_hotel</th>\n",
       "      <th>has_secondary_use_rental</th>\n",
       "      <th>has_secondary_use_institution</th>\n",
       "      <th>has_secondary_use_school</th>\n",
       "      <th>has_secondary_use_industry</th>\n",
       "      <th>has_secondary_use_health_post</th>\n",
       "      <th>has_secondary_use_gov_office</th>\n",
       "      <th>has_secondary_use_use_police</th>\n",
       "      <th>has_secondary_use_other</th>\n",
       "      <th>legal_ownership_status_num</th>\n",
       "    </tr>\n",
       "  </thead>\n",
       "  <tbody>\n",
       "    <tr>\n",
       "      <th>count</th>\n",
       "      <td>7.621060e+05</td>\n",
       "      <td>762106.000000</td>\n",
       "      <td>762106.000000</td>\n",
       "      <td>762106.000000</td>\n",
       "      <td>762106.000000</td>\n",
       "      <td>762106.000000</td>\n",
       "      <td>762106.000000</td>\n",
       "      <td>762106.000000</td>\n",
       "      <td>762106.000000</td>\n",
       "      <td>762106.000000</td>\n",
       "      <td>...</td>\n",
       "      <td>762106.000000</td>\n",
       "      <td>762106.000000</td>\n",
       "      <td>762106.000000</td>\n",
       "      <td>762106.000000</td>\n",
       "      <td>762106.000000</td>\n",
       "      <td>762106.000000</td>\n",
       "      <td>762106.000000</td>\n",
       "      <td>762106.000000</td>\n",
       "      <td>762106.000000</td>\n",
       "      <td>762106.000000</td>\n",
       "    </tr>\n",
       "    <tr>\n",
       "      <th>mean</th>\n",
       "      <td>2.607514e+11</td>\n",
       "      <td>25.767835</td>\n",
       "      <td>5.904812</td>\n",
       "      <td>5.441635</td>\n",
       "      <td>2.087783</td>\n",
       "      <td>20.612354</td>\n",
       "      <td>406.672576</td>\n",
       "      <td>16.049372</td>\n",
       "      <td>1.068446</td>\n",
       "      <td>0.042401</td>\n",
       "      <td>...</td>\n",
       "      <td>0.035090</td>\n",
       "      <td>0.008264</td>\n",
       "      <td>0.001161</td>\n",
       "      <td>0.000424</td>\n",
       "      <td>0.001164</td>\n",
       "      <td>0.000227</td>\n",
       "      <td>0.000186</td>\n",
       "      <td>0.000097</td>\n",
       "      <td>0.004490</td>\n",
       "      <td>1.060188</td>\n",
       "    </tr>\n",
       "    <tr>\n",
       "      <th>std</th>\n",
       "      <td>5.801855e+10</td>\n",
       "      <td>5.807555</td>\n",
       "      <td>3.444993</td>\n",
       "      <td>3.402095</td>\n",
       "      <td>0.655101</td>\n",
       "      <td>17.876126</td>\n",
       "      <td>226.779371</td>\n",
       "      <td>5.493878</td>\n",
       "      <td>0.407855</td>\n",
       "      <td>0.201502</td>\n",
       "      <td>...</td>\n",
       "      <td>0.184006</td>\n",
       "      <td>0.090530</td>\n",
       "      <td>0.034057</td>\n",
       "      <td>0.020583</td>\n",
       "      <td>0.034096</td>\n",
       "      <td>0.015065</td>\n",
       "      <td>0.013649</td>\n",
       "      <td>0.009853</td>\n",
       "      <td>0.066858</td>\n",
       "      <td>0.325488</td>\n",
       "    </tr>\n",
       "    <tr>\n",
       "      <th>min</th>\n",
       "      <td>1.201010e+11</td>\n",
       "      <td>12.000000</td>\n",
       "      <td>1.000000</td>\n",
       "      <td>1.000000</td>\n",
       "      <td>1.000000</td>\n",
       "      <td>0.000000</td>\n",
       "      <td>70.000000</td>\n",
       "      <td>6.000000</td>\n",
       "      <td>1.000000</td>\n",
       "      <td>0.000000</td>\n",
       "      <td>...</td>\n",
       "      <td>0.000000</td>\n",
       "      <td>0.000000</td>\n",
       "      <td>0.000000</td>\n",
       "      <td>0.000000</td>\n",
       "      <td>0.000000</td>\n",
       "      <td>0.000000</td>\n",
       "      <td>0.000000</td>\n",
       "      <td>0.000000</td>\n",
       "      <td>0.000000</td>\n",
       "      <td>1.000000</td>\n",
       "    </tr>\n",
       "    <tr>\n",
       "      <th>25%</th>\n",
       "      <td>2.219090e+11</td>\n",
       "      <td>22.000000</td>\n",
       "      <td>3.000000</td>\n",
       "      <td>3.000000</td>\n",
       "      <td>2.000000</td>\n",
       "      <td>9.000000</td>\n",
       "      <td>280.000000</td>\n",
       "      <td>12.000000</td>\n",
       "      <td>1.000000</td>\n",
       "      <td>0.000000</td>\n",
       "      <td>...</td>\n",
       "      <td>0.000000</td>\n",
       "      <td>0.000000</td>\n",
       "      <td>0.000000</td>\n",
       "      <td>0.000000</td>\n",
       "      <td>0.000000</td>\n",
       "      <td>0.000000</td>\n",
       "      <td>0.000000</td>\n",
       "      <td>0.000000</td>\n",
       "      <td>0.000000</td>\n",
       "      <td>1.000000</td>\n",
       "    </tr>\n",
       "    <tr>\n",
       "      <th>50%</th>\n",
       "      <td>2.463020e+11</td>\n",
       "      <td>24.000000</td>\n",
       "      <td>5.000000</td>\n",
       "      <td>5.000000</td>\n",
       "      <td>2.000000</td>\n",
       "      <td>16.000000</td>\n",
       "      <td>358.000000</td>\n",
       "      <td>16.000000</td>\n",
       "      <td>1.000000</td>\n",
       "      <td>0.000000</td>\n",
       "      <td>...</td>\n",
       "      <td>0.000000</td>\n",
       "      <td>0.000000</td>\n",
       "      <td>0.000000</td>\n",
       "      <td>0.000000</td>\n",
       "      <td>0.000000</td>\n",
       "      <td>0.000000</td>\n",
       "      <td>0.000000</td>\n",
       "      <td>0.000000</td>\n",
       "      <td>0.000000</td>\n",
       "      <td>1.000000</td>\n",
       "    </tr>\n",
       "    <tr>\n",
       "      <th>75%</th>\n",
       "      <td>3.036080e+11</td>\n",
       "      <td>30.000000</td>\n",
       "      <td>9.000000</td>\n",
       "      <td>7.000000</td>\n",
       "      <td>2.000000</td>\n",
       "      <td>27.000000</td>\n",
       "      <td>470.000000</td>\n",
       "      <td>18.000000</td>\n",
       "      <td>1.000000</td>\n",
       "      <td>0.000000</td>\n",
       "      <td>...</td>\n",
       "      <td>0.000000</td>\n",
       "      <td>0.000000</td>\n",
       "      <td>0.000000</td>\n",
       "      <td>0.000000</td>\n",
       "      <td>0.000000</td>\n",
       "      <td>0.000000</td>\n",
       "      <td>0.000000</td>\n",
       "      <td>0.000000</td>\n",
       "      <td>0.000000</td>\n",
       "      <td>1.000000</td>\n",
       "    </tr>\n",
       "    <tr>\n",
       "      <th>max</th>\n",
       "      <td>3.667090e+11</td>\n",
       "      <td>36.000000</td>\n",
       "      <td>13.000000</td>\n",
       "      <td>19.000000</td>\n",
       "      <td>9.000000</td>\n",
       "      <td>200.000000</td>\n",
       "      <td>5000.000000</td>\n",
       "      <td>99.000000</td>\n",
       "      <td>10.000000</td>\n",
       "      <td>1.000000</td>\n",
       "      <td>...</td>\n",
       "      <td>1.000000</td>\n",
       "      <td>1.000000</td>\n",
       "      <td>1.000000</td>\n",
       "      <td>1.000000</td>\n",
       "      <td>1.000000</td>\n",
       "      <td>1.000000</td>\n",
       "      <td>1.000000</td>\n",
       "      <td>1.000000</td>\n",
       "      <td>1.000000</td>\n",
       "      <td>4.000000</td>\n",
       "    </tr>\n",
       "  </tbody>\n",
       "</table>\n",
       "<p>8 rows × 47 columns</p>\n",
       "</div>"
      ],
      "text/plain": [
       "        building_id    district_id      vdcmun_id        ward_id  \\\n",
       "count  7.621060e+05  762106.000000  762106.000000  762106.000000   \n",
       "mean   2.607514e+11      25.767835       5.904812       5.441635   \n",
       "std    5.801855e+10       5.807555       3.444993       3.402095   \n",
       "min    1.201010e+11      12.000000       1.000000       1.000000   \n",
       "25%    2.219090e+11      22.000000       3.000000       3.000000   \n",
       "50%    2.463020e+11      24.000000       5.000000       5.000000   \n",
       "75%    3.036080e+11      30.000000       9.000000       7.000000   \n",
       "max    3.667090e+11      36.000000      13.000000      19.000000   \n",
       "\n",
       "       count_floors_pre_eq   age_building  plinth_area_sq_ft  \\\n",
       "count        762106.000000  762106.000000      762106.000000   \n",
       "mean              2.087783      20.612354         406.672576   \n",
       "std               0.655101      17.876126         226.779371   \n",
       "min               1.000000       0.000000          70.000000   \n",
       "25%               2.000000       9.000000         280.000000   \n",
       "50%               2.000000      16.000000         358.000000   \n",
       "75%               2.000000      27.000000         470.000000   \n",
       "max               9.000000     200.000000        5000.000000   \n",
       "\n",
       "       height_ft_pre_eq  plan_configuration  has_superstructure_adobe_mud  \\\n",
       "count     762106.000000       762106.000000                 762106.000000   \n",
       "mean          16.049372            1.068446                      0.042401   \n",
       "std            5.493878            0.407855                      0.201502   \n",
       "min            6.000000            1.000000                      0.000000   \n",
       "25%           12.000000            1.000000                      0.000000   \n",
       "50%           16.000000            1.000000                      0.000000   \n",
       "75%           18.000000            1.000000                      0.000000   \n",
       "max           99.000000           10.000000                      1.000000   \n",
       "\n",
       "       ...  has_secondary_use_hotel  has_secondary_use_rental  \\\n",
       "count  ...            762106.000000             762106.000000   \n",
       "mean   ...                 0.035090                  0.008264   \n",
       "std    ...                 0.184006                  0.090530   \n",
       "min    ...                 0.000000                  0.000000   \n",
       "25%    ...                 0.000000                  0.000000   \n",
       "50%    ...                 0.000000                  0.000000   \n",
       "75%    ...                 0.000000                  0.000000   \n",
       "max    ...                 1.000000                  1.000000   \n",
       "\n",
       "       has_secondary_use_institution  has_secondary_use_school  \\\n",
       "count                  762106.000000             762106.000000   \n",
       "mean                        0.001161                  0.000424   \n",
       "std                         0.034057                  0.020583   \n",
       "min                         0.000000                  0.000000   \n",
       "25%                         0.000000                  0.000000   \n",
       "50%                         0.000000                  0.000000   \n",
       "75%                         0.000000                  0.000000   \n",
       "max                         1.000000                  1.000000   \n",
       "\n",
       "       has_secondary_use_industry  has_secondary_use_health_post  \\\n",
       "count               762106.000000                  762106.000000   \n",
       "mean                     0.001164                       0.000227   \n",
       "std                      0.034096                       0.015065   \n",
       "min                      0.000000                       0.000000   \n",
       "25%                      0.000000                       0.000000   \n",
       "50%                      0.000000                       0.000000   \n",
       "75%                      0.000000                       0.000000   \n",
       "max                      1.000000                       1.000000   \n",
       "\n",
       "       has_secondary_use_gov_office  has_secondary_use_use_police  \\\n",
       "count                 762106.000000                 762106.000000   \n",
       "mean                       0.000186                      0.000097   \n",
       "std                        0.013649                      0.009853   \n",
       "min                        0.000000                      0.000000   \n",
       "25%                        0.000000                      0.000000   \n",
       "50%                        0.000000                      0.000000   \n",
       "75%                        0.000000                      0.000000   \n",
       "max                        1.000000                      1.000000   \n",
       "\n",
       "       has_secondary_use_other  legal_ownership_status_num  \n",
       "count            762106.000000               762106.000000  \n",
       "mean                  0.004490                    1.060188  \n",
       "std                   0.066858                    0.325488  \n",
       "min                   0.000000                    1.000000  \n",
       "25%                   0.000000                    1.000000  \n",
       "50%                   0.000000                    1.000000  \n",
       "75%                   0.000000                    1.000000  \n",
       "max                   1.000000                    4.000000  \n",
       "\n",
       "[8 rows x 47 columns]"
      ]
     },
     "execution_count": 7,
     "metadata": {},
     "output_type": "execute_result"
    }
   ],
   "source": [
    "building_df.describe()"
   ]
  },
  {
   "cell_type": "code",
   "execution_count": 8,
   "metadata": {},
   "outputs": [
    {
     "name": "stdout",
     "output_type": "stream",
     "text": [
      "2    61.42\n",
      "3    21.91\n",
      "1    15.60\n",
      "4     0.80\n",
      "5     0.21\n",
      "6     0.04\n",
      "7     0.01\n",
      "9     0.00\n",
      "8     0.00\n",
      "Name: count_floors_pre_eq, dtype: float64\n",
      "None\n"
     ]
    },
    {
     "data": {
      "image/png": "[encoded data removed]",
      "text/plain": [
       "<Figure size 648x360 with 2 Axes>"
      ]
     },
     "metadata": {
      "needs_background": "light"
     },
     "output_type": "display_data"
    }
   ],
   "source": [
    "print(eda.valuecounts('count_floors_pre_eq', building_df))\n",
    "eda.box_hist(building_df, 'count_floors_pre_eq')"
   ]
  },
  {
   "cell_type": "markdown",
   "metadata": {},
   "source": [
    "Majority of the buildings about 61%, are of 2 floors. 22% of the buildings in the dataset have 3 floors, while 15% are single floor structures. About 1% of all buildings in the dataset are 4 floors or taller. Shorter buildings tend to be stiffer than taller buildings and thus a prone to greater earthquake damage [source](https://www.exploratorium.edu/faultline/basics/index.html)"
   ]
  },
  {
   "cell_type": "code",
   "execution_count": 9,
   "metadata": {},
   "outputs": [
    {
     "name": "stdout",
     "output_type": "stream",
     "text": [
      "15     6.56\n",
      "20     6.10\n",
      "10     5.22\n",
      "25     4.86\n",
      "12     4.78\n",
      "       ... \n",
      "164    0.00\n",
      "162    0.00\n",
      "161    0.00\n",
      "148    0.00\n",
      "199    0.00\n",
      "Name: age_building, Length: 175, dtype: float64\n",
      "None\n"
     ]
    },
    {
     "data": {
      "image/png": "[encoded data removed]",
      "text/plain": [
       "<Figure size 648x360 with 2 Axes>"
      ]
     },
     "metadata": {
      "needs_background": "light"
     },
     "output_type": "display_data"
    }
   ],
   "source": [
    "print(eda.valuecounts('age_building', building_df))\n",
    "eda.box_hist(building_df, 'age_building');"
   ]
  },
  {
   "cell_type": "markdown",
   "metadata": {},
   "source": [
    "Majority of the buildings in the dataset are new to about 40 years old. Older buildings may not have the same steel and concrete reinforcements as newer buildings which will directly reflect on the degree of earthquake damage to the building."
   ]
  },
  {
   "cell_type": "code",
   "execution_count": 10,
   "metadata": {},
   "outputs": [
    {
     "name": "stdout",
     "output_type": "stream",
     "text": [
      "300     3.63\n",
      "450     2.80\n",
      "400     2.62\n",
      "350     2.51\n",
      "360     1.96\n",
      "        ... \n",
      "1684    0.00\n",
      "1683    0.00\n",
      "1171    0.00\n",
      "1359    0.00\n",
      "3275    0.00\n",
      "Name: plinth_area_sq_ft, Length: 2129, dtype: float64\n",
      "None\n"
     ]
    },
    {
     "data": {
      "image/png": "[encoded data removed]",
      "text/plain": [
       "<Figure size 648x360 with 2 Axes>"
      ]
     },
     "metadata": {
      "needs_background": "light"
     },
     "output_type": "display_data"
    }
   ],
   "source": [
    "print(eda.valuecounts('plinth_area_sq_ft', building_df))\n",
    "eda.box_hist(building_df,'plinth_area_sq_ft' )"
   ]
  },
  {
   "cell_type": "code",
   "execution_count": 11,
   "metadata": {},
   "outputs": [
    {
     "name": "stdout",
     "output_type": "stream",
     "text": [
      "18    13.39\n",
      "14    12.47\n",
      "12    10.73\n",
      "16     9.77\n",
      "15     7.88\n",
      "      ...  \n",
      "59     0.00\n",
      "81     0.00\n",
      "89     0.00\n",
      "97     0.00\n",
      "93     0.00\n",
      "Name: height_ft_pre_eq, Length: 79, dtype: float64\n",
      "None\n"
     ]
    },
    {
     "data": {
      "image/png": "[encoded data removed]",
      "text/plain": [
       "<Figure size 648x360 with 2 Axes>"
      ]
     },
     "metadata": {
      "needs_background": "light"
     },
     "output_type": "display_data"
    }
   ],
   "source": [
    "print(eda.valuecounts('height_ft_pre_eq', building_df))\n",
    "eda.box_hist(building_df,'height_ft_pre_eq' )"
   ]
  },
  {
   "cell_type": "code",
   "execution_count": 12,
   "metadata": {},
   "outputs": [
    {
     "name": "stdout",
     "output_type": "stream",
     "text": [
      "Flat              82.89\n",
      "Moderate slope    13.86\n",
      "Steep slope        3.25\n",
      "Name: land_surface_condition, dtype: float64\n",
      "None\n"
     ]
    },
    {
     "data": {
      "image/png": "[encoded data removed]",
      "text/plain": [
       "<Figure size 432x288 with 1 Axes>"
      ]
     },
     "metadata": {
      "needs_background": "light"
     },
     "output_type": "display_data"
    }
   ],
   "source": [
    "print(eda.valuecounts('land_surface_condition', building_df))\n",
    "building_df['land_surface_condition'].hist();"
   ]
  },
  {
   "cell_type": "markdown",
   "metadata": {},
   "source": [
    "About 83% of the buildings are founded on flat land, with 14% on some slope. 3% of the buildings stand on steep slope. Slope areas are more prone to geological hazards such as landslides which maybe exacerbated or initiated by earthquakes."
   ]
  },
  {
   "cell_type": "code",
   "execution_count": 13,
   "metadata": {},
   "outputs": [
    {
     "name": "stdout",
     "output_type": "stream",
     "text": [
      "Mud mortar-Stone/Brick    82.50\n",
      "Bamboo/Timber              7.54\n",
      "Cement-Stone/Brick         5.15\n",
      "RC                         4.21\n",
      "Other                      0.60\n",
      "Name: foundation_type, dtype: float64\n",
      "None\n"
     ]
    },
    {
     "data": {
      "image/png": "[encoded data removed]",
      "text/plain": [
       "<Figure size 432x288 with 1 Axes>"
      ]
     },
     "metadata": {
      "needs_background": "light"
     },
     "output_type": "display_data"
    }
   ],
   "source": [
    "print(eda.valuecounts('foundation_type', building_df))\n",
    "building_df['foundation_type'].hist();"
   ]
  },
  {
   "cell_type": "code",
   "execution_count": 14,
   "metadata": {},
   "outputs": [
    {
     "name": "stdout",
     "output_type": "stream",
     "text": [
      "Bamboo/Timber-Light roof    66.10\n",
      "Bamboo/Timber-Heavy roof    28.05\n",
      "RCC/RB/RBC                   5.85\n",
      "Name: roof_type, dtype: float64\n",
      "None\n"
     ]
    },
    {
     "data": {
      "image/png": "[encoded data removed]",
      "text/plain": [
       "<Figure size 432x288 with 1 Axes>"
      ]
     },
     "metadata": {
      "needs_background": "light"
     },
     "output_type": "display_data"
    }
   ],
   "source": [
    "print(eda.valuecounts('roof_type', building_df))\n",
    "building_df['roof_type'].hist();"
   ]
  },
  {
   "cell_type": "code",
   "execution_count": 15,
   "metadata": {},
   "outputs": [
    {
     "name": "stdout",
     "output_type": "stream",
     "text": [
      "Mud            81.12\n",
      "RC              9.60\n",
      "Brick/Stone     8.67\n",
      "Timber          0.47\n",
      "Other           0.14\n",
      "Name: ground_floor_type, dtype: float64\n",
      "None\n"
     ]
    },
    {
     "data": {
      "image/png": "[encoded data removed]",
      "text/plain": [
       "<Figure size 432x288 with 1 Axes>"
      ]
     },
     "metadata": {
      "needs_background": "light"
     },
     "output_type": "display_data"
    }
   ],
   "source": [
    "print(eda.valuecounts('ground_floor_type', building_df))\n",
    "building_df['ground_floor_type'].hist();"
   ]
  },
  {
   "cell_type": "code",
   "execution_count": 16,
   "metadata": {},
   "outputs": [
    {
     "name": "stdout",
     "output_type": "stream",
     "text": [
      "TImber/Bamboo-Mud    63.89\n",
      "Timber-Planck        16.22\n",
      "Not applicable       15.59\n",
      "RCC/RB/RBC            4.30\n",
      "Name: other_floor_type, dtype: float64\n",
      "None\n"
     ]
    },
    {
     "data": {
      "image/png": "[encoded data removed]",
      "text/plain": [
       "<Figure size 432x288 with 1 Axes>"
      ]
     },
     "metadata": {
      "needs_background": "light"
     },
     "output_type": "display_data"
    }
   ],
   "source": [
    "print(eda.valuecounts('other_floor_type', building_df))\n",
    "building_df['other_floor_type'].hist();"
   ]
  },
  {
   "cell_type": "code",
   "execution_count": 17,
   "metadata": {},
   "outputs": [
    {
     "name": "stdout",
     "output_type": "stream",
     "text": [
      "Not attached       79.31\n",
      "Attached-1 side    16.98\n",
      "Attached-2 side     3.53\n",
      "Attached-3 side     0.17\n",
      "Name: position, dtype: float64\n",
      "None\n"
     ]
    },
    {
     "data": {
      "image/png": "[encoded data removed]",
      "text/plain": [
       "<Figure size 432x288 with 1 Axes>"
      ]
     },
     "metadata": {
      "needs_background": "light"
     },
     "output_type": "display_data"
    }
   ],
   "source": [
    "print(eda.valuecounts('position', building_df))\n",
    "building_df['position'].hist();"
   ]
  },
  {
   "cell_type": "code",
   "execution_count": 18,
   "metadata": {},
   "outputs": [
    {
     "name": "stdout",
     "output_type": "stream",
     "text": [
      "1     95.95\n",
      "2      2.31\n",
      "3      1.32\n",
      "4      0.13\n",
      "5      0.12\n",
      "6      0.07\n",
      "7      0.06\n",
      "8      0.02\n",
      "9      0.01\n",
      "10     0.01\n",
      "Name: plan_configuration, dtype: float64\n",
      "None\n"
     ]
    }
   ],
   "source": [
    "print(eda.valuecounts('plan_configuration', building_df))"
   ]
  },
  {
   "cell_type": "code",
   "execution_count": 19,
   "metadata": {},
   "outputs": [
    {
     "name": "stdout",
     "output_type": "stream",
     "text": [
      "Private          95.97\n",
      "Public            2.52\n",
      "Institutional     1.03\n",
      "Other             0.48\n",
      "Name: legal_ownership_status, dtype: float64\n",
      "None\n"
     ]
    },
    {
     "data": {
      "image/png": "[encoded data removed]",
      "text/plain": [
       "<Figure size 432x288 with 1 Axes>"
      ]
     },
     "metadata": {
      "needs_background": "light"
     },
     "output_type": "display_data"
    }
   ],
   "source": [
    "print(eda.valuecounts('legal_ownership_status', building_df))\n",
    "building_df['legal_ownership_status'].hist();"
   ]
  },
  {
   "cell_type": "code",
   "execution_count": 20,
   "metadata": {},
   "outputs": [
    {
     "name": "stdout",
     "output_type": "stream",
     "text": [
      "24    12.86\n",
      "31    11.94\n",
      "30    11.69\n",
      "23    11.64\n",
      "36    10.24\n",
      "28    10.12\n",
      "20     9.02\n",
      "22     7.96\n",
      "21     7.69\n",
      "12     5.16\n",
      "29     1.66\n",
      "Name: district_id, dtype: float64\n",
      "None\n"
     ]
    },
    {
     "data": {
      "image/png": "[encoded data removed]",
      "text/plain": [
       "<Figure size 648x360 with 2 Axes>"
      ]
     },
     "metadata": {
      "needs_background": "light"
     },
     "output_type": "display_data"
    }
   ],
   "source": [
    "print(eda.valuecounts('district_id', building_df))\n",
    "eda.box_hist(building_df,'district_id')"
   ]
  },
  {
   "cell_type": "code",
   "execution_count": 21,
   "metadata": {},
   "outputs": [
    {
     "name": "stdout",
     "output_type": "stream",
     "text": [
      "4     12.91\n",
      "1     10.93\n",
      "2      9.81\n",
      "5      9.59\n",
      "8      8.42\n",
      "3      7.83\n",
      "9      7.80\n",
      "7      7.07\n",
      "6      6.98\n",
      "10     6.39\n",
      "11     6.04\n",
      "12     3.35\n",
      "13     2.88\n",
      "Name: vdcmun_id, dtype: float64\n",
      "None\n"
     ]
    },
    {
     "data": {
      "image/png": "[encoded data removed]",
      "text/plain": [
       "<Figure size 648x360 with 2 Axes>"
      ]
     },
     "metadata": {
      "needs_background": "light"
     },
     "output_type": "display_data"
    }
   ],
   "source": [
    "print(eda.valuecounts('vdcmun_id', building_df))\n",
    "eda.box_hist(building_df,'vdcmun_id')"
   ]
  },
  {
   "cell_type": "code",
   "execution_count": 22,
   "metadata": {},
   "outputs": [
    {
     "name": "stdout",
     "output_type": "stream",
     "text": [
      "5     11.89\n",
      "4     11.79\n",
      "2     11.17\n",
      "3     10.97\n",
      "1     10.93\n",
      "6     10.05\n",
      "7      8.89\n",
      "8      6.76\n",
      "9      5.42\n",
      "10     3.02\n",
      "11     2.94\n",
      "12     2.40\n",
      "13     1.65\n",
      "14     0.99\n",
      "19     0.26\n",
      "15     0.25\n",
      "18     0.24\n",
      "17     0.21\n",
      "16     0.18\n",
      "Name: ward_id, dtype: float64\n",
      "None\n"
     ]
    },
    {
     "data": {
      "image/png": "[encoded data removed]",
      "text/plain": [
       "<Figure size 648x360 with 2 Axes>"
      ]
     },
     "metadata": {
      "needs_background": "light"
     },
     "output_type": "display_data"
    }
   ],
   "source": [
    "print(eda.valuecounts('ward_id', building_df))\n",
    "eda.box_hist(building_df, 'ward_id')"
   ]
  },
  {
   "cell_type": "code",
   "execution_count": 23,
   "metadata": {},
   "outputs": [
    {
     "data": {
      "text/plain": [
       "building_id                               0.021112\n",
       "district_id                               0.018802\n",
       "vdcmun_id                                 0.057992\n",
       "ward_id                                  -0.131295\n",
       "count_floors_pre_eq                       0.192977\n",
       "age_building                              0.210754\n",
       "plinth_area_sq_ft                        -0.162838\n",
       "height_ft_pre_eq                          0.060551\n",
       "plan_configuration                       -0.079440\n",
       "has_superstructure_adobe_mud              0.013587\n",
       "has_superstructure_mud_mortar_stone       0.465902\n",
       "has_superstructure_stone_flag             0.054153\n",
       "has_superstructure_cement_mortar_stone   -0.063313\n",
       "has_superstructure_mud_mortar_brick      -0.023166\n",
       "has_superstructure_cement_mortar_brick   -0.348355\n",
       "has_superstructure_timber                -0.103832\n",
       "has_superstructure_bamboo                -0.104898\n",
       "has_superstructure_rc_non_engineered     -0.208432\n",
       "has_superstructure_rc_engineered         -0.199976\n",
       "has_superstructure_other                 -0.042182\n",
       "land_surface_condition_num                0.031044\n",
       "foundation_type_num                      -0.413984\n",
       "roof_type_num                            -0.225057\n",
       "ground_floor_type_num                    -0.172521\n",
       "other_floor_type_num                     -0.353279\n",
       "position_num                             -0.009086\n",
       "target                                    1.000000\n",
       "has_geotechnical_risk                     0.077305\n",
       "has_geotechnical_risk_land_settlement     0.053472\n",
       "has_geotechnical_risk_fault_crack         0.093293\n",
       "has_geotechnical_risk_liquefaction        0.002625\n",
       "has_geotechnical_risk_landslide           0.055056\n",
       "has_geotechnical_risk_rock_fall           0.050729\n",
       "has_geotechnical_risk_flood              -0.038055\n",
       "has_geotechnical_risk_other              -0.003128\n",
       "has_secondary_use                        -0.085339\n",
       "has_secondary_use_agriculture             0.034169\n",
       "has_secondary_use_hotel                  -0.126548\n",
       "has_secondary_use_rental                 -0.107371\n",
       "has_secondary_use_institution            -0.037668\n",
       "has_secondary_use_school                 -0.018065\n",
       "has_secondary_use_industry               -0.014153\n",
       "has_secondary_use_health_post            -0.010687\n",
       "has_secondary_use_gov_office             -0.010396\n",
       "has_secondary_use_use_police             -0.002679\n",
       "has_secondary_use_other                  -0.019909\n",
       "legal_ownership_status_num               -0.048233\n",
       "Name: target, dtype: float64"
      ]
     },
     "execution_count": 23,
     "metadata": {},
     "output_type": "execute_result"
    }
   ],
   "source": [
    "building_df.corr()['target']"
   ]
  },
  {
   "cell_type": "code",
   "execution_count": null,
   "metadata": {},
   "outputs": [],
   "source": []
  }
 ],
 "metadata": {
  "kernelspec": {
   "display_name": "learn-env",
   "language": "python",
   "name": "learn-env"
  },
  "language_info": {
   "codemirror_mode": {
    "name": "ipython",
    "version": 3
   },
   "file_extension": ".py",
   "mimetype": "text/x-python",
   "name": "python",
   "nbconvert_exporter": "python",
   "pygments_lexer": "ipython3",
   "version": "3.6.9"
  }
 },
 "nbformat": 4,
 "nbformat_minor": 4
}
