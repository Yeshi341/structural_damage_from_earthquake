{
 "cells": [
  {
   "cell_type": "markdown",
   "metadata": {},
   "source": [
    "# Predicting Structural Damage from an Earthquake\n",
    "**-Lhamu Tsering**"
   ]
  },
  {
   "cell_type": "code",
   "execution_count": 2,
   "metadata": {},
   "outputs": [
    {
     "name": "stdout",
     "output_type": "stream",
     "text": [
      "The autoreload extension is already loaded. To reload it, use:\n",
      "  %reload_ext autoreload\n"
     ]
    }
   ],
   "source": [
    "# Importing utility functions\n",
    "import pandas as pd\n",
    "import numpy as np\n",
    "import os\n",
    "import sys\n",
    "from sklearn.utils import resample\n",
    "\n",
    "# Importing visualization libraries\n",
    "import matplotlib.pyplot as plt\n",
    "%matplotlib inline\n",
    "# plt.style.use('ggplot')\n",
    "import seaborn as sns\n",
    "from sklearn.metrics import plot_confusion_matrix, classification_report\n",
    "\n",
    "#Ignore Warnings\n",
    "import warnings\n",
    "warnings.filterwarnings(\"ignore\")\n",
    "\n",
    "# Importing modeling tools\n",
    "from sklearn.preprocessing import MinMaxScaler\n",
    "from sklearn import metrics\n",
    "from sklearn.model_selection import train_test_split\n",
    "\n",
    "# Importing sklearn models\n",
    "from sklearn.linear_model import LogisticRegression\n",
    "from sklearn.model_selection import GridSearchCV\n",
    "from sklearn.tree import DecisionTreeClassifier\n",
    "\n",
    "\n",
    "%load_ext autoreload\n",
    "%autoreload 2\n",
    "\n",
    "module_path = os.path.abspath(os.path.join(os.pardir,'src'))\n",
    "if module_path not in sys.path:\n",
    "    sys.path.append(module_path)\n",
    "    \n",
    "from nb_modules import model as mod\n",
    "from nb_modules import eda \n",
    "from nb_modules import viz"
   ]
  },
  {
   "cell_type": "code",
   "execution_count": 42,
   "metadata": {},
   "outputs": [],
   "source": [
    "building_df = pd.read_pickle('../data/pickles/building_df.pkl')"
   ]
  },
  {
   "cell_type": "code",
   "execution_count": 43,
   "metadata": {},
   "outputs": [
    {
     "data": {
      "text/plain": [
       "(762106, 54)"
      ]
     },
     "execution_count": 43,
     "metadata": {},
     "output_type": "execute_result"
    }
   ],
   "source": [
    "building_df.shape"
   ]
  },
  {
   "cell_type": "code",
   "execution_count": null,
   "metadata": {},
   "outputs": [],
   "source": []
  },
  {
   "cell_type": "markdown",
   "metadata": {},
   "source": [
    "## Baseline Model\n",
    "As a base to compare all other following models. We first train test split and then fit a logistic regression multiclass classification model and save the scores to compare.\n",
    "\n",
    "### Train Test Split for baseline model"
   ]
  },
  {
   "cell_type": "code",
   "execution_count": 28,
   "metadata": {},
   "outputs": [
    {
     "name": "stdout",
     "output_type": "stream",
     "text": [
      "Training set - Features:  (609684, 43) Target:  (609684,)\n",
      "Test set - Features:  (152422, 43) Target:  (152422,)\n",
      "============================================ \n",
      "3    0.603185\n",
      "1    0.217613\n",
      "2    0.179203\n",
      "Name: target, dtype: float64\n",
      "3    0.602656\n",
      "1    0.219188\n",
      "2    0.178157\n",
      "Name: target, dtype: float64\n"
     ]
    }
   ],
   "source": [
    "X_droplist = ['target','legal_ownership_status', 'land_surface_condition', 'foundation_type',\n",
    "       'roof_type', 'ground_floor_type', 'other_floor_type', 'plan_configuration', 'position', \n",
    "              'has_geotechnical_risk', 'has_secondary_use']\n",
    "\n",
    "X = building_df.drop(columns=X_droplist)\n",
    "y = building_df['target']\n",
    "\n",
    "#performing train-test split on main dataframe\n",
    "X_train, X_test, y_train, y_test = train_test_split(X, y, random_state=100, test_size=0.2)\n",
    "\n",
    "#checking the shape of the training set and test set\n",
    "print(\"Training set - Features: \", X_train.shape, \"Target: \", y_train.shape,)\n",
    "print(\"Test set - Features: \", X_test.shape, \"Target: \",y_test.shape,)\n",
    "print('============================================ ')\n",
    "print(y_train.value_counts(normalize = True))\n",
    "print(y_test.value_counts(normalize = True))"
   ]
  },
  {
   "cell_type": "code",
   "execution_count": 29,
   "metadata": {},
   "outputs": [
    {
     "name": "stdout",
     "output_type": "stream",
     "text": [
      "Test F1 score:  0.594\n",
      "Train F1 score:  0.5929\n",
      "================================\n",
      "Test Recall score:  0.6732\n",
      "Train Recall score:  0.6722\n"
     ]
    }
   ],
   "source": [
    "lr1 = LogisticRegression(solver='lbfgs',multi_class='multinomial', random_state=100)\n",
    "\n",
    "lr1.fit(X_train, y_train)\n",
    "\n",
    "y_pred_test = lr1.predict(X_test)\n",
    "y_pred_train = lr1.predict(X_train)\n",
    "\n",
    "# checking f1 score\n",
    "print('Test F1 score: ', round(metrics.f1_score(y_test, y_pred_test, average='weighted'),4))\n",
    "print('Train F1 score: ', round(metrics.f1_score(y_train, y_pred_train, average='weighted'),4))\n",
    "print('================================')\n",
    "# checking recall score\n",
    "print('Test Recall score: ', round(metrics.recall_score(y_test, y_pred_test, average='weighted'),4))\n",
    "print('Train Recall score: ', round(metrics.recall_score(y_train, y_pred_train, average='weighted'),4))"
   ]
  },
  {
   "cell_type": "code",
   "execution_count": 49,
   "metadata": {},
   "outputs": [],
   "source": [
    "mod_eval= {}\n",
    "mod_eval['baseline_lr1']={'f1':0.594, 'recall': 0.6732}"
   ]
  },
  {
   "cell_type": "markdown",
   "metadata": {},
   "source": [
    "Based on the model evaluation metric, the test f1 score is 0.594 which is slightly higher than the train f1 score of 0.5929. The model is slightly underfitting. Similarly the train recall scores also give evidence of slight underfitting. \n",
    "\n",
    "The baseline model is predicting on a heavily class imbalanced data and may be predicting on the majority, with high numbers of false positive and/or false negatives. In the confusion matrix below we can see the predicted distribution. The only true positive predicted class is class label 3. The model completely fails to predict other classes."
   ]
  },
  {
   "cell_type": "code",
   "execution_count": 31,
   "metadata": {},
   "outputs": [
    {
     "data": {
      "image/png": "[encoded data removed]",
      "text/plain": [
       "<Figure size 432x288 with 2 Axes>"
      ]
     },
     "metadata": {},
     "output_type": "display_data"
    }
   ],
   "source": [
    "plot_confusion_matrix(lr1, X_train, y_train, normalize='true')\n",
    "plt.grid(False);"
   ]
  },
  {
   "cell_type": "markdown",
   "metadata": {},
   "source": [
    "## Feature Engineering"
   ]
  },
  {
   "cell_type": "markdown",
   "metadata": {},
   "source": [
    "We have a lot of nominal variables that may best be turned to dummies. The corresponding *'num'* features will be added to the drop list to be removed from the main dataset to be used in modeling"
   ]
  },
  {
   "cell_type": "code",
   "execution_count": 33,
   "metadata": {},
   "outputs": [],
   "source": [
    "dummy_1 = mod.dummify(building_df, 'ward_id')\n",
    "dummy_2 = mod.dummify(building_df, 'land_surface_condition')\n",
    "dummy_3 = mod.dummify(building_df, 'foundation_type')\n",
    "dummy_4 = mod.dummify(building_df, 'roof_type')\n",
    "dummy_5 = mod.dummify(building_df, 'ground_floor_type')\n",
    "dummy_6 = mod.dummify(building_df, 'other_floor_type')\n",
    "dummy_7 = mod.dummify(building_df, 'position')\n",
    "dummy_8 = mod.dummify(building_df, 'plan_configuration')\n",
    "dummy_9 = mod.dummify(building_df, 'legal_ownership_status')\n",
    "dummy_10 = mod.dummify(building_df, 'vdcmun_id')\n",
    "dummy_11 = mod. dummify(building_df, 'district_id')"
   ]
  },
  {
   "cell_type": "markdown",
   "metadata": {},
   "source": [
    "Next, we drop all the features that converted to dummies as the other features from EDA: `has_secondary_use` and `has_geotechnical_risk`."
   ]
  },
  {
   "cell_type": "code",
   "execution_count": 39,
   "metadata": {},
   "outputs": [
    {
     "data": {
      "text/plain": [
       "21"
      ]
     },
     "execution_count": 39,
     "metadata": {},
     "output_type": "execute_result"
    }
   ],
   "source": [
    "# defining the list of features to drop\n",
    "drop_list= ['ward_id', 'land_surface_condition', 'foundation_type',\n",
    "       'roof_type', 'ground_floor_type', 'other_floor_type', 'position',\n",
    "       'plan_configuration','legal_ownership_status', 'land_surface_condition_num', \n",
    "            'foundation_type_num', 'roof_type_num',\n",
    "       'ground_floor_type_num', 'other_floor_type_num', 'position_num', \n",
    "            'plan_configuration_num', 'legal_ownership_status_num', \n",
    "            'has_secondary_use', 'has_geotechnical_risk', 'district_id', 'vdcmun_id']\n",
    "len(drop_list)"
   ]
  },
  {
   "cell_type": "code",
   "execution_count": 44,
   "metadata": {},
   "outputs": [],
   "source": [
    "# dropping the drop_list features\n",
    "building_df.drop(columns= drop_list, axis=1, inplace=True)"
   ]
  },
  {
   "cell_type": "code",
   "execution_count": 45,
   "metadata": {},
   "outputs": [
    {
     "name": "stdout",
     "output_type": "stream",
     "text": [
      "(762106, 33)\n",
      "(762106, 18)\n",
      "(762106, 2)\n",
      "(762106, 4)\n",
      "(762106, 2)\n",
      "(762106, 4)\n",
      "(762106, 3)\n",
      "(762106, 3)\n",
      "(762106, 9)\n",
      "(762106, 3)\n",
      "(762106, 12)\n",
      "(762106, 10)\n"
     ]
    }
   ],
   "source": [
    "#defining the dataframes to be concatenated and confirming appropriate shape\n",
    "df_list= [building_df, dummy_1 , dummy_2 , dummy_3 , dummy_4 , \n",
    "          dummy_5 , dummy_6 , dummy_7 , dummy_8 , dummy_9, dummy_10, dummy_11]\n",
    "for df in df_list:\n",
    "    print(df.shape)"
   ]
  },
  {
   "cell_type": "code",
   "execution_count": 46,
   "metadata": {},
   "outputs": [
    {
     "name": "stdout",
     "output_type": "stream",
     "text": [
      "(762106, 102)\n",
      "(762106,)\n"
     ]
    }
   ],
   "source": [
    "# Concatenating all the dfs\n",
    "X = pd.concat(df_list, axis=1)\n",
    "\n",
    "# Defining the target variable\n",
    "y = X['target']\n",
    "\n",
    "# Defining the features or independent variables by removing the target\n",
    "X.drop(['target'], axis=1, inplace=True)\n",
    "\n",
    "#previewing shapes\n",
    "print(X.shape)\n",
    "print(y.shape)"
   ]
  },
  {
   "cell_type": "markdown",
   "metadata": {},
   "source": [
    "## Train Test Split\n",
    "As part of preprocessing for models, the data needs to be split into a train set and a test set. All models will be trained on the train set and tested on the test set to observe how well the model performs as well as to lookout for any overfitting or underfitting."
   ]
  },
  {
   "cell_type": "code",
   "execution_count": 47,
   "metadata": {},
   "outputs": [
    {
     "name": "stdout",
     "output_type": "stream",
     "text": [
      "Training set - Features:  (457263, 102) Target:  (457263,)\n",
      "Test set - Features:  (304843, 102) Target:  (304843,)\n",
      "============================================ \n",
      "3    0.603718\n",
      "1    0.217566\n",
      "2    0.178716\n",
      "Name: target, dtype: float64\n",
      "3    0.60212\n",
      "1    0.21847\n",
      "2    0.17941\n",
      "Name: target, dtype: float64\n"
     ]
    }
   ],
   "source": [
    "#performing train-test split on main dataframe\n",
    "X_train, X_test, y_train, y_test = train_test_split(X, y, random_state=100, test_size=0.4)\n",
    "\n",
    "#checking the shape of the training set and test set\n",
    "print(\"Training set - Features: \", X_train.shape, \"Target: \", y_train.shape,)\n",
    "print(\"Test set - Features: \", X_test.shape, \"Target: \",y_test.shape,)\n",
    "print('============================================ ')\n",
    "print(y_train.value_counts(normalize = True))\n",
    "print(y_test.value_counts(normalize = True))"
   ]
  },
  {
   "cell_type": "markdown",
   "metadata": {},
   "source": [
    "## Class Imbalance\n",
    "Going forward to tackle the class imbalance problem in the data, we will use a class weight dictionary to defince the class weight to be used in the models"
   ]
  },
  {
   "cell_type": "code",
   "execution_count": 51,
   "metadata": {},
   "outputs": [],
   "source": [
    "# title = 'Target variable distribution showing Class Imbalance'\n",
    "# figname = 'target_variable_class_imbalance'\n",
    "\n",
    "# viz.target_var(building_df, title, figname, xmax = 762106)"
   ]
  },
  {
   "cell_type": "markdown",
   "metadata": {},
   "source": [
    "There is some level of class imbalance. 60% of the buildings in the dataset have severe or Grade 3 damage, while about 22% are buildings of Grade 1 with minor damages and 18% of buildings are of Grade 2 or major damages.\n",
    "\n",
    "To deal with this we will use a composition of downsampling the majority class which is class 3 and upsampling the minority class which is class 2."
   ]
  },
  {
   "cell_type": "code",
   "execution_count": 52,
   "metadata": {},
   "outputs": [
    {
     "data": {
      "text/plain": [
       "3    276058\n",
       "1     99485\n",
       "2     81720\n",
       "Name: target, dtype: int64"
      ]
     },
     "execution_count": 52,
     "metadata": {},
     "output_type": "execute_result"
    }
   ],
   "source": [
    "#concatenate our training data back together\n",
    "training = pd.concat([X_train, y_train], axis=1)\n",
    "\n",
    "# Separating the classes\n",
    "grade1 = training[training['target']==1]\n",
    "grade2 = training[training['target']==2]\n",
    "grade3 = training[training['target']==3]\n",
    "training['target'].value_counts()"
   ]
  },
  {
   "cell_type": "code",
   "execution_count": 63,
   "metadata": {},
   "outputs": [
    {
     "data": {
      "text/plain": [
       "(109485, 103)"
      ]
     },
     "execution_count": 63,
     "metadata": {},
     "output_type": "execute_result"
    }
   ],
   "source": [
    "# Downsampling class 3 in reference to length of class 1\n",
    "downsampled_grade3 = resample(grade3,\n",
    "                      replace=False,\n",
    "                      n_samples = len(grade1)+10000,\n",
    "                      random_state = 100)\n",
    "\n",
    "downsampled_grade3.shape"
   ]
  },
  {
   "cell_type": "markdown",
   "metadata": {},
   "source": [
    "In order to not lose too much information in reducing the size of class label 3 of the target variable as well as to manage the class imbalance the n_smaples chosen here is the length of class label 1 with a padding of 30000. "
   ]
  },
  {
   "cell_type": "code",
   "execution_count": 64,
   "metadata": {},
   "outputs": [
    {
     "data": {
      "text/plain": [
       "(109485, 103)"
      ]
     },
     "execution_count": 64,
     "metadata": {},
     "output_type": "execute_result"
    }
   ],
   "source": [
    "upsample_grade2 = resample(grade2,\n",
    "                          replace= True,\n",
    "                          n_samples = len(grade1)+10000,\n",
    "                          random_state = 100)\n",
    "\n",
    "upsample_grade2.shape"
   ]
  },
  {
   "cell_type": "code",
   "execution_count": 65,
   "metadata": {},
   "outputs": [
    {
     "data": {
      "text/plain": [
       "3    0.343801\n",
       "2    0.343801\n",
       "1    0.312399\n",
       "Name: target, dtype: float64"
      ]
     },
     "execution_count": 65,
     "metadata": {},
     "output_type": "execute_result"
    }
   ],
   "source": [
    "resampled = pd.concat([downsampled_grade3, grade1, upsample_grade2])\n",
    "\n",
    "# viz.target_var_resample(resampled)\n",
    "resampled['target'].value_counts(normalize=True)"
   ]
  },
  {
   "cell_type": "markdown",
   "metadata": {},
   "source": [
    "The differences between the classes are much more stable than before."
   ]
  },
  {
   "cell_type": "code",
   "execution_count": 66,
   "metadata": {},
   "outputs": [
    {
     "data": {
      "text/plain": [
       "(318455, 102)"
      ]
     },
     "execution_count": 66,
     "metadata": {},
     "output_type": "execute_result"
    }
   ],
   "source": [
    "y_train_resampled = resampled['target']\n",
    "X_train_resampled = resampled.drop(columns = ['target'], axis= 1)\n",
    "X_train_resampled.shape"
   ]
  },
  {
   "cell_type": "markdown",
   "metadata": {},
   "source": [
    "The final `X_train_resampled` has 83 features and 328455 observations for training models to."
   ]
  },
  {
   "cell_type": "markdown",
   "metadata": {},
   "source": [
    "## Standardizing the train and test sets\n",
    "Here I used the minmax scaler to standardize the datasets."
   ]
  },
  {
   "cell_type": "code",
   "execution_count": 67,
   "metadata": {},
   "outputs": [],
   "source": [
    "columns = X_train_resampled.columns\n",
    "\n",
    "scaler = MinMaxScaler()  \n",
    "scaler.fit(X_train_resampled)\n",
    "\n",
    "X_train_scaled_values = scaler.transform(X_train_resampled.values)  \n",
    "X_test_scaled_values = scaler.transform(X_test.values)\n",
    "\n",
    "X_train_scaled = X_train_resampled.copy()\n",
    "X_test_scaled = X_test.copy()\n",
    "\n",
    "X_train_scaled[columns]= X_train_scaled_values\n",
    "X_test_scaled[columns] = X_test_scaled_values"
   ]
  },
  {
   "cell_type": "markdown",
   "metadata": {},
   "source": [
    "## Model Iterations\n",
    "To evaluate the various models, I will rely on the model recall score. The model recall score measures how well the model predicts actual positives, in the hopes of minimizing any False Negatives over False Positives. In reference to the business case, if a building is predicted to not face severe damage when it actually could become severely damaged then such a building may not get the needed reinforcement solutions that it needs to be made safe.\n",
    "\n",
    "### Logistic Regression Model"
   ]
  },
  {
   "cell_type": "code",
   "execution_count": 68,
   "metadata": {},
   "outputs": [],
   "source": [
    "scoring = {'recall': mod.scorer_recall()}"
   ]
  },
  {
   "cell_type": "code",
   "execution_count": 40,
   "metadata": {},
   "outputs": [],
   "source": [
    "# Staging the Logistic Regression model object\n",
    "lr = LogisticRegression(random_state=100, multi_class='multinomial', solver= 'saga' )\n",
    "\n",
    "#Defining the parameters to use in the gridsearch\n",
    "params = {'C':[0.1, 1, 5, 10], 'max_iter': [1000, 10000]}\n",
    "\n",
    "#Staging the gridsearch \n",
    "gs_lr = GridSearchCV(lr, param_grid=params, scoring=scoring, cv=3, verbose=2, refit='recall', n_jobs=-1)"
   ]
  },
  {
   "cell_type": "code",
   "execution_count": 41,
   "metadata": {},
   "outputs": [
    {
     "name": "stdout",
     "output_type": "stream",
     "text": [
      "Fitting 3 folds for each of 8 candidates, totalling 24 fits\n"
     ]
    },
    {
     "name": "stderr",
     "output_type": "stream",
     "text": [
      "[Parallel(n_jobs=-1)]: Using backend LokyBackend with 4 concurrent workers.\n",
      "[Parallel(n_jobs=-1)]: Done  24 out of  24 | elapsed:  5.6min finished\n"
     ]
    },
    {
     "data": {
      "text/plain": [
       "GridSearchCV(cv=3,\n",
       "             estimator=LogisticRegression(multi_class='multinomial',\n",
       "                                          random_state=100, solver='saga'),\n",
       "             n_jobs=-1,\n",
       "             param_grid={'C': [0.1, 1, 5, 10], 'max_iter': [1000, 10000]},\n",
       "             refit='recall',\n",
       "             scoring={'recall': make_scorer(recall_score_class)}, verbose=2)"
      ]
     },
     "execution_count": 41,
     "metadata": {},
     "output_type": "execute_result"
    }
   ],
   "source": [
    "# fitting the grid search to the train sets\n",
    "gs_lr.fit(X_train_scaled, y_train_resampled)"
   ]
  },
  {
   "cell_type": "code",
   "execution_count": 42,
   "metadata": {},
   "outputs": [
    {
     "data": {
      "text/plain": [
       "{'C': 0.1, 'max_iter': 1000}"
      ]
     },
     "execution_count": 42,
     "metadata": {},
     "output_type": "execute_result"
    }
   ],
   "source": [
    "gs_lr.best_params_"
   ]
  },
  {
   "cell_type": "code",
   "execution_count": 69,
   "metadata": {},
   "outputs": [
    {
     "name": "stderr",
     "output_type": "stream",
     "text": [
      "[Parallel(n_jobs=-1)]: Using backend ThreadingBackend with 4 concurrent workers.\n"
     ]
    },
    {
     "name": "stdout",
     "output_type": "stream",
     "text": [
      "convergence after 45 epochs took 30 seconds\n"
     ]
    },
    {
     "name": "stderr",
     "output_type": "stream",
     "text": [
      "[Parallel(n_jobs=-1)]: Done   1 out of   1 | elapsed:   29.6s finished\n"
     ]
    },
    {
     "name": "stdout",
     "output_type": "stream",
     "text": [
      "Test Accuracy score:  0.6249\n",
      "Train Accuracy score:  0.6043\n",
      "================================\n",
      "Test F1 score:  0.6509\n",
      "Train F1 score:  0.6049\n",
      "================================\n",
      "Test Recall score:  0.6249\n",
      "Train Recall score:  0.6043\n"
     ]
    }
   ],
   "source": [
    "lr2 = LogisticRegression(solver='saga',multi_class='multinomial', \n",
    "                                random_state=100, max_iter=1000, C=1,\n",
    "                                verbose=2, n_jobs=-1)\n",
    "\n",
    "lr2.fit(X_train_scaled, y_train_resampled) \n",
    "\n",
    "# class predictions (not predicted probabilities)\n",
    "y_pred_test = lr2.predict(X_test_scaled)\n",
    "y_pred_train = lr2.predict(X_train_scaled)\n",
    "\n",
    "# checking f1 score\n",
    "print('Test F1 score: ', round(metrics.f1_score(y_test, y_pred_test, average='weighted'),4))\n",
    "print('Train F1 score: ', round(metrics.f1_score(y_train_resampled, y_pred_train, average='weighted'),4))\n",
    "print('================================')\n",
    "# checking recall score\n",
    "print('Test Recall score: ', round(metrics.recall_score(y_test, y_pred_test, average='weighted'),4))\n",
    "print('Train Recall score: ', round(metrics.recall_score(y_train_resampled, y_pred_train, average='weighted'),4))"
   ]
  },
  {
   "cell_type": "code",
   "execution_count": 70,
   "metadata": {},
   "outputs": [],
   "source": [
    "mod_eval['lr2']={'f1':0.6509, 'recall': 0.6249}"
   ]
  },
  {
   "cell_type": "markdown",
   "metadata": {},
   "source": [
    "This model did better than the baseline logistic regression model. All the scores for the test set are better numbers. There is significant improvement in the F1 score for data after correcting the class imbalance and standardizing. \n",
    "\n",
    "There is however, signs of underfitting. The scores for the train set did worse than for the test set. This could mean that the model is unable to capture all the information in the features to make predictions about the target variables. To remedy this, I may have to increase the number of features and/or try more complex models."
   ]
  },
  {
   "cell_type": "code",
   "execution_count": 71,
   "metadata": {},
   "outputs": [
    {
     "data": {
      "image/png": "[encoded data removed]",
      "text/plain": [
       "<Figure size 432x288 with 2 Axes>"
      ]
     },
     "metadata": {},
     "output_type": "display_data"
    }
   ],
   "source": [
    "plot_confusion_matrix(lr2, X_train_scaled, y_train_resampled, normalize='true')\n",
    "plt.grid(False);"
   ]
  },
  {
   "cell_type": "markdown",
   "metadata": {},
   "source": [
    "The confusion matrix plot for the lr1 model shows that the model was very good at predicting class 3, performed about average in predicting class 1 and did very poorly in predicting class 2."
   ]
  },
  {
   "cell_type": "markdown",
   "metadata": {},
   "source": [
    "### Decision Tree Classifier"
   ]
  },
  {
   "cell_type": "code",
   "execution_count": 72,
   "metadata": {},
   "outputs": [],
   "source": [
    "dtc4 = DecisionTreeClassifier(random_state=100, max_depth= 15)"
   ]
  },
  {
   "cell_type": "code",
   "execution_count": 73,
   "metadata": {},
   "outputs": [
    {
     "name": "stdout",
     "output_type": "stream",
     "text": [
      "Test F1 score:  0.6612\n",
      "Train F1 score:  0.6822\n",
      "================================\n",
      "Test Recall score:  0.6346\n",
      "Train Recall score:  0.6802\n"
     ]
    }
   ],
   "source": [
    "dtc4.fit(X_train_scaled, y_train_resampled)\n",
    "\n",
    "y_pred_test= dtc4.predict(X_test_scaled)\n",
    "y_pred_train = dtc4.predict(X_train_scaled)\n",
    "\n",
    "# checking f1 score\n",
    "print('Test F1 score: ', round(metrics.f1_score(y_test, y_pred_test, average='weighted'),4))\n",
    "print('Train F1 score: ', round(metrics.f1_score(y_train_resampled, y_pred_train, average='weighted'),4))\n",
    "print('================================')\n",
    "# checking recall score\n",
    "print('Test Recall score: ', round(metrics.recall_score(y_test, y_pred_test, average='weighted'),4))\n",
    "print('Train Recall score: ', round(metrics.recall_score(y_train_resampled, y_pred_train, average='weighted'),4))"
   ]
  },
  {
   "cell_type": "code",
   "execution_count": 48,
   "metadata": {},
   "outputs": [
    {
     "data": {
      "text/plain": [
       "{'baseline_lr1': {'accuracy': 0.6027, 'f1': 0.4532, 'recall': 0.6032},\n",
       " 'lr2': {'accuracy': 0.6674, 'f1': 0.6493, 'recall': 0.6674},\n",
       " 'dtc4': {'accuracy': 0.7001, 'f1': 0.714, 'recall': 0.7001}}"
      ]
     },
     "execution_count": 48,
     "metadata": {},
     "output_type": "execute_result"
    }
   ],
   "source": [
    "mod_eval['dtc4']={'accuracy': .7001, 'f1':0.714, 'recall': 0.7001}\n",
    "mod_eval"
   ]
  },
  {
   "cell_type": "markdown",
   "metadata": {},
   "source": [
    "The decision tree classifier model performed better than the logistic regression models. The F1 and Recall scores between the train set and the test set are more stable and higher. There are no signs of bias in the model."
   ]
  },
  {
   "cell_type": "code",
   "execution_count": 49,
   "metadata": {},
   "outputs": [
    {
     "data": {
      "image/png": "[encoded data removed]",
      "text/plain": [
       "<Figure size 432x288 with 2 Axes>"
      ]
     },
     "metadata": {
      "needs_background": "light"
     },
     "output_type": "display_data"
    }
   ],
   "source": [
    "plot_confusion_matrix(dtc4, X_train_scaled, y_train_resampled, normalize='true')\n",
    "plt.savefig('./images/confusion_matrix_final.png');"
   ]
  },
  {
   "cell_type": "markdown",
   "metadata": {},
   "source": [
    "From the confusion matrix too, we see that the model did a better job at predictions overall than the logistic regression model."
   ]
  },
  {
   "cell_type": "code",
   "execution_count": 50,
   "metadata": {
    "scrolled": false
   },
   "outputs": [
    {
     "data": {
      "image/png": "[encoded data removed]",
      "text/plain": [
       "<Figure size 720x504 with 1 Axes>"
      ]
     },
     "metadata": {
      "needs_background": "light"
     },
     "output_type": "display_data"
    }
   ],
   "source": [
    "feat_imp = pd.DataFrame({'importance':dtc4.feature_importances_})    \n",
    "feat_imp['feature'] = X_train_resampled.columns\n",
    "feat_imp.sort_values(by='importance', ascending=False, inplace=True)\n",
    "feat_imp = feat_imp.iloc[0:15]\n",
    "    \n",
    "feat_imp.sort_values(by='importance', inplace=True)\n",
    "feat_imp = feat_imp.set_index('feature', drop=True)\n",
    "feat_imp.plot.barh(title = 'Top 15 Important Features', figsize=(10,7))\n",
    "plt.savefig('./images/Decision_tree_important_features.png', bbox_inches = \"tight\")"
   ]
  },
  {
   "cell_type": "markdown",
   "metadata": {},
   "source": [
    "Looking at which features the decision tree favored, it is interesting to find that the model favored a lot of the location feature `ward_id` and `vdvmun_id`. Whether a building superstructure had mud/mortar/stone also chosen as an important feature. `ground_floor_type_RC`,  `foundation_type_Mud mortar-Stone/Brick` and `roof_type_Bamboo/Timber-Light roof` also fall in the top 15 important features for the model as expected."
   ]
  },
  {
   "cell_type": "markdown",
   "metadata": {},
   "source": [
    "## Next Steps"
   ]
  },
  {
   "cell_type": "markdown",
   "metadata": {},
   "source": [
    "Going forward I would like to try out some more complex models such as SVM, Random Forrest and other Ensemble methods. \n",
    "Although the location of the building is important, I want to see how the models behave if the building locations were removed."
   ]
  },
  {
   "cell_type": "code",
   "execution_count": null,
   "metadata": {},
   "outputs": [],
   "source": []
  }
 ],
 "metadata": {
  "kernelspec": {
   "display_name": "learn-env",
   "language": "python",
   "name": "learn-env"
  },
  "language_info": {
   "codemirror_mode": {
    "name": "ipython",
    "version": 3
   },
   "file_extension": ".py",
   "mimetype": "text/x-python",
   "name": "python",
   "nbconvert_exporter": "python",
   "pygments_lexer": "ipython3",
   "version": "3.6.9"
  }
 },
 "nbformat": 4,
 "nbformat_minor": 4
}
