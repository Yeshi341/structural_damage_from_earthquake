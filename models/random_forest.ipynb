{
 "cells": [
  {
   "cell_type": "code",
   "execution_count": 42,
   "metadata": {},
   "outputs": [],
   "source": [
    "# Importing utility functions\n",
    "import pandas as pd\n",
    "import numpy as np\n",
    "import os\n",
    "import sys\n",
    "\n",
    "# Importing visualization libraries\n",
    "import matplotlib.pyplot as plt\n",
    "%matplotlib inline\n",
    "plt.style.use('ggplot')\n",
    "import seaborn as sns\n",
    "from sklearn.metrics import plot_confusion_matrix, classification_report\n",
    "\n",
    "#Ignore Warnings\n",
    "import warnings\n",
    "warnings.filterwarnings(\"ignore\")\n",
    "\n",
    "# Importing modeling tools\n",
    "from sklearn import metrics\n",
    "\n",
    "# Importing sklearn models\n",
    "from sklearn.linear_model import LogisticRegression\n",
    "from sklearn.model_selection import GridSearchCV\n",
    "from sklearn.tree import DecisionTreeClassifier\n",
    "from sklearn.ensemble import RandomForestClassifier\n",
    "\n",
    "# %load_ext autoreload\n",
    "# %autoreload 2\n",
    "\n",
    "module_path = os.path.abspath(os.path.join(os.pardir,'src'))\n",
    "if module_path not in sys.path:\n",
    "    sys.path.append(module_path)\n",
    "    \n",
    "from nb_modules import model as mod"
   ]
  },
  {
   "cell_type": "code",
   "execution_count": 2,
   "metadata": {},
   "outputs": [],
   "source": [
    "X_train = pd.read_pickle('../data/pickles/X_train_scaled.pkl')\n",
    "X_test = pd.read_pickle('../data/pickles/X_test_scaled.pkl')\n",
    "y_train = pd.read_pickle('../data/pickles/y_train_resampled.pkl')\n",
    "y_test = pd.read_pickle('../data/pickles/y_test.pkl')"
   ]
  },
  {
   "cell_type": "code",
   "execution_count": 11,
   "metadata": {},
   "outputs": [],
   "source": [
    "rfc = RandomForestClassifier(random_state = 100, n_estimators=1000, max_depth=10, verbose=1, n_jobs=-1)"
   ]
  },
  {
   "cell_type": "code",
   "execution_count": 12,
   "metadata": {},
   "outputs": [
    {
     "name": "stderr",
     "output_type": "stream",
     "text": [
      "[Parallel(n_jobs=-1)]: Using backend ThreadingBackend with 4 concurrent workers.\n",
      "[Parallel(n_jobs=-1)]: Done  42 tasks      | elapsed:    4.8s\n",
      "[Parallel(n_jobs=-1)]: Done 192 tasks      | elapsed:   22.2s\n",
      "[Parallel(n_jobs=-1)]: Done 442 tasks      | elapsed:   51.7s\n",
      "[Parallel(n_jobs=-1)]: Done 792 tasks      | elapsed:  1.6min\n",
      "[Parallel(n_jobs=-1)]: Done 1000 out of 1000 | elapsed:  2.1min finished\n"
     ]
    },
    {
     "data": {
      "text/plain": [
       "RandomForestClassifier(max_depth=10, n_estimators=1000, n_jobs=-1,\n",
       "                       random_state=100, verbose=1)"
      ]
     },
     "execution_count": 12,
     "metadata": {},
     "output_type": "execute_result"
    }
   ],
   "source": [
    "rfc.fit(X_train, y_train)"
   ]
  },
  {
   "cell_type": "code",
   "execution_count": 13,
   "metadata": {},
   "outputs": [
    {
     "name": "stderr",
     "output_type": "stream",
     "text": [
      "[Parallel(n_jobs=4)]: Using backend ThreadingBackend with 4 concurrent workers.\n",
      "[Parallel(n_jobs=4)]: Done  42 tasks      | elapsed:    0.4s\n",
      "[Parallel(n_jobs=4)]: Done 192 tasks      | elapsed:    2.1s\n",
      "[Parallel(n_jobs=4)]: Done 442 tasks      | elapsed:    4.8s\n",
      "[Parallel(n_jobs=4)]: Done 792 tasks      | elapsed:    8.6s\n",
      "[Parallel(n_jobs=4)]: Done 1000 out of 1000 | elapsed:   10.9s finished\n",
      "[Parallel(n_jobs=4)]: Using backend ThreadingBackend with 4 concurrent workers.\n",
      "[Parallel(n_jobs=4)]: Done  42 tasks      | elapsed:    0.5s\n",
      "[Parallel(n_jobs=4)]: Done 192 tasks      | elapsed:    2.4s\n",
      "[Parallel(n_jobs=4)]: Done 442 tasks      | elapsed:    5.6s\n",
      "[Parallel(n_jobs=4)]: Done 792 tasks      | elapsed:   10.4s\n",
      "[Parallel(n_jobs=4)]: Done 1000 out of 1000 | elapsed:   13.1s finished\n"
     ]
    },
    {
     "name": "stdout",
     "output_type": "stream",
     "text": [
      "Test F1 score:  0.6792\n",
      "Train F1 score:  0.5714\n",
      "================================\n",
      "Test Recall score:  0.7017\n",
      "Train Recall score:  0.6042\n"
     ]
    }
   ],
   "source": [
    "#use the fitted model to predict on the test data\n",
    "y_pred_test= rfc.predict(X_test)\n",
    "y_pred_train = rfc.predict(X_train)\n",
    "\n",
    "# checking f1 score\n",
    "print('Test F1 score: ', round(metrics.f1_score(y_test, y_pred_test, average='weighted'),4))\n",
    "print('Train F1 score: ', round(metrics.f1_score(y_train, y_pred_train, average='weighted'),4))\n",
    "print('================================')\n",
    "# checking recall score\n",
    "print('Test Recall score: ', round(metrics.recall_score(y_test, y_pred_test, average='weighted'),4))\n",
    "print('Train Recall score: ', round(metrics.recall_score(y_train, y_pred_train, average='weighted'),4))"
   ]
  },
  {
   "cell_type": "code",
   "execution_count": 14,
   "metadata": {},
   "outputs": [
    {
     "data": {
      "text/plain": [
       "{'rfc': {'f1': 0.6792, 'recall': 0.7017}}"
      ]
     },
     "execution_count": 14,
     "metadata": {},
     "output_type": "execute_result"
    }
   ],
   "source": [
    "mod_eval= {}\n",
    "mod_eval['rfc0']={'f1':round(metrics.f1_score(y_test, y_pred_test, average='weighted'),4),\n",
    "                  'recall': round(metrics.recall_score(y_test, y_pred_test, average='weighted'),4)}\n",
    "mod_eval"
   ]
  },
  {
   "cell_type": "code",
   "execution_count": 15,
   "metadata": {},
   "outputs": [],
   "source": [
    "rfc1 = RandomForestClassifier(random_state = 100, n_estimators=1000, max_depth=20, verbose=1, n_jobs=-1)"
   ]
  },
  {
   "cell_type": "code",
   "execution_count": 16,
   "metadata": {},
   "outputs": [
    {
     "name": "stderr",
     "output_type": "stream",
     "text": [
      "[Parallel(n_jobs=-1)]: Using backend ThreadingBackend with 4 concurrent workers.\n",
      "[Parallel(n_jobs=-1)]: Done  42 tasks      | elapsed:   10.0s\n",
      "[Parallel(n_jobs=-1)]: Done 192 tasks      | elapsed:   42.7s\n",
      "[Parallel(n_jobs=-1)]: Done 442 tasks      | elapsed:  1.7min\n",
      "[Parallel(n_jobs=-1)]: Done 792 tasks      | elapsed:  3.2min\n",
      "[Parallel(n_jobs=-1)]: Done 1000 out of 1000 | elapsed:  4.1min finished\n"
     ]
    },
    {
     "data": {
      "text/plain": [
       "RandomForestClassifier(max_depth=20, n_estimators=1000, n_jobs=-1,\n",
       "                       random_state=100, verbose=1)"
      ]
     },
     "execution_count": 16,
     "metadata": {},
     "output_type": "execute_result"
    }
   ],
   "source": [
    "rfc1.fit(X_train, y_train)"
   ]
  },
  {
   "cell_type": "code",
   "execution_count": 17,
   "metadata": {},
   "outputs": [
    {
     "name": "stderr",
     "output_type": "stream",
     "text": [
      "[Parallel(n_jobs=4)]: Using backend ThreadingBackend with 4 concurrent workers.\n",
      "[Parallel(n_jobs=4)]: Done  42 tasks      | elapsed:    1.0s\n",
      "[Parallel(n_jobs=4)]: Done 192 tasks      | elapsed:    4.4s\n",
      "[Parallel(n_jobs=4)]: Done 442 tasks      | elapsed:   10.3s\n",
      "[Parallel(n_jobs=4)]: Done 792 tasks      | elapsed:   19.8s\n",
      "[Parallel(n_jobs=4)]: Done 1000 out of 1000 | elapsed:   25.9s finished\n",
      "[Parallel(n_jobs=4)]: Using backend ThreadingBackend with 4 concurrent workers.\n",
      "[Parallel(n_jobs=4)]: Done  42 tasks      | elapsed:    1.1s\n",
      "[Parallel(n_jobs=4)]: Done 192 tasks      | elapsed:    5.3s\n",
      "[Parallel(n_jobs=4)]: Done 442 tasks      | elapsed:   12.4s\n",
      "[Parallel(n_jobs=4)]: Done 792 tasks      | elapsed:   22.2s\n",
      "[Parallel(n_jobs=4)]: Done 1000 out of 1000 | elapsed:   28.1s finished\n"
     ]
    },
    {
     "name": "stdout",
     "output_type": "stream",
     "text": [
      "Test F1 score:  0.7262\n",
      "Train F1 score:  0.7603\n",
      "================================\n",
      "Test Recall score:  0.7239\n",
      "Train Recall score:  0.7628\n"
     ]
    }
   ],
   "source": [
    "#use the fitted model to predict on the test data\n",
    "y_pred_test= rfc1.predict(X_test)\n",
    "y_pred_train = rfc1.predict(X_train)\n",
    "\n",
    "# checking f1 score\n",
    "print('Test F1 score: ', round(metrics.f1_score(y_test, y_pred_test, average='weighted'),4))\n",
    "print('Train F1 score: ', round(metrics.f1_score(y_train, y_pred_train, average='weighted'),4))\n",
    "print('================================')\n",
    "# checking recall score\n",
    "print('Test Recall score: ', round(metrics.recall_score(y_test, y_pred_test, average='weighted'),4))\n",
    "print('Train Recall score: ', round(metrics.recall_score(y_train, y_pred_train, average='weighted'),4))"
   ]
  },
  {
   "cell_type": "code",
   "execution_count": 18,
   "metadata": {},
   "outputs": [
    {
     "data": {
      "text/plain": [
       "{'rfc': {'f1': 0.6792, 'recall': 0.7017},\n",
       " 'rfc1': {'f1': 0.7262, 'recall': 0.7239}}"
      ]
     },
     "execution_count": 18,
     "metadata": {},
     "output_type": "execute_result"
    }
   ],
   "source": [
    "mod_eval['rfc1']={'f1':round(metrics.f1_score(y_test, y_pred_test, average='weighted'),4),\n",
    "                  'recall': round(metrics.recall_score(y_test, y_pred_test, average='weighted'),4)}\n",
    "mod_eval"
   ]
  },
  {
   "cell_type": "code",
   "execution_count": 27,
   "metadata": {},
   "outputs": [],
   "source": [
    "#create a dictionary of all the parameters you want to tune\n",
    "parameters = { \n",
    "    'n_estimators': [500, 1000],\n",
    "    'criterion': ['gini', 'entropy'],\n",
    "    'max_depth': list(range(15,20)),\n",
    "    'max_leaf_nodes': list(range(0,3))   \n",
    "}\n",
    "scoring = {'recall': mod.scorer_recall()}"
   ]
  },
  {
   "cell_type": "code",
   "execution_count": 28,
   "metadata": {},
   "outputs": [
    {
     "data": {
      "text/plain": [
       "dict_keys(['bootstrap', 'ccp_alpha', 'class_weight', 'criterion', 'max_depth', 'max_features', 'max_leaf_nodes', 'max_samples', 'min_impurity_decrease', 'min_impurity_split', 'min_samples_leaf', 'min_samples_split', 'min_weight_fraction_leaf', 'n_estimators', 'n_jobs', 'oob_score', 'random_state', 'verbose', 'warm_start'])"
      ]
     },
     "execution_count": 28,
     "metadata": {},
     "output_type": "execute_result"
    }
   ],
   "source": [
    "rfc1.get_params().keys()"
   ]
  },
  {
   "cell_type": "code",
   "execution_count": 30,
   "metadata": {},
   "outputs": [
    {
     "name": "stdout",
     "output_type": "stream",
     "text": [
      "Fitting 10 folds for each of 60 candidates, totalling 600 fits\n"
     ]
    },
    {
     "name": "stderr",
     "output_type": "stream",
     "text": [
      "[Parallel(n_jobs=-1)]: Using backend LokyBackend with 4 concurrent workers.\n",
      "[Parallel(n_jobs=-1)]: Done  33 tasks      | elapsed:   14.4s\n",
      "[Parallel(n_jobs=-1)]: Done 154 tasks      | elapsed: 17.1min\n",
      "[Parallel(n_jobs=-1)]: Done 357 tasks      | elapsed: 49.4min\n",
      "[Parallel(n_jobs=-1)]: Done 600 out of 600 | elapsed: 82.7min finished\n"
     ]
    },
    {
     "data": {
      "text/plain": [
       "GridSearchCV(cv=10, estimator=RandomForestClassifier(random_state=100),\n",
       "             n_jobs=-1,\n",
       "             param_grid={'criterion': ['gini', 'entropy'],\n",
       "                         'max_depth': [15, 16, 17, 18, 19],\n",
       "                         'max_leaf_nodes': [0, 1, 2],\n",
       "                         'n_estimators': [500, 1000]},\n",
       "             refit='recall',\n",
       "             scoring={'recall': make_scorer(recall_score_class)}, verbose=2)"
      ]
     },
     "execution_count": 30,
     "metadata": {},
     "output_type": "execute_result"
    }
   ],
   "source": [
    "# instantiating estimator\n",
    "rfc2 = RandomForestClassifier(random_state=100)\n",
    "\n",
    "# Instantiating GridSearch\n",
    "grid_tree = GridSearchCV(rfc2, parameters, scoring=scoring, cv=10, verbose=2, refit='recall', n_jobs=-1 )\n",
    "\n",
    "#fit gridsearch to data\n",
    "grid_tree.fit(X_train, y_train)"
   ]
  },
  {
   "cell_type": "code",
   "execution_count": 31,
   "metadata": {},
   "outputs": [
    {
     "name": "stdout",
     "output_type": "stream",
     "text": [
      "best_score 0.9714870257031023\n",
      "best_param {'criterion': 'gini', 'max_depth': 15, 'max_leaf_nodes': 2, 'n_estimators': 500}\n",
      "best_estimator RandomForestClassifier(max_depth=15, max_leaf_nodes=2, n_estimators=500,\n",
      "                       random_state=100)\n"
     ]
    }
   ],
   "source": [
    "# examine the best model\n",
    "\n",
    "# Single best score achieved across all params (min_samples_split)\n",
    "print('best_score', grid_tree.best_score_)\n",
    "\n",
    "# Dictionary containing the parameters (min_samples_split) used to generate that score\n",
    "print('best_param',grid_tree.best_params_)\n",
    "\n",
    "# Actual model object fit with those best parameters\n",
    "# Shows default parameters that we did not specify\n",
    "print('best_estimator', grid_tree.best_estimator_)"
   ]
  },
  {
   "cell_type": "code",
   "execution_count": 32,
   "metadata": {},
   "outputs": [
    {
     "name": "stdout",
     "output_type": "stream",
     "text": [
      "Test F1 score:  0.6116\n",
      "Train F1 score:  0.4315\n",
      "================================\n",
      "Test Recall score:  0.6916\n",
      "Train Recall score:  0.5311\n"
     ]
    }
   ],
   "source": [
    "y_pred_test= grid_tree.best_estimator_.predict(X_test)\n",
    "y_pred_train = grid_tree.best_estimator_.predict(X_train)\n",
    "\n",
    "# checking f1 score\n",
    "print('Test F1 score: ', round(metrics.f1_score(y_test, y_pred_test, average='weighted'),4))\n",
    "print('Train F1 score: ', round(metrics.f1_score(y_train, y_pred_train, average='weighted'),4))\n",
    "print('================================')\n",
    "# checking recall score\n",
    "print('Test Recall score: ', round(metrics.recall_score(y_test, y_pred_test, average='weighted'),4))\n",
    "print('Train Recall score: ', round(metrics.recall_score(y_train, y_pred_train, average='weighted'),4))"
   ]
  },
  {
   "cell_type": "code",
   "execution_count": 33,
   "metadata": {},
   "outputs": [
    {
     "data": {
      "text/plain": [
       "{'rfc': {'f1': 0.6792, 'recall': 0.7017},\n",
       " 'rfc1': {'f1': 0.7262, 'recall': 0.7239},\n",
       " 'rfc2': {'f1': 0.6116, 'recall': 0.6916}}"
      ]
     },
     "execution_count": 33,
     "metadata": {},
     "output_type": "execute_result"
    }
   ],
   "source": [
    "mod_eval['rfc2']={'f1':round(metrics.f1_score(y_test, y_pred_test, average='weighted'),4),\n",
    "                  'recall': round(metrics.recall_score(y_test, y_pred_test, average='weighted'),4)}\n",
    "mod_eval"
   ]
  },
  {
   "cell_type": "code",
   "execution_count": 34,
   "metadata": {},
   "outputs": [
    {
     "name": "stderr",
     "output_type": "stream",
     "text": [
      "[Parallel(n_jobs=-1)]: Using backend ThreadingBackend with 4 concurrent workers.\n",
      "[Parallel(n_jobs=-1)]: Done  42 tasks      | elapsed:   11.1s\n",
      "[Parallel(n_jobs=-1)]: Done 192 tasks      | elapsed:   47.6s\n",
      "[Parallel(n_jobs=-1)]: Done 442 tasks      | elapsed:  1.9min\n",
      "[Parallel(n_jobs=-1)]: Done 792 tasks      | elapsed:  3.5min\n",
      "[Parallel(n_jobs=-1)]: Done 1000 out of 1000 | elapsed:  4.4min finished\n"
     ]
    },
    {
     "data": {
      "text/plain": [
       "RandomForestClassifier(max_depth=22, n_estimators=1000, n_jobs=-1,\n",
       "                       random_state=100, verbose=1)"
      ]
     },
     "execution_count": 34,
     "metadata": {},
     "output_type": "execute_result"
    }
   ],
   "source": [
    "rfc3 = RandomForestClassifier(random_state = 100, n_estimators=1000, max_depth=22, verbose=1, n_jobs=-1)\n",
    "\n",
    "rfc3.fit(X_train, y_train)"
   ]
  },
  {
   "cell_type": "code",
   "execution_count": 35,
   "metadata": {},
   "outputs": [
    {
     "name": "stderr",
     "output_type": "stream",
     "text": [
      "[Parallel(n_jobs=4)]: Using backend ThreadingBackend with 4 concurrent workers.\n",
      "[Parallel(n_jobs=4)]: Done  42 tasks      | elapsed:    1.2s\n",
      "[Parallel(n_jobs=4)]: Done 192 tasks      | elapsed:    5.6s\n",
      "[Parallel(n_jobs=4)]: Done 442 tasks      | elapsed:   12.8s\n",
      "[Parallel(n_jobs=4)]: Done 792 tasks      | elapsed:   23.1s\n",
      "[Parallel(n_jobs=4)]: Done 1000 out of 1000 | elapsed:   29.1s finished\n",
      "[Parallel(n_jobs=4)]: Using backend ThreadingBackend with 4 concurrent workers.\n",
      "[Parallel(n_jobs=4)]: Done  42 tasks      | elapsed:    1.6s\n",
      "[Parallel(n_jobs=4)]: Done 192 tasks      | elapsed:    5.8s\n",
      "[Parallel(n_jobs=4)]: Done 442 tasks      | elapsed:   12.8s\n",
      "[Parallel(n_jobs=4)]: Done 792 tasks      | elapsed:   22.5s\n",
      "[Parallel(n_jobs=4)]: Done 1000 out of 1000 | elapsed:   28.3s finished\n"
     ]
    },
    {
     "name": "stdout",
     "output_type": "stream",
     "text": [
      "Test F1 score:  0.7262\n",
      "Train F1 score:  0.7603\n",
      "================================\n",
      "Test Recall score:  0.7239\n",
      "Train Recall score:  0.7628\n"
     ]
    }
   ],
   "source": [
    "#use the fitted model to predict on the test data\n",
    "y_pred_test= rfc1.predict(X_test)\n",
    "y_pred_train = rfc1.predict(X_train)\n",
    "\n",
    "# checking f1 score\n",
    "print('Test F1 score: ', round(metrics.f1_score(y_test, y_pred_test, average='weighted'),4))\n",
    "print('Train F1 score: ', round(metrics.f1_score(y_train, y_pred_train, average='weighted'),4))\n",
    "print('================================')\n",
    "# checking recall score\n",
    "print('Test Recall score: ', round(metrics.recall_score(y_test, y_pred_test, average='weighted'),4))\n",
    "print('Train Recall score: ', round(metrics.recall_score(y_train, y_pred_train, average='weighted'),4))"
   ]
  },
  {
   "cell_type": "code",
   "execution_count": 36,
   "metadata": {},
   "outputs": [
    {
     "data": {
      "text/plain": [
       "{'rfc': {'f1': 0.6792, 'recall': 0.7017},\n",
       " 'rfc1': {'f1': 0.7262, 'recall': 0.7239},\n",
       " 'rfc2': {'f1': 0.6116, 'recall': 0.6916},\n",
       " 'rfc3': {'f1': 0.7262, 'recall': 0.7239}}"
      ]
     },
     "execution_count": 36,
     "metadata": {},
     "output_type": "execute_result"
    }
   ],
   "source": [
    "mod_eval['rfc3']={'f1':round(metrics.f1_score(y_test, y_pred_test, average='weighted'),4),\n",
    "                  'recall': round(metrics.recall_score(y_test, y_pred_test, average='weighted'),4)}\n",
    "mod_eval"
   ]
  },
  {
   "cell_type": "code",
   "execution_count": 38,
   "metadata": {},
   "outputs": [
    {
     "name": "stderr",
     "output_type": "stream",
     "text": [
      "[Parallel(n_jobs=4)]: Using backend ThreadingBackend with 4 concurrent workers.\n",
      "[Parallel(n_jobs=4)]: Done  42 tasks      | elapsed:    1.1s\n",
      "[Parallel(n_jobs=4)]: Done 192 tasks      | elapsed:    5.4s\n",
      "[Parallel(n_jobs=4)]: Done 442 tasks      | elapsed:   12.5s\n",
      "[Parallel(n_jobs=4)]: Done 792 tasks      | elapsed:   22.9s\n",
      "[Parallel(n_jobs=4)]: Done 1000 out of 1000 | elapsed:   29.4s finished\n"
     ]
    },
    {
     "data": {
      "image/png": "[encoded data removed]",
      "text/plain": [
       "<Figure size 432x288 with 2 Axes>"
      ]
     },
     "metadata": {
      "needs_background": "light"
     },
     "output_type": "display_data"
    }
   ],
   "source": [
    "plot_confusion_matrix(rfc3, X_train, y_train, normalize='true')\n",
    "plt.grid(False)"
   ]
  },
  {
   "cell_type": "code",
   "execution_count": 60,
   "metadata": {},
   "outputs": [
    {
     "data": {
      "text/plain": [
       "array([2.27014599, 7.66133057, 6.6201685 , 5.18202407, 0.55256013,\n",
       "       6.97075846, 0.74017872, 0.31564454, 0.40833741, 2.34872928,\n",
       "       1.40755479, 0.91413377, 0.64071904, 0.30869292, 0.23354319])"
      ]
     },
     "execution_count": 60,
     "metadata": {},
     "output_type": "execute_result"
    }
   ],
   "source": [
    "rfc3.feature_importances_[:15]*100"
   ]
  },
  {
   "cell_type": "code",
   "execution_count": 57,
   "metadata": {},
   "outputs": [
    {
     "data": {
      "text/plain": [
       "Text(0.5, 1.0, 'Top 15 Important Features')"
      ]
     },
     "execution_count": 57,
     "metadata": {},
     "output_type": "execute_result"
    },
    {
     "data": {
      "image/png": "[encoded data removed]",
      "text/plain": [
       "<Figure size 792x504 with 1 Axes>"
      ]
     },
     "metadata": {},
     "output_type": "display_data"
    }
   ],
   "source": [
    "import matplotlib.ticker as ticker\n",
    "feat_imp = pd.DataFrame({'importance':rfc3.feature_importances_})    \n",
    "feat_imp['feature'] = X_train.columns\n",
    "feat_imp.sort_values(by='importance', ascending=False, inplace=True)\n",
    "feat_imp = feat_imp.iloc[0:15]\n",
    "    \n",
    "feat_imp.sort_values(by='importance', inplace=True)\n",
    "feat_imp = feat_imp.set_index('feature', drop=True)\n",
    "\n",
    "# Sets up figure , axes and draws bar plot\n",
    "fig, ax = plt.subplots(figsize=(11,7))\n",
    "ax.barh(feat_imp.index, feat_imp['importance'])\n",
    "\n",
    "# Formats axis ticks as percentages\n",
    "ax.tick_params(axis='both', labelsize=15);\n",
    "\n",
    "# Set axes labels and title\n",
    "ax.set_xlabel('Percentage of Importance', size = 15)\n",
    "ax.set_title('Top 15 Important Features', size= 17, pad=17)\n"
   ]
  },
  {
   "cell_type": "code",
   "execution_count": 41,
   "metadata": {},
   "outputs": [
    {
     "data": {
      "text/plain": [
       "<bound method ClassifierMixin.score of RandomForestClassifier(max_depth=22, n_estimators=1000, n_jobs=-1,\n",
       "                       random_state=100, verbose=1)>"
      ]
     },
     "execution_count": 41,
     "metadata": {},
     "output_type": "execute_result"
    }
   ],
   "source": [
    "rfc3.score"
   ]
  },
  {
   "cell_type": "code",
   "execution_count": null,
   "metadata": {},
   "outputs": [],
   "source": []
  }
 ],
 "metadata": {
  "kernelspec": {
   "display_name": "learn-env",
   "language": "python",
   "name": "learn-env"
  },
  "language_info": {
   "codemirror_mode": {
    "name": "ipython",
    "version": 3
   },
   "file_extension": ".py",
   "mimetype": "text/x-python",
   "name": "python",
   "nbconvert_exporter": "python",
   "pygments_lexer": "ipython3",
   "version": "3.6.9"
  }
 },
 "nbformat": 4,
 "nbformat_minor": 4
}
